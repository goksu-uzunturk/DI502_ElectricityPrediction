{
 "cells": [
  {
   "cell_type": "code",
   "execution_count": 1,
   "id": "52e8f47f",
   "metadata": {},
   "outputs": [],
   "source": [
    "import pandas as pd\n",
    "import numpy as np\n",
    "import joblib\n",
    "import zipfile\n",
    "import os"
   ]
  },
  {
   "cell_type": "markdown",
   "id": "2d90d073",
   "metadata": {},
   "source": [
    "### Loading data"
   ]
  },
  {
   "cell_type": "code",
   "execution_count": 2,
   "metadata": {},
   "outputs": [],
   "source": [
    "# Load the model\n",
    "consumption = pd.read_csv('/Users/goksuuzunturk/Desktop/DI 502 Project/OriginalDataset/train.csv') # Replace with \"pickle.load\" if you used pickle\n",
    "building = pd.read_csv('/Users/goksuuzunturk/Desktop/DI 502 Project/OriginalDataset/building_metadata.csv')\n",
    "weather = pd.read_csv('/Users/goksuuzunturk/Desktop/DI 502 Project/OriginalDataset/weather_train.csv')\n"
   ]
  },
  {
   "cell_type": "code",
   "execution_count": 3,
   "id": "39d026e9",
   "metadata": {},
   "outputs": [
    {
     "data": {
      "text/plain": [
       "0.1553760039665332"
      ]
     },
     "execution_count": 3,
     "metadata": {},
     "output_type": "execute_result"
    }
   ],
   "source": [
    "len(consumption[consumption['meter_reading']<= 0])/len(consumption[consumption['meter'] == 0])"
   ]
  },
  {
   "cell_type": "code",
   "execution_count": 4,
   "id": "7a63479d",
   "metadata": {},
   "outputs": [
    {
     "name": "stdout",
     "output_type": "stream",
     "text": [
      "<class 'pandas.core.frame.DataFrame'>\n",
      "RangeIndex: 20216100 entries, 0 to 20216099\n",
      "Data columns (total 4 columns):\n",
      " #   Column         Dtype  \n",
      "---  ------         -----  \n",
      " 0   building_id    int64  \n",
      " 1   meter          int64  \n",
      " 2   timestamp      object \n",
      " 3   meter_reading  float64\n",
      "dtypes: float64(1), int64(2), object(1)\n",
      "memory usage: 616.9+ MB\n"
     ]
    }
   ],
   "source": [
    "consumption.info()"
   ]
  },
  {
   "cell_type": "code",
   "execution_count": 5,
   "id": "853caa13",
   "metadata": {},
   "outputs": [
    {
     "name": "stdout",
     "output_type": "stream",
     "text": [
      "<class 'pandas.core.frame.DataFrame'>\n",
      "RangeIndex: 1449 entries, 0 to 1448\n",
      "Data columns (total 6 columns):\n",
      " #   Column       Non-Null Count  Dtype  \n",
      "---  ------       --------------  -----  \n",
      " 0   site_id      1449 non-null   int64  \n",
      " 1   building_id  1449 non-null   int64  \n",
      " 2   primary_use  1449 non-null   object \n",
      " 3   square_feet  1449 non-null   int64  \n",
      " 4   year_built   675 non-null    float64\n",
      " 5   floor_count  355 non-null    float64\n",
      "dtypes: float64(2), int64(3), object(1)\n",
      "memory usage: 68.1+ KB\n"
     ]
    }
   ],
   "source": [
    "building.info()"
   ]
  },
  {
   "cell_type": "code",
   "execution_count": 6,
   "id": "5ee68fad",
   "metadata": {},
   "outputs": [
    {
     "name": "stdout",
     "output_type": "stream",
     "text": [
      "<class 'pandas.core.frame.DataFrame'>\n",
      "RangeIndex: 139773 entries, 0 to 139772\n",
      "Data columns (total 9 columns):\n",
      " #   Column              Non-Null Count   Dtype  \n",
      "---  ------              --------------   -----  \n",
      " 0   site_id             139773 non-null  int64  \n",
      " 1   timestamp           139773 non-null  object \n",
      " 2   air_temperature     139718 non-null  float64\n",
      " 3   cloud_coverage      70600 non-null   float64\n",
      " 4   dew_temperature     139660 non-null  float64\n",
      " 5   precip_depth_1_hr   89484 non-null   float64\n",
      " 6   sea_level_pressure  129155 non-null  float64\n",
      " 7   wind_direction      133505 non-null  float64\n",
      " 8   wind_speed          139469 non-null  float64\n",
      "dtypes: float64(7), int64(1), object(1)\n",
      "memory usage: 9.6+ MB\n"
     ]
    }
   ],
   "source": [
    "weather.info()"
   ]
  },
  {
   "cell_type": "markdown",
   "id": "887d017c",
   "metadata": {},
   "source": [
    "### Filtering consumption only for electrictiy readings"
   ]
  },
  {
   "cell_type": "code",
   "execution_count": 28,
   "id": "d667fd87",
   "metadata": {},
   "outputs": [],
   "source": [
    "electricity = consumption[(consumption['meter'] == 0)]"
   ]
  },
  {
   "cell_type": "code",
   "execution_count": 29,
   "metadata": {},
   "outputs": [],
   "source": [
    "electricity = electricity.drop(columns='meter')"
   ]
  },
  {
   "cell_type": "code",
   "execution_count": 30,
   "metadata": {},
   "outputs": [
    {
     "name": "stdout",
     "output_type": "stream",
     "text": [
      "<class 'pandas.core.frame.DataFrame'>\n",
      "Index: 12060910 entries, 0 to 20216099\n",
      "Data columns (total 3 columns):\n",
      " #   Column         Dtype  \n",
      "---  ------         -----  \n",
      " 0   building_id    int64  \n",
      " 1   timestamp      object \n",
      " 2   meter_reading  float64\n",
      "dtypes: float64(1), int64(1), object(1)\n",
      "memory usage: 368.1+ MB\n"
     ]
    }
   ],
   "source": [
    "electricity.info()"
   ]
  },
  {
   "cell_type": "code",
   "execution_count": 31,
   "metadata": {},
   "outputs": [
    {
     "data": {
      "text/html": [
       "<div>\n",
       "<style scoped>\n",
       "    .dataframe tbody tr th:only-of-type {\n",
       "        vertical-align: middle;\n",
       "    }\n",
       "\n",
       "    .dataframe tbody tr th {\n",
       "        vertical-align: top;\n",
       "    }\n",
       "\n",
       "    .dataframe thead th {\n",
       "        text-align: right;\n",
       "    }\n",
       "</style>\n",
       "<table border=\"1\" class=\"dataframe\">\n",
       "  <thead>\n",
       "    <tr style=\"text-align: right;\">\n",
       "      <th></th>\n",
       "      <th>building_id</th>\n",
       "      <th>meter_reading</th>\n",
       "    </tr>\n",
       "  </thead>\n",
       "  <tbody>\n",
       "    <tr>\n",
       "      <th>count</th>\n",
       "      <td>1.206091e+07</td>\n",
       "      <td>1.206091e+07</td>\n",
       "    </tr>\n",
       "    <tr>\n",
       "      <th>mean</th>\n",
       "      <td>7.066480e+02</td>\n",
       "      <td>1.708256e+02</td>\n",
       "    </tr>\n",
       "    <tr>\n",
       "      <th>std</th>\n",
       "      <td>4.152330e+02</td>\n",
       "      <td>3.808343e+02</td>\n",
       "    </tr>\n",
       "    <tr>\n",
       "      <th>min</th>\n",
       "      <td>0.000000e+00</td>\n",
       "      <td>0.000000e+00</td>\n",
       "    </tr>\n",
       "    <tr>\n",
       "      <th>25%</th>\n",
       "      <td>3.450000e+02</td>\n",
       "      <td>1.950000e+01</td>\n",
       "    </tr>\n",
       "    <tr>\n",
       "      <th>50%</th>\n",
       "      <td>6.980000e+02</td>\n",
       "      <td>6.283190e+01</td>\n",
       "    </tr>\n",
       "    <tr>\n",
       "      <th>75%</th>\n",
       "      <td>1.063000e+03</td>\n",
       "      <td>1.700750e+02</td>\n",
       "    </tr>\n",
       "    <tr>\n",
       "      <th>max</th>\n",
       "      <td>1.448000e+03</td>\n",
       "      <td>7.976900e+04</td>\n",
       "    </tr>\n",
       "  </tbody>\n",
       "</table>\n",
       "</div>"
      ],
      "text/plain": [
       "        building_id  meter_reading\n",
       "count  1.206091e+07   1.206091e+07\n",
       "mean   7.066480e+02   1.708256e+02\n",
       "std    4.152330e+02   3.808343e+02\n",
       "min    0.000000e+00   0.000000e+00\n",
       "25%    3.450000e+02   1.950000e+01\n",
       "50%    6.980000e+02   6.283190e+01\n",
       "75%    1.063000e+03   1.700750e+02\n",
       "max    1.448000e+03   7.976900e+04"
      ]
     },
     "execution_count": 31,
     "metadata": {},
     "output_type": "execute_result"
    }
   ],
   "source": [
    "electricity.describe()"
   ]
  },
  {
   "cell_type": "code",
   "execution_count": 32,
   "metadata": {},
   "outputs": [
    {
     "data": {
      "text/html": [
       "<div>\n",
       "<style scoped>\n",
       "    .dataframe tbody tr th:only-of-type {\n",
       "        vertical-align: middle;\n",
       "    }\n",
       "\n",
       "    .dataframe tbody tr th {\n",
       "        vertical-align: top;\n",
       "    }\n",
       "\n",
       "    .dataframe thead th {\n",
       "        text-align: right;\n",
       "    }\n",
       "</style>\n",
       "<table border=\"1\" class=\"dataframe\">\n",
       "  <thead>\n",
       "    <tr style=\"text-align: right;\">\n",
       "      <th></th>\n",
       "      <th>building_id</th>\n",
       "      <th>meter_reading</th>\n",
       "    </tr>\n",
       "  </thead>\n",
       "  <tbody>\n",
       "    <tr>\n",
       "      <th>count</th>\n",
       "      <td>1.206091e+07</td>\n",
       "      <td>1.206091e+07</td>\n",
       "    </tr>\n",
       "    <tr>\n",
       "      <th>mean</th>\n",
       "      <td>7.066480e+02</td>\n",
       "      <td>1.708256e+02</td>\n",
       "    </tr>\n",
       "    <tr>\n",
       "      <th>std</th>\n",
       "      <td>4.152330e+02</td>\n",
       "      <td>3.808343e+02</td>\n",
       "    </tr>\n",
       "    <tr>\n",
       "      <th>min</th>\n",
       "      <td>0.000000e+00</td>\n",
       "      <td>0.000000e+00</td>\n",
       "    </tr>\n",
       "    <tr>\n",
       "      <th>25%</th>\n",
       "      <td>3.450000e+02</td>\n",
       "      <td>1.950000e+01</td>\n",
       "    </tr>\n",
       "    <tr>\n",
       "      <th>50%</th>\n",
       "      <td>6.980000e+02</td>\n",
       "      <td>6.283190e+01</td>\n",
       "    </tr>\n",
       "    <tr>\n",
       "      <th>75%</th>\n",
       "      <td>1.063000e+03</td>\n",
       "      <td>1.700750e+02</td>\n",
       "    </tr>\n",
       "    <tr>\n",
       "      <th>max</th>\n",
       "      <td>1.448000e+03</td>\n",
       "      <td>7.976900e+04</td>\n",
       "    </tr>\n",
       "  </tbody>\n",
       "</table>\n",
       "</div>"
      ],
      "text/plain": [
       "        building_id  meter_reading\n",
       "count  1.206091e+07   1.206091e+07\n",
       "mean   7.066480e+02   1.708256e+02\n",
       "std    4.152330e+02   3.808343e+02\n",
       "min    0.000000e+00   0.000000e+00\n",
       "25%    3.450000e+02   1.950000e+01\n",
       "50%    6.980000e+02   6.283190e+01\n",
       "75%    1.063000e+03   1.700750e+02\n",
       "max    1.448000e+03   7.976900e+04"
      ]
     },
     "execution_count": 32,
     "metadata": {},
     "output_type": "execute_result"
    }
   ],
   "source": [
    "electricity.describe()"
   ]
  },
  {
   "cell_type": "markdown",
   "id": "b3135e26",
   "metadata": {},
   "source": [
    "### Merging everything into two datasets"
   ]
  },
  {
   "cell_type": "code",
   "execution_count": 63,
   "id": "a42564c6",
   "metadata": {},
   "outputs": [
    {
     "name": "stdout",
     "output_type": "stream",
     "text": [
      "<class 'pandas.core.frame.DataFrame'>\n",
      "RangeIndex: 12060910 entries, 0 to 12060909\n",
      "Data columns (total 8 columns):\n",
      " #   Column         Dtype  \n",
      "---  ------         -----  \n",
      " 0   building_id    int64  \n",
      " 1   timestamp      object \n",
      " 2   meter_reading  float64\n",
      " 3   site_id        int64  \n",
      " 4   primary_use    object \n",
      " 5   square_feet    int64  \n",
      " 6   year_built     float64\n",
      " 7   floor_count    float64\n",
      "dtypes: float64(3), int64(3), object(2)\n",
      "memory usage: 736.1+ MB\n"
     ]
    }
   ],
   "source": [
    "electricity_building = electricity.merge(building, on='building_id', how='left')\n",
    "\n",
    "\n",
    "electricity_building.info()"
   ]
  },
  {
   "cell_type": "code",
   "execution_count": 64,
   "id": "dd4d3b36",
   "metadata": {},
   "outputs": [
    {
     "name": "stdout",
     "output_type": "stream",
     "text": [
      "<class 'pandas.core.frame.DataFrame'>\n",
      "RangeIndex: 12060910 entries, 0 to 12060909\n",
      "Data columns (total 15 columns):\n",
      " #   Column              Dtype  \n",
      "---  ------              -----  \n",
      " 0   building_id         int64  \n",
      " 1   timestamp           object \n",
      " 2   meter_reading       float64\n",
      " 3   site_id             int64  \n",
      " 4   primary_use         object \n",
      " 5   square_feet         int64  \n",
      " 6   year_built          float64\n",
      " 7   floor_count         float64\n",
      " 8   air_temperature     float64\n",
      " 9   cloud_coverage      float64\n",
      " 10  dew_temperature     float64\n",
      " 11  precip_depth_1_hr   float64\n",
      " 12  sea_level_pressure  float64\n",
      " 13  wind_direction      float64\n",
      " 14  wind_speed          float64\n",
      "dtypes: float64(10), int64(3), object(2)\n",
      "memory usage: 1.3+ GB\n"
     ]
    }
   ],
   "source": [
    "electricity_building_weather = electricity_building.merge(weather, on=['site_id', 'timestamp'], how='left')\n",
    "\n",
    "\n",
    "electricity_building_weather.info()"
   ]
  },
  {
   "cell_type": "markdown",
   "metadata": {},
   "source": [
    "### Drop buildings where year_built >= 2016"
   ]
  },
  {
   "cell_type": "code",
   "execution_count": 78,
   "metadata": {},
   "outputs": [],
   "source": [
    "electricity_building_weather = electricity_building_weather[(electricity_building_weather['year_built'] < 2016) | (electricity_building_weather['year_built'].isna()) ]"
   ]
  },
  {
   "cell_type": "markdown",
   "metadata": {},
   "source": [
    "### Analyze data"
   ]
  },
  {
   "cell_type": "code",
   "execution_count": 80,
   "metadata": {},
   "outputs": [
    {
     "data": {
      "text/plain": [
       "array([ 0,  5,  7,  8,  9, 13, 15,  3,  4, 12,  2, 14, 10,  6,  1])"
      ]
     },
     "execution_count": 80,
     "metadata": {},
     "output_type": "execute_result"
    }
   ],
   "source": [
    "electricity_building_weather[electricity_building_weather['meter_reading']==0].site_id.unique()"
   ]
  },
  {
   "cell_type": "code",
   "execution_count": 102,
   "metadata": {},
   "outputs": [
    {
     "data": {
      "text/plain": [
       "site_id\n",
       "0      864557\n",
       "1      447982\n",
       "2     1184512\n",
       "3     2352533\n",
       "4      743281\n",
       "5      781776\n",
       "6      315436\n",
       "7      104784\n",
       "8      567915\n",
       "9     1068748\n",
       "10     236573\n",
       "11      43400\n",
       "12     315909\n",
       "13    1236660\n",
       "14     890768\n",
       "15     841195\n",
       "Name: timestamp, dtype: int64"
      ]
     },
     "execution_count": 102,
     "metadata": {},
     "output_type": "execute_result"
    }
   ],
   "source": [
    "electricity_building_weather.groupby('site_id').timestamp.count()"
   ]
  },
  {
   "cell_type": "markdown",
   "id": "abdeecf9",
   "metadata": {},
   "source": [
    "### Saving merged datasets"
   ]
  },
  {
   "cell_type": "code",
   "execution_count": 82,
   "id": "b89c40bb",
   "metadata": {},
   "outputs": [],
   "source": [
    "# Specify the zip file name\n",
    "zip_filename = \"../dataset/filtered.zip\"\n",
    "\n",
    "# Create a ZIP file and add the model object to it\n",
    "with zipfile.ZipFile(zip_filename, \"w\", zipfile.ZIP_DEFLATED) as archive:\n",
    "    # Save the model to a temporary file\n",
    "    temp_model_filename = \"filtered.pkl\"\n",
    "    joblib.dump(electricity_building_weather, temp_model_filename)\n",
    "    \n",
    "    # Add the temporary model file to the ZIP archive\n",
    "    archive.write(temp_model_filename, arcname=\"filtered.pkl\")\n",
    "\n",
    "# Remove the temporary model file\n",
    "os.remove(temp_model_filename)\n"
   ]
  },
  {
   "cell_type": "markdown",
   "metadata": {},
   "source": [
    "## Filter hours for 08.00 - 18.00"
   ]
  },
  {
   "cell_type": "code",
   "execution_count": 87,
   "metadata": {},
   "outputs": [],
   "source": [
    "electricity_building_weather_for_models = electricity_building_weather[(pd.to_datetime(electricity_building_weather['timestamp']).dt.hour >= 8) & (pd.to_datetime(electricity_building_weather['timestamp']).dt.hour <= 18)]"
   ]
  },
  {
   "cell_type": "code",
   "execution_count": 88,
   "metadata": {},
   "outputs": [
    {
     "data": {
      "text/plain": [
       "count    5.496696e+06\n",
       "mean     1.884246e+02\n",
       "std      4.170514e+02\n",
       "min      0.000000e+00\n",
       "25%      2.200000e+01\n",
       "50%      7.300000e+01\n",
       "75%      1.884000e+02\n",
       "max      4.433650e+04\n",
       "Name: meter_reading, dtype: float64"
      ]
     },
     "execution_count": 88,
     "metadata": {},
     "output_type": "execute_result"
    }
   ],
   "source": [
    "electricity_building_weather_for_models['meter_reading'].describe()"
   ]
  },
  {
   "cell_type": "code",
   "execution_count": 90,
   "metadata": {},
   "outputs": [
    {
     "data": {
      "text/plain": [
       "count    144264.000000\n",
       "mean        192.170347\n",
       "std         239.269865\n",
       "min           0.000000\n",
       "25%          46.833100\n",
       "50%         101.075000\n",
       "75%         215.067000\n",
       "max        1296.940000\n",
       "Name: meter_reading, dtype: float64"
      ]
     },
     "execution_count": 90,
     "metadata": {},
     "output_type": "execute_result"
    }
   ],
   "source": [
    "electricity_building_weather_for_models[electricity_building_weather_for_models['site_id']==6].meter_reading.describe()"
   ]
  },
  {
   "cell_type": "code",
   "execution_count": 93,
   "metadata": {},
   "outputs": [],
   "source": [
    "electricity_building_weather_for_models = electricity_building_weather_for_models[electricity_building_weather_for_models['site_id'].isin([1, 6])]"
   ]
  },
  {
   "cell_type": "code",
   "execution_count": 94,
   "metadata": {},
   "outputs": [
    {
     "data": {
      "text/html": [
       "<div>\n",
       "<style scoped>\n",
       "    .dataframe tbody tr th:only-of-type {\n",
       "        vertical-align: middle;\n",
       "    }\n",
       "\n",
       "    .dataframe tbody tr th {\n",
       "        vertical-align: top;\n",
       "    }\n",
       "\n",
       "    .dataframe thead th {\n",
       "        text-align: right;\n",
       "    }\n",
       "</style>\n",
       "<table border=\"1\" class=\"dataframe\">\n",
       "  <thead>\n",
       "    <tr style=\"text-align: right;\">\n",
       "      <th></th>\n",
       "      <th>building_id</th>\n",
       "      <th>meter_reading</th>\n",
       "      <th>site_id</th>\n",
       "      <th>square_feet</th>\n",
       "      <th>year_built</th>\n",
       "      <th>floor_count</th>\n",
       "      <th>air_temperature</th>\n",
       "      <th>cloud_coverage</th>\n",
       "      <th>dew_temperature</th>\n",
       "      <th>precip_depth_1_hr</th>\n",
       "      <th>sea_level_pressure</th>\n",
       "      <th>wind_direction</th>\n",
       "      <th>wind_speed</th>\n",
       "    </tr>\n",
       "  </thead>\n",
       "  <tbody>\n",
       "    <tr>\n",
       "      <th>count</th>\n",
       "      <td>349588.000000</td>\n",
       "      <td>349588.000000</td>\n",
       "      <td>349588.000000</td>\n",
       "      <td>349588.000000</td>\n",
       "      <td>161038.000000</td>\n",
       "      <td>205324.000000</td>\n",
       "      <td>348586.000000</td>\n",
       "      <td>122843.000000</td>\n",
       "      <td>348586.000000</td>\n",
       "      <td>144228.000000</td>\n",
       "      <td>344163.000000</td>\n",
       "      <td>333325.000000</td>\n",
       "      <td>348277.000000</td>\n",
       "    </tr>\n",
       "    <tr>\n",
       "      <th>mean</th>\n",
       "      <td>392.826041</td>\n",
       "      <td>185.070463</td>\n",
       "      <td>3.063343</td>\n",
       "      <td>76440.721072</td>\n",
       "      <td>1961.474894</td>\n",
       "      <td>7.000049</td>\n",
       "      <td>13.799384</td>\n",
       "      <td>0.514258</td>\n",
       "      <td>7.550489</td>\n",
       "      <td>0.806702</td>\n",
       "      <td>1016.743762</td>\n",
       "      <td>169.882097</td>\n",
       "      <td>3.553334</td>\n",
       "    </tr>\n",
       "    <tr>\n",
       "      <th>std</th>\n",
       "      <td>313.859668</td>\n",
       "      <td>217.393339</td>\n",
       "      <td>2.461574</td>\n",
       "      <td>59601.165754</td>\n",
       "      <td>31.395331</td>\n",
       "      <td>2.504867</td>\n",
       "      <td>8.107633</td>\n",
       "      <td>1.547535</td>\n",
       "      <td>8.134555</td>\n",
       "      <td>5.622529</td>\n",
       "      <td>9.434888</td>\n",
       "      <td>111.640308</td>\n",
       "      <td>2.417984</td>\n",
       "    </tr>\n",
       "    <tr>\n",
       "      <th>min</th>\n",
       "      <td>105.000000</td>\n",
       "      <td>0.000000</td>\n",
       "      <td>1.000000</td>\n",
       "      <td>5374.000000</td>\n",
       "      <td>1900.000000</td>\n",
       "      <td>2.000000</td>\n",
       "      <td>-13.300000</td>\n",
       "      <td>0.000000</td>\n",
       "      <td>-22.800000</td>\n",
       "      <td>-1.000000</td>\n",
       "      <td>978.700000</td>\n",
       "      <td>0.000000</td>\n",
       "      <td>0.000000</td>\n",
       "    </tr>\n",
       "    <tr>\n",
       "      <th>25%</th>\n",
       "      <td>126.000000</td>\n",
       "      <td>45.187750</td>\n",
       "      <td>1.000000</td>\n",
       "      <td>39558.000000</td>\n",
       "      <td>1953.500000</td>\n",
       "      <td>5.000000</td>\n",
       "      <td>7.900000</td>\n",
       "      <td>0.000000</td>\n",
       "      <td>2.200000</td>\n",
       "      <td>0.000000</td>\n",
       "      <td>1011.900000</td>\n",
       "      <td>60.000000</td>\n",
       "      <td>2.100000</td>\n",
       "    </tr>\n",
       "    <tr>\n",
       "      <th>50%</th>\n",
       "      <td>148.000000</td>\n",
       "      <td>99.592600</td>\n",
       "      <td>1.000000</td>\n",
       "      <td>62893.000000</td>\n",
       "      <td>1960.000000</td>\n",
       "      <td>7.000000</td>\n",
       "      <td>13.300000</td>\n",
       "      <td>0.000000</td>\n",
       "      <td>8.200000</td>\n",
       "      <td>0.000000</td>\n",
       "      <td>1017.700000</td>\n",
       "      <td>200.000000</td>\n",
       "      <td>3.100000</td>\n",
       "    </tr>\n",
       "    <tr>\n",
       "      <th>75%</th>\n",
       "      <td>764.000000</td>\n",
       "      <td>231.200000</td>\n",
       "      <td>6.000000</td>\n",
       "      <td>100481.000000</td>\n",
       "      <td>1990.500000</td>\n",
       "      <td>8.000000</td>\n",
       "      <td>19.600000</td>\n",
       "      <td>0.000000</td>\n",
       "      <td>13.300000</td>\n",
       "      <td>0.000000</td>\n",
       "      <td>1022.600000</td>\n",
       "      <td>260.000000</td>\n",
       "      <td>5.100000</td>\n",
       "    </tr>\n",
       "    <tr>\n",
       "      <th>max</th>\n",
       "      <td>788.000000</td>\n",
       "      <td>1438.500000</td>\n",
       "      <td>6.000000</td>\n",
       "      <td>401753.000000</td>\n",
       "      <td>2007.000000</td>\n",
       "      <td>16.000000</td>\n",
       "      <td>36.700000</td>\n",
       "      <td>9.000000</td>\n",
       "      <td>24.400000</td>\n",
       "      <td>89.000000</td>\n",
       "      <td>1045.200000</td>\n",
       "      <td>360.000000</td>\n",
       "      <td>16.500000</td>\n",
       "    </tr>\n",
       "  </tbody>\n",
       "</table>\n",
       "</div>"
      ],
      "text/plain": [
       "         building_id  meter_reading        site_id    square_feet  \\\n",
       "count  349588.000000  349588.000000  349588.000000  349588.000000   \n",
       "mean      392.826041     185.070463       3.063343   76440.721072   \n",
       "std       313.859668     217.393339       2.461574   59601.165754   \n",
       "min       105.000000       0.000000       1.000000    5374.000000   \n",
       "25%       126.000000      45.187750       1.000000   39558.000000   \n",
       "50%       148.000000      99.592600       1.000000   62893.000000   \n",
       "75%       764.000000     231.200000       6.000000  100481.000000   \n",
       "max       788.000000    1438.500000       6.000000  401753.000000   \n",
       "\n",
       "          year_built    floor_count  air_temperature  cloud_coverage  \\\n",
       "count  161038.000000  205324.000000    348586.000000   122843.000000   \n",
       "mean     1961.474894       7.000049        13.799384        0.514258   \n",
       "std        31.395331       2.504867         8.107633        1.547535   \n",
       "min      1900.000000       2.000000       -13.300000        0.000000   \n",
       "25%      1953.500000       5.000000         7.900000        0.000000   \n",
       "50%      1960.000000       7.000000        13.300000        0.000000   \n",
       "75%      1990.500000       8.000000        19.600000        0.000000   \n",
       "max      2007.000000      16.000000        36.700000        9.000000   \n",
       "\n",
       "       dew_temperature  precip_depth_1_hr  sea_level_pressure  wind_direction  \\\n",
       "count    348586.000000      144228.000000       344163.000000   333325.000000   \n",
       "mean          7.550489           0.806702         1016.743762      169.882097   \n",
       "std           8.134555           5.622529            9.434888      111.640308   \n",
       "min         -22.800000          -1.000000          978.700000        0.000000   \n",
       "25%           2.200000           0.000000         1011.900000       60.000000   \n",
       "50%           8.200000           0.000000         1017.700000      200.000000   \n",
       "75%          13.300000           0.000000         1022.600000      260.000000   \n",
       "max          24.400000          89.000000         1045.200000      360.000000   \n",
       "\n",
       "          wind_speed  \n",
       "count  348277.000000  \n",
       "mean        3.553334  \n",
       "std         2.417984  \n",
       "min         0.000000  \n",
       "25%         2.100000  \n",
       "50%         3.100000  \n",
       "75%         5.100000  \n",
       "max        16.500000  "
      ]
     },
     "execution_count": 94,
     "metadata": {},
     "output_type": "execute_result"
    }
   ],
   "source": [
    "electricity_building_weather_for_models.describe()"
   ]
  },
  {
   "cell_type": "code",
   "execution_count": 105,
   "metadata": {},
   "outputs": [
    {
     "data": {
      "text/plain": [
       "site_id  primary_use                  \n",
       "1        Education                        88572\n",
       "         Entertainment/public assembly     4026\n",
       "         Lodging/residential              40260\n",
       "         Office                           64414\n",
       "         Public services                   8052\n",
       "6        Education                        52070\n",
       "         Entertainment/public assembly    12055\n",
       "         Lodging/residential              44190\n",
       "         Office                           31930\n",
       "         Public services                   4019\n",
       "Name: timestamp, dtype: int64"
      ]
     },
     "execution_count": 105,
     "metadata": {},
     "output_type": "execute_result"
    }
   ],
   "source": [
    "electricity_building_weather_for_models.groupby(['site_id','primary_use']).timestamp.count()"
   ]
  },
  {
   "cell_type": "code",
   "execution_count": 98,
   "metadata": {},
   "outputs": [
    {
     "data": {
      "text/plain": [
       "count    140642.000000\n",
       "mean        302.611111\n",
       "std         281.331626\n",
       "min           0.000000\n",
       "25%          73.069525\n",
       "50%         199.700000\n",
       "75%         473.000000\n",
       "max        1438.500000\n",
       "Name: meter_reading, dtype: float64"
      ]
     },
     "execution_count": 98,
     "metadata": {},
     "output_type": "execute_result"
    }
   ],
   "source": [
    "electricity_building_weather_for_models[electricity_building_weather_for_models['primary_use'] == 'Education'].meter_reading.describe()"
   ]
  },
  {
   "cell_type": "code",
   "execution_count": 106,
   "metadata": {},
   "outputs": [
    {
     "data": {
      "text/plain": [
       "count    88572.000000\n",
       "mean       292.208059\n",
       "std        238.790117\n",
       "min          0.000000\n",
       "25%        115.300000\n",
       "50%        231.355000\n",
       "75%        425.500000\n",
       "max       1438.500000\n",
       "Name: meter_reading, dtype: float64"
      ]
     },
     "execution_count": 106,
     "metadata": {},
     "output_type": "execute_result"
    }
   ],
   "source": [
    "electricity_building_weather_for_models[(electricity_building_weather_for_models['primary_use'] == 'Education') & (electricity_building_weather_for_models['site_id'] == 1)].meter_reading.describe()"
   ]
  },
  {
   "cell_type": "code",
   "execution_count": 107,
   "metadata": {},
   "outputs": [
    {
     "data": {
      "text/plain": [
       "count    52070.000000\n",
       "mean       320.306888\n",
       "std        341.013316\n",
       "min          0.000000\n",
       "25%         50.951450\n",
       "50%        122.025000\n",
       "75%        520.708500\n",
       "max       1296.940000\n",
       "Name: meter_reading, dtype: float64"
      ]
     },
     "execution_count": 107,
     "metadata": {},
     "output_type": "execute_result"
    }
   ],
   "source": [
    "electricity_building_weather_for_models[(electricity_building_weather_for_models['primary_use'] == 'Education') & (electricity_building_weather_for_models['site_id'] == 6)].meter_reading.describe()"
   ]
  },
  {
   "cell_type": "code",
   "execution_count": 108,
   "metadata": {},
   "outputs": [],
   "source": [
    "# Specify the zip file name\n",
    "zip_filename = \"../dataset/filtered_for_models.zip\"\n",
    "\n",
    "# Create a ZIP file and add the model object to it\n",
    "with zipfile.ZipFile(zip_filename, \"w\", zipfile.ZIP_DEFLATED) as archive:\n",
    "    # Save the model to a temporary file\n",
    "    temp_model_filename = \"filtered_for_models.pkl\"\n",
    "    joblib.dump(electricity_building_weather_for_models, temp_model_filename)\n",
    "    \n",
    "    # Add the temporary model file to the ZIP archive\n",
    "    archive.write(temp_model_filename, arcname=\"filtered_for_models.pkl\")\n",
    "\n",
    "# Remove the temporary model file\n",
    "os.remove(temp_model_filename)"
   ]
  },
  {
   "cell_type": "code",
   "execution_count": null,
   "metadata": {},
   "outputs": [],
   "source": []
  }
 ],
 "metadata": {
  "kernelspec": {
   "display_name": "DIProject",
   "language": "python",
   "name": "diproject"
  },
  "language_info": {
   "codemirror_mode": {
    "name": "ipython",
    "version": 3
   },
   "file_extension": ".py",
   "mimetype": "text/x-python",
   "name": "python",
   "nbconvert_exporter": "python",
   "pygments_lexer": "ipython3",
   "version": "3.11.6"
  }
 },
 "nbformat": 4,
 "nbformat_minor": 5
}
