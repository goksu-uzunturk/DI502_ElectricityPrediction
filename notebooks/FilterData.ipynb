{
 "cells": [
  {
   "cell_type": "code",
   "execution_count": 39,
   "id": "52e8f47f",
   "metadata": {},
   "outputs": [],
   "source": [
    "import pandas as pd\n",
    "import numpy as np\n",
    "import joblib\n",
    "import zipfile\n",
    "import os\n",
    "import matplotlib as plt"
   ]
  },
  {
   "cell_type": "markdown",
   "id": "2d90d073",
   "metadata": {},
   "source": [
    "### Loading data"
   ]
  },
  {
   "cell_type": "code",
   "execution_count": 40,
   "metadata": {},
   "outputs": [],
   "source": [
    "# Load the model\n",
    "consumption = pd.read_csv('/Users/goksuuzunturk/Desktop/DI 502 Project/OriginalDataset/train.csv') # Replace with \"pickle.load\" if you used pickle\n",
    "building = pd.read_csv('/Users/goksuuzunturk/Desktop/DI 502 Project/OriginalDataset/building_metadata.csv')\n",
    "weather = pd.read_csv('/Users/goksuuzunturk/Desktop/DI 502 Project/OriginalDataset/weather_train.csv')\n"
   ]
  },
  {
   "cell_type": "code",
   "execution_count": 41,
   "id": "39d026e9",
   "metadata": {},
   "outputs": [
    {
     "data": {
      "text/plain": [
       "0.1553760039665332"
      ]
     },
     "execution_count": 41,
     "metadata": {},
     "output_type": "execute_result"
    }
   ],
   "source": [
    "len(consumption[consumption['meter_reading']<= 0])/len(consumption[consumption['meter'] == 0])"
   ]
  },
  {
   "cell_type": "code",
   "execution_count": 42,
   "id": "7a63479d",
   "metadata": {},
   "outputs": [
    {
     "name": "stdout",
     "output_type": "stream",
     "text": [
      "<class 'pandas.core.frame.DataFrame'>\n",
      "RangeIndex: 20216100 entries, 0 to 20216099\n",
      "Data columns (total 4 columns):\n",
      " #   Column         Dtype  \n",
      "---  ------         -----  \n",
      " 0   building_id    int64  \n",
      " 1   meter          int64  \n",
      " 2   timestamp      object \n",
      " 3   meter_reading  float64\n",
      "dtypes: float64(1), int64(2), object(1)\n",
      "memory usage: 616.9+ MB\n"
     ]
    }
   ],
   "source": [
    "consumption.info()"
   ]
  },
  {
   "cell_type": "code",
   "execution_count": 43,
   "id": "853caa13",
   "metadata": {},
   "outputs": [
    {
     "name": "stdout",
     "output_type": "stream",
     "text": [
      "<class 'pandas.core.frame.DataFrame'>\n",
      "RangeIndex: 1449 entries, 0 to 1448\n",
      "Data columns (total 6 columns):\n",
      " #   Column       Non-Null Count  Dtype  \n",
      "---  ------       --------------  -----  \n",
      " 0   site_id      1449 non-null   int64  \n",
      " 1   building_id  1449 non-null   int64  \n",
      " 2   primary_use  1449 non-null   object \n",
      " 3   square_feet  1449 non-null   int64  \n",
      " 4   year_built   675 non-null    float64\n",
      " 5   floor_count  355 non-null    float64\n",
      "dtypes: float64(2), int64(3), object(1)\n",
      "memory usage: 68.1+ KB\n"
     ]
    }
   ],
   "source": [
    "building.info()"
   ]
  },
  {
   "cell_type": "code",
   "execution_count": 44,
   "id": "5ee68fad",
   "metadata": {},
   "outputs": [
    {
     "name": "stdout",
     "output_type": "stream",
     "text": [
      "<class 'pandas.core.frame.DataFrame'>\n",
      "RangeIndex: 139773 entries, 0 to 139772\n",
      "Data columns (total 9 columns):\n",
      " #   Column              Non-Null Count   Dtype  \n",
      "---  ------              --------------   -----  \n",
      " 0   site_id             139773 non-null  int64  \n",
      " 1   timestamp           139773 non-null  object \n",
      " 2   air_temperature     139718 non-null  float64\n",
      " 3   cloud_coverage      70600 non-null   float64\n",
      " 4   dew_temperature     139660 non-null  float64\n",
      " 5   precip_depth_1_hr   89484 non-null   float64\n",
      " 6   sea_level_pressure  129155 non-null  float64\n",
      " 7   wind_direction      133505 non-null  float64\n",
      " 8   wind_speed          139469 non-null  float64\n",
      "dtypes: float64(7), int64(1), object(1)\n",
      "memory usage: 9.6+ MB\n"
     ]
    }
   ],
   "source": [
    "weather.info()"
   ]
  },
  {
   "cell_type": "markdown",
   "id": "887d017c",
   "metadata": {},
   "source": [
    "### Filtering consumption only for electrictiy readings"
   ]
  },
  {
   "cell_type": "code",
   "execution_count": 45,
   "id": "d667fd87",
   "metadata": {},
   "outputs": [],
   "source": [
    "electricity = consumption[(consumption['meter'] == 0)]"
   ]
  },
  {
   "cell_type": "code",
   "execution_count": 46,
   "metadata": {},
   "outputs": [],
   "source": [
    "electricity = electricity.drop(columns='meter')"
   ]
  },
  {
   "cell_type": "code",
   "execution_count": 47,
   "metadata": {},
   "outputs": [
    {
     "name": "stdout",
     "output_type": "stream",
     "text": [
      "<class 'pandas.core.frame.DataFrame'>\n",
      "Index: 12060910 entries, 0 to 20216099\n",
      "Data columns (total 3 columns):\n",
      " #   Column         Dtype  \n",
      "---  ------         -----  \n",
      " 0   building_id    int64  \n",
      " 1   timestamp      object \n",
      " 2   meter_reading  float64\n",
      "dtypes: float64(1), int64(1), object(1)\n",
      "memory usage: 368.1+ MB\n"
     ]
    }
   ],
   "source": [
    "electricity.info()"
   ]
  },
  {
   "cell_type": "code",
   "execution_count": 48,
   "metadata": {},
   "outputs": [
    {
     "data": {
      "text/html": [
       "<div>\n",
       "<style scoped>\n",
       "    .dataframe tbody tr th:only-of-type {\n",
       "        vertical-align: middle;\n",
       "    }\n",
       "\n",
       "    .dataframe tbody tr th {\n",
       "        vertical-align: top;\n",
       "    }\n",
       "\n",
       "    .dataframe thead th {\n",
       "        text-align: right;\n",
       "    }\n",
       "</style>\n",
       "<table border=\"1\" class=\"dataframe\">\n",
       "  <thead>\n",
       "    <tr style=\"text-align: right;\">\n",
       "      <th></th>\n",
       "      <th>building_id</th>\n",
       "      <th>meter_reading</th>\n",
       "    </tr>\n",
       "  </thead>\n",
       "  <tbody>\n",
       "    <tr>\n",
       "      <th>count</th>\n",
       "      <td>1.206091e+07</td>\n",
       "      <td>1.206091e+07</td>\n",
       "    </tr>\n",
       "    <tr>\n",
       "      <th>mean</th>\n",
       "      <td>7.066480e+02</td>\n",
       "      <td>1.708256e+02</td>\n",
       "    </tr>\n",
       "    <tr>\n",
       "      <th>std</th>\n",
       "      <td>4.152330e+02</td>\n",
       "      <td>3.808343e+02</td>\n",
       "    </tr>\n",
       "    <tr>\n",
       "      <th>min</th>\n",
       "      <td>0.000000e+00</td>\n",
       "      <td>0.000000e+00</td>\n",
       "    </tr>\n",
       "    <tr>\n",
       "      <th>25%</th>\n",
       "      <td>3.450000e+02</td>\n",
       "      <td>1.950000e+01</td>\n",
       "    </tr>\n",
       "    <tr>\n",
       "      <th>50%</th>\n",
       "      <td>6.980000e+02</td>\n",
       "      <td>6.283190e+01</td>\n",
       "    </tr>\n",
       "    <tr>\n",
       "      <th>75%</th>\n",
       "      <td>1.063000e+03</td>\n",
       "      <td>1.700750e+02</td>\n",
       "    </tr>\n",
       "    <tr>\n",
       "      <th>max</th>\n",
       "      <td>1.448000e+03</td>\n",
       "      <td>7.976900e+04</td>\n",
       "    </tr>\n",
       "  </tbody>\n",
       "</table>\n",
       "</div>"
      ],
      "text/plain": [
       "        building_id  meter_reading\n",
       "count  1.206091e+07   1.206091e+07\n",
       "mean   7.066480e+02   1.708256e+02\n",
       "std    4.152330e+02   3.808343e+02\n",
       "min    0.000000e+00   0.000000e+00\n",
       "25%    3.450000e+02   1.950000e+01\n",
       "50%    6.980000e+02   6.283190e+01\n",
       "75%    1.063000e+03   1.700750e+02\n",
       "max    1.448000e+03   7.976900e+04"
      ]
     },
     "execution_count": 48,
     "metadata": {},
     "output_type": "execute_result"
    }
   ],
   "source": [
    "electricity.describe()"
   ]
  },
  {
   "cell_type": "code",
   "execution_count": 49,
   "metadata": {},
   "outputs": [
    {
     "data": {
      "text/html": [
       "<div>\n",
       "<style scoped>\n",
       "    .dataframe tbody tr th:only-of-type {\n",
       "        vertical-align: middle;\n",
       "    }\n",
       "\n",
       "    .dataframe tbody tr th {\n",
       "        vertical-align: top;\n",
       "    }\n",
       "\n",
       "    .dataframe thead th {\n",
       "        text-align: right;\n",
       "    }\n",
       "</style>\n",
       "<table border=\"1\" class=\"dataframe\">\n",
       "  <thead>\n",
       "    <tr style=\"text-align: right;\">\n",
       "      <th></th>\n",
       "      <th>building_id</th>\n",
       "      <th>meter_reading</th>\n",
       "    </tr>\n",
       "  </thead>\n",
       "  <tbody>\n",
       "    <tr>\n",
       "      <th>count</th>\n",
       "      <td>1.206091e+07</td>\n",
       "      <td>1.206091e+07</td>\n",
       "    </tr>\n",
       "    <tr>\n",
       "      <th>mean</th>\n",
       "      <td>7.066480e+02</td>\n",
       "      <td>1.708256e+02</td>\n",
       "    </tr>\n",
       "    <tr>\n",
       "      <th>std</th>\n",
       "      <td>4.152330e+02</td>\n",
       "      <td>3.808343e+02</td>\n",
       "    </tr>\n",
       "    <tr>\n",
       "      <th>min</th>\n",
       "      <td>0.000000e+00</td>\n",
       "      <td>0.000000e+00</td>\n",
       "    </tr>\n",
       "    <tr>\n",
       "      <th>25%</th>\n",
       "      <td>3.450000e+02</td>\n",
       "      <td>1.950000e+01</td>\n",
       "    </tr>\n",
       "    <tr>\n",
       "      <th>50%</th>\n",
       "      <td>6.980000e+02</td>\n",
       "      <td>6.283190e+01</td>\n",
       "    </tr>\n",
       "    <tr>\n",
       "      <th>75%</th>\n",
       "      <td>1.063000e+03</td>\n",
       "      <td>1.700750e+02</td>\n",
       "    </tr>\n",
       "    <tr>\n",
       "      <th>max</th>\n",
       "      <td>1.448000e+03</td>\n",
       "      <td>7.976900e+04</td>\n",
       "    </tr>\n",
       "  </tbody>\n",
       "</table>\n",
       "</div>"
      ],
      "text/plain": [
       "        building_id  meter_reading\n",
       "count  1.206091e+07   1.206091e+07\n",
       "mean   7.066480e+02   1.708256e+02\n",
       "std    4.152330e+02   3.808343e+02\n",
       "min    0.000000e+00   0.000000e+00\n",
       "25%    3.450000e+02   1.950000e+01\n",
       "50%    6.980000e+02   6.283190e+01\n",
       "75%    1.063000e+03   1.700750e+02\n",
       "max    1.448000e+03   7.976900e+04"
      ]
     },
     "execution_count": 49,
     "metadata": {},
     "output_type": "execute_result"
    }
   ],
   "source": [
    "electricity.describe()"
   ]
  },
  {
   "cell_type": "markdown",
   "id": "b3135e26",
   "metadata": {},
   "source": [
    "### Merging everything into two datasets"
   ]
  },
  {
   "cell_type": "code",
   "execution_count": 50,
   "id": "a42564c6",
   "metadata": {},
   "outputs": [
    {
     "name": "stdout",
     "output_type": "stream",
     "text": [
      "<class 'pandas.core.frame.DataFrame'>\n",
      "RangeIndex: 12060910 entries, 0 to 12060909\n",
      "Data columns (total 8 columns):\n",
      " #   Column         Dtype  \n",
      "---  ------         -----  \n",
      " 0   building_id    int64  \n",
      " 1   timestamp      object \n",
      " 2   meter_reading  float64\n",
      " 3   site_id        int64  \n",
      " 4   primary_use    object \n",
      " 5   square_feet    int64  \n",
      " 6   year_built     float64\n",
      " 7   floor_count    float64\n",
      "dtypes: float64(3), int64(3), object(2)\n",
      "memory usage: 736.1+ MB\n"
     ]
    }
   ],
   "source": [
    "electricity_building = electricity.merge(building, on='building_id', how='left')\n",
    "\n",
    "\n",
    "electricity_building.info()"
   ]
  },
  {
   "cell_type": "code",
   "execution_count": 51,
   "id": "dd4d3b36",
   "metadata": {},
   "outputs": [
    {
     "name": "stdout",
     "output_type": "stream",
     "text": [
      "<class 'pandas.core.frame.DataFrame'>\n",
      "RangeIndex: 12060910 entries, 0 to 12060909\n",
      "Data columns (total 15 columns):\n",
      " #   Column              Dtype  \n",
      "---  ------              -----  \n",
      " 0   building_id         int64  \n",
      " 1   timestamp           object \n",
      " 2   meter_reading       float64\n",
      " 3   site_id             int64  \n",
      " 4   primary_use         object \n",
      " 5   square_feet         int64  \n",
      " 6   year_built          float64\n",
      " 7   floor_count         float64\n",
      " 8   air_temperature     float64\n",
      " 9   cloud_coverage      float64\n",
      " 10  dew_temperature     float64\n",
      " 11  precip_depth_1_hr   float64\n",
      " 12  sea_level_pressure  float64\n",
      " 13  wind_direction      float64\n",
      " 14  wind_speed          float64\n",
      "dtypes: float64(10), int64(3), object(2)\n",
      "memory usage: 1.3+ GB\n"
     ]
    }
   ],
   "source": [
    "electricity_building_weather = electricity_building.merge(weather, on=['site_id', 'timestamp'], how='left')\n",
    "\n",
    "\n",
    "electricity_building_weather.info()"
   ]
  },
  {
   "cell_type": "markdown",
   "metadata": {},
   "source": [
    "### Drop buildings where year_built >= 2016"
   ]
  },
  {
   "cell_type": "code",
   "execution_count": 52,
   "metadata": {},
   "outputs": [],
   "source": [
    "electricity_building_weather = electricity_building_weather[(electricity_building_weather['year_built'] < 2016) | (electricity_building_weather['year_built'].isna()) ]"
   ]
  },
  {
   "cell_type": "markdown",
   "metadata": {},
   "source": [
    "### Filter hours for 8.00-18.00"
   ]
  },
  {
   "cell_type": "code",
   "execution_count": 53,
   "metadata": {},
   "outputs": [],
   "source": [
    "electricity_building_weather = electricity_building_weather[(pd.to_datetime(electricity_building_weather['timestamp']).dt.hour >= 8) & (pd.to_datetime(electricity_building_weather['timestamp']).dt.hour <= 18)]"
   ]
  },
  {
   "cell_type": "markdown",
   "metadata": {},
   "source": [
    "### Drop weekends"
   ]
  },
  {
   "cell_type": "code",
   "execution_count": 54,
   "metadata": {},
   "outputs": [],
   "source": [
    "electricity_building_weather = electricity_building_weather[pd.to_datetime(electricity_building_weather['timestamp']).dt.dayofweek <= 4]"
   ]
  },
  {
   "cell_type": "code",
   "execution_count": 55,
   "metadata": {},
   "outputs": [
    {
     "name": "stdout",
     "output_type": "stream",
     "text": [
      "<class 'pandas.core.frame.DataFrame'>\n",
      "Index: 3920068 entries, 11096 to 12020212\n",
      "Data columns (total 15 columns):\n",
      " #   Column              Dtype  \n",
      "---  ------              -----  \n",
      " 0   building_id         int64  \n",
      " 1   timestamp           object \n",
      " 2   meter_reading       float64\n",
      " 3   site_id             int64  \n",
      " 4   primary_use         object \n",
      " 5   square_feet         int64  \n",
      " 6   year_built          float64\n",
      " 7   floor_count         float64\n",
      " 8   air_temperature     float64\n",
      " 9   cloud_coverage      float64\n",
      " 10  dew_temperature     float64\n",
      " 11  precip_depth_1_hr   float64\n",
      " 12  sea_level_pressure  float64\n",
      " 13  wind_direction      float64\n",
      " 14  wind_speed          float64\n",
      "dtypes: float64(10), int64(3), object(2)\n",
      "memory usage: 478.5+ MB\n"
     ]
    }
   ],
   "source": [
    "electricity_building_weather.info()"
   ]
  },
  {
   "cell_type": "markdown",
   "metadata": {},
   "source": [
    "### Site_id = 0 Measurement Correction"
   ]
  },
  {
   "cell_type": "code",
   "execution_count": 56,
   "metadata": {},
   "outputs": [
    {
     "data": {
      "text/plain": [
       "count    282578.000000\n",
       "mean        256.835529\n",
       "std         416.634834\n",
       "min           0.000000\n",
       "25%           0.000000\n",
       "50%          88.050300\n",
       "75%         362.781000\n",
       "max        2848.320000\n",
       "Name: meter_reading, dtype: float64"
      ]
     },
     "execution_count": 56,
     "metadata": {},
     "output_type": "execute_result"
    }
   ],
   "source": [
    "electricity_building_weather[electricity_building_weather['site_id']==0].meter_reading.describe()"
   ]
  },
  {
   "cell_type": "code",
   "execution_count": 57,
   "metadata": {},
   "outputs": [],
   "source": [
    "electricity_building_weather.loc[electricity_building_weather['site_id']==0,'meter_reading'] *= 0.293014534"
   ]
  },
  {
   "cell_type": "code",
   "execution_count": 58,
   "metadata": {},
   "outputs": [
    {
     "data": {
      "text/plain": [
       "count    282578.000000\n",
       "mean         75.256543\n",
       "std         122.080062\n",
       "min           0.000000\n",
       "25%           0.000000\n",
       "50%          25.800018\n",
       "75%         106.300106\n",
       "max         834.599157\n",
       "Name: meter_reading, dtype: float64"
      ]
     },
     "execution_count": 58,
     "metadata": {},
     "output_type": "execute_result"
    }
   ],
   "source": [
    "electricity_building_weather[electricity_building_weather['site_id']==0].meter_reading.describe()"
   ]
  },
  {
   "cell_type": "code",
   "execution_count": 59,
   "metadata": {},
   "outputs": [
    {
     "data": {
      "text/html": [
       "<div>\n",
       "<style scoped>\n",
       "    .dataframe tbody tr th:only-of-type {\n",
       "        vertical-align: middle;\n",
       "    }\n",
       "\n",
       "    .dataframe tbody tr th {\n",
       "        vertical-align: top;\n",
       "    }\n",
       "\n",
       "    .dataframe thead th {\n",
       "        text-align: right;\n",
       "    }\n",
       "</style>\n",
       "<table border=\"1\" class=\"dataframe\">\n",
       "  <thead>\n",
       "    <tr style=\"text-align: right;\">\n",
       "      <th></th>\n",
       "      <th>building_id</th>\n",
       "      <th>timestamp</th>\n",
       "      <th>meter_reading</th>\n",
       "      <th>site_id</th>\n",
       "      <th>primary_use</th>\n",
       "      <th>square_feet</th>\n",
       "      <th>year_built</th>\n",
       "      <th>floor_count</th>\n",
       "      <th>air_temperature</th>\n",
       "      <th>cloud_coverage</th>\n",
       "      <th>dew_temperature</th>\n",
       "      <th>precip_depth_1_hr</th>\n",
       "      <th>sea_level_pressure</th>\n",
       "      <th>wind_direction</th>\n",
       "      <th>wind_speed</th>\n",
       "    </tr>\n",
       "  </thead>\n",
       "  <tbody>\n",
       "    <tr>\n",
       "      <th>11096</th>\n",
       "      <td>0</td>\n",
       "      <td>2016-01-01 08:00:00</td>\n",
       "      <td>0.000</td>\n",
       "      <td>0</td>\n",
       "      <td>Education</td>\n",
       "      <td>7432</td>\n",
       "      <td>2008.0</td>\n",
       "      <td>NaN</td>\n",
       "      <td>20.6</td>\n",
       "      <td>NaN</td>\n",
       "      <td>20.0</td>\n",
       "      <td>0.0</td>\n",
       "      <td>1018.1</td>\n",
       "      <td>0.0</td>\n",
       "      <td>0.0</td>\n",
       "    </tr>\n",
       "    <tr>\n",
       "      <th>11097</th>\n",
       "      <td>1</td>\n",
       "      <td>2016-01-01 08:00:00</td>\n",
       "      <td>0.000</td>\n",
       "      <td>0</td>\n",
       "      <td>Education</td>\n",
       "      <td>2720</td>\n",
       "      <td>2004.0</td>\n",
       "      <td>NaN</td>\n",
       "      <td>20.6</td>\n",
       "      <td>NaN</td>\n",
       "      <td>20.0</td>\n",
       "      <td>0.0</td>\n",
       "      <td>1018.1</td>\n",
       "      <td>0.0</td>\n",
       "      <td>0.0</td>\n",
       "    </tr>\n",
       "    <tr>\n",
       "      <th>11098</th>\n",
       "      <td>2</td>\n",
       "      <td>2016-01-01 08:00:00</td>\n",
       "      <td>0.000</td>\n",
       "      <td>0</td>\n",
       "      <td>Education</td>\n",
       "      <td>5376</td>\n",
       "      <td>1991.0</td>\n",
       "      <td>NaN</td>\n",
       "      <td>20.6</td>\n",
       "      <td>NaN</td>\n",
       "      <td>20.0</td>\n",
       "      <td>0.0</td>\n",
       "      <td>1018.1</td>\n",
       "      <td>0.0</td>\n",
       "      <td>0.0</td>\n",
       "    </tr>\n",
       "    <tr>\n",
       "      <th>11099</th>\n",
       "      <td>3</td>\n",
       "      <td>2016-01-01 08:00:00</td>\n",
       "      <td>0.000</td>\n",
       "      <td>0</td>\n",
       "      <td>Education</td>\n",
       "      <td>23685</td>\n",
       "      <td>2002.0</td>\n",
       "      <td>NaN</td>\n",
       "      <td>20.6</td>\n",
       "      <td>NaN</td>\n",
       "      <td>20.0</td>\n",
       "      <td>0.0</td>\n",
       "      <td>1018.1</td>\n",
       "      <td>0.0</td>\n",
       "      <td>0.0</td>\n",
       "    </tr>\n",
       "    <tr>\n",
       "      <th>11100</th>\n",
       "      <td>4</td>\n",
       "      <td>2016-01-01 08:00:00</td>\n",
       "      <td>0.000</td>\n",
       "      <td>0</td>\n",
       "      <td>Education</td>\n",
       "      <td>116607</td>\n",
       "      <td>1975.0</td>\n",
       "      <td>NaN</td>\n",
       "      <td>20.6</td>\n",
       "      <td>NaN</td>\n",
       "      <td>20.0</td>\n",
       "      <td>0.0</td>\n",
       "      <td>1018.1</td>\n",
       "      <td>0.0</td>\n",
       "      <td>0.0</td>\n",
       "    </tr>\n",
       "    <tr>\n",
       "      <th>...</th>\n",
       "      <td>...</td>\n",
       "      <td>...</td>\n",
       "      <td>...</td>\n",
       "      <td>...</td>\n",
       "      <td>...</td>\n",
       "      <td>...</td>\n",
       "      <td>...</td>\n",
       "      <td>...</td>\n",
       "      <td>...</td>\n",
       "      <td>...</td>\n",
       "      <td>...</td>\n",
       "      <td>...</td>\n",
       "      <td>...</td>\n",
       "      <td>...</td>\n",
       "      <td>...</td>\n",
       "    </tr>\n",
       "    <tr>\n",
       "      <th>12020208</th>\n",
       "      <td>1444</td>\n",
       "      <td>2016-12-30 18:00:00</td>\n",
       "      <td>8.625</td>\n",
       "      <td>15</td>\n",
       "      <td>Entertainment/public assembly</td>\n",
       "      <td>19619</td>\n",
       "      <td>1914.0</td>\n",
       "      <td>NaN</td>\n",
       "      <td>-1.7</td>\n",
       "      <td>NaN</td>\n",
       "      <td>-6.1</td>\n",
       "      <td>-1.0</td>\n",
       "      <td>1004.7</td>\n",
       "      <td>290.0</td>\n",
       "      <td>11.3</td>\n",
       "    </tr>\n",
       "    <tr>\n",
       "      <th>12020209</th>\n",
       "      <td>1445</td>\n",
       "      <td>2016-12-30 18:00:00</td>\n",
       "      <td>5.775</td>\n",
       "      <td>15</td>\n",
       "      <td>Education</td>\n",
       "      <td>4298</td>\n",
       "      <td>NaN</td>\n",
       "      <td>NaN</td>\n",
       "      <td>-1.7</td>\n",
       "      <td>NaN</td>\n",
       "      <td>-6.1</td>\n",
       "      <td>-1.0</td>\n",
       "      <td>1004.7</td>\n",
       "      <td>290.0</td>\n",
       "      <td>11.3</td>\n",
       "    </tr>\n",
       "    <tr>\n",
       "      <th>12020210</th>\n",
       "      <td>1446</td>\n",
       "      <td>2016-12-30 18:00:00</td>\n",
       "      <td>0.000</td>\n",
       "      <td>15</td>\n",
       "      <td>Entertainment/public assembly</td>\n",
       "      <td>11265</td>\n",
       "      <td>1997.0</td>\n",
       "      <td>NaN</td>\n",
       "      <td>-1.7</td>\n",
       "      <td>NaN</td>\n",
       "      <td>-6.1</td>\n",
       "      <td>-1.0</td>\n",
       "      <td>1004.7</td>\n",
       "      <td>290.0</td>\n",
       "      <td>11.3</td>\n",
       "    </tr>\n",
       "    <tr>\n",
       "      <th>12020211</th>\n",
       "      <td>1447</td>\n",
       "      <td>2016-12-30 18:00:00</td>\n",
       "      <td>166.775</td>\n",
       "      <td>15</td>\n",
       "      <td>Lodging/residential</td>\n",
       "      <td>29775</td>\n",
       "      <td>2001.0</td>\n",
       "      <td>NaN</td>\n",
       "      <td>-1.7</td>\n",
       "      <td>NaN</td>\n",
       "      <td>-6.1</td>\n",
       "      <td>-1.0</td>\n",
       "      <td>1004.7</td>\n",
       "      <td>290.0</td>\n",
       "      <td>11.3</td>\n",
       "    </tr>\n",
       "    <tr>\n",
       "      <th>12020212</th>\n",
       "      <td>1448</td>\n",
       "      <td>2016-12-30 18:00:00</td>\n",
       "      <td>3.925</td>\n",
       "      <td>15</td>\n",
       "      <td>Office</td>\n",
       "      <td>92271</td>\n",
       "      <td>2001.0</td>\n",
       "      <td>NaN</td>\n",
       "      <td>-1.7</td>\n",
       "      <td>NaN</td>\n",
       "      <td>-6.1</td>\n",
       "      <td>-1.0</td>\n",
       "      <td>1004.7</td>\n",
       "      <td>290.0</td>\n",
       "      <td>11.3</td>\n",
       "    </tr>\n",
       "  </tbody>\n",
       "</table>\n",
       "<p>3920068 rows × 15 columns</p>\n",
       "</div>"
      ],
      "text/plain": [
       "          building_id            timestamp  meter_reading  site_id  \\\n",
       "11096               0  2016-01-01 08:00:00          0.000        0   \n",
       "11097               1  2016-01-01 08:00:00          0.000        0   \n",
       "11098               2  2016-01-01 08:00:00          0.000        0   \n",
       "11099               3  2016-01-01 08:00:00          0.000        0   \n",
       "11100               4  2016-01-01 08:00:00          0.000        0   \n",
       "...               ...                  ...            ...      ...   \n",
       "12020208         1444  2016-12-30 18:00:00          8.625       15   \n",
       "12020209         1445  2016-12-30 18:00:00          5.775       15   \n",
       "12020210         1446  2016-12-30 18:00:00          0.000       15   \n",
       "12020211         1447  2016-12-30 18:00:00        166.775       15   \n",
       "12020212         1448  2016-12-30 18:00:00          3.925       15   \n",
       "\n",
       "                            primary_use  square_feet  year_built  floor_count  \\\n",
       "11096                         Education         7432      2008.0          NaN   \n",
       "11097                         Education         2720      2004.0          NaN   \n",
       "11098                         Education         5376      1991.0          NaN   \n",
       "11099                         Education        23685      2002.0          NaN   \n",
       "11100                         Education       116607      1975.0          NaN   \n",
       "...                                 ...          ...         ...          ...   \n",
       "12020208  Entertainment/public assembly        19619      1914.0          NaN   \n",
       "12020209                      Education         4298         NaN          NaN   \n",
       "12020210  Entertainment/public assembly        11265      1997.0          NaN   \n",
       "12020211            Lodging/residential        29775      2001.0          NaN   \n",
       "12020212                         Office        92271      2001.0          NaN   \n",
       "\n",
       "          air_temperature  cloud_coverage  dew_temperature  precip_depth_1_hr  \\\n",
       "11096                20.6             NaN             20.0                0.0   \n",
       "11097                20.6             NaN             20.0                0.0   \n",
       "11098                20.6             NaN             20.0                0.0   \n",
       "11099                20.6             NaN             20.0                0.0   \n",
       "11100                20.6             NaN             20.0                0.0   \n",
       "...                   ...             ...              ...                ...   \n",
       "12020208             -1.7             NaN             -6.1               -1.0   \n",
       "12020209             -1.7             NaN             -6.1               -1.0   \n",
       "12020210             -1.7             NaN             -6.1               -1.0   \n",
       "12020211             -1.7             NaN             -6.1               -1.0   \n",
       "12020212             -1.7             NaN             -6.1               -1.0   \n",
       "\n",
       "          sea_level_pressure  wind_direction  wind_speed  \n",
       "11096                 1018.1             0.0         0.0  \n",
       "11097                 1018.1             0.0         0.0  \n",
       "11098                 1018.1             0.0         0.0  \n",
       "11099                 1018.1             0.0         0.0  \n",
       "11100                 1018.1             0.0         0.0  \n",
       "...                      ...             ...         ...  \n",
       "12020208              1004.7           290.0        11.3  \n",
       "12020209              1004.7           290.0        11.3  \n",
       "12020210              1004.7           290.0        11.3  \n",
       "12020211              1004.7           290.0        11.3  \n",
       "12020212              1004.7           290.0        11.3  \n",
       "\n",
       "[3920068 rows x 15 columns]"
      ]
     },
     "execution_count": 59,
     "metadata": {},
     "output_type": "execute_result"
    }
   ],
   "source": [
    "electricity_building_weather"
   ]
  },
  {
   "cell_type": "markdown",
   "metadata": {},
   "source": [
    "### Analyze data"
   ]
  },
  {
   "cell_type": "code",
   "execution_count": 60,
   "metadata": {},
   "outputs": [
    {
     "data": {
      "text/plain": [
       "array([ 0,  3,  4,  5,  7,  8,  9, 13, 15, 12,  2, 14, 10,  6])"
      ]
     },
     "execution_count": 60,
     "metadata": {},
     "output_type": "execute_result"
    }
   ],
   "source": [
    "electricity_building_weather[electricity_building_weather['meter_reading']==0].site_id.unique()"
   ]
  },
  {
   "cell_type": "code",
   "execution_count": 61,
   "metadata": {},
   "outputs": [
    {
     "data": {
      "text/plain": [
       "site_id\n",
       "0     282578\n",
       "1     146419\n",
       "2     387102\n",
       "3     768646\n",
       "4     242198\n",
       "5     255519\n",
       "6     102684\n",
       "7      34248\n",
       "8     186506\n",
       "9     349462\n",
       "10     77389\n",
       "11     14208\n",
       "12    103265\n",
       "13    403973\n",
       "14    291092\n",
       "15    274779\n",
       "Name: timestamp, dtype: int64"
      ]
     },
     "execution_count": 61,
     "metadata": {},
     "output_type": "execute_result"
    }
   ],
   "source": [
    "electricity_building_weather.groupby('site_id').timestamp.count()"
   ]
  },
  {
   "cell_type": "markdown",
   "id": "abdeecf9",
   "metadata": {},
   "source": [
    "### Saving filtered dataset"
   ]
  },
  {
   "cell_type": "code",
   "execution_count": 62,
   "id": "b89c40bb",
   "metadata": {},
   "outputs": [],
   "source": [
    "# Specify the zip file name\n",
    "zip_filename = \"../dataset/filtered.zip\"\n",
    "\n",
    "# Create a ZIP file and add the model object to it\n",
    "with zipfile.ZipFile(zip_filename, \"w\", zipfile.ZIP_DEFLATED) as archive:\n",
    "    # Save the model to a temporary file\n",
    "    temp_model_filename = \"filtered.pkl\"\n",
    "    joblib.dump(electricity_building_weather, temp_model_filename)\n",
    "    \n",
    "    # Add the temporary model file to the ZIP archive\n",
    "    archive.write(temp_model_filename, arcname=\"filtered.pkl\")\n",
    "\n",
    "# Remove the temporary model file\n",
    "os.remove(temp_model_filename)\n"
   ]
  },
  {
   "cell_type": "code",
   "execution_count": null,
   "metadata": {},
   "outputs": [],
   "source": []
  }
 ],
 "metadata": {
  "kernelspec": {
   "display_name": "DIProject",
   "language": "python",
   "name": "diproject"
  },
  "language_info": {
   "codemirror_mode": {
    "name": "ipython",
    "version": 3
   },
   "file_extension": ".py",
   "mimetype": "text/x-python",
   "name": "python",
   "nbconvert_exporter": "python",
   "pygments_lexer": "ipython3",
   "version": "3.11.6"
  }
 },
 "nbformat": 4,
 "nbformat_minor": 5
}
