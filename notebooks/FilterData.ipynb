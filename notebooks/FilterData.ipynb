{
 "cells": [
  {
   "cell_type": "code",
   "execution_count": 1,
   "id": "52e8f47f",
   "metadata": {},
   "outputs": [],
   "source": [
    "import pandas as pd\n",
    "import numpy as np"
   ]
  },
  {
   "cell_type": "markdown",
   "id": "2d90d073",
   "metadata": {},
   "source": [
    "### Loading Data"
   ]
  },
  {
   "cell_type": "code",
   "execution_count": 2,
   "id": "d0a5fa58",
   "metadata": {},
   "outputs": [],
   "source": [
    "train = pd.read_csv('../OriginalDataset/train.csv')\n",
    "test =  pd.read_csv('../OriginalDataset/test.csv')\n",
    "building = pd.read_csv('../OriginalDataset/building_metadata.csv')\n",
    "weather_train = pd.read_csv('../OriginalDataset//weather_train.csv')\n",
    "weather_test = pd.read_csv('../OriginalDataset//weather_test.csv')"
   ]
  },
  {
   "cell_type": "code",
   "execution_count": 3,
   "id": "7a63479d",
   "metadata": {},
   "outputs": [
    {
     "name": "stdout",
     "output_type": "stream",
     "text": [
      "<class 'pandas.core.frame.DataFrame'>\n",
      "RangeIndex: 20216100 entries, 0 to 20216099\n",
      "Data columns (total 4 columns):\n",
      " #   Column         Dtype  \n",
      "---  ------         -----  \n",
      " 0   building_id    int64  \n",
      " 1   meter          int64  \n",
      " 2   timestamp      object \n",
      " 3   meter_reading  float64\n",
      "dtypes: float64(1), int64(2), object(1)\n",
      "memory usage: 616.9+ MB\n"
     ]
    }
   ],
   "source": [
    "train.info()"
   ]
  },
  {
   "cell_type": "code",
   "execution_count": 4,
   "id": "62717784",
   "metadata": {},
   "outputs": [
    {
     "name": "stdout",
     "output_type": "stream",
     "text": [
      "<class 'pandas.core.frame.DataFrame'>\n",
      "RangeIndex: 41697600 entries, 0 to 41697599\n",
      "Data columns (total 4 columns):\n",
      " #   Column       Dtype \n",
      "---  ------       ----- \n",
      " 0   row_id       int64 \n",
      " 1   building_id  int64 \n",
      " 2   meter        int64 \n",
      " 3   timestamp    object\n",
      "dtypes: int64(3), object(1)\n",
      "memory usage: 1.2+ GB\n"
     ]
    }
   ],
   "source": [
    "test.info()"
   ]
  },
  {
   "cell_type": "code",
   "execution_count": 5,
   "id": "853caa13",
   "metadata": {},
   "outputs": [
    {
     "name": "stdout",
     "output_type": "stream",
     "text": [
      "<class 'pandas.core.frame.DataFrame'>\n",
      "RangeIndex: 1449 entries, 0 to 1448\n",
      "Data columns (total 6 columns):\n",
      " #   Column       Non-Null Count  Dtype  \n",
      "---  ------       --------------  -----  \n",
      " 0   site_id      1449 non-null   int64  \n",
      " 1   building_id  1449 non-null   int64  \n",
      " 2   primary_use  1449 non-null   object \n",
      " 3   square_feet  1449 non-null   int64  \n",
      " 4   year_built   675 non-null    float64\n",
      " 5   floor_count  355 non-null    float64\n",
      "dtypes: float64(2), int64(3), object(1)\n",
      "memory usage: 68.1+ KB\n"
     ]
    }
   ],
   "source": [
    "building.info()"
   ]
  },
  {
   "cell_type": "code",
   "execution_count": 6,
   "id": "5ee68fad",
   "metadata": {},
   "outputs": [
    {
     "name": "stdout",
     "output_type": "stream",
     "text": [
      "<class 'pandas.core.frame.DataFrame'>\n",
      "RangeIndex: 139773 entries, 0 to 139772\n",
      "Data columns (total 9 columns):\n",
      " #   Column              Non-Null Count   Dtype  \n",
      "---  ------              --------------   -----  \n",
      " 0   site_id             139773 non-null  int64  \n",
      " 1   timestamp           139773 non-null  object \n",
      " 2   air_temperature     139718 non-null  float64\n",
      " 3   cloud_coverage      70600 non-null   float64\n",
      " 4   dew_temperature     139660 non-null  float64\n",
      " 5   precip_depth_1_hr   89484 non-null   float64\n",
      " 6   sea_level_pressure  129155 non-null  float64\n",
      " 7   wind_direction      133505 non-null  float64\n",
      " 8   wind_speed          139469 non-null  float64\n",
      "dtypes: float64(7), int64(1), object(1)\n",
      "memory usage: 9.6+ MB\n"
     ]
    }
   ],
   "source": [
    "weather_train.info()"
   ]
  },
  {
   "cell_type": "code",
   "execution_count": 7,
   "id": "093d03c9",
   "metadata": {},
   "outputs": [
    {
     "name": "stdout",
     "output_type": "stream",
     "text": [
      "<class 'pandas.core.frame.DataFrame'>\n",
      "RangeIndex: 277243 entries, 0 to 277242\n",
      "Data columns (total 9 columns):\n",
      " #   Column              Non-Null Count   Dtype  \n",
      "---  ------              --------------   -----  \n",
      " 0   site_id             277243 non-null  int64  \n",
      " 1   timestamp           277243 non-null  object \n",
      " 2   air_temperature     277139 non-null  float64\n",
      " 3   cloud_coverage      136795 non-null  float64\n",
      " 4   dew_temperature     276916 non-null  float64\n",
      " 5   precip_depth_1_hr   181655 non-null  float64\n",
      " 6   sea_level_pressure  255978 non-null  float64\n",
      " 7   wind_direction      264873 non-null  float64\n",
      " 8   wind_speed          276783 non-null  float64\n",
      "dtypes: float64(7), int64(1), object(1)\n",
      "memory usage: 19.0+ MB\n"
     ]
    }
   ],
   "source": [
    "weather_test.info()"
   ]
  },
  {
   "cell_type": "markdown",
   "id": "887d017c",
   "metadata": {},
   "source": [
    "### Filtering train and test set only for valid electrictiy readings (meter = 0)"
   ]
  },
  {
   "cell_type": "code",
   "execution_count": 8,
   "id": "d667fd87",
   "metadata": {},
   "outputs": [],
   "source": [
    "train_electricity = train[(train['meter'] == 0) & (train['meter_reading']> 0)]\n",
    "test_electricity = test[(test['meter'] == 0)]"
   ]
  },
  {
   "cell_type": "code",
   "execution_count": 9,
   "id": "7e479af3",
   "metadata": {},
   "outputs": [
    {
     "name": "stdout",
     "output_type": "stream",
     "text": [
      "<class 'pandas.core.frame.DataFrame'>\n",
      "Index: 11530741 entries, 45 to 20216099\n",
      "Data columns (total 4 columns):\n",
      " #   Column         Dtype  \n",
      "---  ------         -----  \n",
      " 0   building_id    int64  \n",
      " 1   meter          int64  \n",
      " 2   timestamp      object \n",
      " 3   meter_reading  float64\n",
      "dtypes: float64(1), int64(2), object(1)\n",
      "memory usage: 439.9+ MB\n"
     ]
    }
   ],
   "source": [
    "train_electricity.info()"
   ]
  },
  {
   "cell_type": "markdown",
   "id": "b3135e26",
   "metadata": {},
   "source": [
    "### Merging everything into two datasets: train_electiricity and test_electricity"
   ]
  },
  {
   "cell_type": "code",
   "execution_count": 10,
   "id": "a42564c6",
   "metadata": {},
   "outputs": [
    {
     "name": "stdout",
     "output_type": "stream",
     "text": [
      "<class 'pandas.core.frame.DataFrame'>\n",
      "RangeIndex: 11530741 entries, 0 to 11530740\n",
      "Data columns (total 9 columns):\n",
      " #   Column         Dtype  \n",
      "---  ------         -----  \n",
      " 0   building_id    int64  \n",
      " 1   meter          int64  \n",
      " 2   timestamp      object \n",
      " 3   meter_reading  float64\n",
      " 4   site_id        int64  \n",
      " 5   primary_use    object \n",
      " 6   square_feet    int64  \n",
      " 7   year_built     float64\n",
      " 8   floor_count    float64\n",
      "dtypes: float64(3), int64(4), object(2)\n",
      "memory usage: 791.8+ MB\n"
     ]
    }
   ],
   "source": [
    "train_electricity_building = train_electricity.merge(building, on='building_id', how='left')\n",
    "test_electricity_building = test_electricity.merge(building, on='building_id', how='left')\n",
    "\n",
    "train_electricity_building.info()"
   ]
  },
  {
   "cell_type": "code",
   "execution_count": 11,
   "id": "dd4d3b36",
   "metadata": {},
   "outputs": [
    {
     "name": "stdout",
     "output_type": "stream",
     "text": [
      "<class 'pandas.core.frame.DataFrame'>\n",
      "RangeIndex: 11530741 entries, 0 to 11530740\n",
      "Data columns (total 16 columns):\n",
      " #   Column              Dtype  \n",
      "---  ------              -----  \n",
      " 0   building_id         int64  \n",
      " 1   meter               int64  \n",
      " 2   timestamp           object \n",
      " 3   meter_reading       float64\n",
      " 4   site_id             int64  \n",
      " 5   primary_use         object \n",
      " 6   square_feet         int64  \n",
      " 7   year_built          float64\n",
      " 8   floor_count         float64\n",
      " 9   air_temperature     float64\n",
      " 10  cloud_coverage      float64\n",
      " 11  dew_temperature     float64\n",
      " 12  precip_depth_1_hr   float64\n",
      " 13  sea_level_pressure  float64\n",
      " 14  wind_direction      float64\n",
      " 15  wind_speed          float64\n",
      "dtypes: float64(10), int64(4), object(2)\n",
      "memory usage: 1.4+ GB\n"
     ]
    }
   ],
   "source": [
    "train_electricity_building_weather = train_electricity_building.merge(weather_train, on=['site_id', 'timestamp'], how='left')\n",
    "test_electricity_building_weather = test_electricity_building.merge(weather_test, on=['site_id', 'timestamp'], how='left')\n",
    "\n",
    "train_electricity_building_weather.info()"
   ]
  },
  {
   "cell_type": "markdown",
   "id": "14d1a72a",
   "metadata": {},
   "source": [
    "### Saving some memory\n"
   ]
  },
  {
   "cell_type": "code",
   "execution_count": 12,
   "id": "a023151e",
   "metadata": {},
   "outputs": [],
   "source": [
    "def reduce_memory_usage(df, verbose=True):\n",
    "    numerics = ['int16', 'int32', 'int64', 'float16', 'float32', 'float64']\n",
    "    start_mem = df.memory_usage().sum() / 1024**2    \n",
    "    for col in df.columns:\n",
    "        col_type = df[col].dtypes\n",
    "        if col_type in numerics:\n",
    "            c_min = df[col].min()\n",
    "            c_max = df[col].max()\n",
    "            if str(col_type)[:3] == 'int':\n",
    "                if c_min > np.iinfo(np.int8).min and c_max < np.iinfo(np.int8).max:\n",
    "                    df[col] = df[col].astype(np.int8)\n",
    "                elif c_min > np.iinfo(np.int16).min and c_max < np.iinfo(np.int16).max:\n",
    "                    df[col] = df[col].astype(np.int16)\n",
    "                elif c_min > np.iinfo(np.int32).min and c_max < np.iinfo(np.int32).max:\n",
    "                    df[col] = df[col].astype(np.int32)\n",
    "                elif c_min > np.iinfo(np.int64).min and c_max < np.iinfo(np.int64).max:\n",
    "                    df[col] = df[col].astype(np.int64)  \n",
    "            else:\n",
    "                if c_min > np.finfo(np.float16).min and c_max < np.finfo(np.float16).max:\n",
    "                    df[col] = df[col].astype(np.float16)\n",
    "                elif c_min > np.finfo(np.float32).min and c_max < np.finfo(np.float32).max:\n",
    "                    df[col] = df[col].astype(np.float32)\n",
    "                else:\n",
    "                    df[col] = df[col].astype(np.float64)    \n",
    "    end_mem = df.memory_usage().sum() / 1024**2\n",
    "    if verbose: print('Mem. usage decreased to {:5.2f} Mb ({:.1f}% reduction)'.format(end_mem, 100 * (start_mem - end_mem) / start_mem))\n",
    "    return df"
   ]
  },
  {
   "cell_type": "code",
   "execution_count": 13,
   "id": "872a0fb9",
   "metadata": {},
   "outputs": [
    {
     "name": "stdout",
     "output_type": "stream",
     "text": [
      "Mem. usage decreased to 505.84 Mb (64.1% reduction)\n",
      "Mem. usage decreased to 1086.01 Mb (64.1% reduction)\n"
     ]
    },
    {
     "data": {
      "text/html": [
       "<div>\n",
       "<style scoped>\n",
       "    .dataframe tbody tr th:only-of-type {\n",
       "        vertical-align: middle;\n",
       "    }\n",
       "\n",
       "    .dataframe tbody tr th {\n",
       "        vertical-align: top;\n",
       "    }\n",
       "\n",
       "    .dataframe thead th {\n",
       "        text-align: right;\n",
       "    }\n",
       "</style>\n",
       "<table border=\"1\" class=\"dataframe\">\n",
       "  <thead>\n",
       "    <tr style=\"text-align: right;\">\n",
       "      <th></th>\n",
       "      <th>row_id</th>\n",
       "      <th>building_id</th>\n",
       "      <th>meter</th>\n",
       "      <th>timestamp</th>\n",
       "      <th>site_id</th>\n",
       "      <th>primary_use</th>\n",
       "      <th>square_feet</th>\n",
       "      <th>year_built</th>\n",
       "      <th>floor_count</th>\n",
       "      <th>air_temperature</th>\n",
       "      <th>cloud_coverage</th>\n",
       "      <th>dew_temperature</th>\n",
       "      <th>precip_depth_1_hr</th>\n",
       "      <th>sea_level_pressure</th>\n",
       "      <th>wind_direction</th>\n",
       "      <th>wind_speed</th>\n",
       "    </tr>\n",
       "  </thead>\n",
       "  <tbody>\n",
       "    <tr>\n",
       "      <th>0</th>\n",
       "      <td>0</td>\n",
       "      <td>0</td>\n",
       "      <td>0</td>\n",
       "      <td>2017-01-01 00:00:00</td>\n",
       "      <td>0</td>\n",
       "      <td>Education</td>\n",
       "      <td>7432</td>\n",
       "      <td>2008.0</td>\n",
       "      <td>NaN</td>\n",
       "      <td>17.796875</td>\n",
       "      <td>4.0</td>\n",
       "      <td>11.703125</td>\n",
       "      <td>NaN</td>\n",
       "      <td>1021.5</td>\n",
       "      <td>100.0</td>\n",
       "      <td>3.599609</td>\n",
       "    </tr>\n",
       "    <tr>\n",
       "      <th>1</th>\n",
       "      <td>1</td>\n",
       "      <td>1</td>\n",
       "      <td>0</td>\n",
       "      <td>2017-01-01 00:00:00</td>\n",
       "      <td>0</td>\n",
       "      <td>Education</td>\n",
       "      <td>2720</td>\n",
       "      <td>2004.0</td>\n",
       "      <td>NaN</td>\n",
       "      <td>17.796875</td>\n",
       "      <td>4.0</td>\n",
       "      <td>11.703125</td>\n",
       "      <td>NaN</td>\n",
       "      <td>1021.5</td>\n",
       "      <td>100.0</td>\n",
       "      <td>3.599609</td>\n",
       "    </tr>\n",
       "    <tr>\n",
       "      <th>2</th>\n",
       "      <td>2</td>\n",
       "      <td>2</td>\n",
       "      <td>0</td>\n",
       "      <td>2017-01-01 00:00:00</td>\n",
       "      <td>0</td>\n",
       "      <td>Education</td>\n",
       "      <td>5376</td>\n",
       "      <td>1991.0</td>\n",
       "      <td>NaN</td>\n",
       "      <td>17.796875</td>\n",
       "      <td>4.0</td>\n",
       "      <td>11.703125</td>\n",
       "      <td>NaN</td>\n",
       "      <td>1021.5</td>\n",
       "      <td>100.0</td>\n",
       "      <td>3.599609</td>\n",
       "    </tr>\n",
       "    <tr>\n",
       "      <th>3</th>\n",
       "      <td>3</td>\n",
       "      <td>3</td>\n",
       "      <td>0</td>\n",
       "      <td>2017-01-01 00:00:00</td>\n",
       "      <td>0</td>\n",
       "      <td>Education</td>\n",
       "      <td>23685</td>\n",
       "      <td>2002.0</td>\n",
       "      <td>NaN</td>\n",
       "      <td>17.796875</td>\n",
       "      <td>4.0</td>\n",
       "      <td>11.703125</td>\n",
       "      <td>NaN</td>\n",
       "      <td>1021.5</td>\n",
       "      <td>100.0</td>\n",
       "      <td>3.599609</td>\n",
       "    </tr>\n",
       "    <tr>\n",
       "      <th>4</th>\n",
       "      <td>4</td>\n",
       "      <td>4</td>\n",
       "      <td>0</td>\n",
       "      <td>2017-01-01 00:00:00</td>\n",
       "      <td>0</td>\n",
       "      <td>Education</td>\n",
       "      <td>116607</td>\n",
       "      <td>1975.0</td>\n",
       "      <td>NaN</td>\n",
       "      <td>17.796875</td>\n",
       "      <td>4.0</td>\n",
       "      <td>11.703125</td>\n",
       "      <td>NaN</td>\n",
       "      <td>1021.5</td>\n",
       "      <td>100.0</td>\n",
       "      <td>3.599609</td>\n",
       "    </tr>\n",
       "    <tr>\n",
       "      <th>...</th>\n",
       "      <td>...</td>\n",
       "      <td>...</td>\n",
       "      <td>...</td>\n",
       "      <td>...</td>\n",
       "      <td>...</td>\n",
       "      <td>...</td>\n",
       "      <td>...</td>\n",
       "      <td>...</td>\n",
       "      <td>...</td>\n",
       "      <td>...</td>\n",
       "      <td>...</td>\n",
       "      <td>...</td>\n",
       "      <td>...</td>\n",
       "      <td>...</td>\n",
       "      <td>...</td>\n",
       "      <td>...</td>\n",
       "    </tr>\n",
       "    <tr>\n",
       "      <th>24755755</th>\n",
       "      <td>41697595</td>\n",
       "      <td>1444</td>\n",
       "      <td>0</td>\n",
       "      <td>2018-05-09 07:00:00</td>\n",
       "      <td>15</td>\n",
       "      <td>Entertainment/public assembly</td>\n",
       "      <td>19619</td>\n",
       "      <td>1914.0</td>\n",
       "      <td>NaN</td>\n",
       "      <td>NaN</td>\n",
       "      <td>NaN</td>\n",
       "      <td>NaN</td>\n",
       "      <td>NaN</td>\n",
       "      <td>NaN</td>\n",
       "      <td>NaN</td>\n",
       "      <td>NaN</td>\n",
       "    </tr>\n",
       "    <tr>\n",
       "      <th>24755756</th>\n",
       "      <td>41697596</td>\n",
       "      <td>1445</td>\n",
       "      <td>0</td>\n",
       "      <td>2018-05-09 07:00:00</td>\n",
       "      <td>15</td>\n",
       "      <td>Education</td>\n",
       "      <td>4298</td>\n",
       "      <td>NaN</td>\n",
       "      <td>NaN</td>\n",
       "      <td>NaN</td>\n",
       "      <td>NaN</td>\n",
       "      <td>NaN</td>\n",
       "      <td>NaN</td>\n",
       "      <td>NaN</td>\n",
       "      <td>NaN</td>\n",
       "      <td>NaN</td>\n",
       "    </tr>\n",
       "    <tr>\n",
       "      <th>24755757</th>\n",
       "      <td>41697597</td>\n",
       "      <td>1446</td>\n",
       "      <td>0</td>\n",
       "      <td>2018-05-09 07:00:00</td>\n",
       "      <td>15</td>\n",
       "      <td>Entertainment/public assembly</td>\n",
       "      <td>11265</td>\n",
       "      <td>1997.0</td>\n",
       "      <td>NaN</td>\n",
       "      <td>NaN</td>\n",
       "      <td>NaN</td>\n",
       "      <td>NaN</td>\n",
       "      <td>NaN</td>\n",
       "      <td>NaN</td>\n",
       "      <td>NaN</td>\n",
       "      <td>NaN</td>\n",
       "    </tr>\n",
       "    <tr>\n",
       "      <th>24755758</th>\n",
       "      <td>41697598</td>\n",
       "      <td>1447</td>\n",
       "      <td>0</td>\n",
       "      <td>2018-05-09 07:00:00</td>\n",
       "      <td>15</td>\n",
       "      <td>Lodging/residential</td>\n",
       "      <td>29775</td>\n",
       "      <td>2001.0</td>\n",
       "      <td>NaN</td>\n",
       "      <td>NaN</td>\n",
       "      <td>NaN</td>\n",
       "      <td>NaN</td>\n",
       "      <td>NaN</td>\n",
       "      <td>NaN</td>\n",
       "      <td>NaN</td>\n",
       "      <td>NaN</td>\n",
       "    </tr>\n",
       "    <tr>\n",
       "      <th>24755759</th>\n",
       "      <td>41697599</td>\n",
       "      <td>1448</td>\n",
       "      <td>0</td>\n",
       "      <td>2018-05-09 07:00:00</td>\n",
       "      <td>15</td>\n",
       "      <td>Office</td>\n",
       "      <td>92271</td>\n",
       "      <td>2001.0</td>\n",
       "      <td>NaN</td>\n",
       "      <td>NaN</td>\n",
       "      <td>NaN</td>\n",
       "      <td>NaN</td>\n",
       "      <td>NaN</td>\n",
       "      <td>NaN</td>\n",
       "      <td>NaN</td>\n",
       "      <td>NaN</td>\n",
       "    </tr>\n",
       "  </tbody>\n",
       "</table>\n",
       "<p>24755760 rows × 16 columns</p>\n",
       "</div>"
      ],
      "text/plain": [
       "            row_id  building_id  meter            timestamp  site_id  \\\n",
       "0                0            0      0  2017-01-01 00:00:00        0   \n",
       "1                1            1      0  2017-01-01 00:00:00        0   \n",
       "2                2            2      0  2017-01-01 00:00:00        0   \n",
       "3                3            3      0  2017-01-01 00:00:00        0   \n",
       "4                4            4      0  2017-01-01 00:00:00        0   \n",
       "...            ...          ...    ...                  ...      ...   \n",
       "24755755  41697595         1444      0  2018-05-09 07:00:00       15   \n",
       "24755756  41697596         1445      0  2018-05-09 07:00:00       15   \n",
       "24755757  41697597         1446      0  2018-05-09 07:00:00       15   \n",
       "24755758  41697598         1447      0  2018-05-09 07:00:00       15   \n",
       "24755759  41697599         1448      0  2018-05-09 07:00:00       15   \n",
       "\n",
       "                            primary_use  square_feet  year_built  floor_count  \\\n",
       "0                             Education         7432      2008.0          NaN   \n",
       "1                             Education         2720      2004.0          NaN   \n",
       "2                             Education         5376      1991.0          NaN   \n",
       "3                             Education        23685      2002.0          NaN   \n",
       "4                             Education       116607      1975.0          NaN   \n",
       "...                                 ...          ...         ...          ...   \n",
       "24755755  Entertainment/public assembly        19619      1914.0          NaN   \n",
       "24755756                      Education         4298         NaN          NaN   \n",
       "24755757  Entertainment/public assembly        11265      1997.0          NaN   \n",
       "24755758            Lodging/residential        29775      2001.0          NaN   \n",
       "24755759                         Office        92271      2001.0          NaN   \n",
       "\n",
       "          air_temperature  cloud_coverage  dew_temperature  precip_depth_1_hr  \\\n",
       "0               17.796875             4.0        11.703125                NaN   \n",
       "1               17.796875             4.0        11.703125                NaN   \n",
       "2               17.796875             4.0        11.703125                NaN   \n",
       "3               17.796875             4.0        11.703125                NaN   \n",
       "4               17.796875             4.0        11.703125                NaN   \n",
       "...                   ...             ...              ...                ...   \n",
       "24755755              NaN             NaN              NaN                NaN   \n",
       "24755756              NaN             NaN              NaN                NaN   \n",
       "24755757              NaN             NaN              NaN                NaN   \n",
       "24755758              NaN             NaN              NaN                NaN   \n",
       "24755759              NaN             NaN              NaN                NaN   \n",
       "\n",
       "          sea_level_pressure  wind_direction  wind_speed  \n",
       "0                     1021.5           100.0    3.599609  \n",
       "1                     1021.5           100.0    3.599609  \n",
       "2                     1021.5           100.0    3.599609  \n",
       "3                     1021.5           100.0    3.599609  \n",
       "4                     1021.5           100.0    3.599609  \n",
       "...                      ...             ...         ...  \n",
       "24755755                 NaN             NaN         NaN  \n",
       "24755756                 NaN             NaN         NaN  \n",
       "24755757                 NaN             NaN         NaN  \n",
       "24755758                 NaN             NaN         NaN  \n",
       "24755759                 NaN             NaN         NaN  \n",
       "\n",
       "[24755760 rows x 16 columns]"
      ]
     },
     "execution_count": 13,
     "metadata": {},
     "output_type": "execute_result"
    }
   ],
   "source": [
    "reduce_memory_usage(train_electricity_building_weather)\n",
    "reduce_memory_usage(test_electricity_building_weather)"
   ]
  },
  {
   "cell_type": "code",
   "execution_count": 18,
   "id": "59b31c5b",
   "metadata": {},
   "outputs": [
    {
     "name": "stdout",
     "output_type": "stream",
     "text": [
      "<class 'pandas.core.frame.DataFrame'>\n",
      "RangeIndex: 11530741 entries, 0 to 11530740\n",
      "Data columns (total 16 columns):\n",
      " #   Column              Dtype  \n",
      "---  ------              -----  \n",
      " 0   building_id         int16  \n",
      " 1   meter               int8   \n",
      " 2   timestamp           object \n",
      " 3   meter_reading       float32\n",
      " 4   site_id             int8   \n",
      " 5   primary_use         object \n",
      " 6   square_feet         int32  \n",
      " 7   year_built          float16\n",
      " 8   floor_count         float16\n",
      " 9   air_temperature     float16\n",
      " 10  cloud_coverage      float16\n",
      " 11  dew_temperature     float16\n",
      " 12  precip_depth_1_hr   float16\n",
      " 13  sea_level_pressure  float16\n",
      " 14  wind_direction      float16\n",
      " 15  wind_speed          float16\n",
      "dtypes: float16(9), float32(1), int16(1), int32(1), int8(2), object(2)\n",
      "memory usage: 505.8+ MB\n"
     ]
    }
   ],
   "source": [
    "train_electricity_building_weather.info()"
   ]
  },
  {
   "cell_type": "code",
   "execution_count": 15,
   "id": "b7d97a4c",
   "metadata": {},
   "outputs": [
    {
     "name": "stdout",
     "output_type": "stream",
     "text": [
      "<class 'pandas.core.frame.DataFrame'>\n",
      "RangeIndex: 24755760 entries, 0 to 24755759\n",
      "Data columns (total 16 columns):\n",
      " #   Column              Dtype  \n",
      "---  ------              -----  \n",
      " 0   row_id              int32  \n",
      " 1   building_id         int16  \n",
      " 2   meter               int8   \n",
      " 3   timestamp           object \n",
      " 4   site_id             int8   \n",
      " 5   primary_use         object \n",
      " 6   square_feet         int32  \n",
      " 7   year_built          float16\n",
      " 8   floor_count         float16\n",
      " 9   air_temperature     float16\n",
      " 10  cloud_coverage      float16\n",
      " 11  dew_temperature     float16\n",
      " 12  precip_depth_1_hr   float16\n",
      " 13  sea_level_pressure  float16\n",
      " 14  wind_direction      float16\n",
      " 15  wind_speed          float16\n",
      "dtypes: float16(9), int16(1), int32(2), int8(2), object(2)\n",
      "memory usage: 1.1+ GB\n"
     ]
    }
   ],
   "source": [
    "test_electricity_building_weather.info()"
   ]
  },
  {
   "cell_type": "markdown",
   "id": "abdeecf9",
   "metadata": {},
   "source": [
    "### Saving Datasets"
   ]
  },
  {
   "cell_type": "code",
   "execution_count": 17,
   "id": "b89c40bb",
   "metadata": {},
   "outputs": [],
   "source": [
    "train_electricity_building_weather.to_csv('../FilteredDataset/train.csv')\n",
    "test_electricity_building_weather.to_csv('../FilteredDataset/test.csv')"
   ]
  },
  {
   "cell_type": "code",
   "execution_count": null,
   "id": "cc9498f4",
   "metadata": {},
   "outputs": [],
   "source": []
  }
 ],
 "metadata": {
  "kernelspec": {
   "display_name": "DIProject",
   "language": "python",
   "name": "diproject"
  },
  "language_info": {
   "codemirror_mode": {
    "name": "ipython",
    "version": 3
   },
   "file_extension": ".py",
   "mimetype": "text/x-python",
   "name": "python",
   "nbconvert_exporter": "python",
   "pygments_lexer": "ipython3",
   "version": "3.11.5"
  }
 },
 "nbformat": 4,
 "nbformat_minor": 5
}
