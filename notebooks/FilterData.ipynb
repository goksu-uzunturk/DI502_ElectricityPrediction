{
 "cells": [
  {
   "cell_type": "code",
   "execution_count": 1,
   "id": "52e8f47f",
   "metadata": {},
   "outputs": [],
   "source": [
    "import pandas as pd\n",
    "import numpy as np"
   ]
  },
  {
   "cell_type": "markdown",
   "id": "2d90d073",
   "metadata": {},
   "source": [
    "### Loading Data"
   ]
  },
  {
   "cell_type": "code",
   "execution_count": 2,
   "id": "d0a5fa58",
   "metadata": {},
   "outputs": [],
   "source": [
    "train = pd.read_csv('../OriginalDataset/train.csv')\n",
    "test =  pd.read_csv('../OriginalDataset/test.csv')\n",
    "building = pd.read_csv('../OriginalDataset/building_metadata.csv')\n",
    "weather_train = pd.read_csv('../OriginalDataset//weather_train.csv')\n",
    "weather_test = pd.read_csv('../OriginalDataset//weather_test.csv')"
   ]
  },
  {
   "cell_type": "code",
   "execution_count": 3,
   "id": "7a63479d",
   "metadata": {},
   "outputs": [
    {
     "name": "stdout",
     "output_type": "stream",
     "text": [
      "<class 'pandas.core.frame.DataFrame'>\n",
      "RangeIndex: 20216100 entries, 0 to 20216099\n",
      "Data columns (total 4 columns):\n",
      " #   Column         Dtype  \n",
      "---  ------         -----  \n",
      " 0   building_id    int64  \n",
      " 1   meter          int64  \n",
      " 2   timestamp      object \n",
      " 3   meter_reading  float64\n",
      "dtypes: float64(1), int64(2), object(1)\n",
      "memory usage: 616.9+ MB\n"
     ]
    }
   ],
   "source": [
    "train.info()"
   ]
  },
  {
   "cell_type": "code",
   "execution_count": 4,
   "id": "62717784",
   "metadata": {},
   "outputs": [
    {
     "name": "stdout",
     "output_type": "stream",
     "text": [
      "<class 'pandas.core.frame.DataFrame'>\n",
      "RangeIndex: 41697600 entries, 0 to 41697599\n",
      "Data columns (total 4 columns):\n",
      " #   Column       Dtype \n",
      "---  ------       ----- \n",
      " 0   row_id       int64 \n",
      " 1   building_id  int64 \n",
      " 2   meter        int64 \n",
      " 3   timestamp    object\n",
      "dtypes: int64(3), object(1)\n",
      "memory usage: 1.2+ GB\n"
     ]
    }
   ],
   "source": [
    "test.info()"
   ]
  },
  {
   "cell_type": "code",
   "execution_count": 5,
   "id": "853caa13",
   "metadata": {},
   "outputs": [
    {
     "name": "stdout",
     "output_type": "stream",
     "text": [
      "<class 'pandas.core.frame.DataFrame'>\n",
      "RangeIndex: 1449 entries, 0 to 1448\n",
      "Data columns (total 6 columns):\n",
      " #   Column       Non-Null Count  Dtype  \n",
      "---  ------       --------------  -----  \n",
      " 0   site_id      1449 non-null   int64  \n",
      " 1   building_id  1449 non-null   int64  \n",
      " 2   primary_use  1449 non-null   object \n",
      " 3   square_feet  1449 non-null   int64  \n",
      " 4   year_built   675 non-null    float64\n",
      " 5   floor_count  355 non-null    float64\n",
      "dtypes: float64(2), int64(3), object(1)\n",
      "memory usage: 68.1+ KB\n"
     ]
    }
   ],
   "source": [
    "building.info()"
   ]
  },
  {
   "cell_type": "code",
   "execution_count": 6,
   "id": "5ee68fad",
   "metadata": {},
   "outputs": [
    {
     "name": "stdout",
     "output_type": "stream",
     "text": [
      "<class 'pandas.core.frame.DataFrame'>\n",
      "RangeIndex: 139773 entries, 0 to 139772\n",
      "Data columns (total 9 columns):\n",
      " #   Column              Non-Null Count   Dtype  \n",
      "---  ------              --------------   -----  \n",
      " 0   site_id             139773 non-null  int64  \n",
      " 1   timestamp           139773 non-null  object \n",
      " 2   air_temperature     139718 non-null  float64\n",
      " 3   cloud_coverage      70600 non-null   float64\n",
      " 4   dew_temperature     139660 non-null  float64\n",
      " 5   precip_depth_1_hr   89484 non-null   float64\n",
      " 6   sea_level_pressure  129155 non-null  float64\n",
      " 7   wind_direction      133505 non-null  float64\n",
      " 8   wind_speed          139469 non-null  float64\n",
      "dtypes: float64(7), int64(1), object(1)\n",
      "memory usage: 9.6+ MB\n"
     ]
    }
   ],
   "source": [
    "weather_train.info()"
   ]
  },
  {
   "cell_type": "code",
   "execution_count": 7,
   "id": "093d03c9",
   "metadata": {},
   "outputs": [
    {
     "name": "stdout",
     "output_type": "stream",
     "text": [
      "<class 'pandas.core.frame.DataFrame'>\n",
      "RangeIndex: 277243 entries, 0 to 277242\n",
      "Data columns (total 9 columns):\n",
      " #   Column              Non-Null Count   Dtype  \n",
      "---  ------              --------------   -----  \n",
      " 0   site_id             277243 non-null  int64  \n",
      " 1   timestamp           277243 non-null  object \n",
      " 2   air_temperature     277139 non-null  float64\n",
      " 3   cloud_coverage      136795 non-null  float64\n",
      " 4   dew_temperature     276916 non-null  float64\n",
      " 5   precip_depth_1_hr   181655 non-null  float64\n",
      " 6   sea_level_pressure  255978 non-null  float64\n",
      " 7   wind_direction      264873 non-null  float64\n",
      " 8   wind_speed          276783 non-null  float64\n",
      "dtypes: float64(7), int64(1), object(1)\n",
      "memory usage: 19.0+ MB\n"
     ]
    }
   ],
   "source": [
    "weather_test.info()"
   ]
  },
  {
   "cell_type": "markdown",
   "id": "887d017c",
   "metadata": {},
   "source": [
    "### Filtering train and test set only for valid electrictiy readings (meter = 0)"
   ]
  },
  {
   "cell_type": "code",
   "execution_count": 8,
   "id": "d667fd87",
   "metadata": {},
   "outputs": [],
   "source": [
    "train_electricity = train[(train['meter'] == 0) & (train['meter_reading']> 0)]\n",
    "test_electricity = test[(test['meter'] == 0)]"
   ]
  },
  {
   "cell_type": "code",
   "execution_count": 9,
   "id": "7e479af3",
   "metadata": {},
   "outputs": [
    {
     "name": "stdout",
     "output_type": "stream",
     "text": [
      "<class 'pandas.core.frame.DataFrame'>\n",
      "Index: 11530741 entries, 45 to 20216099\n",
      "Data columns (total 4 columns):\n",
      " #   Column         Dtype  \n",
      "---  ------         -----  \n",
      " 0   building_id    int64  \n",
      " 1   meter          int64  \n",
      " 2   timestamp      object \n",
      " 3   meter_reading  float64\n",
      "dtypes: float64(1), int64(2), object(1)\n",
      "memory usage: 439.9+ MB\n"
     ]
    }
   ],
   "source": [
    "train_electricity.info()"
   ]
  },
  {
   "cell_type": "markdown",
   "id": "b3135e26",
   "metadata": {},
   "source": [
    "### Merging everything into two datasets"
   ]
  },
  {
   "cell_type": "code",
   "execution_count": 10,
   "id": "a42564c6",
   "metadata": {},
   "outputs": [
    {
     "name": "stdout",
     "output_type": "stream",
     "text": [
      "<class 'pandas.core.frame.DataFrame'>\n",
      "RangeIndex: 11530741 entries, 0 to 11530740\n",
      "Data columns (total 9 columns):\n",
      " #   Column         Dtype  \n",
      "---  ------         -----  \n",
      " 0   building_id    int64  \n",
      " 1   meter          int64  \n",
      " 2   timestamp      object \n",
      " 3   meter_reading  float64\n",
      " 4   site_id        int64  \n",
      " 5   primary_use    object \n",
      " 6   square_feet    int64  \n",
      " 7   year_built     float64\n",
      " 8   floor_count    float64\n",
      "dtypes: float64(3), int64(4), object(2)\n",
      "memory usage: 791.8+ MB\n"
     ]
    }
   ],
   "source": [
    "train_electricity_building = train_electricity.merge(building, on='building_id', how='left')\n",
    "test_electricity_building = test_electricity.merge(building, on='building_id', how='left')\n",
    "\n",
    "train_electricity_building.info()"
   ]
  },
  {
   "cell_type": "code",
   "execution_count": 11,
   "id": "dd4d3b36",
   "metadata": {},
   "outputs": [
    {
     "name": "stdout",
     "output_type": "stream",
     "text": [
      "<class 'pandas.core.frame.DataFrame'>\n",
      "RangeIndex: 11530741 entries, 0 to 11530740\n",
      "Data columns (total 16 columns):\n",
      " #   Column              Dtype  \n",
      "---  ------              -----  \n",
      " 0   building_id         int64  \n",
      " 1   meter               int64  \n",
      " 2   timestamp           object \n",
      " 3   meter_reading       float64\n",
      " 4   site_id             int64  \n",
      " 5   primary_use         object \n",
      " 6   square_feet         int64  \n",
      " 7   year_built          float64\n",
      " 8   floor_count         float64\n",
      " 9   air_temperature     float64\n",
      " 10  cloud_coverage      float64\n",
      " 11  dew_temperature     float64\n",
      " 12  precip_depth_1_hr   float64\n",
      " 13  sea_level_pressure  float64\n",
      " 14  wind_direction      float64\n",
      " 15  wind_speed          float64\n",
      "dtypes: float64(10), int64(4), object(2)\n",
      "memory usage: 1.4+ GB\n"
     ]
    }
   ],
   "source": [
    "train_electricity_building_weather = train_electricity_building.merge(weather_train, on=['site_id', 'timestamp'], how='left')\n",
    "test_electricity_building_weather = test_electricity_building.merge(weather_test, on=['site_id', 'timestamp'], how='left')\n",
    "\n",
    "train_electricity_building_weather.info()"
   ]
  },
  {
   "cell_type": "code",
   "execution_count": 15,
   "id": "b7d97a4c",
   "metadata": {},
   "outputs": [
    {
     "name": "stdout",
     "output_type": "stream",
     "text": [
      "<class 'pandas.core.frame.DataFrame'>\n",
      "RangeIndex: 24755760 entries, 0 to 24755759\n",
      "Data columns (total 16 columns):\n",
      " #   Column              Dtype  \n",
      "---  ------              -----  \n",
      " 0   row_id              int32  \n",
      " 1   building_id         int16  \n",
      " 2   meter               int8   \n",
      " 3   timestamp           object \n",
      " 4   site_id             int8   \n",
      " 5   primary_use         object \n",
      " 6   square_feet         int32  \n",
      " 7   year_built          float16\n",
      " 8   floor_count         float16\n",
      " 9   air_temperature     float16\n",
      " 10  cloud_coverage      float16\n",
      " 11  dew_temperature     float16\n",
      " 12  precip_depth_1_hr   float16\n",
      " 13  sea_level_pressure  float16\n",
      " 14  wind_direction      float16\n",
      " 15  wind_speed          float16\n",
      "dtypes: float16(9), int16(1), int32(2), int8(2), object(2)\n",
      "memory usage: 1.1+ GB\n"
     ]
    }
   ],
   "source": [
    "test_electricity_building_weather.info()"
   ]
  },
  {
   "cell_type": "markdown",
   "id": "abdeecf9",
   "metadata": {},
   "source": [
    "### Saving Datasets"
   ]
  },
  {
   "cell_type": "code",
   "execution_count": 17,
   "id": "b89c40bb",
   "metadata": {},
   "outputs": [],
   "source": [
    "train_electricity_building_weather.to_csv('../FilteredDataset/train.csv')\n",
    "test_electricity_building_weather.to_csv('../FilteredDataset/test.csv')"
   ]
  },
  {
   "cell_type": "code",
   "execution_count": null,
   "id": "cc9498f4",
   "metadata": {},
   "outputs": [],
   "source": []
  }
 ],
 "metadata": {
  "kernelspec": {
   "display_name": "DIProject",
   "language": "python",
   "name": "diproject"
  },
  "language_info": {
   "codemirror_mode": {
    "name": "ipython",
    "version": 3
   },
   "file_extension": ".py",
   "mimetype": "text/x-python",
   "name": "python",
   "nbconvert_exporter": "python",
   "pygments_lexer": "ipython3",
   "version": "3.11.5"
  }
 },
 "nbformat": 4,
 "nbformat_minor": 5
}
