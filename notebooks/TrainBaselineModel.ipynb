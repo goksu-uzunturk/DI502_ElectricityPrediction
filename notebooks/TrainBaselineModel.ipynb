{
 "cells": [
  {
   "cell_type": "code",
   "execution_count": 61,
   "metadata": {},
   "outputs": [],
   "source": [
    "import pandas as pd\n",
    "import numpy as np\n",
    "from utils import reduce_memory_usage\n",
    "from utils import break_datetime\n",
    "import matplotlib.pyplot as plt\n",
    "import seaborn as sns\n",
    "import warnings\n",
    "from sklearn.model_selection import train_test_split\n",
    "from sklearn.metrics import mean_squared_error,r2_score,mean_absolute_percentage_error,mean_absolute_error\n",
    "from sklearn.preprocessing import LabelEncoder\n",
    "from sklearn.tree import DecisionTreeRegressor\n",
    "from sklearn.linear_model import LinearRegression\n",
    "import joblib\n",
    "import zipfile\n",
    "import os\n",
    "import category_encoders\n",
    "from sklearn.preprocessing import StandardScaler\n",
    "\n",
    "warnings.filterwarnings('ignore')"
   ]
  },
  {
   "cell_type": "markdown",
   "metadata": {},
   "source": [
    "# Loading data"
   ]
  },
  {
   "cell_type": "code",
   "execution_count": 2,
   "metadata": {},
   "outputs": [],
   "source": [
    "df = pd.read_csv('/Users/goksuuzunturk/Desktop/DI 502 Project/FilteredDataset/train.csv').drop('Unnamed: 0',axis=1)\n"
   ]
  },
  {
   "cell_type": "code",
   "execution_count": 3,
   "metadata": {},
   "outputs": [
    {
     "data": {
      "text/html": [
       "<div>\n",
       "<style scoped>\n",
       "    .dataframe tbody tr th:only-of-type {\n",
       "        vertical-align: middle;\n",
       "    }\n",
       "\n",
       "    .dataframe tbody tr th {\n",
       "        vertical-align: top;\n",
       "    }\n",
       "\n",
       "    .dataframe thead th {\n",
       "        text-align: right;\n",
       "    }\n",
       "</style>\n",
       "<table border=\"1\" class=\"dataframe\">\n",
       "  <thead>\n",
       "    <tr style=\"text-align: right;\">\n",
       "      <th></th>\n",
       "      <th>building_id</th>\n",
       "      <th>meter</th>\n",
       "      <th>timestamp</th>\n",
       "      <th>meter_reading</th>\n",
       "      <th>site_id</th>\n",
       "      <th>primary_use</th>\n",
       "      <th>square_feet</th>\n",
       "      <th>year_built</th>\n",
       "      <th>floor_count</th>\n",
       "      <th>air_temperature</th>\n",
       "      <th>...</th>\n",
       "      <th>sea_level_pressure</th>\n",
       "      <th>wind_direction</th>\n",
       "      <th>wind_speed</th>\n",
       "      <th>log_meter_reading</th>\n",
       "      <th>log_square_feet</th>\n",
       "      <th>year</th>\n",
       "      <th>weekofyear</th>\n",
       "      <th>dayofweek</th>\n",
       "      <th>month</th>\n",
       "      <th>hour</th>\n",
       "    </tr>\n",
       "  </thead>\n",
       "  <tbody>\n",
       "    <tr>\n",
       "      <th>0</th>\n",
       "      <td>46</td>\n",
       "      <td>0</td>\n",
       "      <td>2016-01-01</td>\n",
       "      <td>53.2397</td>\n",
       "      <td>0</td>\n",
       "      <td>Retail</td>\n",
       "      <td>9045</td>\n",
       "      <td>2016.0</td>\n",
       "      <td>NaN</td>\n",
       "      <td>25.0</td>\n",
       "      <td>...</td>\n",
       "      <td>1019.5</td>\n",
       "      <td>0.0</td>\n",
       "      <td>0.0</td>\n",
       "      <td>3.993413</td>\n",
       "      <td>9.110078</td>\n",
       "      <td>2015</td>\n",
       "      <td>53</td>\n",
       "      <td>5</td>\n",
       "      <td>1</td>\n",
       "      <td>0</td>\n",
       "    </tr>\n",
       "    <tr>\n",
       "      <th>1</th>\n",
       "      <td>74</td>\n",
       "      <td>0</td>\n",
       "      <td>2016-01-01</td>\n",
       "      <td>43.0013</td>\n",
       "      <td>0</td>\n",
       "      <td>Parking</td>\n",
       "      <td>387638</td>\n",
       "      <td>1997.0</td>\n",
       "      <td>NaN</td>\n",
       "      <td>25.0</td>\n",
       "      <td>...</td>\n",
       "      <td>1019.5</td>\n",
       "      <td>0.0</td>\n",
       "      <td>0.0</td>\n",
       "      <td>3.784219</td>\n",
       "      <td>12.867830</td>\n",
       "      <td>2015</td>\n",
       "      <td>53</td>\n",
       "      <td>5</td>\n",
       "      <td>1</td>\n",
       "      <td>0</td>\n",
       "    </tr>\n",
       "    <tr>\n",
       "      <th>2</th>\n",
       "      <td>93</td>\n",
       "      <td>0</td>\n",
       "      <td>2016-01-01</td>\n",
       "      <td>52.4206</td>\n",
       "      <td>0</td>\n",
       "      <td>Office</td>\n",
       "      <td>33370</td>\n",
       "      <td>1982.0</td>\n",
       "      <td>NaN</td>\n",
       "      <td>25.0</td>\n",
       "      <td>...</td>\n",
       "      <td>1019.5</td>\n",
       "      <td>0.0</td>\n",
       "      <td>0.0</td>\n",
       "      <td>3.978196</td>\n",
       "      <td>10.415443</td>\n",
       "      <td>2015</td>\n",
       "      <td>53</td>\n",
       "      <td>5</td>\n",
       "      <td>1</td>\n",
       "      <td>0</td>\n",
       "    </tr>\n",
       "    <tr>\n",
       "      <th>3</th>\n",
       "      <td>105</td>\n",
       "      <td>0</td>\n",
       "      <td>2016-01-01</td>\n",
       "      <td>23.3036</td>\n",
       "      <td>1</td>\n",
       "      <td>Education</td>\n",
       "      <td>50623</td>\n",
       "      <td>NaN</td>\n",
       "      <td>5.0</td>\n",
       "      <td>3.8</td>\n",
       "      <td>...</td>\n",
       "      <td>1021.0</td>\n",
       "      <td>240.0</td>\n",
       "      <td>3.1</td>\n",
       "      <td>3.190624</td>\n",
       "      <td>10.832181</td>\n",
       "      <td>2015</td>\n",
       "      <td>53</td>\n",
       "      <td>5</td>\n",
       "      <td>1</td>\n",
       "      <td>0</td>\n",
       "    </tr>\n",
       "    <tr>\n",
       "      <th>4</th>\n",
       "      <td>106</td>\n",
       "      <td>0</td>\n",
       "      <td>2016-01-01</td>\n",
       "      <td>0.3746</td>\n",
       "      <td>1</td>\n",
       "      <td>Education</td>\n",
       "      <td>5374</td>\n",
       "      <td>NaN</td>\n",
       "      <td>4.0</td>\n",
       "      <td>3.8</td>\n",
       "      <td>...</td>\n",
       "      <td>1021.0</td>\n",
       "      <td>240.0</td>\n",
       "      <td>3.1</td>\n",
       "      <td>0.318163</td>\n",
       "      <td>8.589514</td>\n",
       "      <td>2015</td>\n",
       "      <td>53</td>\n",
       "      <td>5</td>\n",
       "      <td>1</td>\n",
       "      <td>0</td>\n",
       "    </tr>\n",
       "  </tbody>\n",
       "</table>\n",
       "<p>5 rows × 23 columns</p>\n",
       "</div>"
      ],
      "text/plain": [
       "   building_id  meter  timestamp  meter_reading  site_id primary_use  \\\n",
       "0           46      0 2016-01-01        53.2397        0      Retail   \n",
       "1           74      0 2016-01-01        43.0013        0     Parking   \n",
       "2           93      0 2016-01-01        52.4206        0      Office   \n",
       "3          105      0 2016-01-01        23.3036        1   Education   \n",
       "4          106      0 2016-01-01         0.3746        1   Education   \n",
       "\n",
       "   square_feet  year_built  floor_count  air_temperature  ...  \\\n",
       "0         9045      2016.0          NaN             25.0  ...   \n",
       "1       387638      1997.0          NaN             25.0  ...   \n",
       "2        33370      1982.0          NaN             25.0  ...   \n",
       "3        50623         NaN          5.0              3.8  ...   \n",
       "4         5374         NaN          4.0              3.8  ...   \n",
       "\n",
       "   sea_level_pressure  wind_direction  wind_speed  log_meter_reading  \\\n",
       "0              1019.5             0.0         0.0           3.993413   \n",
       "1              1019.5             0.0         0.0           3.784219   \n",
       "2              1019.5             0.0         0.0           3.978196   \n",
       "3              1021.0           240.0         3.1           3.190624   \n",
       "4              1021.0           240.0         3.1           0.318163   \n",
       "\n",
       "   log_square_feet  year  weekofyear  dayofweek  month  hour  \n",
       "0         9.110078  2015          53          5      1     0  \n",
       "1        12.867830  2015          53          5      1     0  \n",
       "2        10.415443  2015          53          5      1     0  \n",
       "3        10.832181  2015          53          5      1     0  \n",
       "4         8.589514  2015          53          5      1     0  \n",
       "\n",
       "[5 rows x 23 columns]"
      ]
     },
     "execution_count": 3,
     "metadata": {},
     "output_type": "execute_result"
    }
   ],
   "source": [
    "df['log_meter_reading']=np.log1p(df['meter_reading'])\n",
    "df['log_square_feet']=np.log1p(df['square_feet'])\n",
    "df= break_datetime(df)\n",
    "df.head()"
   ]
  },
  {
   "cell_type": "markdown",
   "metadata": {},
   "source": [
    "# Missing Value Imputation"
   ]
  },
  {
   "cell_type": "code",
   "execution_count": 4,
   "metadata": {},
   "outputs": [],
   "source": [
    "def percent_missing_val(df):\n",
    "\n",
    "  percent_missing = (df.isnull().sum() * 100) / len(df)\n",
    "  missing_value_df = pd.DataFrame({'column_name': df.columns,\n",
    "                                 'percent_missing': percent_missing})\n",
    "  return missing_value_df"
   ]
  },
  {
   "cell_type": "code",
   "execution_count": 5,
   "metadata": {},
   "outputs": [],
   "source": [
    "missing_value_df= percent_missing_val(df)\n"
   ]
  },
  {
   "cell_type": "code",
   "execution_count": 6,
   "metadata": {},
   "outputs": [
    {
     "data": {
      "text/html": [
       "<div>\n",
       "<style scoped>\n",
       "    .dataframe tbody tr th:only-of-type {\n",
       "        vertical-align: middle;\n",
       "    }\n",
       "\n",
       "    .dataframe tbody tr th {\n",
       "        vertical-align: top;\n",
       "    }\n",
       "\n",
       "    .dataframe thead th {\n",
       "        text-align: right;\n",
       "    }\n",
       "</style>\n",
       "<table border=\"1\" class=\"dataframe\">\n",
       "  <thead>\n",
       "    <tr style=\"text-align: right;\">\n",
       "      <th></th>\n",
       "      <th>column_name</th>\n",
       "      <th>percent_missing</th>\n",
       "    </tr>\n",
       "  </thead>\n",
       "  <tbody>\n",
       "    <tr>\n",
       "      <th>building_id</th>\n",
       "      <td>building_id</td>\n",
       "      <td>0.000000</td>\n",
       "    </tr>\n",
       "    <tr>\n",
       "      <th>meter</th>\n",
       "      <td>meter</td>\n",
       "      <td>0.000000</td>\n",
       "    </tr>\n",
       "    <tr>\n",
       "      <th>timestamp</th>\n",
       "      <td>timestamp</td>\n",
       "      <td>0.000000</td>\n",
       "    </tr>\n",
       "    <tr>\n",
       "      <th>meter_reading</th>\n",
       "      <td>meter_reading</td>\n",
       "      <td>0.000000</td>\n",
       "    </tr>\n",
       "    <tr>\n",
       "      <th>site_id</th>\n",
       "      <td>site_id</td>\n",
       "      <td>0.000000</td>\n",
       "    </tr>\n",
       "    <tr>\n",
       "      <th>primary_use</th>\n",
       "      <td>primary_use</td>\n",
       "      <td>0.000000</td>\n",
       "    </tr>\n",
       "    <tr>\n",
       "      <th>square_feet</th>\n",
       "      <td>square_feet</td>\n",
       "      <td>0.000000</td>\n",
       "    </tr>\n",
       "    <tr>\n",
       "      <th>year_built</th>\n",
       "      <td>year_built</td>\n",
       "      <td>54.890488</td>\n",
       "    </tr>\n",
       "    <tr>\n",
       "      <th>floor_count</th>\n",
       "      <td>floor_count</td>\n",
       "      <td>74.735249</td>\n",
       "    </tr>\n",
       "    <tr>\n",
       "      <th>air_temperature</th>\n",
       "      <td>air_temperature</td>\n",
       "      <td>0.398257</td>\n",
       "    </tr>\n",
       "    <tr>\n",
       "      <th>cloud_coverage</th>\n",
       "      <td>cloud_coverage</td>\n",
       "      <td>44.091538</td>\n",
       "    </tr>\n",
       "    <tr>\n",
       "      <th>dew_temperature</th>\n",
       "      <td>dew_temperature</td>\n",
       "      <td>0.413113</td>\n",
       "    </tr>\n",
       "    <tr>\n",
       "      <th>precip_depth_1_hr</th>\n",
       "      <td>precip_depth_1_hr</td>\n",
       "      <td>21.513318</td>\n",
       "    </tr>\n",
       "    <tr>\n",
       "      <th>sea_level_pressure</th>\n",
       "      <td>sea_level_pressure</td>\n",
       "      <td>8.678991</td>\n",
       "    </tr>\n",
       "    <tr>\n",
       "      <th>wind_direction</th>\n",
       "      <td>wind_direction</td>\n",
       "      <td>5.655066</td>\n",
       "    </tr>\n",
       "    <tr>\n",
       "      <th>wind_speed</th>\n",
       "      <td>wind_speed</td>\n",
       "      <td>0.564361</td>\n",
       "    </tr>\n",
       "    <tr>\n",
       "      <th>log_meter_reading</th>\n",
       "      <td>log_meter_reading</td>\n",
       "      <td>0.000000</td>\n",
       "    </tr>\n",
       "    <tr>\n",
       "      <th>log_square_feet</th>\n",
       "      <td>log_square_feet</td>\n",
       "      <td>0.000000</td>\n",
       "    </tr>\n",
       "    <tr>\n",
       "      <th>year</th>\n",
       "      <td>year</td>\n",
       "      <td>0.000000</td>\n",
       "    </tr>\n",
       "    <tr>\n",
       "      <th>weekofyear</th>\n",
       "      <td>weekofyear</td>\n",
       "      <td>0.000000</td>\n",
       "    </tr>\n",
       "    <tr>\n",
       "      <th>dayofweek</th>\n",
       "      <td>dayofweek</td>\n",
       "      <td>0.000000</td>\n",
       "    </tr>\n",
       "    <tr>\n",
       "      <th>month</th>\n",
       "      <td>month</td>\n",
       "      <td>0.000000</td>\n",
       "    </tr>\n",
       "    <tr>\n",
       "      <th>hour</th>\n",
       "      <td>hour</td>\n",
       "      <td>0.000000</td>\n",
       "    </tr>\n",
       "  </tbody>\n",
       "</table>\n",
       "</div>"
      ],
      "text/plain": [
       "                           column_name  percent_missing\n",
       "building_id                building_id         0.000000\n",
       "meter                            meter         0.000000\n",
       "timestamp                    timestamp         0.000000\n",
       "meter_reading            meter_reading         0.000000\n",
       "site_id                        site_id         0.000000\n",
       "primary_use                primary_use         0.000000\n",
       "square_feet                square_feet         0.000000\n",
       "year_built                  year_built        54.890488\n",
       "floor_count                floor_count        74.735249\n",
       "air_temperature        air_temperature         0.398257\n",
       "cloud_coverage          cloud_coverage        44.091538\n",
       "dew_temperature        dew_temperature         0.413113\n",
       "precip_depth_1_hr    precip_depth_1_hr        21.513318\n",
       "sea_level_pressure  sea_level_pressure         8.678991\n",
       "wind_direction          wind_direction         5.655066\n",
       "wind_speed                  wind_speed         0.564361\n",
       "log_meter_reading    log_meter_reading         0.000000\n",
       "log_square_feet        log_square_feet         0.000000\n",
       "year                              year         0.000000\n",
       "weekofyear                  weekofyear         0.000000\n",
       "dayofweek                    dayofweek         0.000000\n",
       "month                            month         0.000000\n",
       "hour                              hour         0.000000"
      ]
     },
     "execution_count": 6,
     "metadata": {},
     "output_type": "execute_result"
    }
   ],
   "source": [
    "missing_value_df"
   ]
  },
  {
   "cell_type": "markdown",
   "metadata": {},
   "source": [
    "As the year built and floor count columns have more than 50% values are missing, so we will drop these two columns.As the year built and floor count columns have more than 50% values are missing, so we will drop these two columns."
   ]
  },
  {
   "cell_type": "code",
   "execution_count": 7,
   "metadata": {},
   "outputs": [],
   "source": [
    "df.drop(['year_built', 'floor_count'], axis=1,inplace=True)\n"
   ]
  },
  {
   "cell_type": "markdown",
   "metadata": {},
   "source": [
    "For the weather features, fill the missing values with the daily mean value of the corresponding feature in the site"
   ]
  },
  {
   "cell_type": "code",
   "execution_count": 9,
   "metadata": {},
   "outputs": [],
   "source": [
    "def nan_fillers(df):\n",
    "  air_temp_df=df.groupby(['site_id', 'dayofweek', 'weekofyear'])['air_temperature'].transform('mean')\n",
    "  df['air_temperature'].fillna(air_temp_df, inplace=True)\n",
    "\n",
    "  dew_temp_df=df.groupby(['site_id', 'dayofweek', 'weekofyear'])['dew_temperature'].transform('mean')\n",
    "  df['dew_temperature'].fillna(dew_temp_df, inplace=True)\n",
    "\n",
    "  cloud_df=df.groupby(['site_id', 'dayofweek', 'weekofyear'])['cloud_coverage'].transform('mean')\n",
    "  df['cloud_coverage'].fillna(cloud_df, inplace=True)\n",
    "\n",
    "  sea_level_df=df.groupby(['site_id', 'dayofweek', 'weekofyear'])['sea_level_pressure'].transform('mean')\n",
    "  df['sea_level_pressure'].fillna(sea_level_df, inplace=True)\n",
    "\n",
    "  precip_df=df.groupby(['site_id', 'dayofweek', 'weekofyear'])['precip_depth_1_hr'].transform('mean')\n",
    "  df['precip_depth_1_hr'].fillna(precip_df, inplace=True)\n",
    "\n",
    "  wind_dir_df=df.groupby(['site_id', 'dayofweek', 'weekofyear'])['wind_direction'].transform('mean')\n",
    "  df['wind_direction'].fillna(wind_dir_df, inplace=True)\n",
    "\n",
    "  wind_speed_df=df.groupby(['site_id', 'dayofweek', 'weekofyear'])['wind_speed'].transform('mean')\n",
    "  df['wind_speed'].fillna(wind_speed_df, inplace=True)\n",
    "\n",
    "\n",
    "  return df"
   ]
  },
  {
   "cell_type": "code",
   "execution_count": 10,
   "metadata": {},
   "outputs": [],
   "source": [
    "df= nan_fillers(df)"
   ]
  },
  {
   "cell_type": "code",
   "execution_count": 11,
   "metadata": {},
   "outputs": [
    {
     "data": {
      "text/plain": [
       "building_id                 0\n",
       "meter                       0\n",
       "timestamp                   0\n",
       "meter_reading               0\n",
       "site_id                     0\n",
       "primary_use                 0\n",
       "square_feet                 0\n",
       "air_temperature             0\n",
       "cloud_coverage         713295\n",
       "dew_temperature             0\n",
       "precip_depth_1_hr     2075909\n",
       "sea_level_pressure     797538\n",
       "wind_direction              0\n",
       "wind_speed                  0\n",
       "log_meter_reading           0\n",
       "log_square_feet             0\n",
       "year                        0\n",
       "weekofyear                  0\n",
       "dayofweek                   0\n",
       "month                       0\n",
       "hour                        0\n",
       "dtype: int64"
      ]
     },
     "execution_count": 11,
     "metadata": {},
     "output_type": "execute_result"
    }
   ],
   "source": [
    "df.isnull().sum()"
   ]
  },
  {
   "cell_type": "markdown",
   "metadata": {},
   "source": [
    "As there were lot of slices where all the values were NAN in 3 columns namely: cloud_coverage, precip_depth_1_hr and sea_level_pressure hence we will impute the rest of the nan values with the median value."
   ]
  },
  {
   "cell_type": "code",
   "execution_count": 12,
   "metadata": {},
   "outputs": [],
   "source": [
    "df['cloud_coverage'].fillna(df['cloud_coverage'].median(), inplace=True)\n",
    "df['sea_level_pressure'].fillna(df['sea_level_pressure'].median(), inplace=True)\n",
    "df['precip_depth_1_hr'].fillna(df['precip_depth_1_hr'].median(), inplace=True)"
   ]
  },
  {
   "cell_type": "markdown",
   "metadata": {},
   "source": [
    "# Baseline Model: Decision Tree Regressor"
   ]
  },
  {
   "cell_type": "markdown",
   "metadata": {},
   "source": [
    "For baseline model, we will use site id, primary use, square feet and air temperature as features and predict the consumption in hourly \n",
    "* The building id and site id are highly correlated, so we will use one of them\n",
    "* The air temperature and dew temperature are highly correlated, so we will use one of them\n",
    "* square feet has positive correalation with the meter readings, so we will use as a feature\n"
   ]
  },
  {
   "cell_type": "markdown",
   "metadata": {},
   "source": [
    "### Train - Test Split"
   ]
  },
  {
   "cell_type": "markdown",
   "metadata": {},
   "source": [
    "Split data so that first 8 months will be train set and last two months will be test set"
   ]
  },
  {
   "cell_type": "code",
   "execution_count": 121,
   "metadata": {},
   "outputs": [],
   "source": [
    "df=df.sort_values(by='timestamp')\n",
    "X_train, X_test= train_test_split(df, test_size=0.20, shuffle=False)"
   ]
  },
  {
   "cell_type": "code",
   "execution_count": 122,
   "metadata": {},
   "outputs": [],
   "source": [
    "y_train = X_train['log_meter_reading']\n",
    "y_test = X_test['log_meter_reading']\n",
    "X_train.drop(['meter_reading', 'log_meter_reading'], axis=1, inplace=True)\n",
    "X_test.drop(['meter_reading', 'log_meter_reading'], axis=1, inplace=True)"
   ]
  },
  {
   "cell_type": "markdown",
   "metadata": {},
   "source": [
    "# Label Encoding"
   ]
  },
  {
   "cell_type": "code",
   "execution_count": 123,
   "metadata": {},
   "outputs": [],
   "source": [
    "label_enc= LabelEncoder()\n",
    "label_enc.fit(df['primary_use'])\n",
    "X_train['primary_use']= label_enc.transform(X_train['primary_use'])\n",
    "X_test['primary_use']= label_enc.transform(X_test['primary_use'])\n"
   ]
  },
  {
   "cell_type": "code",
   "execution_count": 124,
   "metadata": {},
   "outputs": [
    {
     "data": {
      "text/html": [
       "<div>\n",
       "<style scoped>\n",
       "    .dataframe tbody tr th:only-of-type {\n",
       "        vertical-align: middle;\n",
       "    }\n",
       "\n",
       "    .dataframe tbody tr th {\n",
       "        vertical-align: top;\n",
       "    }\n",
       "\n",
       "    .dataframe thead th {\n",
       "        text-align: right;\n",
       "    }\n",
       "</style>\n",
       "<table border=\"1\" class=\"dataframe\">\n",
       "  <thead>\n",
       "    <tr style=\"text-align: right;\">\n",
       "      <th></th>\n",
       "      <th>building_id</th>\n",
       "      <th>meter</th>\n",
       "      <th>timestamp</th>\n",
       "      <th>site_id</th>\n",
       "      <th>primary_use</th>\n",
       "      <th>square_feet</th>\n",
       "      <th>air_temperature</th>\n",
       "      <th>cloud_coverage</th>\n",
       "      <th>dew_temperature</th>\n",
       "      <th>precip_depth_1_hr</th>\n",
       "      <th>sea_level_pressure</th>\n",
       "      <th>wind_direction</th>\n",
       "      <th>wind_speed</th>\n",
       "      <th>log_square_feet</th>\n",
       "      <th>year</th>\n",
       "      <th>weekofyear</th>\n",
       "      <th>dayofweek</th>\n",
       "      <th>month</th>\n",
       "      <th>hour</th>\n",
       "    </tr>\n",
       "  </thead>\n",
       "  <tbody>\n",
       "    <tr>\n",
       "      <th>0</th>\n",
       "      <td>46</td>\n",
       "      <td>0</td>\n",
       "      <td>2016-01-01</td>\n",
       "      <td>0</td>\n",
       "      <td>11</td>\n",
       "      <td>9045</td>\n",
       "      <td>25.000000</td>\n",
       "      <td>6.000000</td>\n",
       "      <td>20.000000</td>\n",
       "      <td>-0.138889</td>\n",
       "      <td>1019.500000</td>\n",
       "      <td>0.000000</td>\n",
       "      <td>0.000000</td>\n",
       "      <td>9.110078</td>\n",
       "      <td>2015</td>\n",
       "      <td>53</td>\n",
       "      <td>5</td>\n",
       "      <td>1</td>\n",
       "      <td>0</td>\n",
       "    </tr>\n",
       "    <tr>\n",
       "      <th>486</th>\n",
       "      <td>597</td>\n",
       "      <td>0</td>\n",
       "      <td>2016-01-01</td>\n",
       "      <td>4</td>\n",
       "      <td>9</td>\n",
       "      <td>189425</td>\n",
       "      <td>6.062753</td>\n",
       "      <td>0.957311</td>\n",
       "      <td>-4.979562</td>\n",
       "      <td>0.000000</td>\n",
       "      <td>1021.197439</td>\n",
       "      <td>85.513393</td>\n",
       "      <td>2.575774</td>\n",
       "      <td>12.151754</td>\n",
       "      <td>2015</td>\n",
       "      <td>53</td>\n",
       "      <td>5</td>\n",
       "      <td>1</td>\n",
       "      <td>0</td>\n",
       "    </tr>\n",
       "    <tr>\n",
       "      <th>495</th>\n",
       "      <td>608</td>\n",
       "      <td>0</td>\n",
       "      <td>2016-01-01</td>\n",
       "      <td>4</td>\n",
       "      <td>1</td>\n",
       "      <td>124197</td>\n",
       "      <td>6.062753</td>\n",
       "      <td>0.957311</td>\n",
       "      <td>-4.979562</td>\n",
       "      <td>0.000000</td>\n",
       "      <td>1021.197439</td>\n",
       "      <td>85.513393</td>\n",
       "      <td>2.575774</td>\n",
       "      <td>11.729632</td>\n",
       "      <td>2015</td>\n",
       "      <td>53</td>\n",
       "      <td>5</td>\n",
       "      <td>1</td>\n",
       "      <td>0</td>\n",
       "    </tr>\n",
       "    <tr>\n",
       "      <th>577</th>\n",
       "      <td>696</td>\n",
       "      <td>0</td>\n",
       "      <td>2016-01-01</td>\n",
       "      <td>5</td>\n",
       "      <td>0</td>\n",
       "      <td>19041</td>\n",
       "      <td>6.913043</td>\n",
       "      <td>0.000000</td>\n",
       "      <td>5.434783</td>\n",
       "      <td>0.000000</td>\n",
       "      <td>1016.500000</td>\n",
       "      <td>123.181818</td>\n",
       "      <td>8.017391</td>\n",
       "      <td>9.854402</td>\n",
       "      <td>2015</td>\n",
       "      <td>53</td>\n",
       "      <td>5</td>\n",
       "      <td>1</td>\n",
       "      <td>0</td>\n",
       "    </tr>\n",
       "    <tr>\n",
       "      <th>502</th>\n",
       "      <td>616</td>\n",
       "      <td>0</td>\n",
       "      <td>2016-01-01</td>\n",
       "      <td>4</td>\n",
       "      <td>0</td>\n",
       "      <td>117814</td>\n",
       "      <td>6.062753</td>\n",
       "      <td>0.957311</td>\n",
       "      <td>-4.979562</td>\n",
       "      <td>0.000000</td>\n",
       "      <td>1021.197439</td>\n",
       "      <td>85.513393</td>\n",
       "      <td>2.575774</td>\n",
       "      <td>11.676871</td>\n",
       "      <td>2015</td>\n",
       "      <td>53</td>\n",
       "      <td>5</td>\n",
       "      <td>1</td>\n",
       "      <td>0</td>\n",
       "    </tr>\n",
       "  </tbody>\n",
       "</table>\n",
       "</div>"
      ],
      "text/plain": [
       "     building_id  meter  timestamp  site_id  primary_use  square_feet  \\\n",
       "0             46      0 2016-01-01        0           11         9045   \n",
       "486          597      0 2016-01-01        4            9       189425   \n",
       "495          608      0 2016-01-01        4            1       124197   \n",
       "577          696      0 2016-01-01        5            0        19041   \n",
       "502          616      0 2016-01-01        4            0       117814   \n",
       "\n",
       "     air_temperature  cloud_coverage  dew_temperature  precip_depth_1_hr  \\\n",
       "0          25.000000        6.000000        20.000000          -0.138889   \n",
       "486         6.062753        0.957311        -4.979562           0.000000   \n",
       "495         6.062753        0.957311        -4.979562           0.000000   \n",
       "577         6.913043        0.000000         5.434783           0.000000   \n",
       "502         6.062753        0.957311        -4.979562           0.000000   \n",
       "\n",
       "     sea_level_pressure  wind_direction  wind_speed  log_square_feet  year  \\\n",
       "0           1019.500000        0.000000    0.000000         9.110078  2015   \n",
       "486         1021.197439       85.513393    2.575774        12.151754  2015   \n",
       "495         1021.197439       85.513393    2.575774        11.729632  2015   \n",
       "577         1016.500000      123.181818    8.017391         9.854402  2015   \n",
       "502         1021.197439       85.513393    2.575774        11.676871  2015   \n",
       "\n",
       "     weekofyear  dayofweek  month  hour  \n",
       "0            53          5      1     0  \n",
       "486          53          5      1     0  \n",
       "495          53          5      1     0  \n",
       "577          53          5      1     0  \n",
       "502          53          5      1     0  "
      ]
     },
     "execution_count": 124,
     "metadata": {},
     "output_type": "execute_result"
    }
   ],
   "source": [
    "X_train.head()"
   ]
  },
  {
   "cell_type": "code",
   "execution_count": 125,
   "metadata": {},
   "outputs": [],
   "source": [
    "features = ['site_id','air_temperature','log_square_feet','primary_use','hour','dayofweek','month']"
   ]
  },
  {
   "cell_type": "code",
   "execution_count": 126,
   "metadata": {},
   "outputs": [
    {
     "data": {
      "text/html": [
       "<style>#sk-container-id-9 {color: black;}#sk-container-id-9 pre{padding: 0;}#sk-container-id-9 div.sk-toggleable {background-color: white;}#sk-container-id-9 label.sk-toggleable__label {cursor: pointer;display: block;width: 100%;margin-bottom: 0;padding: 0.3em;box-sizing: border-box;text-align: center;}#sk-container-id-9 label.sk-toggleable__label-arrow:before {content: \"▸\";float: left;margin-right: 0.25em;color: #696969;}#sk-container-id-9 label.sk-toggleable__label-arrow:hover:before {color: black;}#sk-container-id-9 div.sk-estimator:hover label.sk-toggleable__label-arrow:before {color: black;}#sk-container-id-9 div.sk-toggleable__content {max-height: 0;max-width: 0;overflow: hidden;text-align: left;background-color: #f0f8ff;}#sk-container-id-9 div.sk-toggleable__content pre {margin: 0.2em;color: black;border-radius: 0.25em;background-color: #f0f8ff;}#sk-container-id-9 input.sk-toggleable__control:checked~div.sk-toggleable__content {max-height: 200px;max-width: 100%;overflow: auto;}#sk-container-id-9 input.sk-toggleable__control:checked~label.sk-toggleable__label-arrow:before {content: \"▾\";}#sk-container-id-9 div.sk-estimator input.sk-toggleable__control:checked~label.sk-toggleable__label {background-color: #d4ebff;}#sk-container-id-9 div.sk-label input.sk-toggleable__control:checked~label.sk-toggleable__label {background-color: #d4ebff;}#sk-container-id-9 input.sk-hidden--visually {border: 0;clip: rect(1px 1px 1px 1px);clip: rect(1px, 1px, 1px, 1px);height: 1px;margin: -1px;overflow: hidden;padding: 0;position: absolute;width: 1px;}#sk-container-id-9 div.sk-estimator {font-family: monospace;background-color: #f0f8ff;border: 1px dotted black;border-radius: 0.25em;box-sizing: border-box;margin-bottom: 0.5em;}#sk-container-id-9 div.sk-estimator:hover {background-color: #d4ebff;}#sk-container-id-9 div.sk-parallel-item::after {content: \"\";width: 100%;border-bottom: 1px solid gray;flex-grow: 1;}#sk-container-id-9 div.sk-label:hover label.sk-toggleable__label {background-color: #d4ebff;}#sk-container-id-9 div.sk-serial::before {content: \"\";position: absolute;border-left: 1px solid gray;box-sizing: border-box;top: 0;bottom: 0;left: 50%;z-index: 0;}#sk-container-id-9 div.sk-serial {display: flex;flex-direction: column;align-items: center;background-color: white;padding-right: 0.2em;padding-left: 0.2em;position: relative;}#sk-container-id-9 div.sk-item {position: relative;z-index: 1;}#sk-container-id-9 div.sk-parallel {display: flex;align-items: stretch;justify-content: center;background-color: white;position: relative;}#sk-container-id-9 div.sk-item::before, #sk-container-id-9 div.sk-parallel-item::before {content: \"\";position: absolute;border-left: 1px solid gray;box-sizing: border-box;top: 0;bottom: 0;left: 50%;z-index: -1;}#sk-container-id-9 div.sk-parallel-item {display: flex;flex-direction: column;z-index: 1;position: relative;background-color: white;}#sk-container-id-9 div.sk-parallel-item:first-child::after {align-self: flex-end;width: 50%;}#sk-container-id-9 div.sk-parallel-item:last-child::after {align-self: flex-start;width: 50%;}#sk-container-id-9 div.sk-parallel-item:only-child::after {width: 0;}#sk-container-id-9 div.sk-dashed-wrapped {border: 1px dashed gray;margin: 0 0.4em 0.5em 0.4em;box-sizing: border-box;padding-bottom: 0.4em;background-color: white;}#sk-container-id-9 div.sk-label label {font-family: monospace;font-weight: bold;display: inline-block;line-height: 1.2em;}#sk-container-id-9 div.sk-label-container {text-align: center;}#sk-container-id-9 div.sk-container {/* jupyter's `normalize.less` sets `[hidden] { display: none; }` but bootstrap.min.css set `[hidden] { display: none !important; }` so we also need the `!important` here to be able to override the default hidden behavior on the sphinx rendered scikit-learn.org. See: https://github.com/scikit-learn/scikit-learn/issues/21755 */display: inline-block !important;position: relative;}#sk-container-id-9 div.sk-text-repr-fallback {display: none;}</style><div id=\"sk-container-id-9\" class=\"sk-top-container\"><div class=\"sk-text-repr-fallback\"><pre>DecisionTreeRegressor(max_depth=13)</pre><b>In a Jupyter environment, please rerun this cell to show the HTML representation or trust the notebook. <br />On GitHub, the HTML representation is unable to render, please try loading this page with nbviewer.org.</b></div><div class=\"sk-container\" hidden><div class=\"sk-item\"><div class=\"sk-estimator sk-toggleable\"><input class=\"sk-toggleable__control sk-hidden--visually\" id=\"sk-estimator-id-9\" type=\"checkbox\" checked><label for=\"sk-estimator-id-9\" class=\"sk-toggleable__label sk-toggleable__label-arrow\">DecisionTreeRegressor</label><div class=\"sk-toggleable__content\"><pre>DecisionTreeRegressor(max_depth=13)</pre></div></div></div></div></div>"
      ],
      "text/plain": [
       "DecisionTreeRegressor(max_depth=13)"
      ]
     },
     "execution_count": 126,
     "metadata": {},
     "output_type": "execute_result"
    }
   ],
   "source": [
    "DTR = DecisionTreeRegressor(max_depth=13)\n",
    "DTR.fit(X_train[features],y_train)"
   ]
  },
  {
   "cell_type": "code",
   "execution_count": 127,
   "metadata": {},
   "outputs": [
    {
     "name": "stdout",
     "output_type": "stream",
     "text": [
      "MSE for train set is:  0.25261274825351854\n",
      "R2 for train set is:  0.8892271981704003\n",
      "MAPE for train set is:  0.19947484161186446\n",
      "MAE for train set is:  0.33862885553222727\n"
     ]
    }
   ],
   "source": [
    "y_pred_train = DTR.predict(X_train[features])\n",
    "train_error_mse = mean_squared_error(y_train,y_pred_train)\n",
    "train_error_r2 = r2_score(y_train,y_pred_train)\n",
    "train_error_mape = mean_absolute_percentage_error(y_train,y_pred_train)\n",
    "train_error_mae = mean_absolute_error(y_train,y_pred_train)\n",
    "\n",
    "print(\"MSE for train set is: \",train_error_mse)\n",
    "\n",
    "print(\"R2 for train set is: \",train_error_r2)\n",
    "\n",
    "print(\"MAPE for train set is: \",train_error_mape)\n",
    "\n",
    "print(\"MAE for train set is: \",train_error_mae)"
   ]
  },
  {
   "cell_type": "code",
   "execution_count": 128,
   "metadata": {},
   "outputs": [
    {
     "name": "stdout",
     "output_type": "stream",
     "text": [
      "MSE for train set is:  0.3295410441218216\n",
      "R2 for train set is:  0.8556875363568515\n",
      "MAPE for train set is:  0.23986857811000253\n",
      "MAE for train set is:  0.379661784081513\n"
     ]
    }
   ],
   "source": [
    "\n",
    "y_pred_test = DTR.predict(X_test[features])\n",
    "test_error_mse = mean_squared_error(y_test,y_pred_test)\n",
    "test_error_r2 = r2_score(y_test,y_pred_test)\n",
    "test_error_mape = mean_absolute_percentage_error(y_test,y_pred_test)\n",
    "test_error_mae = mean_absolute_error(y_test,y_pred_test)\n",
    "\n",
    "print(\"MSE for train set is: \",test_error_mse)\n",
    "\n",
    "print(\"R2 for train set is: \",test_error_r2)\n",
    "\n",
    "print(\"MAPE for train set is: \",test_error_mape)\n",
    "\n",
    "print(\"MAE for train set is: \",test_error_mae)\n"
   ]
  },
  {
   "cell_type": "markdown",
   "metadata": {},
   "source": [
    "# Baseline Model: Linear Regression"
   ]
  },
  {
   "cell_type": "markdown",
   "metadata": {},
   "source": [
    "### Train - Test Split"
   ]
  },
  {
   "cell_type": "code",
   "execution_count": 142,
   "metadata": {},
   "outputs": [],
   "source": [
    "df=df.sort_values(by='timestamp')\n",
    "X_train, X_test= train_test_split(df, test_size=0.20, shuffle=False)\n",
    "y_train = X_train['log_meter_reading']\n",
    "y_test = X_test['log_meter_reading']\n",
    "X_train.drop(['meter_reading', 'log_meter_reading'], axis=1, inplace=True)\n",
    "X_test.drop(['meter_reading', 'log_meter_reading'], axis=1, inplace=True)\n",
    "X_train = X_train[features]\n",
    "X_test = X_test[features]"
   ]
  },
  {
   "cell_type": "markdown",
   "metadata": {},
   "source": [
    "### One Hot Encoding"
   ]
  },
  {
   "cell_type": "code",
   "execution_count": 143,
   "metadata": {},
   "outputs": [],
   "source": [
    "categorical_features = [\"site_id\",\"primary_use\"]"
   ]
  },
  {
   "cell_type": "code",
   "execution_count": 144,
   "metadata": {},
   "outputs": [],
   "source": [
    "X_train = pd.get_dummies(X_train, columns=categorical_features)\n",
    "X_test = pd.get_dummies(X_test, columns=categorical_features )"
   ]
  },
  {
   "cell_type": "code",
   "execution_count": 149,
   "metadata": {},
   "outputs": [
    {
     "data": {
      "text/html": [
       "<style>#sk-container-id-10 {color: black;}#sk-container-id-10 pre{padding: 0;}#sk-container-id-10 div.sk-toggleable {background-color: white;}#sk-container-id-10 label.sk-toggleable__label {cursor: pointer;display: block;width: 100%;margin-bottom: 0;padding: 0.3em;box-sizing: border-box;text-align: center;}#sk-container-id-10 label.sk-toggleable__label-arrow:before {content: \"▸\";float: left;margin-right: 0.25em;color: #696969;}#sk-container-id-10 label.sk-toggleable__label-arrow:hover:before {color: black;}#sk-container-id-10 div.sk-estimator:hover label.sk-toggleable__label-arrow:before {color: black;}#sk-container-id-10 div.sk-toggleable__content {max-height: 0;max-width: 0;overflow: hidden;text-align: left;background-color: #f0f8ff;}#sk-container-id-10 div.sk-toggleable__content pre {margin: 0.2em;color: black;border-radius: 0.25em;background-color: #f0f8ff;}#sk-container-id-10 input.sk-toggleable__control:checked~div.sk-toggleable__content {max-height: 200px;max-width: 100%;overflow: auto;}#sk-container-id-10 input.sk-toggleable__control:checked~label.sk-toggleable__label-arrow:before {content: \"▾\";}#sk-container-id-10 div.sk-estimator input.sk-toggleable__control:checked~label.sk-toggleable__label {background-color: #d4ebff;}#sk-container-id-10 div.sk-label input.sk-toggleable__control:checked~label.sk-toggleable__label {background-color: #d4ebff;}#sk-container-id-10 input.sk-hidden--visually {border: 0;clip: rect(1px 1px 1px 1px);clip: rect(1px, 1px, 1px, 1px);height: 1px;margin: -1px;overflow: hidden;padding: 0;position: absolute;width: 1px;}#sk-container-id-10 div.sk-estimator {font-family: monospace;background-color: #f0f8ff;border: 1px dotted black;border-radius: 0.25em;box-sizing: border-box;margin-bottom: 0.5em;}#sk-container-id-10 div.sk-estimator:hover {background-color: #d4ebff;}#sk-container-id-10 div.sk-parallel-item::after {content: \"\";width: 100%;border-bottom: 1px solid gray;flex-grow: 1;}#sk-container-id-10 div.sk-label:hover label.sk-toggleable__label {background-color: #d4ebff;}#sk-container-id-10 div.sk-serial::before {content: \"\";position: absolute;border-left: 1px solid gray;box-sizing: border-box;top: 0;bottom: 0;left: 50%;z-index: 0;}#sk-container-id-10 div.sk-serial {display: flex;flex-direction: column;align-items: center;background-color: white;padding-right: 0.2em;padding-left: 0.2em;position: relative;}#sk-container-id-10 div.sk-item {position: relative;z-index: 1;}#sk-container-id-10 div.sk-parallel {display: flex;align-items: stretch;justify-content: center;background-color: white;position: relative;}#sk-container-id-10 div.sk-item::before, #sk-container-id-10 div.sk-parallel-item::before {content: \"\";position: absolute;border-left: 1px solid gray;box-sizing: border-box;top: 0;bottom: 0;left: 50%;z-index: -1;}#sk-container-id-10 div.sk-parallel-item {display: flex;flex-direction: column;z-index: 1;position: relative;background-color: white;}#sk-container-id-10 div.sk-parallel-item:first-child::after {align-self: flex-end;width: 50%;}#sk-container-id-10 div.sk-parallel-item:last-child::after {align-self: flex-start;width: 50%;}#sk-container-id-10 div.sk-parallel-item:only-child::after {width: 0;}#sk-container-id-10 div.sk-dashed-wrapped {border: 1px dashed gray;margin: 0 0.4em 0.5em 0.4em;box-sizing: border-box;padding-bottom: 0.4em;background-color: white;}#sk-container-id-10 div.sk-label label {font-family: monospace;font-weight: bold;display: inline-block;line-height: 1.2em;}#sk-container-id-10 div.sk-label-container {text-align: center;}#sk-container-id-10 div.sk-container {/* jupyter's `normalize.less` sets `[hidden] { display: none; }` but bootstrap.min.css set `[hidden] { display: none !important; }` so we also need the `!important` here to be able to override the default hidden behavior on the sphinx rendered scikit-learn.org. See: https://github.com/scikit-learn/scikit-learn/issues/21755 */display: inline-block !important;position: relative;}#sk-container-id-10 div.sk-text-repr-fallback {display: none;}</style><div id=\"sk-container-id-10\" class=\"sk-top-container\"><div class=\"sk-text-repr-fallback\"><pre>LinearRegression()</pre><b>In a Jupyter environment, please rerun this cell to show the HTML representation or trust the notebook. <br />On GitHub, the HTML representation is unable to render, please try loading this page with nbviewer.org.</b></div><div class=\"sk-container\" hidden><div class=\"sk-item\"><div class=\"sk-estimator sk-toggleable\"><input class=\"sk-toggleable__control sk-hidden--visually\" id=\"sk-estimator-id-10\" type=\"checkbox\" checked><label for=\"sk-estimator-id-10\" class=\"sk-toggleable__label sk-toggleable__label-arrow\">LinearRegression</label><div class=\"sk-toggleable__content\"><pre>LinearRegression()</pre></div></div></div></div></div>"
      ],
      "text/plain": [
       "LinearRegression()"
      ]
     },
     "execution_count": 149,
     "metadata": {},
     "output_type": "execute_result"
    }
   ],
   "source": [
    "LR = LinearRegression()\n",
    "LR.fit(X_train,y_train)"
   ]
  },
  {
   "cell_type": "code",
   "execution_count": 151,
   "metadata": {},
   "outputs": [
    {
     "name": "stdout",
     "output_type": "stream",
     "text": [
      "MSE for train set is:  0.7785728147304347\n",
      "R2 for train set is:  0.6585882682815123\n",
      "MAPE for train set is:  6.131150736106205\n",
      "MAE for train set is:  0.6488163076662329\n"
     ]
    }
   ],
   "source": [
    "y_pred_train = LR.predict(X_train)\n",
    "train_error_mse = mean_squared_error(y_train,y_pred_train)\n",
    "train_error_r2 = r2_score(y_train,y_pred_train)\n",
    "train_error_mape = mean_absolute_percentage_error(y_train,y_pred_train)\n",
    "train_error_mae = mean_absolute_error(y_train,y_pred_train)\n",
    "\n",
    "print(\"MSE for train set is: \",train_error_mse)\n",
    "\n",
    "print(\"R2 for train set is: \",train_error_r2)\n",
    "\n",
    "print(\"MAPE for train set is: \",train_error_mape)\n",
    "\n",
    "print(\"MAE for train set is: \",train_error_mae)"
   ]
  },
  {
   "cell_type": "code",
   "execution_count": 153,
   "metadata": {},
   "outputs": [
    {
     "name": "stdout",
     "output_type": "stream",
     "text": [
      "MSE for train set is:  0.8133450164875552\n",
      "R2 for train set is:  0.64382469999551\n",
      "MAPE for train set is:  5.850426429813771\n",
      "MAE for train set is:  0.659385587270123\n"
     ]
    }
   ],
   "source": [
    "y_pred_test = LR.predict(X_test)\n",
    "test_error_mse = mean_squared_error(y_test,y_pred_test)\n",
    "test_error_r2 = r2_score(y_test,y_pred_test)\n",
    "test_error_mape = mean_absolute_percentage_error(y_test,y_pred_test)\n",
    "test_error_mae = mean_absolute_error(y_test,y_pred_test)\n",
    "\n",
    "print(\"MSE for train set is: \",test_error_mse)\n",
    "\n",
    "print(\"R2 for train set is: \",test_error_r2)\n",
    "\n",
    "print(\"MAPE for train set is: \",test_error_mape)\n",
    "\n",
    "print(\"MAE for train set is: \",test_error_mae)"
   ]
  },
  {
   "cell_type": "markdown",
   "metadata": {},
   "source": [
    "# Save the models"
   ]
  },
  {
   "cell_type": "markdown",
   "metadata": {},
   "source": [
    " Save Decision Tree Regressor"
   ]
  },
  {
   "cell_type": "code",
   "execution_count": 157,
   "metadata": {},
   "outputs": [],
   "source": [
    "# Specify the zip file name\n",
    "zip_filename = \"../models/DTR_v0.zip\"\n",
    "\n",
    "# Create a ZIP file and add the model object to it\n",
    "with zipfile.ZipFile(zip_filename, \"w\", zipfile.ZIP_DEFLATED) as archive:\n",
    "    # Save the model to a temporary file\n",
    "    temp_model_filename = \"temp_model.pkl\"\n",
    "    joblib.dump(DTR, temp_model_filename)\n",
    "    \n",
    "    # Add the temporary model file to the ZIP archive\n",
    "    archive.write(temp_model_filename, arcname=\"DTR_v0.pkl\")\n",
    "\n",
    "# Remove the temporary model file\n",
    "os.remove(temp_model_filename)\n"
   ]
  },
  {
   "cell_type": "markdown",
   "metadata": {},
   "source": [
    "Save Linear Regression"
   ]
  },
  {
   "cell_type": "code",
   "execution_count": 158,
   "metadata": {},
   "outputs": [],
   "source": [
    "# Specify the zip file name\n",
    "zip_filename = \"../models/LR_v0.zip\"\n",
    "\n",
    "# Create a ZIP file and add the model object to it\n",
    "with zipfile.ZipFile(zip_filename, \"w\", zipfile.ZIP_DEFLATED) as archive:\n",
    "    # Save the model to a temporary file\n",
    "    temp_model_filename = \"temp_model.pkl\"\n",
    "    joblib.dump(DTR, temp_model_filename)\n",
    "    \n",
    "    # Add the temporary model file to the ZIP archive\n",
    "    archive.write(temp_model_filename, arcname=\"LR_v0.pkl\")\n",
    "\n",
    "# Remove the temporary model file\n",
    "os.remove(temp_model_filename)"
   ]
  },
  {
   "cell_type": "markdown",
   "metadata": {},
   "source": [
    "Reuse the model by loading"
   ]
  },
  {
   "cell_type": "code",
   "execution_count": 162,
   "metadata": {},
   "outputs": [
    {
     "name": "stdout",
     "output_type": "stream",
     "text": [
      "MSE for test set is:  0.8133450164875552\n"
     ]
    }
   ],
   "source": [
    "# Specify the ZIP file name\n",
    "zip_filename = \"../models/LR_v0.zip\"\n",
    "\n",
    "# Extract the model file from the ZIP archive\n",
    "with zipfile.ZipFile(zip_filename, \"r\") as archive:\n",
    "    # Extract the model file (named \"your_model.pkl\" in this example)\n",
    "    archive.extract(\"LR_v0.pkl\")\n",
    "    \n",
    "# Load the model\n",
    "model = joblib.load(\"LR_v0.pkl\")  # Replace with \"pickle.load\" if you used pickle\n",
    "\n",
    "os.remove(\"LR_v0.pkl\")\n",
    "\n",
    "# You can now use the \"model\" for predictions or other tasks\n",
    "y_pred_test = LR.predict(X_test)\n",
    "test_error = mean_squared_error(y_test,y_pred_test)\n",
    "print(\"MSE for test set is: \",test_error)"
   ]
  }
 ],
 "metadata": {
  "kernelspec": {
   "display_name": "DIProject",
   "language": "python",
   "name": "diproject"
  },
  "language_info": {
   "codemirror_mode": {
    "name": "ipython",
    "version": 3
   },
   "file_extension": ".py",
   "mimetype": "text/x-python",
   "name": "python",
   "nbconvert_exporter": "python",
   "pygments_lexer": "ipython3",
   "version": "3.11.5"
  }
 },
 "nbformat": 4,
 "nbformat_minor": 2
}
