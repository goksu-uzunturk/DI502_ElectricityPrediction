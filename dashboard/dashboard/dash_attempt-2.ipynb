{
 "cells": [
  {
   "cell_type": "code",
   "execution_count": 2,
   "metadata": {},
   "outputs": [],
   "source": [
    "import numpy as np\n",
    "#np.bool = np.bool_"
   ]
  },
  {
   "cell_type": "code",
   "execution_count": 3,
   "metadata": {},
   "outputs": [],
   "source": [
    "import seaborn as sns\n",
    "import pandas as pd"
   ]
  },
  {
   "cell_type": "code",
   "execution_count": 4,
   "metadata": {},
   "outputs": [],
   "source": [
    "from matplotlib import pyplot as plt"
   ]
  },
  {
   "cell_type": "code",
   "execution_count": 5,
   "metadata": {},
   "outputs": [],
   "source": [
    "import plotly.express as px"
   ]
  },
  {
   "cell_type": "code",
   "execution_count": 6,
   "metadata": {},
   "outputs": [],
   "source": [
    "import plotly.graph_objs as go\n",
    "from plotly.subplots import make_subplots\n"
   ]
  },
  {
   "cell_type": "code",
   "execution_count": 7,
   "metadata": {},
   "outputs": [],
   "source": [
    "from IPython.display import Image\n",
    "import os"
   ]
  },
  {
   "cell_type": "code",
   "execution_count": 8,
   "metadata": {},
   "outputs": [],
   "source": [
    "train_data = pd.read_csv(\"./FilteredDataset/train.csv\")"
   ]
  },
  {
   "cell_type": "code",
   "execution_count": 9,
   "metadata": {},
   "outputs": [
    {
     "name": "stderr",
     "output_type": "stream",
     "text": [
      "/var/folders/wc/pz8k51rd2g721t_r9dsxn0n00000gn/T/ipykernel_1172/2616661648.py:7: FutureWarning: Series.dt.weekofyear and Series.dt.week have been deprecated. Please use Series.dt.isocalendar().week instead.\n",
      "  train_data['week'] = train_data['timestamp'].dt.week.astype(np.uint8)  # or train_data['timestamp'].dt.isocalendar().week.astype(np.uint8)\n"
     ]
    },
    {
     "name": "stdout",
     "output_type": "stream",
     "text": [
      "   Unnamed: 0  building_id  meter  timestamp  meter_reading  site_id  \\\n",
      "0           0           46      0 2016-01-01        53.2397        0   \n",
      "1           1           74      0 2016-01-01        43.0013        0   \n",
      "2           2           93      0 2016-01-01        52.4206        0   \n",
      "3           3          105      0 2016-01-01        23.3036        1   \n",
      "4           4          106      0 2016-01-01         0.3746        1   \n",
      "\n",
      "  primary_use  square_feet  year_built  floor_count  ...  cloud_coverage  \\\n",
      "0      Retail         9045      2016.0          NaN  ...             6.0   \n",
      "1     Parking       387638      1997.0          NaN  ...             6.0   \n",
      "2      Office        33370      1982.0          NaN  ...             6.0   \n",
      "3   Education        50623         NaN          5.0  ...             NaN   \n",
      "4   Education         5374         NaN          4.0  ...             NaN   \n",
      "\n",
      "   dew_temperature  precip_depth_1_hr  sea_level_pressure  wind_direction  \\\n",
      "0             20.0                NaN              1019.7             0.0   \n",
      "1             20.0                NaN              1019.7             0.0   \n",
      "2             20.0                NaN              1019.7             0.0   \n",
      "3              2.4                NaN              1020.9           240.0   \n",
      "4              2.4                NaN              1020.9           240.0   \n",
      "\n",
      "   wind_speed  hour  month  week  is_weekday  \n",
      "0         0.0     0      1    53        True  \n",
      "1         0.0     0      1    53        True  \n",
      "2         0.0     0      1    53        True  \n",
      "3         3.1     0      1    53        True  \n",
      "4         3.1     0      1    53        True  \n",
      "\n",
      "[5 rows x 21 columns]\n"
     ]
    }
   ],
   "source": [
    "# Convert 'timestamp' to datetime\n",
    "train_data['timestamp'] = pd.to_datetime(train_data['timestamp'])\n",
    "\n",
    "# Create new columns\n",
    "train_data['hour'] = train_data['timestamp'].dt.hour.astype(np.uint8)\n",
    "train_data['month'] = train_data['timestamp'].dt.month.astype(np.uint8)\n",
    "train_data['week'] = train_data['timestamp'].dt.week.astype(np.uint8)  # or train_data['timestamp'].dt.isocalendar().week.astype(np.uint8)\n",
    "train_data['is_weekday'] = train_data['timestamp'].dt.weekday < 5\n",
    "\n",
    "# Display the resulting DataFrame\n",
    "print(train_data.head())\n"
   ]
  },
  {
   "cell_type": "code",
   "execution_count": 10,
   "metadata": {},
   "outputs": [],
   "source": [
    "train_data['meter_reading_log']=np.log1p(train_data['meter_reading'])"
   ]
  },
  {
   "cell_type": "code",
   "execution_count": 11,
   "metadata": {},
   "outputs": [],
   "source": [
    "merged_data = train_data.copy()"
   ]
  },
  {
   "cell_type": "code",
   "execution_count": 12,
   "metadata": {},
   "outputs": [],
   "source": [
    "import base64\n"
   ]
  },
  {
   "cell_type": "code",
   "execution_count": 13,
   "metadata": {},
   "outputs": [
    {
     "data": {
      "image/png": "[encoded data removed]",
      "text/plain": [
       "<Figure size 640x480 with 1 Axes>"
      ]
     },
     "metadata": {},
     "output_type": "display_data"
    }
   ],
   "source": [
    "# Create a Seaborn kernel density estimation plot\n",
    "sns.set(style=\"whitegrid\")\n",
    "kde_plot = sns.kdeplot(merged_data['meter_reading_log'], color='skyblue')\n",
    "\n",
    "image_filename = 'seaborn_plot.png'\n",
    "kde_plot.get_figure().savefig(image_filename,transparent=True)\n",
    "# Convert the image to base64 format\n",
    "with open(image_filename, \"rb\") as f:\n",
    "    image_base64 = base64.b64encode(f.read()).decode('ascii')\n",
    "\n",
    "# Display the plot (optional)\n",
    "plt.show()"
   ]
  },
  {
   "cell_type": "code",
   "execution_count": 14,
   "metadata": {},
   "outputs": [
    {
     "data": {
      "application/vnd.plotly.v1+json": {
       "config": {
        "plotlyServerURL": "https://plot.ly"
       },
       "data": [
        {
         "marker": {
          "color": "red"
         },
         "mode": "lines+markers",
         "name": "All",
         "type": "scatter",
         "x": [
          0,
          1,
          2,
          3,
          4,
          5,
          6,
          7,
          8,
          9,
          10,
          11,
          12,
          13,
          14,
          15,
          16,
          17,
          18,
          19,
          20,
          21,
          22,
          23
         ],
         "y": [
          4.027384685808609,
          4.0114700578545275,
          3.9976378771632155,
          3.987991539262307,
          3.9888612385940765,
          4.0112288799291225,
          4.061271046520556,
          4.12825372564494,
          4.181734089129714,
          4.229496390317867,
          4.264064735914803,
          4.28548165986098,
          4.298801338726074,
          4.306416186885892,
          4.306606699677087,
          4.3023291707665505,
          4.287266664362365,
          4.26011260775593,
          4.228898007895342,
          4.202282825651606,
          4.180683433496902,
          4.146070548406803,
          4.100461786597214,
          4.055193711252657
         ]
        },
        {
         "marker": {
          "color": "skyblue"
         },
         "mode": "lines+markers",
         "name": "Weekday",
         "type": "scatter",
         "x": [
          0,
          1,
          2,
          3,
          4,
          5,
          6,
          7,
          8,
          9,
          10,
          11,
          12,
          13,
          14,
          15,
          16,
          17,
          18,
          19,
          20,
          21,
          22,
          23
         ],
         "y": [
          4.033919914657503,
          4.017625110559571,
          4.003154289124272,
          3.9942820902324225,
          3.99743447540894,
          4.026516344085108,
          4.090143747768043,
          4.176838260211735,
          4.247137588319867,
          4.306205522917929,
          4.345016052869368,
          4.368129627937097,
          4.381166554843881,
          4.388258446815536,
          4.387938036129524,
          4.3812367446604705,
          4.361135515130511,
          4.325280210454818,
          4.283696658676472,
          4.246741433352522,
          4.216599231469417,
          4.174159437248843,
          4.119815999185526,
          4.068284233294515
         ]
        },
        {
         "marker": {
          "color": "green"
         },
         "mode": "lines+markers",
         "name": "Weekend",
         "type": "scatter",
         "x": [
          0,
          1,
          2,
          3,
          4,
          5,
          6,
          7,
          8,
          9,
          10,
          11,
          12,
          13,
          14,
          15,
          16,
          17,
          18,
          19,
          20,
          21,
          22,
          23
         ],
         "y": [
          4.0110821818866915,
          3.996153756376395,
          3.9838709701045496,
          3.9723272258014384,
          3.967536512887892,
          3.973204918008696,
          3.9893748471290467,
          4.007272009044869,
          4.018730141556525,
          4.038483810661922,
          4.062484556760139,
          4.079584236271855,
          4.09373907739891,
          4.102642774807662,
          4.104120593264044,
          4.105923944931195,
          4.103414205744838,
          4.097831859188672,
          4.092433435644122,
          4.091637120373666,
          4.09127201469771,
          4.076202252502472,
          4.05228048228217,
          4.022637486329395
         ]
        }
       ],
       "layout": {
        "paper_bgcolor": "seashell",
        "template": {
         "data": {
          "bar": [
           {
            "error_x": {
             "color": "#2a3f5f"
            },
            "error_y": {
             "color": "#2a3f5f"
            },
            "marker": {
             "line": {
              "color": "#E5ECF6",
              "width": 0.5
             },
             "pattern": {
              "fillmode": "overlay",
              "size": 10,
              "solidity": 0.2
             }
            },
            "type": "bar"
           }
          ],
          "barpolar": [
           {
            "marker": {
             "line": {
              "color": "#E5ECF6",
              "width": 0.5
             },
             "pattern": {
              "fillmode": "overlay",
              "size": 10,
              "solidity": 0.2
             }
            },
            "type": "barpolar"
           }
          ],
          "carpet": [
           {
            "aaxis": {
             "endlinecolor": "#2a3f5f",
             "gridcolor": "white",
             "linecolor": "white",
             "minorgridcolor": "white",
             "startlinecolor": "#2a3f5f"
            },
            "baxis": {
             "endlinecolor": "#2a3f5f",
             "gridcolor": "white",
             "linecolor": "white",
             "minorgridcolor": "white",
             "startlinecolor": "#2a3f5f"
            },
            "type": "carpet"
           }
          ],
          "choropleth": [
           {
            "colorbar": {
             "outlinewidth": 0,
             "ticks": ""
            },
            "type": "choropleth"
           }
          ],
          "contour": [
           {
            "colorbar": {
             "outlinewidth": 0,
             "ticks": ""
            },
            "colorscale": [
             [
              0,
              "#0d0887"
             ],
             [
              0.1111111111111111,
              "#46039f"
             ],
             [
              0.2222222222222222,
              "#7201a8"
             ],
             [
              0.3333333333333333,
              "#9c179e"
             ],
             [
              0.4444444444444444,
              "#bd3786"
             ],
             [
              0.5555555555555556,
              "#d8576b"
             ],
             [
              0.6666666666666666,
              "#ed7953"
             ],
             [
              0.7777777777777778,
              "#fb9f3a"
             ],
             [
              0.8888888888888888,
              "#fdca26"
             ],
             [
              1,
              "#f0f921"
             ]
            ],
            "type": "contour"
           }
          ],
          "contourcarpet": [
           {
            "colorbar": {
             "outlinewidth": 0,
             "ticks": ""
            },
            "type": "contourcarpet"
           }
          ],
          "heatmap": [
           {
            "colorbar": {
             "outlinewidth": 0,
             "ticks": ""
            },
            "colorscale": [
             [
              0,
              "#0d0887"
             ],
             [
              0.1111111111111111,
              "#46039f"
             ],
             [
              0.2222222222222222,
              "#7201a8"
             ],
             [
              0.3333333333333333,
              "#9c179e"
             ],
             [
              0.4444444444444444,
              "#bd3786"
             ],
             [
              0.5555555555555556,
              "#d8576b"
             ],
             [
              0.6666666666666666,
              "#ed7953"
             ],
             [
              0.7777777777777778,
              "#fb9f3a"
             ],
             [
              0.8888888888888888,
              "#fdca26"
             ],
             [
              1,
              "#f0f921"
             ]
            ],
            "type": "heatmap"
           }
          ],
          "heatmapgl": [
           {
            "colorbar": {
             "outlinewidth": 0,
             "ticks": ""
            },
            "colorscale": [
             [
              0,
              "#0d0887"
             ],
             [
              0.1111111111111111,
              "#46039f"
             ],
             [
              0.2222222222222222,
              "#7201a8"
             ],
             [
              0.3333333333333333,
              "#9c179e"
             ],
             [
              0.4444444444444444,
              "#bd3786"
             ],
             [
              0.5555555555555556,
              "#d8576b"
             ],
             [
              0.6666666666666666,
              "#ed7953"
             ],
             [
              0.7777777777777778,
              "#fb9f3a"
             ],
             [
              0.8888888888888888,
              "#fdca26"
             ],
             [
              1,
              "#f0f921"
             ]
            ],
            "type": "heatmapgl"
           }
          ],
          "histogram": [
           {
            "marker": {
             "pattern": {
              "fillmode": "overlay",
              "size": 10,
              "solidity": 0.2
             }
            },
            "type": "histogram"
           }
          ],
          "histogram2d": [
           {
            "colorbar": {
             "outlinewidth": 0,
             "ticks": ""
            },
            "colorscale": [
             [
              0,
              "#0d0887"
             ],
             [
              0.1111111111111111,
              "#46039f"
             ],
             [
              0.2222222222222222,
              "#7201a8"
             ],
             [
              0.3333333333333333,
              "#9c179e"
             ],
             [
              0.4444444444444444,
              "#bd3786"
             ],
             [
              0.5555555555555556,
              "#d8576b"
             ],
             [
              0.6666666666666666,
              "#ed7953"
             ],
             [
              0.7777777777777778,
              "#fb9f3a"
             ],
             [
              0.8888888888888888,
              "#fdca26"
             ],
             [
              1,
              "#f0f921"
             ]
            ],
            "type": "histogram2d"
           }
          ],
          "histogram2dcontour": [
           {
            "colorbar": {
             "outlinewidth": 0,
             "ticks": ""
            },
            "colorscale": [
             [
              0,
              "#0d0887"
             ],
             [
              0.1111111111111111,
              "#46039f"
             ],
             [
              0.2222222222222222,
              "#7201a8"
             ],
             [
              0.3333333333333333,
              "#9c179e"
             ],
             [
              0.4444444444444444,
              "#bd3786"
             ],
             [
              0.5555555555555556,
              "#d8576b"
             ],
             [
              0.6666666666666666,
              "#ed7953"
             ],
             [
              0.7777777777777778,
              "#fb9f3a"
             ],
             [
              0.8888888888888888,
              "#fdca26"
             ],
             [
              1,
              "#f0f921"
             ]
            ],
            "type": "histogram2dcontour"
           }
          ],
          "mesh3d": [
           {
            "colorbar": {
             "outlinewidth": 0,
             "ticks": ""
            },
            "type": "mesh3d"
           }
          ],
          "parcoords": [
           {
            "line": {
             "colorbar": {
              "outlinewidth": 0,
              "ticks": ""
             }
            },
            "type": "parcoords"
           }
          ],
          "pie": [
           {
            "automargin": true,
            "type": "pie"
           }
          ],
          "scatter": [
           {
            "fillpattern": {
             "fillmode": "overlay",
             "size": 10,
             "solidity": 0.2
            },
            "type": "scatter"
           }
          ],
          "scatter3d": [
           {
            "line": {
             "colorbar": {
              "outlinewidth": 0,
              "ticks": ""
             }
            },
            "marker": {
             "colorbar": {
              "outlinewidth": 0,
              "ticks": ""
             }
            },
            "type": "scatter3d"
           }
          ],
          "scattercarpet": [
           {
            "marker": {
             "colorbar": {
              "outlinewidth": 0,
              "ticks": ""
             }
            },
            "type": "scattercarpet"
           }
          ],
          "scattergeo": [
           {
            "marker": {
             "colorbar": {
              "outlinewidth": 0,
              "ticks": ""
             }
            },
            "type": "scattergeo"
           }
          ],
          "scattergl": [
           {
            "marker": {
             "colorbar": {
              "outlinewidth": 0,
              "ticks": ""
             }
            },
            "type": "scattergl"
           }
          ],
          "scattermapbox": [
           {
            "marker": {
             "colorbar": {
              "outlinewidth": 0,
              "ticks": ""
             }
            },
            "type": "scattermapbox"
           }
          ],
          "scatterpolar": [
           {
            "marker": {
             "colorbar": {
              "outlinewidth": 0,
              "ticks": ""
             }
            },
            "type": "scatterpolar"
           }
          ],
          "scatterpolargl": [
           {
            "marker": {
             "colorbar": {
              "outlinewidth": 0,
              "ticks": ""
             }
            },
            "type": "scatterpolargl"
           }
          ],
          "scatterternary": [
           {
            "marker": {
             "colorbar": {
              "outlinewidth": 0,
              "ticks": ""
             }
            },
            "type": "scatterternary"
           }
          ],
          "surface": [
           {
            "colorbar": {
             "outlinewidth": 0,
             "ticks": ""
            },
            "colorscale": [
             [
              0,
              "#0d0887"
             ],
             [
              0.1111111111111111,
              "#46039f"
             ],
             [
              0.2222222222222222,
              "#7201a8"
             ],
             [
              0.3333333333333333,
              "#9c179e"
             ],
             [
              0.4444444444444444,
              "#bd3786"
             ],
             [
              0.5555555555555556,
              "#d8576b"
             ],
             [
              0.6666666666666666,
              "#ed7953"
             ],
             [
              0.7777777777777778,
              "#fb9f3a"
             ],
             [
              0.8888888888888888,
              "#fdca26"
             ],
             [
              1,
              "#f0f921"
             ]
            ],
            "type": "surface"
           }
          ],
          "table": [
           {
            "cells": {
             "fill": {
              "color": "#EBF0F8"
             },
             "line": {
              "color": "white"
             }
            },
            "header": {
             "fill": {
              "color": "#C8D4E3"
             },
             "line": {
              "color": "white"
             }
            },
            "type": "table"
           }
          ]
         },
         "layout": {
          "annotationdefaults": {
           "arrowcolor": "#2a3f5f",
           "arrowhead": 0,
           "arrowwidth": 1
          },
          "autotypenumbers": "strict",
          "coloraxis": {
           "colorbar": {
            "outlinewidth": 0,
            "ticks": ""
           }
          },
          "colorscale": {
           "diverging": [
            [
             0,
             "#8e0152"
            ],
            [
             0.1,
             "#c51b7d"
            ],
            [
             0.2,
             "#de77ae"
            ],
            [
             0.3,
             "#f1b6da"
            ],
            [
             0.4,
             "#fde0ef"
            ],
            [
             0.5,
             "#f7f7f7"
            ],
            [
             0.6,
             "#e6f5d0"
            ],
            [
             0.7,
             "#b8e186"
            ],
            [
             0.8,
             "#7fbc41"
            ],
            [
             0.9,
             "#4d9221"
            ],
            [
             1,
             "#276419"
            ]
           ],
           "sequential": [
            [
             0,
             "#0d0887"
            ],
            [
             0.1111111111111111,
             "#46039f"
            ],
            [
             0.2222222222222222,
             "#7201a8"
            ],
            [
             0.3333333333333333,
             "#9c179e"
            ],
            [
             0.4444444444444444,
             "#bd3786"
            ],
            [
             0.5555555555555556,
             "#d8576b"
            ],
            [
             0.6666666666666666,
             "#ed7953"
            ],
            [
             0.7777777777777778,
             "#fb9f3a"
            ],
            [
             0.8888888888888888,
             "#fdca26"
            ],
            [
             1,
             "#f0f921"
            ]
           ],
           "sequentialminus": [
            [
             0,
             "#0d0887"
            ],
            [
             0.1111111111111111,
             "#46039f"
            ],
            [
             0.2222222222222222,
             "#7201a8"
            ],
            [
             0.3333333333333333,
             "#9c179e"
            ],
            [
             0.4444444444444444,
             "#bd3786"
            ],
            [
             0.5555555555555556,
             "#d8576b"
            ],
            [
             0.6666666666666666,
             "#ed7953"
            ],
            [
             0.7777777777777778,
             "#fb9f3a"
            ],
            [
             0.8888888888888888,
             "#fdca26"
            ],
            [
             1,
             "#f0f921"
            ]
           ]
          },
          "colorway": [
           "#636efa",
           "#EF553B",
           "#00cc96",
           "#ab63fa",
           "#FFA15A",
           "#19d3f3",
           "#FF6692",
           "#B6E880",
           "#FF97FF",
           "#FECB52"
          ],
          "font": {
           "color": "#2a3f5f"
          },
          "geo": {
           "bgcolor": "white",
           "lakecolor": "white",
           "landcolor": "#E5ECF6",
           "showlakes": true,
           "showland": true,
           "subunitcolor": "white"
          },
          "hoverlabel": {
           "align": "left"
          },
          "hovermode": "closest",
          "mapbox": {
           "style": "light"
          },
          "paper_bgcolor": "white",
          "plot_bgcolor": "#E5ECF6",
          "polar": {
           "angularaxis": {
            "gridcolor": "white",
            "linecolor": "white",
            "ticks": ""
           },
           "bgcolor": "#E5ECF6",
           "radialaxis": {
            "gridcolor": "white",
            "linecolor": "white",
            "ticks": ""
           }
          },
          "scene": {
           "xaxis": {
            "backgroundcolor": "#E5ECF6",
            "gridcolor": "white",
            "gridwidth": 2,
            "linecolor": "white",
            "showbackground": true,
            "ticks": "",
            "zerolinecolor": "white"
           },
           "yaxis": {
            "backgroundcolor": "#E5ECF6",
            "gridcolor": "white",
            "gridwidth": 2,
            "linecolor": "white",
            "showbackground": true,
            "ticks": "",
            "zerolinecolor": "white"
           },
           "zaxis": {
            "backgroundcolor": "#E5ECF6",
            "gridcolor": "white",
            "gridwidth": 2,
            "linecolor": "white",
            "showbackground": true,
            "ticks": "",
            "zerolinecolor": "white"
           }
          },
          "shapedefaults": {
           "line": {
            "color": "#2a3f5f"
           }
          },
          "ternary": {
           "aaxis": {
            "gridcolor": "white",
            "linecolor": "white",
            "ticks": ""
           },
           "baxis": {
            "gridcolor": "white",
            "linecolor": "white",
            "ticks": ""
           },
           "bgcolor": "#E5ECF6",
           "caxis": {
            "gridcolor": "white",
            "linecolor": "white",
            "ticks": ""
           }
          },
          "title": {
           "x": 0.05
          },
          "xaxis": {
           "automargin": true,
           "gridcolor": "white",
           "linecolor": "white",
           "ticks": "",
           "title": {
            "standoff": 15
           },
           "zerolinecolor": "white",
           "zerolinewidth": 2
          },
          "yaxis": {
           "automargin": true,
           "gridcolor": "white",
           "linecolor": "white",
           "ticks": "",
           "title": {
            "standoff": 15
           },
           "zerolinecolor": "white",
           "zerolinewidth": 2
          }
         }
        },
        "xaxis": {
         "title": {
          "text": "Hour"
         }
        },
        "yaxis": {
         "title": {
          "text": "Meter Reading Log (Hourly Average)"
         }
        }
       }
      }
     },
     "metadata": {},
     "output_type": "display_data"
    },
    {
     "data": {
      "image/png": "[encoded data removed]",
      "text/plain": [
       "<Figure size 640x480 with 1 Axes>"
      ]
     },
     "metadata": {},
     "output_type": "display_data"
    }
   ],
   "source": [
    "#Meter Reading Hourly Average Graph\n",
    "hourly_avg = merged_data.groupby('hour')['meter_reading_log'].mean().reset_index()\n",
    "hourly_avg_weekday = merged_data[merged_data['is_weekday']==True].groupby('hour')['meter_reading_log'].mean().reset_index()\n",
    "hourly_avg_weekend = merged_data[merged_data['is_weekday']==False].groupby('hour')['meter_reading_log'].mean().reset_index()\n",
    "sns.lineplot(data=hourly_avg, x='hour', y='meter_reading_log', color='red', label='All', marker='o')\n",
    "sns.lineplot(data=hourly_avg_weekday, x='hour', y='meter_reading_log', color='skyblue', label='Weekday', marker='s')\n",
    "sns.lineplot(data=hourly_avg_weekend, x='hour', y='meter_reading_log', color='green', label='Weekend', marker='v')\n",
    "#sns.lineplot(merged_data['meter_reading_log'].loc[merged_data['is_weekday']==False], color='orange', fill=False)\n",
    "\n",
    "# Create the Plotly figure\n",
    "fig6 = go.Figure()\n",
    "\n",
    "# Plot the lines\n",
    "fig6.add_trace(go.Scatter(x=hourly_avg['hour'], y=hourly_avg['meter_reading_log'], mode='lines+markers', name='All', marker=dict(color='red')))\n",
    "fig6.add_trace(go.Scatter(x=hourly_avg_weekday['hour'], y=hourly_avg_weekday['meter_reading_log'], mode='lines+markers', name='Weekday', marker=dict(color='skyblue')))\n",
    "fig6.add_trace(go.Scatter(x=hourly_avg_weekend['hour'], y=hourly_avg_weekend['meter_reading_log'], mode='lines+markers', name='Weekend', marker=dict(color='green')))\n",
    "\n",
    "# Update the layout\n",
    "fig6.update_layout(\n",
    "    xaxis_title='Hour',\n",
    "    yaxis_title='Meter Reading Log (Hourly Average)',\n",
    "    \n",
    "    paper_bgcolor='seashell'  # Set the color of the background\n",
    ")\n",
    "\n",
    "\n",
    "\n",
    "# Show the figure\n",
    "fig6.show()"
   ]
  },
  {
   "cell_type": "code",
   "execution_count": 15,
   "metadata": {},
   "outputs": [
    {
     "data": {
      "application/vnd.plotly.v1+json": {
       "config": {
        "plotlyServerURL": "https://plot.ly"
       },
       "data": [
        {
         "line": {
          "color": "skyblue"
         },
         "mode": "lines",
         "type": "scatter",
         "x": [
          0,
          1,
          2,
          3,
          4,
          5,
          6,
          7,
          8,
          9,
          10,
          11,
          12,
          13,
          14,
          15,
          16,
          17,
          18,
          19,
          20,
          21,
          22,
          23
         ],
         "y": [
          4.027384685808609,
          4.0114700578545275,
          3.9976378771632155,
          3.987991539262307,
          3.9888612385940765,
          4.0112288799291225,
          4.061271046520556,
          4.12825372564494,
          4.181734089129714,
          4.229496390317867,
          4.264064735914803,
          4.28548165986098,
          4.298801338726074,
          4.306416186885892,
          4.306606699677087,
          4.3023291707665505,
          4.287266664362365,
          4.26011260775593,
          4.228898007895342,
          4.202282825651606,
          4.180683433496902,
          4.146070548406803,
          4.100461786597214,
          4.055193711252657
         ]
        }
       ],
       "layout": {
        "paper_bgcolor": "seashell",
        "showlegend": false,
        "template": {
         "data": {
          "bar": [
           {
            "error_x": {
             "color": "#2a3f5f"
            },
            "error_y": {
             "color": "#2a3f5f"
            },
            "marker": {
             "line": {
              "color": "#E5ECF6",
              "width": 0.5
             },
             "pattern": {
              "fillmode": "overlay",
              "size": 10,
              "solidity": 0.2
             }
            },
            "type": "bar"
           }
          ],
          "barpolar": [
           {
            "marker": {
             "line": {
              "color": "#E5ECF6",
              "width": 0.5
             },
             "pattern": {
              "fillmode": "overlay",
              "size": 10,
              "solidity": 0.2
             }
            },
            "type": "barpolar"
           }
          ],
          "carpet": [
           {
            "aaxis": {
             "endlinecolor": "#2a3f5f",
             "gridcolor": "white",
             "linecolor": "white",
             "minorgridcolor": "white",
             "startlinecolor": "#2a3f5f"
            },
            "baxis": {
             "endlinecolor": "#2a3f5f",
             "gridcolor": "white",
             "linecolor": "white",
             "minorgridcolor": "white",
             "startlinecolor": "#2a3f5f"
            },
            "type": "carpet"
           }
          ],
          "choropleth": [
           {
            "colorbar": {
             "outlinewidth": 0,
             "ticks": ""
            },
            "type": "choropleth"
           }
          ],
          "contour": [
           {
            "colorbar": {
             "outlinewidth": 0,
             "ticks": ""
            },
            "colorscale": [
             [
              0,
              "#0d0887"
             ],
             [
              0.1111111111111111,
              "#46039f"
             ],
             [
              0.2222222222222222,
              "#7201a8"
             ],
             [
              0.3333333333333333,
              "#9c179e"
             ],
             [
              0.4444444444444444,
              "#bd3786"
             ],
             [
              0.5555555555555556,
              "#d8576b"
             ],
             [
              0.6666666666666666,
              "#ed7953"
             ],
             [
              0.7777777777777778,
              "#fb9f3a"
             ],
             [
              0.8888888888888888,
              "#fdca26"
             ],
             [
              1,
              "#f0f921"
             ]
            ],
            "type": "contour"
           }
          ],
          "contourcarpet": [
           {
            "colorbar": {
             "outlinewidth": 0,
             "ticks": ""
            },
            "type": "contourcarpet"
           }
          ],
          "heatmap": [
           {
            "colorbar": {
             "outlinewidth": 0,
             "ticks": ""
            },
            "colorscale": [
             [
              0,
              "#0d0887"
             ],
             [
              0.1111111111111111,
              "#46039f"
             ],
             [
              0.2222222222222222,
              "#7201a8"
             ],
             [
              0.3333333333333333,
              "#9c179e"
             ],
             [
              0.4444444444444444,
              "#bd3786"
             ],
             [
              0.5555555555555556,
              "#d8576b"
             ],
             [
              0.6666666666666666,
              "#ed7953"
             ],
             [
              0.7777777777777778,
              "#fb9f3a"
             ],
             [
              0.8888888888888888,
              "#fdca26"
             ],
             [
              1,
              "#f0f921"
             ]
            ],
            "type": "heatmap"
           }
          ],
          "heatmapgl": [
           {
            "colorbar": {
             "outlinewidth": 0,
             "ticks": ""
            },
            "colorscale": [
             [
              0,
              "#0d0887"
             ],
             [
              0.1111111111111111,
              "#46039f"
             ],
             [
              0.2222222222222222,
              "#7201a8"
             ],
             [
              0.3333333333333333,
              "#9c179e"
             ],
             [
              0.4444444444444444,
              "#bd3786"
             ],
             [
              0.5555555555555556,
              "#d8576b"
             ],
             [
              0.6666666666666666,
              "#ed7953"
             ],
             [
              0.7777777777777778,
              "#fb9f3a"
             ],
             [
              0.8888888888888888,
              "#fdca26"
             ],
             [
              1,
              "#f0f921"
             ]
            ],
            "type": "heatmapgl"
           }
          ],
          "histogram": [
           {
            "marker": {
             "pattern": {
              "fillmode": "overlay",
              "size": 10,
              "solidity": 0.2
             }
            },
            "type": "histogram"
           }
          ],
          "histogram2d": [
           {
            "colorbar": {
             "outlinewidth": 0,
             "ticks": ""
            },
            "colorscale": [
             [
              0,
              "#0d0887"
             ],
             [
              0.1111111111111111,
              "#46039f"
             ],
             [
              0.2222222222222222,
              "#7201a8"
             ],
             [
              0.3333333333333333,
              "#9c179e"
             ],
             [
              0.4444444444444444,
              "#bd3786"
             ],
             [
              0.5555555555555556,
              "#d8576b"
             ],
             [
              0.6666666666666666,
              "#ed7953"
             ],
             [
              0.7777777777777778,
              "#fb9f3a"
             ],
             [
              0.8888888888888888,
              "#fdca26"
             ],
             [
              1,
              "#f0f921"
             ]
            ],
            "type": "histogram2d"
           }
          ],
          "histogram2dcontour": [
           {
            "colorbar": {
             "outlinewidth": 0,
             "ticks": ""
            },
            "colorscale": [
             [
              0,
              "#0d0887"
             ],
             [
              0.1111111111111111,
              "#46039f"
             ],
             [
              0.2222222222222222,
              "#7201a8"
             ],
             [
              0.3333333333333333,
              "#9c179e"
             ],
             [
              0.4444444444444444,
              "#bd3786"
             ],
             [
              0.5555555555555556,
              "#d8576b"
             ],
             [
              0.6666666666666666,
              "#ed7953"
             ],
             [
              0.7777777777777778,
              "#fb9f3a"
             ],
             [
              0.8888888888888888,
              "#fdca26"
             ],
             [
              1,
              "#f0f921"
             ]
            ],
            "type": "histogram2dcontour"
           }
          ],
          "mesh3d": [
           {
            "colorbar": {
             "outlinewidth": 0,
             "ticks": ""
            },
            "type": "mesh3d"
           }
          ],
          "parcoords": [
           {
            "line": {
             "colorbar": {
              "outlinewidth": 0,
              "ticks": ""
             }
            },
            "type": "parcoords"
           }
          ],
          "pie": [
           {
            "automargin": true,
            "type": "pie"
           }
          ],
          "scatter": [
           {
            "fillpattern": {
             "fillmode": "overlay",
             "size": 10,
             "solidity": 0.2
            },
            "type": "scatter"
           }
          ],
          "scatter3d": [
           {
            "line": {
             "colorbar": {
              "outlinewidth": 0,
              "ticks": ""
             }
            },
            "marker": {
             "colorbar": {
              "outlinewidth": 0,
              "ticks": ""
             }
            },
            "type": "scatter3d"
           }
          ],
          "scattercarpet": [
           {
            "marker": {
             "colorbar": {
              "outlinewidth": 0,
              "ticks": ""
             }
            },
            "type": "scattercarpet"
           }
          ],
          "scattergeo": [
           {
            "marker": {
             "colorbar": {
              "outlinewidth": 0,
              "ticks": ""
             }
            },
            "type": "scattergeo"
           }
          ],
          "scattergl": [
           {
            "marker": {
             "colorbar": {
              "outlinewidth": 0,
              "ticks": ""
             }
            },
            "type": "scattergl"
           }
          ],
          "scattermapbox": [
           {
            "marker": {
             "colorbar": {
              "outlinewidth": 0,
              "ticks": ""
             }
            },
            "type": "scattermapbox"
           }
          ],
          "scatterpolar": [
           {
            "marker": {
             "colorbar": {
              "outlinewidth": 0,
              "ticks": ""
             }
            },
            "type": "scatterpolar"
           }
          ],
          "scatterpolargl": [
           {
            "marker": {
             "colorbar": {
              "outlinewidth": 0,
              "ticks": ""
             }
            },
            "type": "scatterpolargl"
           }
          ],
          "scatterternary": [
           {
            "marker": {
             "colorbar": {
              "outlinewidth": 0,
              "ticks": ""
             }
            },
            "type": "scatterternary"
           }
          ],
          "surface": [
           {
            "colorbar": {
             "outlinewidth": 0,
             "ticks": ""
            },
            "colorscale": [
             [
              0,
              "#0d0887"
             ],
             [
              0.1111111111111111,
              "#46039f"
             ],
             [
              0.2222222222222222,
              "#7201a8"
             ],
             [
              0.3333333333333333,
              "#9c179e"
             ],
             [
              0.4444444444444444,
              "#bd3786"
             ],
             [
              0.5555555555555556,
              "#d8576b"
             ],
             [
              0.6666666666666666,
              "#ed7953"
             ],
             [
              0.7777777777777778,
              "#fb9f3a"
             ],
             [
              0.8888888888888888,
              "#fdca26"
             ],
             [
              1,
              "#f0f921"
             ]
            ],
            "type": "surface"
           }
          ],
          "table": [
           {
            "cells": {
             "fill": {
              "color": "#EBF0F8"
             },
             "line": {
              "color": "white"
             }
            },
            "header": {
             "fill": {
              "color": "#C8D4E3"
             },
             "line": {
              "color": "white"
             }
            },
            "type": "table"
           }
          ]
         },
         "layout": {
          "annotationdefaults": {
           "arrowcolor": "#2a3f5f",
           "arrowhead": 0,
           "arrowwidth": 1
          },
          "autotypenumbers": "strict",
          "coloraxis": {
           "colorbar": {
            "outlinewidth": 0,
            "ticks": ""
           }
          },
          "colorscale": {
           "diverging": [
            [
             0,
             "#8e0152"
            ],
            [
             0.1,
             "#c51b7d"
            ],
            [
             0.2,
             "#de77ae"
            ],
            [
             0.3,
             "#f1b6da"
            ],
            [
             0.4,
             "#fde0ef"
            ],
            [
             0.5,
             "#f7f7f7"
            ],
            [
             0.6,
             "#e6f5d0"
            ],
            [
             0.7,
             "#b8e186"
            ],
            [
             0.8,
             "#7fbc41"
            ],
            [
             0.9,
             "#4d9221"
            ],
            [
             1,
             "#276419"
            ]
           ],
           "sequential": [
            [
             0,
             "#0d0887"
            ],
            [
             0.1111111111111111,
             "#46039f"
            ],
            [
             0.2222222222222222,
             "#7201a8"
            ],
            [
             0.3333333333333333,
             "#9c179e"
            ],
            [
             0.4444444444444444,
             "#bd3786"
            ],
            [
             0.5555555555555556,
             "#d8576b"
            ],
            [
             0.6666666666666666,
             "#ed7953"
            ],
            [
             0.7777777777777778,
             "#fb9f3a"
            ],
            [
             0.8888888888888888,
             "#fdca26"
            ],
            [
             1,
             "#f0f921"
            ]
           ],
           "sequentialminus": [
            [
             0,
             "#0d0887"
            ],
            [
             0.1111111111111111,
             "#46039f"
            ],
            [
             0.2222222222222222,
             "#7201a8"
            ],
            [
             0.3333333333333333,
             "#9c179e"
            ],
            [
             0.4444444444444444,
             "#bd3786"
            ],
            [
             0.5555555555555556,
             "#d8576b"
            ],
            [
             0.6666666666666666,
             "#ed7953"
            ],
            [
             0.7777777777777778,
             "#fb9f3a"
            ],
            [
             0.8888888888888888,
             "#fdca26"
            ],
            [
             1,
             "#f0f921"
            ]
           ]
          },
          "colorway": [
           "#636efa",
           "#EF553B",
           "#00cc96",
           "#ab63fa",
           "#FFA15A",
           "#19d3f3",
           "#FF6692",
           "#B6E880",
           "#FF97FF",
           "#FECB52"
          ],
          "font": {
           "color": "#2a3f5f"
          },
          "geo": {
           "bgcolor": "white",
           "lakecolor": "white",
           "landcolor": "#E5ECF6",
           "showlakes": true,
           "showland": true,
           "subunitcolor": "white"
          },
          "hoverlabel": {
           "align": "left"
          },
          "hovermode": "closest",
          "mapbox": {
           "style": "light"
          },
          "paper_bgcolor": "white",
          "plot_bgcolor": "#E5ECF6",
          "polar": {
           "angularaxis": {
            "gridcolor": "white",
            "linecolor": "white",
            "ticks": ""
           },
           "bgcolor": "#E5ECF6",
           "radialaxis": {
            "gridcolor": "white",
            "linecolor": "white",
            "ticks": ""
           }
          },
          "scene": {
           "xaxis": {
            "backgroundcolor": "#E5ECF6",
            "gridcolor": "white",
            "gridwidth": 2,
            "linecolor": "white",
            "showbackground": true,
            "ticks": "",
            "zerolinecolor": "white"
           },
           "yaxis": {
            "backgroundcolor": "#E5ECF6",
            "gridcolor": "white",
            "gridwidth": 2,
            "linecolor": "white",
            "showbackground": true,
            "ticks": "",
            "zerolinecolor": "white"
           },
           "zaxis": {
            "backgroundcolor": "#E5ECF6",
            "gridcolor": "white",
            "gridwidth": 2,
            "linecolor": "white",
            "showbackground": true,
            "ticks": "",
            "zerolinecolor": "white"
           }
          },
          "shapedefaults": {
           "line": {
            "color": "#2a3f5f"
           }
          },
          "ternary": {
           "aaxis": {
            "gridcolor": "white",
            "linecolor": "white",
            "ticks": ""
           },
           "baxis": {
            "gridcolor": "white",
            "linecolor": "white",
            "ticks": ""
           },
           "bgcolor": "#E5ECF6",
           "caxis": {
            "gridcolor": "white",
            "linecolor": "white",
            "ticks": ""
           }
          },
          "title": {
           "x": 0.05
          },
          "xaxis": {
           "automargin": true,
           "gridcolor": "white",
           "linecolor": "white",
           "ticks": "",
           "title": {
            "standoff": 15
           },
           "zerolinecolor": "white",
           "zerolinewidth": 2
          },
          "yaxis": {
           "automargin": true,
           "gridcolor": "white",
           "linecolor": "white",
           "ticks": "",
           "title": {
            "standoff": 15
           },
           "zerolinecolor": "white",
           "zerolinewidth": 2
          }
         }
        },
        "xaxis": {
         "anchor": "y",
         "domain": [
          0,
          1
         ],
         "title": {
          "text": "Hour"
         }
        },
        "yaxis": {
         "anchor": "x",
         "domain": [
          0,
          1
         ],
         "title": {
          "text": "Mean of Log Meter readings"
         }
        }
       }
      }
     },
     "metadata": {},
     "output_type": "display_data"
    },
    {
     "data": {
      "image/png": "[encoded data removed]",
      "text/plain": [
       "<Figure size 640x480 with 1 Axes>"
      ]
     },
     "metadata": {},
     "output_type": "display_data"
    }
   ],
   "source": [
    "# Assuming train_data is your DataFrame\n",
    "hour_mean = train_data.groupby('hour')['meter_reading_log'].mean()\n",
    "\n",
    "# Create Seaborn line plot\n",
    "hour_mean.plot(kind='line', color='skyblue')\n",
    "\n",
    "# Convert Seaborn plot to Plotly figure\n",
    "fig_hour_mean = make_subplots(rows=1, cols=1)\n",
    "\n",
    "# Add Seaborn data to Plotly subplot\n",
    "trace_hour_mean = go.Scatter(x=hour_mean.index, y=hour_mean.values, mode='lines', line=dict(color='skyblue'))\n",
    "fig_hour_mean.add_trace(trace_hour_mean)\n",
    "\n",
    "# Update layout with axis labels\n",
    "fig_hour_mean.update_layout(\n",
    "    xaxis=dict(title='Hour'),\n",
    "    yaxis=dict(title='Mean of Log Meter readings'),\n",
    "    paper_bgcolor='seashell',\n",
    "    showlegend=False\n",
    ")"
   ]
  },
  {
   "cell_type": "code",
   "execution_count": 16,
   "metadata": {},
   "outputs": [
    {
     "data": {
      "text/html": [
       "<div>\n",
       "<style scoped>\n",
       "    .dataframe tbody tr th:only-of-type {\n",
       "        vertical-align: middle;\n",
       "    }\n",
       "\n",
       "    .dataframe tbody tr th {\n",
       "        vertical-align: top;\n",
       "    }\n",
       "\n",
       "    .dataframe thead th {\n",
       "        text-align: right;\n",
       "    }\n",
       "</style>\n",
       "<table border=\"1\" class=\"dataframe\">\n",
       "  <thead>\n",
       "    <tr style=\"text-align: right;\">\n",
       "      <th></th>\n",
       "      <th>Unnamed: 0</th>\n",
       "      <th>building_id</th>\n",
       "      <th>meter</th>\n",
       "      <th>timestamp</th>\n",
       "      <th>meter_reading</th>\n",
       "      <th>site_id</th>\n",
       "      <th>primary_use</th>\n",
       "      <th>square_feet</th>\n",
       "      <th>year_built</th>\n",
       "      <th>floor_count</th>\n",
       "      <th>...</th>\n",
       "      <th>wind_direction</th>\n",
       "      <th>wind_speed</th>\n",
       "      <th>hour</th>\n",
       "      <th>month</th>\n",
       "      <th>week</th>\n",
       "      <th>is_weekday</th>\n",
       "      <th>meter_reading_log</th>\n",
       "      <th>year</th>\n",
       "      <th>weekofyear</th>\n",
       "      <th>dayofweek</th>\n",
       "    </tr>\n",
       "  </thead>\n",
       "  <tbody>\n",
       "    <tr>\n",
       "      <th>0</th>\n",
       "      <td>0</td>\n",
       "      <td>46</td>\n",
       "      <td>0</td>\n",
       "      <td>2016-01-01</td>\n",
       "      <td>53.2397</td>\n",
       "      <td>0</td>\n",
       "      <td>Retail</td>\n",
       "      <td>9045</td>\n",
       "      <td>2016.0</td>\n",
       "      <td>NaN</td>\n",
       "      <td>...</td>\n",
       "      <td>0.0</td>\n",
       "      <td>0.0</td>\n",
       "      <td>0</td>\n",
       "      <td>1</td>\n",
       "      <td>53</td>\n",
       "      <td>True</td>\n",
       "      <td>3.993413</td>\n",
       "      <td>2015</td>\n",
       "      <td>53</td>\n",
       "      <td>5</td>\n",
       "    </tr>\n",
       "    <tr>\n",
       "      <th>1</th>\n",
       "      <td>1</td>\n",
       "      <td>74</td>\n",
       "      <td>0</td>\n",
       "      <td>2016-01-01</td>\n",
       "      <td>43.0013</td>\n",
       "      <td>0</td>\n",
       "      <td>Parking</td>\n",
       "      <td>387638</td>\n",
       "      <td>1997.0</td>\n",
       "      <td>NaN</td>\n",
       "      <td>...</td>\n",
       "      <td>0.0</td>\n",
       "      <td>0.0</td>\n",
       "      <td>0</td>\n",
       "      <td>1</td>\n",
       "      <td>53</td>\n",
       "      <td>True</td>\n",
       "      <td>3.784219</td>\n",
       "      <td>2015</td>\n",
       "      <td>53</td>\n",
       "      <td>5</td>\n",
       "    </tr>\n",
       "    <tr>\n",
       "      <th>2</th>\n",
       "      <td>2</td>\n",
       "      <td>93</td>\n",
       "      <td>0</td>\n",
       "      <td>2016-01-01</td>\n",
       "      <td>52.4206</td>\n",
       "      <td>0</td>\n",
       "      <td>Office</td>\n",
       "      <td>33370</td>\n",
       "      <td>1982.0</td>\n",
       "      <td>NaN</td>\n",
       "      <td>...</td>\n",
       "      <td>0.0</td>\n",
       "      <td>0.0</td>\n",
       "      <td>0</td>\n",
       "      <td>1</td>\n",
       "      <td>53</td>\n",
       "      <td>True</td>\n",
       "      <td>3.978196</td>\n",
       "      <td>2015</td>\n",
       "      <td>53</td>\n",
       "      <td>5</td>\n",
       "    </tr>\n",
       "    <tr>\n",
       "      <th>3</th>\n",
       "      <td>3</td>\n",
       "      <td>105</td>\n",
       "      <td>0</td>\n",
       "      <td>2016-01-01</td>\n",
       "      <td>23.3036</td>\n",
       "      <td>1</td>\n",
       "      <td>Education</td>\n",
       "      <td>50623</td>\n",
       "      <td>NaN</td>\n",
       "      <td>5.0</td>\n",
       "      <td>...</td>\n",
       "      <td>240.0</td>\n",
       "      <td>3.1</td>\n",
       "      <td>0</td>\n",
       "      <td>1</td>\n",
       "      <td>53</td>\n",
       "      <td>True</td>\n",
       "      <td>3.190624</td>\n",
       "      <td>2015</td>\n",
       "      <td>53</td>\n",
       "      <td>5</td>\n",
       "    </tr>\n",
       "    <tr>\n",
       "      <th>4</th>\n",
       "      <td>4</td>\n",
       "      <td>106</td>\n",
       "      <td>0</td>\n",
       "      <td>2016-01-01</td>\n",
       "      <td>0.3746</td>\n",
       "      <td>1</td>\n",
       "      <td>Education</td>\n",
       "      <td>5374</td>\n",
       "      <td>NaN</td>\n",
       "      <td>4.0</td>\n",
       "      <td>...</td>\n",
       "      <td>240.0</td>\n",
       "      <td>3.1</td>\n",
       "      <td>0</td>\n",
       "      <td>1</td>\n",
       "      <td>53</td>\n",
       "      <td>True</td>\n",
       "      <td>0.318163</td>\n",
       "      <td>2015</td>\n",
       "      <td>53</td>\n",
       "      <td>5</td>\n",
       "    </tr>\n",
       "  </tbody>\n",
       "</table>\n",
       "<p>5 rows × 25 columns</p>\n",
       "</div>"
      ],
      "text/plain": [
       "   Unnamed: 0  building_id  meter  timestamp  meter_reading  site_id  \\\n",
       "0           0           46      0 2016-01-01        53.2397        0   \n",
       "1           1           74      0 2016-01-01        43.0013        0   \n",
       "2           2           93      0 2016-01-01        52.4206        0   \n",
       "3           3          105      0 2016-01-01        23.3036        1   \n",
       "4           4          106      0 2016-01-01         0.3746        1   \n",
       "\n",
       "  primary_use  square_feet  year_built  floor_count  ...  wind_direction  \\\n",
       "0      Retail         9045      2016.0          NaN  ...             0.0   \n",
       "1     Parking       387638      1997.0          NaN  ...             0.0   \n",
       "2      Office        33370      1982.0          NaN  ...             0.0   \n",
       "3   Education        50623         NaN          5.0  ...           240.0   \n",
       "4   Education         5374         NaN          4.0  ...           240.0   \n",
       "\n",
       "   wind_speed  hour  month  week  is_weekday  meter_reading_log  year  \\\n",
       "0         0.0     0      1    53        True           3.993413  2015   \n",
       "1         0.0     0      1    53        True           3.784219  2015   \n",
       "2         0.0     0      1    53        True           3.978196  2015   \n",
       "3         3.1     0      1    53        True           3.190624  2015   \n",
       "4         3.1     0      1    53        True           0.318163  2015   \n",
       "\n",
       "   weekofyear  dayofweek  \n",
       "0          53          5  \n",
       "1          53          5  \n",
       "2          53          5  \n",
       "3          53          5  \n",
       "4          53          5  \n",
       "\n",
       "[5 rows x 25 columns]"
      ]
     },
     "execution_count": 16,
     "metadata": {},
     "output_type": "execute_result"
    }
   ],
   "source": [
    "train_data[['year','weekofyear','dayofweek']]= np.uint16(train_data['timestamp'].dt.isocalendar())\n",
    "\n",
    "train_data.head()"
   ]
  },
  {
   "cell_type": "code",
   "execution_count": 17,
   "metadata": {},
   "outputs": [
    {
     "data": {
      "application/vnd.plotly.v1+json": {
       "config": {
        "plotlyServerURL": "https://plot.ly"
       },
       "data": [
        {
         "line": {
          "color": "purple"
         },
         "mode": "lines",
         "type": "scatter",
         "x": [
          1,
          2,
          3,
          4,
          5,
          6,
          7
         ],
         "y": [
          4.191365535714302,
          4.2165233866832,
          4.219063482057296,
          4.214729438335668,
          4.1881124732480295,
          4.056816394040439,
          4.037538971560272
         ]
        }
       ],
       "layout": {
        "paper_bgcolor": "seashell",
        "showlegend": false,
        "template": {
         "data": {
          "bar": [
           {
            "error_x": {
             "color": "#2a3f5f"
            },
            "error_y": {
             "color": "#2a3f5f"
            },
            "marker": {
             "line": {
              "color": "#E5ECF6",
              "width": 0.5
             },
             "pattern": {
              "fillmode": "overlay",
              "size": 10,
              "solidity": 0.2
             }
            },
            "type": "bar"
           }
          ],
          "barpolar": [
           {
            "marker": {
             "line": {
              "color": "#E5ECF6",
              "width": 0.5
             },
             "pattern": {
              "fillmode": "overlay",
              "size": 10,
              "solidity": 0.2
             }
            },
            "type": "barpolar"
           }
          ],
          "carpet": [
           {
            "aaxis": {
             "endlinecolor": "#2a3f5f",
             "gridcolor": "white",
             "linecolor": "white",
             "minorgridcolor": "white",
             "startlinecolor": "#2a3f5f"
            },
            "baxis": {
             "endlinecolor": "#2a3f5f",
             "gridcolor": "white",
             "linecolor": "white",
             "minorgridcolor": "white",
             "startlinecolor": "#2a3f5f"
            },
            "type": "carpet"
           }
          ],
          "choropleth": [
           {
            "colorbar": {
             "outlinewidth": 0,
             "ticks": ""
            },
            "type": "choropleth"
           }
          ],
          "contour": [
           {
            "colorbar": {
             "outlinewidth": 0,
             "ticks": ""
            },
            "colorscale": [
             [
              0,
              "#0d0887"
             ],
             [
              0.1111111111111111,
              "#46039f"
             ],
             [
              0.2222222222222222,
              "#7201a8"
             ],
             [
              0.3333333333333333,
              "#9c179e"
             ],
             [
              0.4444444444444444,
              "#bd3786"
             ],
             [
              0.5555555555555556,
              "#d8576b"
             ],
             [
              0.6666666666666666,
              "#ed7953"
             ],
             [
              0.7777777777777778,
              "#fb9f3a"
             ],
             [
              0.8888888888888888,
              "#fdca26"
             ],
             [
              1,
              "#f0f921"
             ]
            ],
            "type": "contour"
           }
          ],
          "contourcarpet": [
           {
            "colorbar": {
             "outlinewidth": 0,
             "ticks": ""
            },
            "type": "contourcarpet"
           }
          ],
          "heatmap": [
           {
            "colorbar": {
             "outlinewidth": 0,
             "ticks": ""
            },
            "colorscale": [
             [
              0,
              "#0d0887"
             ],
             [
              0.1111111111111111,
              "#46039f"
             ],
             [
              0.2222222222222222,
              "#7201a8"
             ],
             [
              0.3333333333333333,
              "#9c179e"
             ],
             [
              0.4444444444444444,
              "#bd3786"
             ],
             [
              0.5555555555555556,
              "#d8576b"
             ],
             [
              0.6666666666666666,
              "#ed7953"
             ],
             [
              0.7777777777777778,
              "#fb9f3a"
             ],
             [
              0.8888888888888888,
              "#fdca26"
             ],
             [
              1,
              "#f0f921"
             ]
            ],
            "type": "heatmap"
           }
          ],
          "heatmapgl": [
           {
            "colorbar": {
             "outlinewidth": 0,
             "ticks": ""
            },
            "colorscale": [
             [
              0,
              "#0d0887"
             ],
             [
              0.1111111111111111,
              "#46039f"
             ],
             [
              0.2222222222222222,
              "#7201a8"
             ],
             [
              0.3333333333333333,
              "#9c179e"
             ],
             [
              0.4444444444444444,
              "#bd3786"
             ],
             [
              0.5555555555555556,
              "#d8576b"
             ],
             [
              0.6666666666666666,
              "#ed7953"
             ],
             [
              0.7777777777777778,
              "#fb9f3a"
             ],
             [
              0.8888888888888888,
              "#fdca26"
             ],
             [
              1,
              "#f0f921"
             ]
            ],
            "type": "heatmapgl"
           }
          ],
          "histogram": [
           {
            "marker": {
             "pattern": {
              "fillmode": "overlay",
              "size": 10,
              "solidity": 0.2
             }
            },
            "type": "histogram"
           }
          ],
          "histogram2d": [
           {
            "colorbar": {
             "outlinewidth": 0,
             "ticks": ""
            },
            "colorscale": [
             [
              0,
              "#0d0887"
             ],
             [
              0.1111111111111111,
              "#46039f"
             ],
             [
              0.2222222222222222,
              "#7201a8"
             ],
             [
              0.3333333333333333,
              "#9c179e"
             ],
             [
              0.4444444444444444,
              "#bd3786"
             ],
             [
              0.5555555555555556,
              "#d8576b"
             ],
             [
              0.6666666666666666,
              "#ed7953"
             ],
             [
              0.7777777777777778,
              "#fb9f3a"
             ],
             [
              0.8888888888888888,
              "#fdca26"
             ],
             [
              1,
              "#f0f921"
             ]
            ],
            "type": "histogram2d"
           }
          ],
          "histogram2dcontour": [
           {
            "colorbar": {
             "outlinewidth": 0,
             "ticks": ""
            },
            "colorscale": [
             [
              0,
              "#0d0887"
             ],
             [
              0.1111111111111111,
              "#46039f"
             ],
             [
              0.2222222222222222,
              "#7201a8"
             ],
             [
              0.3333333333333333,
              "#9c179e"
             ],
             [
              0.4444444444444444,
              "#bd3786"
             ],
             [
              0.5555555555555556,
              "#d8576b"
             ],
             [
              0.6666666666666666,
              "#ed7953"
             ],
             [
              0.7777777777777778,
              "#fb9f3a"
             ],
             [
              0.8888888888888888,
              "#fdca26"
             ],
             [
              1,
              "#f0f921"
             ]
            ],
            "type": "histogram2dcontour"
           }
          ],
          "mesh3d": [
           {
            "colorbar": {
             "outlinewidth": 0,
             "ticks": ""
            },
            "type": "mesh3d"
           }
          ],
          "parcoords": [
           {
            "line": {
             "colorbar": {
              "outlinewidth": 0,
              "ticks": ""
             }
            },
            "type": "parcoords"
           }
          ],
          "pie": [
           {
            "automargin": true,
            "type": "pie"
           }
          ],
          "scatter": [
           {
            "fillpattern": {
             "fillmode": "overlay",
             "size": 10,
             "solidity": 0.2
            },
            "type": "scatter"
           }
          ],
          "scatter3d": [
           {
            "line": {
             "colorbar": {
              "outlinewidth": 0,
              "ticks": ""
             }
            },
            "marker": {
             "colorbar": {
              "outlinewidth": 0,
              "ticks": ""
             }
            },
            "type": "scatter3d"
           }
          ],
          "scattercarpet": [
           {
            "marker": {
             "colorbar": {
              "outlinewidth": 0,
              "ticks": ""
             }
            },
            "type": "scattercarpet"
           }
          ],
          "scattergeo": [
           {
            "marker": {
             "colorbar": {
              "outlinewidth": 0,
              "ticks": ""
             }
            },
            "type": "scattergeo"
           }
          ],
          "scattergl": [
           {
            "marker": {
             "colorbar": {
              "outlinewidth": 0,
              "ticks": ""
             }
            },
            "type": "scattergl"
           }
          ],
          "scattermapbox": [
           {
            "marker": {
             "colorbar": {
              "outlinewidth": 0,
              "ticks": ""
             }
            },
            "type": "scattermapbox"
           }
          ],
          "scatterpolar": [
           {
            "marker": {
             "colorbar": {
              "outlinewidth": 0,
              "ticks": ""
             }
            },
            "type": "scatterpolar"
           }
          ],
          "scatterpolargl": [
           {
            "marker": {
             "colorbar": {
              "outlinewidth": 0,
              "ticks": ""
             }
            },
            "type": "scatterpolargl"
           }
          ],
          "scatterternary": [
           {
            "marker": {
             "colorbar": {
              "outlinewidth": 0,
              "ticks": ""
             }
            },
            "type": "scatterternary"
           }
          ],
          "surface": [
           {
            "colorbar": {
             "outlinewidth": 0,
             "ticks": ""
            },
            "colorscale": [
             [
              0,
              "#0d0887"
             ],
             [
              0.1111111111111111,
              "#46039f"
             ],
             [
              0.2222222222222222,
              "#7201a8"
             ],
             [
              0.3333333333333333,
              "#9c179e"
             ],
             [
              0.4444444444444444,
              "#bd3786"
             ],
             [
              0.5555555555555556,
              "#d8576b"
             ],
             [
              0.6666666666666666,
              "#ed7953"
             ],
             [
              0.7777777777777778,
              "#fb9f3a"
             ],
             [
              0.8888888888888888,
              "#fdca26"
             ],
             [
              1,
              "#f0f921"
             ]
            ],
            "type": "surface"
           }
          ],
          "table": [
           {
            "cells": {
             "fill": {
              "color": "#EBF0F8"
             },
             "line": {
              "color": "white"
             }
            },
            "header": {
             "fill": {
              "color": "#C8D4E3"
             },
             "line": {
              "color": "white"
             }
            },
            "type": "table"
           }
          ]
         },
         "layout": {
          "annotationdefaults": {
           "arrowcolor": "#2a3f5f",
           "arrowhead": 0,
           "arrowwidth": 1
          },
          "autotypenumbers": "strict",
          "coloraxis": {
           "colorbar": {
            "outlinewidth": 0,
            "ticks": ""
           }
          },
          "colorscale": {
           "diverging": [
            [
             0,
             "#8e0152"
            ],
            [
             0.1,
             "#c51b7d"
            ],
            [
             0.2,
             "#de77ae"
            ],
            [
             0.3,
             "#f1b6da"
            ],
            [
             0.4,
             "#fde0ef"
            ],
            [
             0.5,
             "#f7f7f7"
            ],
            [
             0.6,
             "#e6f5d0"
            ],
            [
             0.7,
             "#b8e186"
            ],
            [
             0.8,
             "#7fbc41"
            ],
            [
             0.9,
             "#4d9221"
            ],
            [
             1,
             "#276419"
            ]
           ],
           "sequential": [
            [
             0,
             "#0d0887"
            ],
            [
             0.1111111111111111,
             "#46039f"
            ],
            [
             0.2222222222222222,
             "#7201a8"
            ],
            [
             0.3333333333333333,
             "#9c179e"
            ],
            [
             0.4444444444444444,
             "#bd3786"
            ],
            [
             0.5555555555555556,
             "#d8576b"
            ],
            [
             0.6666666666666666,
             "#ed7953"
            ],
            [
             0.7777777777777778,
             "#fb9f3a"
            ],
            [
             0.8888888888888888,
             "#fdca26"
            ],
            [
             1,
             "#f0f921"
            ]
           ],
           "sequentialminus": [
            [
             0,
             "#0d0887"
            ],
            [
             0.1111111111111111,
             "#46039f"
            ],
            [
             0.2222222222222222,
             "#7201a8"
            ],
            [
             0.3333333333333333,
             "#9c179e"
            ],
            [
             0.4444444444444444,
             "#bd3786"
            ],
            [
             0.5555555555555556,
             "#d8576b"
            ],
            [
             0.6666666666666666,
             "#ed7953"
            ],
            [
             0.7777777777777778,
             "#fb9f3a"
            ],
            [
             0.8888888888888888,
             "#fdca26"
            ],
            [
             1,
             "#f0f921"
            ]
           ]
          },
          "colorway": [
           "#636efa",
           "#EF553B",
           "#00cc96",
           "#ab63fa",
           "#FFA15A",
           "#19d3f3",
           "#FF6692",
           "#B6E880",
           "#FF97FF",
           "#FECB52"
          ],
          "font": {
           "color": "#2a3f5f"
          },
          "geo": {
           "bgcolor": "white",
           "lakecolor": "white",
           "landcolor": "#E5ECF6",
           "showlakes": true,
           "showland": true,
           "subunitcolor": "white"
          },
          "hoverlabel": {
           "align": "left"
          },
          "hovermode": "closest",
          "mapbox": {
           "style": "light"
          },
          "paper_bgcolor": "white",
          "plot_bgcolor": "#E5ECF6",
          "polar": {
           "angularaxis": {
            "gridcolor": "white",
            "linecolor": "white",
            "ticks": ""
           },
           "bgcolor": "#E5ECF6",
           "radialaxis": {
            "gridcolor": "white",
            "linecolor": "white",
            "ticks": ""
           }
          },
          "scene": {
           "xaxis": {
            "backgroundcolor": "#E5ECF6",
            "gridcolor": "white",
            "gridwidth": 2,
            "linecolor": "white",
            "showbackground": true,
            "ticks": "",
            "zerolinecolor": "white"
           },
           "yaxis": {
            "backgroundcolor": "#E5ECF6",
            "gridcolor": "white",
            "gridwidth": 2,
            "linecolor": "white",
            "showbackground": true,
            "ticks": "",
            "zerolinecolor": "white"
           },
           "zaxis": {
            "backgroundcolor": "#E5ECF6",
            "gridcolor": "white",
            "gridwidth": 2,
            "linecolor": "white",
            "showbackground": true,
            "ticks": "",
            "zerolinecolor": "white"
           }
          },
          "shapedefaults": {
           "line": {
            "color": "#2a3f5f"
           }
          },
          "ternary": {
           "aaxis": {
            "gridcolor": "white",
            "linecolor": "white",
            "ticks": ""
           },
           "baxis": {
            "gridcolor": "white",
            "linecolor": "white",
            "ticks": ""
           },
           "bgcolor": "#E5ECF6",
           "caxis": {
            "gridcolor": "white",
            "linecolor": "white",
            "ticks": ""
           }
          },
          "title": {
           "x": 0.05
          },
          "xaxis": {
           "automargin": true,
           "gridcolor": "white",
           "linecolor": "white",
           "ticks": "",
           "title": {
            "standoff": 15
           },
           "zerolinecolor": "white",
           "zerolinewidth": 2
          },
          "yaxis": {
           "automargin": true,
           "gridcolor": "white",
           "linecolor": "white",
           "ticks": "",
           "title": {
            "standoff": 15
           },
           "zerolinecolor": "white",
           "zerolinewidth": 2
          }
         }
        },
        "xaxis": {
         "anchor": "y",
         "domain": [
          0,
          1
         ],
         "title": {
          "text": "Days of the week"
         }
        },
        "yaxis": {
         "anchor": "x",
         "domain": [
          0,
          1
         ],
         "title": {
          "text": "Log of Meter readings"
         }
        }
       }
      }
     },
     "metadata": {},
     "output_type": "display_data"
    },
    {
     "data": {
      "image/png": "[encoded data removed]",
      "text/plain": [
       "<Figure size 800x800 with 1 Axes>"
      ]
     },
     "metadata": {},
     "output_type": "display_data"
    }
   ],
   "source": [
    "plt.figure(figsize=(8, 8))\n",
    "\n",
    "day_labels = ['Mon', 'Tue', 'Wed', 'Thu', 'Fri', 'Sat', 'Sun']\n",
    "day_df = train_data.groupby(['dayofweek']).meter_reading_log.mean().reset_index()\n",
    "\n",
    "# Create Seaborn plot\n",
    "p = sns.lineplot(x=day_df['dayofweek'], y=day_df['meter_reading_log'], color='purple')\n",
    "p.set_xticks(range(len(day_df['dayofweek'])))\n",
    "p.set_xticklabels(day_labels)\n",
    "plt.xlabel('Days of the week')\n",
    "plt.ylabel(\"Log of Meter readings\")\n",
    "\n",
    "# Convert Seaborn plot to Plotly figure\n",
    "fig8 = make_subplots(rows=1, cols=1)\n",
    "\n",
    "# Add Seaborn data to Plotly subplot\n",
    "trace = go.Scatter(x=day_df['dayofweek'], y=day_df['meter_reading_log'], mode='lines', line=dict(color='purple'))\n",
    "fig8.add_trace(trace)\n",
    "\n",
    "# Update layout if necessary\n",
    "fig8.update_layout(xaxis=dict(title='Days of the week'),\n",
    "                    yaxis=dict(title='Log of Meter readings'),\n",
    "                   paper_bgcolor='seashell',\n",
    "                    showlegend=False)\n",
    "\n"
   ]
  },
  {
   "cell_type": "code",
   "execution_count": 18,
   "metadata": {},
   "outputs": [
    {
     "data": {
      "image/png": "[encoded data removed]",
      "text/plain": [
       "<Figure size 640x480 with 1 Axes>"
      ]
     },
     "metadata": {},
     "output_type": "display_data"
    }
   ],
   "source": [
    "month_mean=train_data.groupby('month')['meter_reading_log'].mean()\n",
    "\n",
    "month_mean.plot(kind='line',color='skyblue')\n",
    "plt.xticks(month_mean.index)\n",
    "plt.show()"
   ]
  },
  {
   "cell_type": "code",
   "execution_count": 19,
   "metadata": {},
   "outputs": [
    {
     "data": {
      "application/vnd.plotly.v1+json": {
       "config": {
        "plotlyServerURL": "https://plot.ly"
       },
       "data": [
        {
         "line": {
          "color": "rgba(0, 0, 255, 255)"
         },
         "mode": "lines",
         "name": "train_data",
         "type": "scatter",
         "x": [
          -0.1751154204768224,
          -0.11663635719108628,
          -0.05815729390535017,
          0.0003217693803859445,
          0.05880083266612207,
          0.1172798959518582,
          0.1757589592375943,
          0.23423802252333045,
          0.2927170858090665,
          0.3511961490948027,
          0.40967521238053883,
          0.468154275666275,
          0.526633338952011,
          0.5851124022377472,
          0.6435914655234833,
          0.7020705288092194,
          0.7605495920949555,
          0.8190286553806917,
          0.8775077186664277,
          0.9359867819521639,
          0.9944658452379,
          1.0529449085236362,
          1.1114239718093724,
          1.1699030350951083,
          1.2283820983808444,
          1.2868611616665806,
          1.3453402249523168,
          1.403819288238053,
          1.462298351523789,
          1.520777414809525,
          1.5792564780952612,
          1.6377355413809973,
          1.6962146046667335,
          1.7546936679524696,
          1.8131727312382058,
          1.871651794523942,
          1.9301308578096779,
          1.9886099210954142,
          2.04708898438115,
          2.105568047666886,
          2.1640471109526223,
          2.222526174238358,
          2.2810052375240946,
          2.3394843008098305,
          2.397963364095567,
          2.456442427381303,
          2.5149214906670387,
          2.573400553952775,
          2.631879617238511,
          2.6903586805242474,
          2.7488377438099834,
          2.8073168070957197,
          2.8657958703814557,
          2.9242749336671916,
          2.982753996952928,
          3.041233060238664,
          3.0997121235244003,
          3.158191186810136,
          3.216670250095872,
          3.2751493133816085,
          3.3336283766673445,
          3.392107439953081,
          3.4505865032388168,
          3.509065566524553,
          3.567544629810289,
          3.626023693096025,
          3.6845027563817614,
          3.7429818196674973,
          3.8014608829532337,
          3.85993994623897,
          3.918419009524706,
          3.976898072810442,
          4.035377136096178,
          4.093856199381914,
          4.152335262667651,
          4.210814325953387,
          4.269293389239123,
          4.327772452524859,
          4.386251515810595,
          4.444730579096332,
          4.503209642382068,
          4.5616887056678035,
          4.620167768953539,
          4.678646832239276,
          4.737125895525012,
          4.795604958810748,
          4.854084022096484,
          4.91256308538222,
          4.971042148667957,
          5.029521211953693,
          5.088000275239429,
          5.146479338525165,
          5.2049584018109005,
          5.263437465096637,
          5.321916528382373,
          5.380395591668109,
          5.438874654953845,
          5.497353718239581,
          5.555832781525318,
          5.614311844811054,
          5.67279090809679,
          5.731269971382526,
          5.7897490346682625,
          5.8482280979539985,
          5.906707161239734,
          5.96518622452547,
          6.023665287811206,
          6.082144351096943,
          6.140623414382679,
          6.199102477668415,
          6.257581540954151,
          6.316060604239887,
          6.374539667525624,
          6.4330187308113596,
          6.4914977940970955,
          6.549976857382831,
          6.608455920668567,
          6.666934983954304,
          6.72541404724004,
          6.783893110525776,
          6.842372173811512,
          6.900851237097249,
          6.959330300382985,
          7.017809363668721,
          7.076288426954457,
          7.1347674902401925,
          7.193246553525929,
          7.251725616811665,
          7.310204680097401,
          7.368683743383137,
          7.427162806668873,
          7.48564186995461,
          7.544120933240346,
          7.602599996526082,
          7.661079059811818,
          7.719558123097554,
          7.7780371863832904,
          7.8365162496690255,
          7.894995312954763,
          7.953474376240499,
          8.011953439526234,
          8.07043250281197,
          8.128911566097706,
          8.187390629383442,
          8.245869692669178,
          8.304348755954914,
          8.36282781924065,
          8.421306882526387,
          8.479785945812123,
          8.53826500909786,
          8.596744072383595,
          8.655223135669331,
          8.713702198955067,
          8.772181262240803,
          8.830660325526539,
          8.889139388812275,
          8.94761845209801,
          9.006097515383749,
          9.064576578669485,
          9.12305564195522,
          9.181534705240956,
          9.240013768526692,
          9.298492831812428,
          9.356971895098164,
          9.4154509583839,
          9.473930021669636,
          9.532409084955374,
          9.59088814824111,
          9.649367211526846,
          9.707846274812582,
          9.766325338098317,
          9.824804401384053,
          9.88328346466979,
          9.941762527955525,
          10.000241591241261,
          10.058720654526997,
          10.117199717812735,
          10.17567878109847,
          10.234157844384207,
          10.292636907669943,
          10.351115970955679,
          10.409595034241415,
          10.46807409752715,
          10.526553160812886,
          10.585032224098622,
          10.64351128738436,
          10.701990350670096,
          10.760469413955832,
          10.818948477241568,
          10.877427540527304,
          10.93590660381304,
          10.994385667098776,
          11.052864730384512,
          11.111343793670247,
          11.169822856955983,
          11.228301920241721,
          11.286780983527457,
          11.345260046813193,
          11.403739110098929,
          11.462218173384665
         ],
         "y": [
          0.00009633867376220282,
          0.001398283929835891,
          0.008214444535786973,
          0.021005342411001018,
          0.02761242881465187,
          0.025448689404637046,
          0.02130881196512246,
          0.019264000521528647,
          0.020997068535708638,
          0.023075671328048424,
          0.022869425375282054,
          0.022224459519559762,
          0.02306003615451296,
          0.02255298311429604,
          0.01973381107616641,
          0.019954455768668777,
          0.025789538481319818,
          0.033785770114073584,
          0.0393137477766921,
          0.0412342090652489,
          0.04131044237130223,
          0.04139309111800826,
          0.04208458387450322,
          0.04222281043943551,
          0.04411013504989035,
          0.04958770524171597,
          0.056394289298152316,
          0.06247129949403015,
          0.06815908668203861,
          0.07219637969497066,
          0.07473821052524204,
          0.07239419494824423,
          0.06779284396023849,
          0.06996266856687434,
          0.07432697058060664,
          0.07686783329478543,
          0.08124692626676643,
          0.08458545367939536,
          0.08672267362347036,
          0.08792222555296657,
          0.09023405205271658,
          0.0936205606297995,
          0.09468562118481155,
          0.09759279445639213,
          0.10247708586868752,
          0.10583005288868816,
          0.11180623276876205,
          0.12292663170718716,
          0.1336575021146002,
          0.1398403417258744,
          0.14585589722823403,
          0.1551351865466174,
          0.16656838391262513,
          0.17866109117126133,
          0.1886500922825464,
          0.1950168110486168,
          0.19876935437715332,
          0.20216946007642753,
          0.20745947785110083,
          0.21240617595907527,
          0.21711080718774112,
          0.2214638676086447,
          0.2229794713533034,
          0.22277758866619823,
          0.22575119057658588,
          0.2323197828545508,
          0.23865208832277643,
          0.242869493873857,
          0.24500007605235294,
          0.2468990715185185,
          0.2492724406238366,
          0.25157585253883724,
          0.25525212518061835,
          0.2603481203374663,
          0.2635719343456619,
          0.2648773563295147,
          0.26799789358245585,
          0.2724666954322535,
          0.2742407071572316,
          0.27140675487324606,
          0.2654633335389809,
          0.26283203266611616,
          0.26599995119335385,
          0.2703212045152808,
          0.27270705007736334,
          0.27287232981590304,
          0.26890216025632996,
          0.2606048297814833,
          0.25294997280200504,
          0.25086401821500603,
          0.25200536487190933,
          0.2542137684835798,
          0.2546638251413924,
          0.24399950391989247,
          0.22181887687854432,
          0.19923643361747137,
          0.1822410365929222,
          0.17062093831174233,
          0.16264222007487059,
          0.1552135672127323,
          0.14722631342821213,
          0.14043719889689954,
          0.13720655182257896,
          0.13798399386063634,
          0.13915719694707349,
          0.13912443504845112,
          0.1406034912457608,
          0.14410231781338514,
          0.14538668747020164,
          0.1381395500902382,
          0.12220479242190822,
          0.10624909268941457,
          0.09505318031219336,
          0.08620622319959889,
          0.07675843899453764,
          0.06644589346761995,
          0.058292365950462756,
          0.05391522515082389,
          0.053847797488763616,
          0.05671183421084629,
          0.05772986975930639,
          0.05321900080747875,
          0.04462054425610417,
          0.03758415543929859,
          0.03400561272039887,
          0.03137352426982028,
          0.029267080562745202,
          0.02828700522741074,
          0.027240471684312706,
          0.02441357752524234,
          0.02009372226978778,
          0.016879084942448185,
          0.015217974221539332,
          0.014355823019682416,
          0.013417028647784527,
          0.011399499717857984,
          0.009263790357925633,
          0.007722174670173615,
          0.006618902665040253,
          0.006456462774515606,
          0.006634298579716063,
          0.005781274014167162,
          0.004293325679738894,
          0.003577075190574609,
          0.00415649963609997,
          0.004545713771413148,
          0.004014293208076326,
          0.003972921184635672,
          0.004631336383352696,
          0.004909403056331892,
          0.004613888439539782,
          0.003730270084377486,
          0.0023267715899918406,
          0.0010616429507552814,
          0.00039136526702129593,
          0.00018286743453440195,
          0.00012244793101489005,
          0.00009091959630709798,
          0.00007245215476255019,
          0.00008672688825921738,
          0.00010525999511698473,
          0.0000721616462575973,
          0.00003159366718364069,
          0.000019661839913082793,
          0.00003920120901453475,
          0.00011766482392675765,
          0.0002304736733844894,
          0.00019768352633696513,
          0.00006728763100844264,
          0.00001212657445290466,
          0.000005347912783784832,
          0.000004703547601623769,
          0.0000036097394598450247,
          0.0000019739004617648057,
          8.76594168043103e-7,
          4.955534387132306e-7,
          6.038024749725929e-7,
          6.061269297399971e-7,
          8.537353025116705e-7,
          0.0000018701723234859616,
          0.0000025217822703715925,
          0.0000016745851401874953,
          4.854334955622074e-7,
          1.6681380686983342e-7,
          5.013015983938673e-7,
          9.59033048739019e-7,
          8.967924307416841e-7,
          4.025527532437802e-7,
          7.763928318776623e-8,
          5.8781065648798954e-9,
          1.674683764662504e-10,
          3.91280970463995e-12,
          1.9478736837110896e-10,
          6.49522971727296e-9,
          7.956928636886052e-8,
          3.580950536177062e-7,
          5.920427838094347e-7,
          3.5959179425478767e-7,
          8.023583272167599e-8,
          6.577015518835587e-9
         ]
        },
        {
         "line": {
          "color": "rgba(255, 165, 0, 255)"
         },
         "mode": "lines",
         "name": "site_id=1",
         "type": "scatter",
         "x": [
          -0.2907377843724164,
          -0.25109601539862814,
          -0.2114542464248399,
          -0.17181247745105163,
          -0.1321707084772634,
          -0.09252893950347515,
          -0.05288717052968689,
          -0.01324540155589865,
          0.026396367417889588,
          0.06603813639167783,
          0.10567990536546606,
          0.1453216743392543,
          0.1849634433130426,
          0.22460521228683084,
          0.2642469812606191,
          0.3038887502344073,
          0.34353051920819555,
          0.3831722881819838,
          0.422814057155772,
          0.46245582612956027,
          0.5020975951033485,
          0.5417393640771367,
          0.581381133050925,
          0.6210229020247132,
          0.6606646709985016,
          0.7003064399722898,
          0.739948208946078,
          0.7795899779198663,
          0.8192317468936545,
          0.8588735158674428,
          0.898515284841231,
          0.9381570538150192,
          0.9777988227888075,
          1.0174405917625957,
          1.057082360736384,
          1.0967241297101722,
          1.1363658986839604,
          1.1760076676577487,
          1.215649436631537,
          1.2552912056053251,
          1.2949329745791134,
          1.3345747435529016,
          1.3742165125266899,
          1.413858281500478,
          1.4535000504742663,
          1.4931418194480546,
          1.5327835884218428,
          1.572425357395631,
          1.6120671263694195,
          1.6517088953432078,
          1.691350664316996,
          1.7309924332907842,
          1.7706342022645725,
          1.8102759712383607,
          1.849917740212149,
          1.8895595091859372,
          1.9292012781597254,
          1.9688430471335137,
          2.008484816107302,
          2.04812658508109,
          2.0877683540548784,
          2.1274101230286666,
          2.167051892002455,
          2.206693660976243,
          2.2463354299500313,
          2.2859771989238196,
          2.325618967897608,
          2.365260736871396,
          2.4049025058451843,
          2.4445442748189725,
          2.4841860437927608,
          2.523827812766549,
          2.5634695817403372,
          2.6031113507141255,
          2.6427531196879137,
          2.682394888661702,
          2.72203665763549,
          2.7616784266092784,
          2.8013201955830667,
          2.840961964556855,
          2.880603733530643,
          2.9202455025044314,
          2.9598872714782196,
          2.999529040452008,
          3.039170809425796,
          3.0788125783995843,
          3.1184543473733726,
          3.158096116347161,
          3.197737885320949,
          3.2373796542947373,
          3.2770214232685255,
          3.3166631922423138,
          3.356304961216102,
          3.3959467301898902,
          3.4355884991636785,
          3.4752302681374667,
          3.5148720371112554,
          3.5545138060850436,
          3.594155575058832,
          3.63379734403262,
          3.6734391130064084,
          3.7130808819801966,
          3.752722650953985,
          3.792364419927773,
          3.8320061889015613,
          3.8716479578753495,
          3.911289726849138,
          3.950931495822926,
          3.9905732647967143,
          4.030215033770503,
          4.06985680274429,
          4.109498571718079,
          4.149140340691867,
          4.188782109665656,
          4.228423878639443,
          4.268065647613232,
          4.30770741658702,
          4.347349185560809,
          4.386990954534596,
          4.426632723508385,
          4.466274492482173,
          4.505916261455962,
          4.545558030429749,
          4.585199799403538,
          4.624841568377326,
          4.664483337351115,
          4.704125106324902,
          4.743766875298691,
          4.783408644272479,
          4.823050413246268,
          4.862692182220055,
          4.902333951193844,
          4.9419757201676315,
          4.981617489141421,
          5.021259258115208,
          5.060901027088997,
          5.1005427960627845,
          5.140184565036574,
          5.179826334010361,
          5.21946810298415,
          5.259109871957937,
          5.298751640931727,
          5.338393409905514,
          5.378035178879303,
          5.41767694785309,
          5.4573187168268795,
          5.496960485800667,
          5.536602254774456,
          5.576244023748243,
          5.6158857927220325,
          5.65552756169582,
          5.695169330669609,
          5.734811099643396,
          5.774452868617185,
          5.814094637590973,
          5.853736406564762,
          5.893378175538549,
          5.933019944512338,
          5.972661713486126,
          6.012303482459915,
          6.051945251433702,
          6.091587020407491,
          6.131228789381279,
          6.170870558355068,
          6.210512327328855,
          6.250154096302644,
          6.289795865276432,
          6.329437634250221,
          6.369079403224008,
          6.408721172197797,
          6.448362941171585,
          6.488004710145374,
          6.527646479119161,
          6.56728824809295,
          6.6069300170667375,
          6.646571786040527,
          6.686213555014314,
          6.725855323988103,
          6.7654970929618905,
          6.80513886193568,
          6.844780630909467,
          6.884422399883256,
          6.9240641688570435,
          6.963705937830833,
          7.00334770680462,
          7.042989475778409,
          7.082631244752196,
          7.1222730137259855,
          7.161914782699773,
          7.201556551673562,
          7.241198320647349,
          7.2808400896211385,
          7.320481858594928,
          7.360123627568715,
          7.399765396542504,
          7.439407165516291,
          7.479048934490081,
          7.518690703463868,
          7.558332472437657,
          7.597974241411444
         ],
         "y": [
          0.0004410279868582281,
          0.001392170472069225,
          0.0037524486110264077,
          0.008643147070731867,
          0.017028873331914822,
          0.028732803811366538,
          0.041579854498277745,
          0.05169620863281075,
          0.05533335044098463,
          0.05110511879162445,
          0.04083198452365417,
          0.028309382295479864,
          0.017127380485358334,
          0.009240126588114118,
          0.005001618267760672,
          0.004158696464665063,
          0.006843995348883599,
          0.013810471083096541,
          0.025581441785369245,
          0.04090861860532156,
          0.05585724163914065,
          0.06496603321799345,
          0.06432069247461458,
          0.054197639443810744,
          0.0388642696878037,
          0.02371872418124182,
          0.012326174839610708,
          0.005472883367491923,
          0.0021259036007619204,
          0.0008461780110336877,
          0.0005972787980882956,
          0.0008549763929567285,
          0.0013901000173156658,
          0.002044855947940982,
          0.0026408581298659486,
          0.0030252507741663688,
          0.0031705647082913603,
          0.003211400567415489,
          0.0033677189063618914,
          0.0038216760124968607,
          0.0046765756035071744,
          0.006088223626528281,
          0.008523359450617033,
          0.012877319368835984,
          0.020047087086701755,
          0.029881593227324706,
          0.0402549486873513,
          0.047473228046858704,
          0.04831749174620369,
          0.0422680992445189,
          0.031910899083464755,
          0.021161869889888375,
          0.012972014307957117,
          0.008306688031570999,
          0.006642389835800168,
          0.006995423588112151,
          0.008593056748400217,
          0.011010962585137993,
          0.014022288548625972,
          0.017416077856948833,
          0.02092732637046556,
          0.024300923870603827,
          0.027386964056740508,
          0.03012390741939462,
          0.03239908078341565,
          0.03396287514273838,
          0.034563311728894576,
          0.03422427219301196,
          0.03340217005125897,
          0.0328744702333813,
          0.03349474822141088,
          0.036037719716453684,
          0.04116350654475813,
          0.04932269315985033,
          0.06047638299788151,
          0.07378667345356751,
          0.08763495731461096,
          0.10016065806908266,
          0.11005893732710584,
          0.11709635807741411,
          0.12203817480156537,
          0.12616804927831543,
          0.1307773529817629,
          0.13681493213690532,
          0.14470836088565472,
          0.154390859791472,
          0.1655540984634917,
          0.17795107060071122,
          0.1914748270254928,
          0.20597025631340615,
          0.22103003766490673,
          0.23599834002753753,
          0.25013140650948384,
          0.26271774753109234,
          0.27308841972762216,
          0.28065205173918695,
          0.285102777259745,
          0.2867232584110581,
          0.2864887723646562,
          0.28577162432329295,
          0.2858175927072742,
          0.28740680102990374,
          0.2908860905361673,
          0.2962996334472607,
          0.30324508999884214,
          0.31052763391131016,
          0.3161404994020112,
          0.3179603104403037,
          0.31487339315424856,
          0.3075284319626782,
          0.2981080082443671,
          0.28926901333611543,
          0.282988829797466,
          0.279957805916625,
          0.279623964084346,
          0.2806321076601596,
          0.28140169544729693,
          0.28066961001119917,
          0.277834623947912,
          0.2730529231031319,
          0.26721558877891577,
          0.2618499393416069,
          0.25870656267775294,
          0.2589278653606048,
          0.26230923894812747,
          0.26741404078187503,
          0.27264942455645247,
          0.2774876891264444,
          0.28280811493586355,
          0.2900253998588182,
          0.299632765690942,
          0.31024420212893744,
          0.3188288162521128,
          0.32195284415144126,
          0.31725808667184746,
          0.30448523555647106,
          0.2857221777288192,
          0.2648013425083434,
          0.24600946034987733,
          0.2326415168275327,
          0.22606050999361557,
          0.22554112903275572,
          0.22868818687416462,
          0.23217266298597186,
          0.23278497189418987,
          0.2287530935693648,
          0.22077265706971755,
          0.2119362911925291,
          0.20634231155242852,
          0.20715520847437266,
          0.21524406213810024,
          0.228948772603009,
          0.24474705566797372,
          0.2583513247153676,
          0.26597851222934216,
          0.2656266835009704,
          0.2579400384772009,
          0.24608376966990708,
          0.23443626851364857,
          0.22664102953169926,
          0.22399980019777826,
          0.22498328162445197,
          0.22602936817045863,
          0.2232084776217146,
          0.21394831729969138,
          0.19795384168538638,
          0.1769322253649607,
          0.15354391515710053,
          0.13041270424497442,
          0.10964118982617956,
          0.09265432560809606,
          0.08007375780778521,
          0.07164155773576236,
          0.06637312908926411,
          0.06292580305086934,
          0.0599670573566205,
          0.05640625265137778,
          0.05156301969209264,
          0.04535334299912808,
          0.038370313080647055,
          0.03165361679764868,
          0.026164725894575365,
          0.022277800548459445,
          0.019631035493292988,
          0.017427049102809136,
          0.014955670414856258,
          0.01198044594687328,
          0.008764996467667195,
          0.00579682325251235,
          0.0034599215777505014,
          0.001873272955115851,
          0.0009299554660136276,
          0.0004293986332042877,
          0.00018689318650502745,
          0.00007715442616289775,
          0.000030067209586699265,
          0.000010907788414368855,
          0.0000036199099252409383,
          0.0000010813771176864402,
          2.871279972001039e-7
         ]
        },
        {
         "line": {
          "color": "rgba(255, 0, 0, 255)"
         },
         "mode": "lines",
         "name": "site_id=7",
         "type": "scatter",
         "x": [
          -0.3406009109493081,
          -0.2880316373823102,
          -0.23546236381531224,
          -0.1828930902483143,
          -0.13032381668131637,
          -0.07775454311431845,
          -0.025185269547320477,
          0.027384004019677444,
          0.07995327758667536,
          0.13252255115367328,
          0.1850918247206712,
          0.23766109828766913,
          0.29023037185466716,
          0.3427996454216651,
          0.395368918988663,
          0.4479381925556609,
          0.5005074661226588,
          0.5530767396896568,
          0.6056460132566547,
          0.6582152868236526,
          0.7107845603906505,
          0.7633538339576486,
          0.8159231075246464,
          0.8684923810916444,
          0.9210616546586424,
          0.9736309282256402,
          1.0262002017926384,
          1.078769475359636,
          1.131338748926634,
          1.183908022493632,
          1.23647729606063,
          1.2890465696276276,
          1.3416158431946257,
          1.3941851167616237,
          1.4467543903286217,
          1.4993236638956198,
          1.5518929374626174,
          1.6044622110296154,
          1.6570314845966134,
          1.709600758163611,
          1.762170031730609,
          1.814739305297607,
          1.867308578864605,
          1.9198778524316031,
          1.9724471259986007,
          2.0250163995655988,
          2.077585673132597,
          2.130154946699595,
          2.182724220266593,
          2.2352934938335904,
          2.2878627674005885,
          2.3404320409675865,
          2.3930013145345845,
          2.445570588101582,
          2.49813986166858,
          2.550709135235578,
          2.603278408802576,
          2.6558476823695742,
          2.708416955936572,
          2.76098622950357,
          2.813555503070568,
          2.866124776637566,
          2.9186940502045635,
          2.9712633237715615,
          3.0238325973385596,
          3.0764018709055576,
          3.1289711444725556,
          3.1815404180395532,
          3.2341096916065513,
          3.2866789651735493,
          3.3392482387405473,
          3.391817512307545,
          3.444386785874543,
          3.496956059441541,
          3.549525333008539,
          3.602094606575537,
          3.6546638801425346,
          3.7072331537095327,
          3.7598024272765302,
          3.8123717008435287,
          3.8649409744105263,
          3.917510247977525,
          3.9700795215445224,
          4.02264879511152,
          4.075218068678518,
          4.127787342245516,
          4.1803566158125145,
          4.232925889379512,
          4.28549516294651,
          4.338064436513508,
          4.390633710080506,
          4.443202983647504,
          4.495772257214502,
          4.548341530781499,
          4.600910804348498,
          4.6534800779154954,
          4.706049351482494,
          4.7586186250494915,
          4.811187898616489,
          4.863757172183488,
          4.916326445750485,
          4.968895719317483,
          5.021464992884481,
          5.074034266451479,
          5.126603540018477,
          5.179172813585475,
          5.2317420871524725,
          5.284311360719471,
          5.3368806342864685,
          5.389449907853467,
          5.442019181420465,
          5.494588454987462,
          5.547157728554461,
          5.599727002121458,
          5.652296275688457,
          5.704865549255454,
          5.757434822822452,
          5.81000409638945,
          5.862573369956448,
          5.9151426435234455,
          5.967711917090444,
          6.020281190657442,
          6.07285046422444,
          6.125419737791438,
          6.177989011358435,
          6.230558284925434,
          6.283127558492431,
          6.33569683205943,
          6.388266105626427,
          6.440835379193425,
          6.4934046527604234,
          6.545973926327421,
          6.5985431998944195,
          6.651112473461417,
          6.703681747028415,
          6.756251020595413,
          6.808820294162411,
          6.861389567729409,
          6.913958841296407,
          6.966528114863404,
          7.019097388430403,
          7.0716666619974005,
          7.124235935564398,
          7.1768052091313965,
          7.229374482698394,
          7.281943756265393,
          7.33451302983239,
          7.387082303399388,
          7.439651576966386,
          7.492220850533384,
          7.544790124100382,
          7.59735939766738,
          7.6499286712343775,
          7.702497944801375,
          7.7550672183683735,
          7.807636491935372,
          7.860205765502369,
          7.912775039069367,
          7.965344312636366,
          8.017913586203365,
          8.070482859770362,
          8.12305213333736,
          8.175621406904359,
          8.228190680471355,
          8.280759954038354,
          8.333329227605352,
          8.385898501172349,
          8.438467774739348,
          8.491037048306346,
          8.543606321873344,
          8.596175595440341,
          8.64874486900734,
          8.701314142574338,
          8.753883416141335,
          8.806452689708333,
          8.859021963275332,
          8.911591236842328,
          8.964160510409327,
          9.016729783976325,
          9.069299057543322,
          9.12186833111032,
          9.174437604677319,
          9.227006878244318,
          9.279576151811314,
          9.332145425378313,
          9.384714698945311,
          9.437283972512308,
          9.489853246079306,
          9.542422519646305,
          9.594991793213302,
          9.6475610667803,
          9.700130340347298,
          9.752699613914297,
          9.805268887481294,
          9.857838161048292,
          9.91040743461529,
          9.962976708182287,
          10.015545981749286,
          10.068115255316284,
          10.120684528883281
         ],
         "y": [
          0.000012405430329155833,
          0.000046426583659485366,
          0.00014326320548520603,
          0.00036516687867595133,
          0.0007705763235867402,
          0.0013501674244793848,
          0.0019723317833966326,
          0.0024168918502974167,
          0.002509842458402362,
          0.002250283363177031,
          0.0018052024736786923,
          0.0013813270474350365,
          0.0010995176860731234,
          0.0009641849091075018,
          0.0009130619456449075,
          0.0008816745596177349,
          0.0008385155822720879,
          0.0007853112141810726,
          0.0007377852516970704,
          0.0007058431091545973,
          0.0006860789556992105,
          0.0006677568425060837,
          0.0006423513832304363,
          0.000607615753058265,
          0.0005673300856465575,
          0.0005305482782405921,
          0.0005083878616415435,
          0.00050719601828453,
          0.0005237623615859161,
          0.0005473988253508096,
          0.0005660411370319162,
          0.0005713025400306261,
          0.0005612237192490057,
          0.0005407798100407578,
          0.0005191155678631868,
          0.0005044949295731033,
          0.0005007754658304875,
          0.0005076602048370536,
          0.0005231372480057725,
          0.0005450450937985762,
          0.0005703215119491856,
          0.0005937904337107148,
          0.0006096905533635005,
          0.0006154370275712671,
          0.0006136807282972813,
          0.0006114818130828056,
          0.0006181465177564741,
          0.0006412172814532476,
          0.000681074083241265,
          0.0007297089467979187,
          0.0007769723413653819,
          0.0008181473204303324,
          0.0008545912855075862,
          0.0008874601323620021,
          0.0009113783136009747,
          0.0009140131488701325,
          0.0008823666048116145,
          0.0008116320201513829,
          0.0007110130594450326,
          0.0006032724822786427,
          0.0005175122966833807,
          0.00047692223120442676,
          0.0004867661033048905,
          0.0005307412573393806,
          0.0005808221732431074,
          0.0006158949770730644,
          0.0006357041563487014,
          0.0006578899912077503,
          0.0006983079527057023,
          0.0007508962243208903,
          0.000787680712256335,
          0.0007814297344612039,
          0.0007295126209835789,
          0.000657122421362151,
          0.0006007401164443867,
          0.0005889795902317344,
          0.0006327406425323992,
          0.000724439819630728,
          0.0008423787948057609,
          0.0009580749120082413,
          0.0010451900670144442,
          0.0010891190825405852,
          0.0010941131221340603,
          0.00108080269264342,
          0.001072480968580392,
          0.0010813637687558555,
          0.0011073809829978147,
          0.0011542811787194124,
          0.0012754740191218195,
          0.0016924948073919488,
          0.0030599746758883674,
          0.006913387082898295,
          0.016084945011456436,
          0.034369051167386436,
          0.06449950574031987,
          0.1046328118259033,
          0.1459721278742565,
          0.17514318456123662,
          0.1815061543021155,
          0.16412263959950393,
          0.13232079404936878,
          0.09959223551557185,
          0.07630730184413846,
          0.06630578604292842,
          0.06778014217346853,
          0.07577632582601294,
          0.08421629368051914,
          0.0874219985518137,
          0.08187744667858379,
          0.06780551476637696,
          0.049062829170997094,
          0.030868529754614134,
          0.016998716392090073,
          0.00856913130531971,
          0.0048870235802993146,
          0.005229957810172193,
          0.010246678771211028,
          0.022213572981191494,
          0.04369509130967589,
          0.0748078718236965,
          0.11090722942370654,
          0.1435364280120977,
          0.16540604759110733,
          0.17592748394165006,
          0.1821416630632852,
          0.1933978459660777,
          0.21378585739268213,
          0.23889760390476406,
          0.2602157132939718,
          0.2732852666166698,
          0.2817902976700897,
          0.29403436911172753,
          0.3162353660794661,
          0.3487916903435925,
          0.38657890739607104,
          0.4206181709473033,
          0.4401641429745298,
          0.4364943791121758,
          0.4077035360731755,
          0.3606379625117545,
          0.3074101771380722,
          0.2589011500753968,
          0.22024389059500393,
          0.19086013888907227,
          0.16768635823676217,
          0.14885331101171131,
          0.13615237924104548,
          0.13549558626991914,
          0.15448609552085443,
          0.19688049270301655,
          0.25638696037202074,
          0.3152798509343811,
          0.3522523660360136,
          0.3562067972186524,
          0.3347506488556,
          0.3090339347113995,
          0.2991695731800374,
          0.3122664245969462,
          0.34070886439301085,
          0.36980845700317555,
          0.38895345086823396,
          0.39842462770795084,
          0.4063274897775205,
          0.41902527211203566,
          0.4358964893305817,
          0.45342345291362784,
          0.47070210085122466,
          0.4874318758296872,
          0.49772166043946686,
          0.4895302250623671,
          0.45189744209421434,
          0.38314588054675436,
          0.2934031058860946,
          0.20020756067580772,
          0.12039094438406679,
          0.06331306357961916,
          0.029223786015295527,
          0.012503223540050743,
          0.006266151167705554,
          0.005159922282771807,
          0.005850141321913085,
          0.006522961731677384,
          0.00652860350994225,
          0.006218215419154042,
          0.006545976486958413,
          0.008321064870122135,
          0.011440537931972522,
          0.014634443551472386,
          0.01611412711205467,
          0.014834997563611941,
          0.011299149324519895,
          0.0070926404068043045,
          0.0036670502647311452,
          0.0015656447298583525,
          0.0005563025733165967,
          0.00016736487692759394,
          0.00004403401740043584,
          0.000010618604712850897,
          0.0000024457971305655913,
          5.395805348545143e-7
         ]
        },
        {
         "line": {
          "color": "rgba(128, 0, 128, 255)"
         },
         "mode": "lines",
         "name": "site_id=10",
         "type": "scatter",
         "x": [
          -0.23410771531520208,
          -0.1965211450641566,
          -0.15893457481311113,
          -0.12134800456206563,
          -0.08376143431102015,
          -0.046174864059974674,
          -0.00858829380892917,
          0.028998276442116278,
          0.06658484669316178,
          0.10417141694420728,
          0.14175798719525273,
          0.17934455744629824,
          0.21693112769734374,
          0.2545176979483892,
          0.29210426819943464,
          0.32969083845048014,
          0.36727740870152564,
          0.40486397895257115,
          0.44245054920361665,
          0.48003711945466204,
          0.5176236897057076,
          0.555210259956753,
          0.5927968302077986,
          0.630383400458844,
          0.6679699707098896,
          0.705556540960935,
          0.7431431112119804,
          0.780729681463026,
          0.8183162517140714,
          0.855902821965117,
          0.8934893922161624,
          0.931075962467208,
          0.9686625327182534,
          1.0062491029692988,
          1.0438356732203444,
          1.0814222434713898,
          1.1190088137224354,
          1.1565953839734808,
          1.1941819542245262,
          1.2317685244755718,
          1.2693550947266172,
          1.3069416649776628,
          1.3445282352287082,
          1.3821148054797536,
          1.4197013757307992,
          1.4572879459818446,
          1.4948745162328902,
          1.5324610864839356,
          1.5700476567349813,
          1.6076342269860266,
          1.645220797237072,
          1.6828073674881177,
          1.720393937739163,
          1.7579805079902087,
          1.795567078241254,
          1.8331536484922997,
          1.8707402187433448,
          1.9083267889943905,
          1.945913359245436,
          1.9834999294964812,
          2.021086499747527,
          2.0586730699985725,
          2.096259640249618,
          2.1338462105006633,
          2.171432780751709,
          2.2090193510027545,
          2.2466059212537997,
          2.2841924915048453,
          2.321779061755891,
          2.3593656320069365,
          2.3969522022579817,
          2.4345387725090273,
          2.472125342760073,
          2.509711913011118,
          2.5472984832621637,
          2.5848850535132093,
          2.6224716237642545,
          2.6600581940153,
          2.6976447642663457,
          2.7352313345173913,
          2.7728179047684365,
          2.810404475019482,
          2.8479910452705277,
          2.885577615521573,
          2.9231641857726185,
          2.960750756023664,
          2.9983373262747093,
          3.035923896525755,
          3.0735104667768005,
          3.111097037027846,
          3.1486836072788913,
          3.186270177529937,
          3.2238567477809825,
          3.2614433180320277,
          3.2990298882830733,
          3.336616458534119,
          3.3742030287851645,
          3.4117895990362097,
          3.4493761692872553,
          3.486962739538301,
          3.524549309789346,
          3.5621358800403917,
          3.5997224502914373,
          3.6373090205424825,
          3.674895590793528,
          3.7124821610445737,
          3.7500687312956194,
          3.7876553015466645,
          3.82524187179771,
          3.8628284420487558,
          3.9004150122998014,
          3.938001582550847,
          3.9755881528018917,
          4.013174723052937,
          4.0507612933039825,
          4.088347863555028,
          4.125934433806074,
          4.163521004057119,
          4.201107574308164,
          4.23869414455921,
          4.276280714810255,
          4.313867285061301,
          4.3514538553123465,
          4.389040425563392,
          4.426626995814438,
          4.4642135660654825,
          4.501800136316528,
          4.539386706567574,
          4.576973276818619,
          4.614559847069665,
          4.6521464173207105,
          4.689732987571756,
          4.727319557822801,
          4.7649061280738465,
          4.802492698324892,
          4.840079268575938,
          4.877665838826983,
          4.915252409078029,
          4.952838979329075,
          4.990425549580119,
          5.028012119831165,
          5.0655986900822105,
          5.103185260333256,
          5.140771830584302,
          5.178358400835347,
          5.215944971086392,
          5.253531541337438,
          5.291118111588483,
          5.328704681839529,
          5.366291252090575,
          5.40387782234162,
          5.441464392592666,
          5.4790509628437105,
          5.516637533094756,
          5.554224103345802,
          5.591810673596847,
          5.629397243847893,
          5.666983814098939,
          5.704570384349984,
          5.742156954601029,
          5.7797435248520745,
          5.81733009510312,
          5.854916665354166,
          5.892503235605211,
          5.930089805856257,
          5.967676376107303,
          6.005262946358347,
          6.042849516609393,
          6.080436086860439,
          6.118022657111484,
          6.15560922736253,
          6.193195797613575,
          6.23078236786462,
          6.268368938115666,
          6.305955508366711,
          6.343542078617757,
          6.381128648868803,
          6.418715219119848,
          6.456301789370894,
          6.4938883596219386,
          6.531474929872984,
          6.56906150012403,
          6.606648070375075,
          6.644234640626121,
          6.681821210877167,
          6.719407781128212,
          6.756994351379257,
          6.794580921630303,
          6.832167491881348,
          6.869754062132394,
          6.907340632383439,
          6.944927202634485,
          6.982513772885531,
          7.020100343136575,
          7.057686913387621,
          7.095273483638667,
          7.132860053889712,
          7.170446624140758,
          7.2080331943918035,
          7.245619764642848
         ],
         "y": [
          2.3581252570215142e-7,
          8.336692392317812e-7,
          0.000002566563654704167,
          0.000007007126836941837,
          0.00001723275382269353,
          0.00003842952210043293,
          0.00007733277040316367,
          0.00013880751745333294,
          0.0002200254537439141,
          0.00030758696370108805,
          0.0003836042175971676,
          0.0004376149950415142,
          0.00047237078877327224,
          0.0004981031366790107,
          0.0005242937075691064,
          0.0005589493612042893,
          0.0006136074813943871,
          0.000706124384052044,
          0.0008570935977597366,
          0.001082276719615283,
          0.0013888207862569229,
          0.001780009680752479,
          0.002259606683794222,
          0.0028239711643890577,
          0.003451207108544707,
          0.004108804222595421,
          0.004778549852013791,
          0.005478005264851651,
          0.006276712215180158,
          0.007328684931240607,
          0.008924538959304078,
          0.011492498350200747,
          0.015392485986240944,
          0.02044136250711422,
          0.025513141080839935,
          0.028861000193608325,
          0.029321810724411135,
          0.027543791176297155,
          0.026091179912491942,
          0.028160309993637236,
          0.035597521078579046,
          0.04725657474815708,
          0.05893668087646927,
          0.06581003893755241,
          0.06623837260910694,
          0.06359517417292208,
          0.06366060173631767,
          0.06949565307424917,
          0.07875863304435324,
          0.08631957339960945,
          0.08950141435688787,
          0.0902602174808872,
          0.09204847587595055,
          0.09544207538166834,
          0.09786175794858326,
          0.09708247880426452,
          0.09348540606026573,
          0.08858805537279257,
          0.08283424317981122,
          0.07584333544638727,
          0.06803823367900708,
          0.06091127148240309,
          0.055796315220869294,
          0.05300447426561965,
          0.05211307984787677,
          0.05264329391804483,
          0.05438055648883524,
          0.05731182584262677,
          0.061419484555421185,
          0.06648226259620138,
          0.07200118430864161,
          0.07737362436580948,
          0.08225339542515166,
          0.08672847183739256,
          0.0910035657892263,
          0.09489307670350847,
          0.09787340449698922,
          0.09987969837956792,
          0.10201470231347101,
          0.1062911617705777,
          0.11459546573685647,
          0.12782004846845074,
          0.14571942543155697,
          0.16724352725523653,
          0.19084615746539044,
          0.21456252630956,
          0.23601887063445426,
          0.2526857102040538,
          0.2625371054252956,
          0.26492886471671845,
          0.26122705996967677,
          0.254715123157925,
          0.2496009366590473,
          0.24943474713240862,
          0.25567254295627695,
          0.26712562581974475,
          0.2805872483062595,
          0.2923557194289635,
          0.2999606986483449,
          0.3032724791702503,
          0.3044641820662631,
          0.3069129064089433,
          0.31361778932074746,
          0.32577996442537205,
          0.3420582914795168,
          0.3589510511676174,
          0.3724782209204924,
          0.38048515585126225,
          0.3840031792079005,
          0.3864115625598356,
          0.3908792125702294,
          0.39815572907880215,
          0.40647125525351996,
          0.41331110228627255,
          0.41724409551907354,
          0.4183799616947699,
          0.4176875206941171,
          0.416308040725395,
          0.4153636104849708,
          0.4158023171474685,
          0.41787696585703604,
          0.42063469835441236,
          0.4220954906920766,
          0.42022530570446476,
          0.4140563309460493,
          0.404147177713131,
          0.3921437579515457,
          0.3799363068344483,
          0.3690668410299959,
          0.36054548701628986,
          0.3547804211112023,
          0.35143338399496354,
          0.349412295144939,
          0.34732672784712504,
          0.3443449230879939,
          0.3408398813177112,
          0.33811596533579164,
          0.3371681965863724,
          0.33738822445652933,
          0.3364274992347109,
          0.3315059278542322,
          0.32104927118802346,
          0.30519687999576617,
          0.2849324609546244,
          0.2609766893233292,
          0.2335982164973752,
          0.20332651985067962,
          0.17162832220109175,
          0.14081157780131662,
          0.11326406851731222,
          0.09063871478581895,
          0.073450543934058,
          0.06117391507117304,
          0.05269124682921808,
          0.0468253223843659,
          0.04266575629112063,
          0.039582866820396204,
          0.037102362658848184,
          0.03488611087927474,
          0.03286191086759846,
          0.03133180487200768,
          0.030885052332332703,
          0.03210614448804767,
          0.035224131479816796,
          0.039879632451749164,
          0.045109839961313535,
          0.04956696710313586,
          0.05192765089967542,
          0.05137190426537071,
          0.04791787984984132,
          0.042410307411973755,
          0.03614567644835171,
          0.030349666426766207,
          0.025790197044184796,
          0.02266818718606147,
          0.02073707360341649,
          0.019512754226462394,
          0.018461363505164013,
          0.01713017973252452,
          0.015244083023334612,
          0.0127768326034109,
          0.009955659640498975,
          0.007161002876415803,
          0.0047600272257928575,
          0.002972996173737351,
          0.001841453513156836,
          0.0012810494795311887,
          0.0011481945219447049,
          0.0012715258853391804,
          0.0014620133607545968,
          0.0015462661512082826,
          0.0014289367467969535,
          0.0011318616036646242,
          0.0007628829094063721,
          0.00043628801982513953,
          0.0002114840163205242,
          0.00008686130407023055,
          0.000030226730757687955,
          0.000008911610197997914,
          0.0000022256653496103437
         ]
        },
        {
         "line": {
          "color": "rgba(0, 128, 0, 255)"
         },
         "mode": "lines",
         "name": "site_id=13",
         "type": "scatter",
         "x": [
          -0.23074828895279184,
          -0.17460250378770273,
          -0.1184567186226136,
          -0.062310933457524476,
          -0.006165148292435363,
          0.04998063687265378,
          0.10612642203774289,
          0.162272207202832,
          0.21841799236792112,
          0.2745637775330102,
          0.33070956269809937,
          0.3868553478631884,
          0.4430011330282776,
          0.49914691819336665,
          0.5552927033584558,
          0.6114384885235449,
          0.667584273688634,
          0.7237300588537232,
          0.7798758440188123,
          0.8360216291839013,
          0.8921674143489906,
          0.9483131995140797,
          1.0044589846791687,
          1.0606047698442578,
          1.116750555009347,
          1.1728963401744361,
          1.2290421253395252,
          1.2851879105046145,
          1.3413336956697035,
          1.3974794808347926,
          1.4536252659998816,
          1.509771051164971,
          1.56591683633006,
          1.622062621495149,
          1.6782084066602383,
          1.7343541918253274,
          1.7904999769904164,
          1.8466457621555057,
          1.9027915473205945,
          1.9589373324856838,
          2.0150831176507733,
          2.071228902815862,
          2.1273746879809514,
          2.1835204731460407,
          2.2396662583111295,
          2.295812043476219,
          2.3519578286413076,
          2.408103613806397,
          2.464249398971486,
          2.520395184136575,
          2.5765409693016643,
          2.6326867544667536,
          2.6888325396318424,
          2.7449783247969317,
          2.801124109962021,
          2.85726989512711,
          2.913415680292199,
          2.9695614654572884,
          3.025707250622377,
          3.0818530357874665,
          3.1379988209525553,
          3.1941446061176446,
          3.250290391282734,
          3.3064361764478227,
          3.362581961612912,
          3.4187277467780013,
          3.47487353194309,
          3.5310193171081794,
          3.5871651022732687,
          3.6433108874383575,
          3.699456672603447,
          3.7556024577685356,
          3.811748242933625,
          3.867894028098714,
          3.9240398132638035,
          3.9801855984288927,
          4.036331383593981,
          4.09247716875907,
          4.14862295392416,
          4.204768739089249,
          4.260914524254338,
          4.317060309419427,
          4.373206094584516,
          4.429351879749605,
          4.4854976649146945,
          4.541643450079784,
          4.597789235244873,
          4.653935020409961,
          4.710080805575051,
          4.76622659074014,
          4.822372375905229,
          4.8785181610703185,
          4.934663946235407,
          4.990809731400496,
          5.0469555165655855,
          5.103101301730675,
          5.159247086895764,
          5.215392872060853,
          5.271538657225942,
          5.327684442391031,
          5.38383022755612,
          5.43997601272121,
          5.496121797886299,
          5.552267583051387,
          5.6084133682164765,
          5.664559153381566,
          5.720704938546655,
          5.776850723711744,
          5.832996508876834,
          5.889142294041922,
          5.945288079207011,
          6.001433864372101,
          6.05757964953719,
          6.113725434702279,
          6.169871219867368,
          6.226017005032457,
          6.282162790197546,
          6.338308575362635,
          6.394454360527725,
          6.450600145692814,
          6.506745930857902,
          6.562891716022992,
          6.619037501188081,
          6.67518328635317,
          6.731329071518259,
          6.787474856683349,
          6.843620641848437,
          6.899766427013526,
          6.955912212178616,
          7.012057997343705,
          7.068203782508794,
          7.124349567673883,
          7.180495352838972,
          7.236641138004061,
          7.2927869231691504,
          7.34893270833424,
          7.405078493499329,
          7.461224278664417,
          7.517370063829507,
          7.573515848994596,
          7.629661634159685,
          7.6858074193247745,
          7.741953204489863,
          7.798098989654952,
          7.8542447748200415,
          7.910390559985131,
          7.96653634515022,
          8.022682130315308,
          8.078827915480398,
          8.134973700645487,
          8.191119485810576,
          8.247265270975664,
          8.303411056140753,
          8.359556841305842,
          8.415702626470932,
          8.47184841163602,
          8.52799419680111,
          8.5841399819662,
          8.640285767131289,
          8.696431552296378,
          8.752577337461467,
          8.808723122626557,
          8.864868907791644,
          8.921014692956733,
          8.977160478121823,
          9.033306263286912,
          9.089452048452001,
          9.14559783361709,
          9.20174361878218,
          9.257889403947269,
          9.314035189112358,
          9.370180974277448,
          9.426326759442537,
          9.482472544607624,
          9.538618329772714,
          9.594764114937803,
          9.650909900102892,
          9.707055685267981,
          9.76320147043307,
          9.81934725559816,
          9.87549304076325,
          9.931638825928339,
          9.987784611093428,
          10.043930396258517,
          10.100076181423605,
          10.156221966588694,
          10.212367751753783,
          10.268513536918872,
          10.324659322083962,
          10.380805107249051,
          10.43695089241414,
          10.49309667757923,
          10.549242462744319,
          10.605388247909408,
          10.661534033074497,
          10.717679818239585,
          10.773825603404674,
          10.829971388569763,
          10.886117173734853,
          10.942262958899942
         ],
         "y": [
          7.510218141148805e-7,
          0.000005140339721046388,
          0.000021958611195904636,
          0.00005883230852553591,
          0.00010015369156195083,
          0.00011699062432944738,
          0.0001654761505211572,
          0.0006095352715200875,
          0.002363941841199896,
          0.006118469841702724,
          0.010272574389351178,
          0.011771951113898706,
          0.010300219862110993,
          0.008290969626764639,
          0.00795780754995062,
          0.01001005156788242,
          0.012727321969465322,
          0.013509938627499368,
          0.012058465169158072,
          0.01031039595081519,
          0.009875127033551414,
          0.010548709454886049,
          0.011095041476942902,
          0.010779686831920437,
          0.00977573093096604,
          0.00864476929581629,
          0.008285280229208745,
          0.010579856010565917,
          0.017697538859301566,
          0.02878258196729449,
          0.03797143534004814,
          0.039267234429483225,
          0.03279368756639214,
          0.023117100247545482,
          0.014919028794002628,
          0.010941494337908298,
          0.01057391472092118,
          0.011970630496778139,
          0.014619654811180195,
          0.018246506628879194,
          0.02271030609879944,
          0.028647676131304995,
          0.035975771748897926,
          0.04280752824769228,
          0.04684599034542945,
          0.0480536848528874,
          0.04838991518918876,
          0.04932647390930379,
          0.05148336051363268,
          0.05563233414229489,
          0.06240183653675567,
          0.07103304616280859,
          0.0797628062336672,
          0.08851422533275469,
          0.09985273359855266,
          0.11617801746342124,
          0.13725407115573482,
          0.16014872571214553,
          0.17992048753702644,
          0.19133884342411608,
          0.19271302865728987,
          0.18823187215786044,
          0.18327230069121223,
          0.17894955897071924,
          0.17619575977984298,
          0.17976505442339044,
          0.192068126830655,
          0.20892527904014965,
          0.22509074962782302,
          0.23835988965067492,
          0.24646960409417948,
          0.2466066321731657,
          0.2408301317822894,
          0.23709418585358746,
          0.24289318156968853,
          0.25891157585899055,
          0.2776212599106714,
          0.2893678026308015,
          0.29108248344451604,
          0.28614455668624295,
          0.2780920822744949,
          0.2690758887721871,
          0.2617531413480002,
          0.2586441811270179,
          0.2600380563000397,
          0.26442354892200637,
          0.2716210076457121,
          0.28350344184194165,
          0.3005306951873337,
          0.32022779780798877,
          0.3375254392627435,
          0.34490992185105523,
          0.33898142387856706,
          0.3265341121593288,
          0.3175129431717866,
          0.3155093058822927,
          0.316123076677771,
          0.311177847395671,
          0.2976644899303242,
          0.28155552319793153,
          0.26983002374786974,
          0.26248545855002026,
          0.25341681842481173,
          0.2377176660558002,
          0.21793079161176845,
          0.20079201294391213,
          0.189211423504372,
          0.18110559879057495,
          0.1737838677908535,
          0.16693689718051424,
          0.1624699820657655,
          0.16159034393527633,
          0.16215196841428095,
          0.1611006584225687,
          0.15773773148050443,
          0.1521880587998789,
          0.14407315194729495,
          0.13325789567026242,
          0.12054024642117057,
          0.10803658919706681,
          0.09876102559052137,
          0.09524433957043474,
          0.09736866702853862,
          0.10155528424446124,
          0.10352713927237317,
          0.10171698929434553,
          0.09743880202701634,
          0.09259225405896265,
          0.08748931961987998,
          0.08078856781696259,
          0.07162009188980896,
          0.060961067439934305,
          0.050667904764856865,
          0.04227404888714092,
          0.03627641404413085,
          0.03178822301115865,
          0.02771300998708506,
          0.02396910786256309,
          0.02096095180264424,
          0.018816594053500408,
          0.017647791795623563,
          0.017930492075857493,
          0.019722567033682394,
          0.02171538546718697,
          0.022538283206979006,
          0.022350789878362986,
          0.02154163943168655,
          0.019395983284075425,
          0.015662170528383854,
          0.011641837685331235,
          0.008597528496546498,
          0.0066680234180951006,
          0.005496279667029552,
          0.004740753157591355,
          0.004138894586098022,
          0.0035949816153990136,
          0.0031633777842595347,
          0.0028854634743619456,
          0.0026852307596512844,
          0.002443563115414397,
          0.0021375537695604236,
          0.001820961393087386,
          0.0015104714631594444,
          0.0011984862858636241,
          0.0008976785338673737,
          0.0006152799476174518,
          0.00035856421376311985,
          0.00016222903833901237,
          0.00005287628652586633,
          0.00001180260247476241,
          0.0000017468841920308576,
          1.6811287931376936e-7,
          1.3543074627309978e-8,
          3.50710611272496e-8,
          2.3202067353787292e-7,
          9.59144842891779e-7,
          0.0000024492869030690883,
          0.000003863443910142238,
          0.0000037643411972301367,
          0.0000022655975560474885,
          8.422789984081339e-7,
          1.9342321343818695e-7,
          2.7437253381584892e-8,
          2.404097580797123e-9,
          1.3011967879230341e-10,
          4.35088627690739e-12,
          1.4357985599332508e-13,
          2.763368668985525e-12,
          8.769786175773136e-11,
          1.7198820161522926e-9,
          2.0834724805559384e-8,
          1.5590365585281435e-7,
          7.206165759109411e-7,
          0.000002057461009863201,
          0.000003628594162570614,
          0.000003952979835539631,
          0.0000026600525605756195,
          0.0000011056947684495809,
          2.83896284757027e-7,
          4.502602219914831e-8
         ]
        }
       ],
       "layout": {
        "paper_bgcolor": "seashell",
        "template": {
         "data": {
          "bar": [
           {
            "error_x": {
             "color": "#2a3f5f"
            },
            "error_y": {
             "color": "#2a3f5f"
            },
            "marker": {
             "line": {
              "color": "#E5ECF6",
              "width": 0.5
             },
             "pattern": {
              "fillmode": "overlay",
              "size": 10,
              "solidity": 0.2
             }
            },
            "type": "bar"
           }
          ],
          "barpolar": [
           {
            "marker": {
             "line": {
              "color": "#E5ECF6",
              "width": 0.5
             },
             "pattern": {
              "fillmode": "overlay",
              "size": 10,
              "solidity": 0.2
             }
            },
            "type": "barpolar"
           }
          ],
          "carpet": [
           {
            "aaxis": {
             "endlinecolor": "#2a3f5f",
             "gridcolor": "white",
             "linecolor": "white",
             "minorgridcolor": "white",
             "startlinecolor": "#2a3f5f"
            },
            "baxis": {
             "endlinecolor": "#2a3f5f",
             "gridcolor": "white",
             "linecolor": "white",
             "minorgridcolor": "white",
             "startlinecolor": "#2a3f5f"
            },
            "type": "carpet"
           }
          ],
          "choropleth": [
           {
            "colorbar": {
             "outlinewidth": 0,
             "ticks": ""
            },
            "type": "choropleth"
           }
          ],
          "contour": [
           {
            "colorbar": {
             "outlinewidth": 0,
             "ticks": ""
            },
            "colorscale": [
             [
              0,
              "#0d0887"
             ],
             [
              0.1111111111111111,
              "#46039f"
             ],
             [
              0.2222222222222222,
              "#7201a8"
             ],
             [
              0.3333333333333333,
              "#9c179e"
             ],
             [
              0.4444444444444444,
              "#bd3786"
             ],
             [
              0.5555555555555556,
              "#d8576b"
             ],
             [
              0.6666666666666666,
              "#ed7953"
             ],
             [
              0.7777777777777778,
              "#fb9f3a"
             ],
             [
              0.8888888888888888,
              "#fdca26"
             ],
             [
              1,
              "#f0f921"
             ]
            ],
            "type": "contour"
           }
          ],
          "contourcarpet": [
           {
            "colorbar": {
             "outlinewidth": 0,
             "ticks": ""
            },
            "type": "contourcarpet"
           }
          ],
          "heatmap": [
           {
            "colorbar": {
             "outlinewidth": 0,
             "ticks": ""
            },
            "colorscale": [
             [
              0,
              "#0d0887"
             ],
             [
              0.1111111111111111,
              "#46039f"
             ],
             [
              0.2222222222222222,
              "#7201a8"
             ],
             [
              0.3333333333333333,
              "#9c179e"
             ],
             [
              0.4444444444444444,
              "#bd3786"
             ],
             [
              0.5555555555555556,
              "#d8576b"
             ],
             [
              0.6666666666666666,
              "#ed7953"
             ],
             [
              0.7777777777777778,
              "#fb9f3a"
             ],
             [
              0.8888888888888888,
              "#fdca26"
             ],
             [
              1,
              "#f0f921"
             ]
            ],
            "type": "heatmap"
           }
          ],
          "heatmapgl": [
           {
            "colorbar": {
             "outlinewidth": 0,
             "ticks": ""
            },
            "colorscale": [
             [
              0,
              "#0d0887"
             ],
             [
              0.1111111111111111,
              "#46039f"
             ],
             [
              0.2222222222222222,
              "#7201a8"
             ],
             [
              0.3333333333333333,
              "#9c179e"
             ],
             [
              0.4444444444444444,
              "#bd3786"
             ],
             [
              0.5555555555555556,
              "#d8576b"
             ],
             [
              0.6666666666666666,
              "#ed7953"
             ],
             [
              0.7777777777777778,
              "#fb9f3a"
             ],
             [
              0.8888888888888888,
              "#fdca26"
             ],
             [
              1,
              "#f0f921"
             ]
            ],
            "type": "heatmapgl"
           }
          ],
          "histogram": [
           {
            "marker": {
             "pattern": {
              "fillmode": "overlay",
              "size": 10,
              "solidity": 0.2
             }
            },
            "type": "histogram"
           }
          ],
          "histogram2d": [
           {
            "colorbar": {
             "outlinewidth": 0,
             "ticks": ""
            },
            "colorscale": [
             [
              0,
              "#0d0887"
             ],
             [
              0.1111111111111111,
              "#46039f"
             ],
             [
              0.2222222222222222,
              "#7201a8"
             ],
             [
              0.3333333333333333,
              "#9c179e"
             ],
             [
              0.4444444444444444,
              "#bd3786"
             ],
             [
              0.5555555555555556,
              "#d8576b"
             ],
             [
              0.6666666666666666,
              "#ed7953"
             ],
             [
              0.7777777777777778,
              "#fb9f3a"
             ],
             [
              0.8888888888888888,
              "#fdca26"
             ],
             [
              1,
              "#f0f921"
             ]
            ],
            "type": "histogram2d"
           }
          ],
          "histogram2dcontour": [
           {
            "colorbar": {
             "outlinewidth": 0,
             "ticks": ""
            },
            "colorscale": [
             [
              0,
              "#0d0887"
             ],
             [
              0.1111111111111111,
              "#46039f"
             ],
             [
              0.2222222222222222,
              "#7201a8"
             ],
             [
              0.3333333333333333,
              "#9c179e"
             ],
             [
              0.4444444444444444,
              "#bd3786"
             ],
             [
              0.5555555555555556,
              "#d8576b"
             ],
             [
              0.6666666666666666,
              "#ed7953"
             ],
             [
              0.7777777777777778,
              "#fb9f3a"
             ],
             [
              0.8888888888888888,
              "#fdca26"
             ],
             [
              1,
              "#f0f921"
             ]
            ],
            "type": "histogram2dcontour"
           }
          ],
          "mesh3d": [
           {
            "colorbar": {
             "outlinewidth": 0,
             "ticks": ""
            },
            "type": "mesh3d"
           }
          ],
          "parcoords": [
           {
            "line": {
             "colorbar": {
              "outlinewidth": 0,
              "ticks": ""
             }
            },
            "type": "parcoords"
           }
          ],
          "pie": [
           {
            "automargin": true,
            "type": "pie"
           }
          ],
          "scatter": [
           {
            "fillpattern": {
             "fillmode": "overlay",
             "size": 10,
             "solidity": 0.2
            },
            "type": "scatter"
           }
          ],
          "scatter3d": [
           {
            "line": {
             "colorbar": {
              "outlinewidth": 0,
              "ticks": ""
             }
            },
            "marker": {
             "colorbar": {
              "outlinewidth": 0,
              "ticks": ""
             }
            },
            "type": "scatter3d"
           }
          ],
          "scattercarpet": [
           {
            "marker": {
             "colorbar": {
              "outlinewidth": 0,
              "ticks": ""
             }
            },
            "type": "scattercarpet"
           }
          ],
          "scattergeo": [
           {
            "marker": {
             "colorbar": {
              "outlinewidth": 0,
              "ticks": ""
             }
            },
            "type": "scattergeo"
           }
          ],
          "scattergl": [
           {
            "marker": {
             "colorbar": {
              "outlinewidth": 0,
              "ticks": ""
             }
            },
            "type": "scattergl"
           }
          ],
          "scattermapbox": [
           {
            "marker": {
             "colorbar": {
              "outlinewidth": 0,
              "ticks": ""
             }
            },
            "type": "scattermapbox"
           }
          ],
          "scatterpolar": [
           {
            "marker": {
             "colorbar": {
              "outlinewidth": 0,
              "ticks": ""
             }
            },
            "type": "scatterpolar"
           }
          ],
          "scatterpolargl": [
           {
            "marker": {
             "colorbar": {
              "outlinewidth": 0,
              "ticks": ""
             }
            },
            "type": "scatterpolargl"
           }
          ],
          "scatterternary": [
           {
            "marker": {
             "colorbar": {
              "outlinewidth": 0,
              "ticks": ""
             }
            },
            "type": "scatterternary"
           }
          ],
          "surface": [
           {
            "colorbar": {
             "outlinewidth": 0,
             "ticks": ""
            },
            "colorscale": [
             [
              0,
              "#0d0887"
             ],
             [
              0.1111111111111111,
              "#46039f"
             ],
             [
              0.2222222222222222,
              "#7201a8"
             ],
             [
              0.3333333333333333,
              "#9c179e"
             ],
             [
              0.4444444444444444,
              "#bd3786"
             ],
             [
              0.5555555555555556,
              "#d8576b"
             ],
             [
              0.6666666666666666,
              "#ed7953"
             ],
             [
              0.7777777777777778,
              "#fb9f3a"
             ],
             [
              0.8888888888888888,
              "#fdca26"
             ],
             [
              1,
              "#f0f921"
             ]
            ],
            "type": "surface"
           }
          ],
          "table": [
           {
            "cells": {
             "fill": {
              "color": "#EBF0F8"
             },
             "line": {
              "color": "white"
             }
            },
            "header": {
             "fill": {
              "color": "#C8D4E3"
             },
             "line": {
              "color": "white"
             }
            },
            "type": "table"
           }
          ]
         },
         "layout": {
          "annotationdefaults": {
           "arrowcolor": "#2a3f5f",
           "arrowhead": 0,
           "arrowwidth": 1
          },
          "autotypenumbers": "strict",
          "coloraxis": {
           "colorbar": {
            "outlinewidth": 0,
            "ticks": ""
           }
          },
          "colorscale": {
           "diverging": [
            [
             0,
             "#8e0152"
            ],
            [
             0.1,
             "#c51b7d"
            ],
            [
             0.2,
             "#de77ae"
            ],
            [
             0.3,
             "#f1b6da"
            ],
            [
             0.4,
             "#fde0ef"
            ],
            [
             0.5,
             "#f7f7f7"
            ],
            [
             0.6,
             "#e6f5d0"
            ],
            [
             0.7,
             "#b8e186"
            ],
            [
             0.8,
             "#7fbc41"
            ],
            [
             0.9,
             "#4d9221"
            ],
            [
             1,
             "#276419"
            ]
           ],
           "sequential": [
            [
             0,
             "#0d0887"
            ],
            [
             0.1111111111111111,
             "#46039f"
            ],
            [
             0.2222222222222222,
             "#7201a8"
            ],
            [
             0.3333333333333333,
             "#9c179e"
            ],
            [
             0.4444444444444444,
             "#bd3786"
            ],
            [
             0.5555555555555556,
             "#d8576b"
            ],
            [
             0.6666666666666666,
             "#ed7953"
            ],
            [
             0.7777777777777778,
             "#fb9f3a"
            ],
            [
             0.8888888888888888,
             "#fdca26"
            ],
            [
             1,
             "#f0f921"
            ]
           ],
           "sequentialminus": [
            [
             0,
             "#0d0887"
            ],
            [
             0.1111111111111111,
             "#46039f"
            ],
            [
             0.2222222222222222,
             "#7201a8"
            ],
            [
             0.3333333333333333,
             "#9c179e"
            ],
            [
             0.4444444444444444,
             "#bd3786"
            ],
            [
             0.5555555555555556,
             "#d8576b"
            ],
            [
             0.6666666666666666,
             "#ed7953"
            ],
            [
             0.7777777777777778,
             "#fb9f3a"
            ],
            [
             0.8888888888888888,
             "#fdca26"
            ],
            [
             1,
             "#f0f921"
            ]
           ]
          },
          "colorway": [
           "#636efa",
           "#EF553B",
           "#00cc96",
           "#ab63fa",
           "#FFA15A",
           "#19d3f3",
           "#FF6692",
           "#B6E880",
           "#FF97FF",
           "#FECB52"
          ],
          "font": {
           "color": "#2a3f5f"
          },
          "geo": {
           "bgcolor": "white",
           "lakecolor": "white",
           "landcolor": "#E5ECF6",
           "showlakes": true,
           "showland": true,
           "subunitcolor": "white"
          },
          "hoverlabel": {
           "align": "left"
          },
          "hovermode": "closest",
          "mapbox": {
           "style": "light"
          },
          "paper_bgcolor": "white",
          "plot_bgcolor": "#E5ECF6",
          "polar": {
           "angularaxis": {
            "gridcolor": "white",
            "linecolor": "white",
            "ticks": ""
           },
           "bgcolor": "#E5ECF6",
           "radialaxis": {
            "gridcolor": "white",
            "linecolor": "white",
            "ticks": ""
           }
          },
          "scene": {
           "xaxis": {
            "backgroundcolor": "#E5ECF6",
            "gridcolor": "white",
            "gridwidth": 2,
            "linecolor": "white",
            "showbackground": true,
            "ticks": "",
            "zerolinecolor": "white"
           },
           "yaxis": {
            "backgroundcolor": "#E5ECF6",
            "gridcolor": "white",
            "gridwidth": 2,
            "linecolor": "white",
            "showbackground": true,
            "ticks": "",
            "zerolinecolor": "white"
           },
           "zaxis": {
            "backgroundcolor": "#E5ECF6",
            "gridcolor": "white",
            "gridwidth": 2,
            "linecolor": "white",
            "showbackground": true,
            "ticks": "",
            "zerolinecolor": "white"
           }
          },
          "shapedefaults": {
           "line": {
            "color": "#2a3f5f"
           }
          },
          "ternary": {
           "aaxis": {
            "gridcolor": "white",
            "linecolor": "white",
            "ticks": ""
           },
           "baxis": {
            "gridcolor": "white",
            "linecolor": "white",
            "ticks": ""
           },
           "bgcolor": "#E5ECF6",
           "caxis": {
            "gridcolor": "white",
            "linecolor": "white",
            "ticks": ""
           }
          },
          "title": {
           "x": 0.05
          },
          "xaxis": {
           "automargin": true,
           "gridcolor": "white",
           "linecolor": "white",
           "ticks": "",
           "title": {
            "standoff": 15
           },
           "zerolinecolor": "white",
           "zerolinewidth": 2
          },
          "yaxis": {
           "automargin": true,
           "gridcolor": "white",
           "linecolor": "white",
           "ticks": "",
           "title": {
            "standoff": 15
           },
           "zerolinecolor": "white",
           "zerolinewidth": 2
          }
         }
        },
        "xaxis": {
         "title": {
          "text": "Log-transformed Meter Reading"
         }
        },
        "yaxis": {
         "title": {
          "text": "Density"
         }
        }
       }
      }
     },
     "metadata": {},
     "output_type": "display_data"
    }
   ],
   "source": [
    "plt.figure(figsize=(15, 8))\n",
    "sns.set(style=\"whitegrid\")\n",
    "\n",
    "filtered_data = merged_data[merged_data['site_id'] == 1]\n",
    "sns.kdeplot(train_data['meter_reading_log'], color='blue', label='train_data', linewidth=4)\n",
    "sns.kdeplot(filtered_data['meter_reading_log'], color='orange', label='site_id=1', linewidth=2.5)\n",
    "sns.kdeplot(merged_data['meter_reading_log'].loc[merged_data['site_id'] == 7], color='red' ,label='site_id=7', linewidth=2.5)\n",
    "sns.kdeplot(merged_data['meter_reading_log'].loc[merged_data['site_id'] == 10], color='purple', label='site_id=10', linewidth=2.5)\n",
    "sns.kdeplot(merged_data['meter_reading_log'].loc[merged_data['site_id'] == 13], color='green', label='site_id=13', linewidth=2.5)\n",
    "\n",
    "plt.xlabel('Log-transformed Meter Reading')\n",
    "plt.ylabel('Density')\n",
    "plt.title('Distribution Plot with Filtered by site')\n",
    "plt.legend()\n",
    "\n",
    "fig5 = go.Figure()\n",
    "\n",
    "# Extract the lines from the Matplotlib plot\n",
    "for line in plt.gca().get_lines():\n",
    "    x, y = line.get_xydata().T\n",
    "    color = 'rgba({}, {}, {}, {})'.format(*[int(c * 255) for c in line.get_color()])  # Convert Matplotlib color tuple to Plotly format\n",
    "    fig5.add_trace(go.Scatter(x=x, y=y, mode='lines', line=dict(color=color), name=line.get_label()))\n",
    "\n",
    "# Close the Matplotlib plot to prevent it from being displayed in the notebook\n",
    "plt.close()\n",
    "\n",
    "fig5.update_layout(\n",
    "    xaxis_title='Log-transformed Meter Reading',\n",
    "    yaxis_title='Density',\n",
    "    paper_bgcolor='seashell'  # Set the color of the background\n",
    ")\n",
    "\n",
    "# Display the Plotly figure\n",
    "fig5.show()"
   ]
  },
  {
   "cell_type": "code",
   "execution_count": 20,
   "metadata": {},
   "outputs": [
    {
     "data": {
      "application/vnd.plotly.v1+json": {
       "config": {
        "plotlyServerURL": "https://plot.ly"
       },
       "data": [
        {
         "line": {
          "color": "rgba(0, 0, 255, 255)"
         },
         "mode": "lines",
         "name": "train_data",
         "type": "scatter",
         "x": [
          -0.1751154204768224,
          -0.11663635719108628,
          -0.05815729390535017,
          0.0003217693803859445,
          0.05880083266612207,
          0.1172798959518582,
          0.1757589592375943,
          0.23423802252333045,
          0.2927170858090665,
          0.3511961490948027,
          0.40967521238053883,
          0.468154275666275,
          0.526633338952011,
          0.5851124022377472,
          0.6435914655234833,
          0.7020705288092194,
          0.7605495920949555,
          0.8190286553806917,
          0.8775077186664277,
          0.9359867819521639,
          0.9944658452379,
          1.0529449085236362,
          1.1114239718093724,
          1.1699030350951083,
          1.2283820983808444,
          1.2868611616665806,
          1.3453402249523168,
          1.403819288238053,
          1.462298351523789,
          1.520777414809525,
          1.5792564780952612,
          1.6377355413809973,
          1.6962146046667335,
          1.7546936679524696,
          1.8131727312382058,
          1.871651794523942,
          1.9301308578096779,
          1.9886099210954142,
          2.04708898438115,
          2.105568047666886,
          2.1640471109526223,
          2.222526174238358,
          2.2810052375240946,
          2.3394843008098305,
          2.397963364095567,
          2.456442427381303,
          2.5149214906670387,
          2.573400553952775,
          2.631879617238511,
          2.6903586805242474,
          2.7488377438099834,
          2.8073168070957197,
          2.8657958703814557,
          2.9242749336671916,
          2.982753996952928,
          3.041233060238664,
          3.0997121235244003,
          3.158191186810136,
          3.216670250095872,
          3.2751493133816085,
          3.3336283766673445,
          3.392107439953081,
          3.4505865032388168,
          3.509065566524553,
          3.567544629810289,
          3.626023693096025,
          3.6845027563817614,
          3.7429818196674973,
          3.8014608829532337,
          3.85993994623897,
          3.918419009524706,
          3.976898072810442,
          4.035377136096178,
          4.093856199381914,
          4.152335262667651,
          4.210814325953387,
          4.269293389239123,
          4.327772452524859,
          4.386251515810595,
          4.444730579096332,
          4.503209642382068,
          4.5616887056678035,
          4.620167768953539,
          4.678646832239276,
          4.737125895525012,
          4.795604958810748,
          4.854084022096484,
          4.91256308538222,
          4.971042148667957,
          5.029521211953693,
          5.088000275239429,
          5.146479338525165,
          5.2049584018109005,
          5.263437465096637,
          5.321916528382373,
          5.380395591668109,
          5.438874654953845,
          5.497353718239581,
          5.555832781525318,
          5.614311844811054,
          5.67279090809679,
          5.731269971382526,
          5.7897490346682625,
          5.8482280979539985,
          5.906707161239734,
          5.96518622452547,
          6.023665287811206,
          6.082144351096943,
          6.140623414382679,
          6.199102477668415,
          6.257581540954151,
          6.316060604239887,
          6.374539667525624,
          6.4330187308113596,
          6.4914977940970955,
          6.549976857382831,
          6.608455920668567,
          6.666934983954304,
          6.72541404724004,
          6.783893110525776,
          6.842372173811512,
          6.900851237097249,
          6.959330300382985,
          7.017809363668721,
          7.076288426954457,
          7.1347674902401925,
          7.193246553525929,
          7.251725616811665,
          7.310204680097401,
          7.368683743383137,
          7.427162806668873,
          7.48564186995461,
          7.544120933240346,
          7.602599996526082,
          7.661079059811818,
          7.719558123097554,
          7.7780371863832904,
          7.8365162496690255,
          7.894995312954763,
          7.953474376240499,
          8.011953439526234,
          8.07043250281197,
          8.128911566097706,
          8.187390629383442,
          8.245869692669178,
          8.304348755954914,
          8.36282781924065,
          8.421306882526387,
          8.479785945812123,
          8.53826500909786,
          8.596744072383595,
          8.655223135669331,
          8.713702198955067,
          8.772181262240803,
          8.830660325526539,
          8.889139388812275,
          8.94761845209801,
          9.006097515383749,
          9.064576578669485,
          9.12305564195522,
          9.181534705240956,
          9.240013768526692,
          9.298492831812428,
          9.356971895098164,
          9.4154509583839,
          9.473930021669636,
          9.532409084955374,
          9.59088814824111,
          9.649367211526846,
          9.707846274812582,
          9.766325338098317,
          9.824804401384053,
          9.88328346466979,
          9.941762527955525,
          10.000241591241261,
          10.058720654526997,
          10.117199717812735,
          10.17567878109847,
          10.234157844384207,
          10.292636907669943,
          10.351115970955679,
          10.409595034241415,
          10.46807409752715,
          10.526553160812886,
          10.585032224098622,
          10.64351128738436,
          10.701990350670096,
          10.760469413955832,
          10.818948477241568,
          10.877427540527304,
          10.93590660381304,
          10.994385667098776,
          11.052864730384512,
          11.111343793670247,
          11.169822856955983,
          11.228301920241721,
          11.286780983527457,
          11.345260046813193,
          11.403739110098929,
          11.462218173384665
         ],
         "y": [
          0.00009633867376220282,
          0.001398283929835891,
          0.008214444535786973,
          0.021005342411001018,
          0.02761242881465187,
          0.025448689404637046,
          0.02130881196512246,
          0.019264000521528647,
          0.020997068535708638,
          0.023075671328048424,
          0.022869425375282054,
          0.022224459519559762,
          0.02306003615451296,
          0.02255298311429604,
          0.01973381107616641,
          0.019954455768668777,
          0.025789538481319818,
          0.033785770114073584,
          0.0393137477766921,
          0.0412342090652489,
          0.04131044237130223,
          0.04139309111800826,
          0.04208458387450322,
          0.04222281043943551,
          0.04411013504989035,
          0.04958770524171597,
          0.056394289298152316,
          0.06247129949403015,
          0.06815908668203861,
          0.07219637969497066,
          0.07473821052524204,
          0.07239419494824423,
          0.06779284396023849,
          0.06996266856687434,
          0.07432697058060664,
          0.07686783329478543,
          0.08124692626676643,
          0.08458545367939536,
          0.08672267362347036,
          0.08792222555296657,
          0.09023405205271658,
          0.0936205606297995,
          0.09468562118481155,
          0.09759279445639213,
          0.10247708586868752,
          0.10583005288868816,
          0.11180623276876205,
          0.12292663170718716,
          0.1336575021146002,
          0.1398403417258744,
          0.14585589722823403,
          0.1551351865466174,
          0.16656838391262513,
          0.17866109117126133,
          0.1886500922825464,
          0.1950168110486168,
          0.19876935437715332,
          0.20216946007642753,
          0.20745947785110083,
          0.21240617595907527,
          0.21711080718774112,
          0.2214638676086447,
          0.2229794713533034,
          0.22277758866619823,
          0.22575119057658588,
          0.2323197828545508,
          0.23865208832277643,
          0.242869493873857,
          0.24500007605235294,
          0.2468990715185185,
          0.2492724406238366,
          0.25157585253883724,
          0.25525212518061835,
          0.2603481203374663,
          0.2635719343456619,
          0.2648773563295147,
          0.26799789358245585,
          0.2724666954322535,
          0.2742407071572316,
          0.27140675487324606,
          0.2654633335389809,
          0.26283203266611616,
          0.26599995119335385,
          0.2703212045152808,
          0.27270705007736334,
          0.27287232981590304,
          0.26890216025632996,
          0.2606048297814833,
          0.25294997280200504,
          0.25086401821500603,
          0.25200536487190933,
          0.2542137684835798,
          0.2546638251413924,
          0.24399950391989247,
          0.22181887687854432,
          0.19923643361747137,
          0.1822410365929222,
          0.17062093831174233,
          0.16264222007487059,
          0.1552135672127323,
          0.14722631342821213,
          0.14043719889689954,
          0.13720655182257896,
          0.13798399386063634,
          0.13915719694707349,
          0.13912443504845112,
          0.1406034912457608,
          0.14410231781338514,
          0.14538668747020164,
          0.1381395500902382,
          0.12220479242190822,
          0.10624909268941457,
          0.09505318031219336,
          0.08620622319959889,
          0.07675843899453764,
          0.06644589346761995,
          0.058292365950462756,
          0.05391522515082389,
          0.053847797488763616,
          0.05671183421084629,
          0.05772986975930639,
          0.05321900080747875,
          0.04462054425610417,
          0.03758415543929859,
          0.03400561272039887,
          0.03137352426982028,
          0.029267080562745202,
          0.02828700522741074,
          0.027240471684312706,
          0.02441357752524234,
          0.02009372226978778,
          0.016879084942448185,
          0.015217974221539332,
          0.014355823019682416,
          0.013417028647784527,
          0.011399499717857984,
          0.009263790357925633,
          0.007722174670173615,
          0.006618902665040253,
          0.006456462774515606,
          0.006634298579716063,
          0.005781274014167162,
          0.004293325679738894,
          0.003577075190574609,
          0.00415649963609997,
          0.004545713771413148,
          0.004014293208076326,
          0.003972921184635672,
          0.004631336383352696,
          0.004909403056331892,
          0.004613888439539782,
          0.003730270084377486,
          0.0023267715899918406,
          0.0010616429507552814,
          0.00039136526702129593,
          0.00018286743453440195,
          0.00012244793101489005,
          0.00009091959630709798,
          0.00007245215476255019,
          0.00008672688825921738,
          0.00010525999511698473,
          0.0000721616462575973,
          0.00003159366718364069,
          0.000019661839913082793,
          0.00003920120901453475,
          0.00011766482392675765,
          0.0002304736733844894,
          0.00019768352633696513,
          0.00006728763100844264,
          0.00001212657445290466,
          0.000005347912783784832,
          0.000004703547601623769,
          0.0000036097394598450247,
          0.0000019739004617648057,
          8.76594168043103e-7,
          4.955534387132306e-7,
          6.038024749725929e-7,
          6.061269297399971e-7,
          8.537353025116705e-7,
          0.0000018701723234859616,
          0.0000025217822703715925,
          0.0000016745851401874953,
          4.854334955622074e-7,
          1.6681380686983342e-7,
          5.013015983938673e-7,
          9.59033048739019e-7,
          8.967924307416841e-7,
          4.025527532437802e-7,
          7.763928318776623e-8,
          5.8781065648798954e-9,
          1.674683764662504e-10,
          3.91280970463995e-12,
          1.9478736837110896e-10,
          6.49522971727296e-9,
          7.956928636886052e-8,
          3.580950536177062e-7,
          5.920427838094347e-7,
          3.5959179425478767e-7,
          8.023583272167599e-8,
          6.577015518835587e-9
         ]
        },
        {
         "line": {
          "color": "rgba(255, 165, 0, 255)"
         },
         "mode": "lines",
         "name": "primary_use=Education",
         "type": "scatter",
         "x": [
          -0.21993718181483876,
          -0.1610076485659065,
          -0.10207811531697425,
          -0.04314858206804198,
          0.015780951180890262,
          0.0747104844298225,
          0.1336400176787548,
          0.19256955092768704,
          0.25149908417661926,
          0.3104286174255515,
          0.36935815067448374,
          0.428287683923416,
          0.48721721717234834,
          0.5461467504212806,
          0.6050762836702128,
          0.6640058169191451,
          0.7229353501680773,
          0.7818648834170097,
          0.8407944166659418,
          0.8997239499148741,
          0.9586534831638063,
          1.0175830164127386,
          1.0765125496616708,
          1.1354420829106031,
          1.1943716161595355,
          1.2533011494084676,
          1.3122306826574,
          1.371160215906332,
          1.4300897491552644,
          1.4890192824041966,
          1.547948815653129,
          1.606878348902061,
          1.6658078821509934,
          1.7247374153999258,
          1.783666948648858,
          1.8425964818977902,
          1.9015260151467224,
          1.9604555483956545,
          2.0193850816445873,
          2.0783146148935194,
          2.1372441481424516,
          2.196173681391384,
          2.2551032146403163,
          2.3140327478892484,
          2.3729622811381805,
          2.431891814387113,
          2.4908213476360452,
          2.5497508808849774,
          2.60868041413391,
          2.667609947382842,
          2.726539480631774,
          2.7854690138807063,
          2.844398547129639,
          2.903328080378571,
          2.962257613627503,
          3.0211871468764353,
          3.080116680125368,
          3.1390462133743,
          3.197975746623232,
          3.2569052798721647,
          3.315834813121097,
          3.374764346370029,
          3.433693879618961,
          3.4926234128678937,
          3.551552946116826,
          3.610482479365758,
          3.6694120126146905,
          3.7283415458636227,
          3.7872710791125552,
          3.8462006123614874,
          3.9051301456104195,
          3.9640596788593516,
          4.022989212108284,
          4.081918745357216,
          4.140848278606148,
          4.199777811855081,
          4.258707345104013,
          4.317636878352945,
          4.376566411601877,
          4.43549594485081,
          4.494425478099742,
          4.553355011348674,
          4.612284544597607,
          4.671214077846539,
          4.730143611095471,
          4.789073144344403,
          4.848002677593335,
          4.9069322108422675,
          4.9658617440912,
          5.024791277340133,
          5.083720810589065,
          5.142650343837997,
          5.201579877086929,
          5.260509410335861,
          5.319438943584793,
          5.378368476833725,
          5.4372980100826585,
          5.496227543331591,
          5.555157076580523,
          5.614086609829455,
          5.673016143078387,
          5.731945676327319,
          5.790875209576251,
          5.849804742825183,
          5.908734276074116,
          5.9676638093230485,
          6.026593342571981,
          6.085522875820913,
          6.144452409069845,
          6.203381942318777,
          6.262311475567709,
          6.321241008816642,
          6.380170542065574,
          6.4391000753145065,
          6.498029608563439,
          6.556959141812371,
          6.615888675061303,
          6.674818208310235,
          6.733747741559168,
          6.7926772748081,
          6.851606808057032,
          6.910536341305964,
          6.9694658745548965,
          7.028395407803829,
          7.087324941052761,
          7.146254474301694,
          7.205184007550626,
          7.264113540799558,
          7.32304307404849,
          7.381972607297422,
          7.4409021405463545,
          7.499831673795287,
          7.55876120704422,
          7.617690740293152,
          7.676620273542084,
          7.735549806791016,
          7.794479340039949,
          7.853408873288881,
          7.912338406537813,
          7.971267939786745,
          8.030197473035678,
          8.08912700628461,
          8.148056539533542,
          8.206986072782474,
          8.265915606031406,
          8.324845139280338,
          8.38377467252927,
          8.442704205778202,
          8.501633739027135,
          8.560563272276067,
          8.619492805525,
          8.678422338773933,
          8.737351872022865,
          8.796281405271797,
          8.85521093852073,
          8.914140471769661,
          8.973070005018593,
          9.031999538267526,
          9.090929071516458,
          9.14985860476539,
          9.208788138014322,
          9.267717671263254,
          9.326647204512186,
          9.385576737761118,
          9.444506271010052,
          9.503435804258984,
          9.562365337507917,
          9.621294870756849,
          9.68022440400578,
          9.739153937254713,
          9.798083470503645,
          9.857013003752577,
          9.91594253700151,
          9.974872070250441,
          10.033801603499374,
          10.092731136748306,
          10.151660669997238,
          10.21059020324617,
          10.269519736495104,
          10.328449269744036,
          10.387378802992968,
          10.4463083362419,
          10.505237869490832,
          10.564167402739765,
          10.623096935988697,
          10.682026469237629,
          10.740956002486561,
          10.799885535735493,
          10.858815068984425,
          10.917744602233357,
          10.97667413548229,
          11.035603668731222,
          11.094533201980155,
          11.153462735229088,
          11.21239226847802,
          11.271321801726952,
          11.330251334975884,
          11.389180868224816,
          11.448110401473748,
          11.50703993472268
         ],
         "y": [
          0.00017305527046827283,
          0.0014771469528310867,
          0.006811690033646332,
          0.01757614636399726,
          0.02769058425421587,
          0.03156887308559936,
          0.03092242577296393,
          0.027497464300484217,
          0.023208689283066103,
          0.019772328240775724,
          0.01787719986719536,
          0.01833059839857453,
          0.0212431825637213,
          0.023581164873236606,
          0.020851116789826825,
          0.015834082212707917,
          0.015426890984821235,
          0.02040729894246824,
          0.025889061403155143,
          0.02837939110969176,
          0.02797961931013581,
          0.025959543725818168,
          0.024118823920587083,
          0.024667044627407857,
          0.029303627482868414,
          0.03820100478440962,
          0.04895624179028425,
          0.058014794088449055,
          0.06431212262053321,
          0.06876023885379125,
          0.07219654467722379,
          0.07438999542983339,
          0.0745938200283058,
          0.07396763512075896,
          0.07312266489188704,
          0.07154662614640965,
          0.07007905241470061,
          0.06911957538266447,
          0.0677328912656867,
          0.06552361587221742,
          0.062972319258152,
          0.061360433026628095,
          0.06150202765747388,
          0.06245967910277386,
          0.06265941592921122,
          0.06153579853185665,
          0.06002708903977159,
          0.060605202149410065,
          0.06445445002848826,
          0.06950791607784232,
          0.07465257011978457,
          0.08168649098424456,
          0.09187803286459674,
          0.10355718692370071,
          0.11278549407405487,
          0.11725013356579109,
          0.11947278098014567,
          0.12375189747638907,
          0.1324599290287658,
          0.14488241073550867,
          0.15807135244061057,
          0.16851437775074976,
          0.1739638192265159,
          0.17552181260553526,
          0.1769445665571482,
          0.1805772545974133,
          0.1870621062779546,
          0.19669193658941497,
          0.2076767315202181,
          0.2166513466839511,
          0.22294938434033643,
          0.22983545774495032,
          0.2395133856405767,
          0.2508140744977424,
          0.2614638008169709,
          0.2708237607615107,
          0.2806007988370983,
          0.29015416654741133,
          0.29505030170403523,
          0.29241913228498756,
          0.28447921308977037,
          0.27817464747490367,
          0.27898154864382346,
          0.2850862279066219,
          0.2910326267923592,
          0.2938466306934398,
          0.2929768432460786,
          0.28862871144565516,
          0.2826424020435587,
          0.27919543386248513,
          0.28133180973074423,
          0.28666472673458154,
          0.28691708302326957,
          0.27251399037212776,
          0.24419212451090472,
          0.21578056233945847,
          0.1990206233227624,
          0.1938453599860464,
          0.19325705791489342,
          0.18961687321761034,
          0.18021312343548393,
          0.16937372796684355,
          0.16324492928039513,
          0.16421560567589577,
          0.17100631164999738,
          0.1830474780723708,
          0.20100189238478505,
          0.2217085998052809,
          0.23501941912933708,
          0.22987753770997144,
          0.20673114898543238,
          0.17821276179069503,
          0.15471793048184487,
          0.13755356688258905,
          0.12299158600739776,
          0.10851297088165704,
          0.09556839826466966,
          0.08740894181885137,
          0.08735905732445413,
          0.09311345986604519,
          0.09434001257804653,
          0.0834048568275248,
          0.06533622911188067,
          0.05051387389502278,
          0.041874272980789655,
          0.03719647677045032,
          0.03576871410961054,
          0.036393819672880266,
          0.035608280445148154,
          0.031002796277989526,
          0.02445353195438975,
          0.02005631402238634,
          0.019218781182410317,
          0.0203993291000037,
          0.020861138718044965,
          0.019298136004424118,
          0.016931283461901963,
          0.014986300736629368,
          0.014116429731151724,
          0.014366152787673395,
          0.014085994545419834,
          0.012085762516476407,
          0.009794690515433578,
          0.009347475894633717,
          0.01035744135243171,
          0.010631487147561606,
          0.010266248067179655,
          0.010890848913217021,
          0.012040700514871841,
          0.012216042487249737,
          0.010884464376846545,
          0.008149141892411671,
          0.004854282127725298,
          0.0022713646063099125,
          0.0009336226903788454,
          0.00044907223238307585,
          0.0002866731594324969,
          0.0002156185540055006,
          0.00020061334477025804,
          0.00022146132152367658,
          0.00020192114172039693,
          0.00012767559689858102,
          0.00007274534744297418,
          0.00009148354206447297,
          0.00022057458615396707,
          0.00043075313509102536,
          0.0005087540003381136,
          0.0003350764849119187,
          0.00012340983280023982,
          0.00003184843748909256,
          0.000013486763295279983,
          0.000010244861548326024,
          0.000007023968023566588,
          0.0000037957141329252,
          0.0000019628354730542524,
          0.0000015153619402589409,
          0.0000016380489115455401,
          0.0000022072058847568993,
          0.000003838195270813269,
          0.000005452019845189321,
          0.000004905166012569864,
          0.000002620978259997881,
          0.0000010170015316193322,
          8.965166922464791e-7,
          0.0000012259283286158404,
          0.000001000454786519319,
          4.316481327465697e-7,
          9.77573257545882e-8,
          1.1616766864077468e-8,
          7.282366383050252e-10,
          1.8548657159895746e-10,
          3.4953601965076983e-9,
          3.961255605508581e-8,
          2.3557477144727313e-7,
          7.350709371356392e-7,
          0.000001203467171271158,
          0.0000010338172289177598,
          4.6596983719569587e-7,
          1.1019867349072307e-7,
          1.3674121998248946e-8
         ]
        },
        {
         "line": {
          "color": "rgba(135, 206, 235, 255)"
         },
         "mode": "lines",
         "name": "Lodging/residential",
         "type": "scatter",
         "x": [
          -0.19180990305571344,
          -0.14225177281861712,
          -0.09269364258152081,
          -0.043135512344424504,
          0.006422617892671817,
          0.05598074812976814,
          0.10553887836686443,
          0.15509700860396075,
          0.20465513884105707,
          0.2542132690781534,
          0.3037713993152497,
          0.353329529552346,
          0.4028876597894423,
          0.4524457900265386,
          0.5020039202636349,
          0.5515620505007313,
          0.6011201807378276,
          0.6506783109749239,
          0.7002364412120202,
          0.7497945714491165,
          0.7993527016862129,
          0.8489108319233092,
          0.8984689621604054,
          0.9480270923975018,
          0.997585222634598,
          1.0471433528716945,
          1.0967014831087907,
          1.146259613345887,
          1.1958177435829833,
          1.2453758738200797,
          1.294934004057176,
          1.3444921342942724,
          1.3940502645313686,
          1.4436083947684648,
          1.4931665250055612,
          1.5427246552426574,
          1.5922827854797539,
          1.64184091571685,
          1.6913990459539465,
          1.7409571761910427,
          1.7905153064281392,
          1.8400734366652354,
          1.8896315669023318,
          1.9391896971394282,
          1.9887478273765242,
          2.0383059576136207,
          2.087864087850717,
          2.1374222180878135,
          2.1869803483249095,
          2.236538478562006,
          2.2860966087991024,
          2.3356547390361984,
          2.385212869273295,
          2.434770999510391,
          2.4843291297474877,
          2.5338872599845836,
          2.58344539022168,
          2.6330035204587765,
          2.682561650695873,
          2.732119780932969,
          2.7816779111700654,
          2.831236041407162,
          2.880794171644258,
          2.930352301881354,
          2.9799104321184506,
          3.029468562355547,
          3.079026692592643,
          3.1285848228297395,
          3.178142953066836,
          3.2277010833039324,
          3.2772592135410283,
          3.3268173437781248,
          3.376375474015221,
          3.4259336042523176,
          3.4754917344894136,
          3.52504986472651,
          3.5746079949636065,
          3.624166125200703,
          3.673724255437799,
          3.7232823856748953,
          3.7728405159119918,
          3.822398646149088,
          3.871956776386184,
          3.92151490662328,
          3.971073036860377,
          4.0206311670974735,
          4.07018929733457,
          4.1197474275716655,
          4.169305557808762,
          4.218863688045859,
          4.268421818282954,
          4.317979948520051,
          4.367538078757148,
          4.417096208994243,
          4.46665433923134,
          4.516212469468437,
          4.565770599705532,
          4.615328729942629,
          4.664886860179726,
          4.714444990416821,
          4.764003120653918,
          4.813561250891015,
          4.86311938112811,
          4.912677511365207,
          4.9622356416023035,
          5.0117937718394,
          5.061351902076495,
          5.110910032313592,
          5.160468162550689,
          5.210026292787784,
          5.259584423024881,
          5.309142553261978,
          5.358700683499073,
          5.40825881373617,
          5.457816943973267,
          5.507375074210362,
          5.556933204447459,
          5.606491334684556,
          5.656049464921651,
          5.705607595158748,
          5.755165725395845,
          5.80472385563294,
          5.854281985870037,
          5.903840116107133,
          5.95339824634423,
          6.002956376581325,
          6.052514506818422,
          6.102072637055519,
          6.151630767292614,
          6.201188897529711,
          6.250747027766808,
          6.300305158003903,
          6.349863288241,
          6.399421418478097,
          6.448979548715192,
          6.498537678952289,
          6.548095809189386,
          6.597653939426481,
          6.647212069663578,
          6.696770199900675,
          6.74632833013777,
          6.7958864603748665,
          6.845444590611963,
          6.89500272084906,
          6.944560851086155,
          6.994118981323252,
          7.043677111560349,
          7.093235241797444,
          7.142793372034541,
          7.192351502271638,
          7.241909632508733,
          7.29146776274583,
          7.341025892982927,
          7.390584023220022,
          7.440142153457119,
          7.489700283694216,
          7.539258413931311,
          7.588816544168408,
          7.6383746744055045,
          7.6879328046426,
          7.7374909348796965,
          7.787049065116793,
          7.83660719535389,
          7.886165325590985,
          7.935723455828082,
          7.985281586065179,
          8.034839716302274,
          8.084397846539371,
          8.133955976776468,
          8.183514107013565,
          8.23307223725066,
          8.282630367487757,
          8.332188497724854,
          8.381746627961949,
          8.431304758199046,
          8.480862888436143,
          8.530421018673238,
          8.579979148910335,
          8.629537279147431,
          8.679095409384527,
          8.728653539621623,
          8.77821166985872,
          8.827769800095815,
          8.877327930332912,
          8.926886060570009,
          8.976444190807104,
          9.026002321044201,
          9.075560451281298,
          9.125118581518395,
          9.17467671175549,
          9.224234841992587,
          9.273792972229684,
          9.323351102466779,
          9.372909232703876,
          9.422467362940973,
          9.472025493178068,
          9.521583623415165,
          9.571141753652261,
          9.620699883889356,
          9.670258014126453
         ],
         "y": [
          0.00010044158750081867,
          0.0005962069519532875,
          0.0024071662759821352,
          0.006711875236989446,
          0.013200916143661739,
          0.018787753847239522,
          0.019840706261705733,
          0.015910006271929476,
          0.010118963487714183,
          0.0059109267298951655,
          0.00434954949042064,
          0.004651430657592225,
          0.005928844930568818,
          0.0077815515994421785,
          0.009991359686665731,
          0.012218086912489037,
          0.014074269567120936,
          0.015530616545821394,
          0.017055496244570808,
          0.01919459049827184,
          0.022277823444672606,
          0.026178412692913974,
          0.0300559577053358,
          0.033014081775606226,
          0.03468946190889931,
          0.03507434215029125,
          0.03460425414278213,
          0.03404723060536175,
          0.0337663568381176,
          0.033456991501122045,
          0.03282327644785268,
          0.03219479697233191,
          0.03227912782804528,
          0.033446031305987625,
          0.03544083577574896,
          0.037866164824604094,
          0.04063858187577203,
          0.0437116937204491,
          0.0467683791014842,
          0.04960486693041808,
          0.052393339106382095,
          0.05521342403671927,
          0.05794135501431914,
          0.06067458336289485,
          0.06355872790755727,
          0.06639486691216838,
          0.068941322046665,
          0.07117378681275895,
          0.07323646349574553,
          0.07588733419325096,
          0.08051683539656093,
          0.08778962901913907,
          0.0966990456693639,
          0.10557178953087012,
          0.11379421886015928,
          0.12209771866144291,
          0.13076437020728177,
          0.13795289824936707,
          0.14098693752897615,
          0.13959207197100248,
          0.1370769450412111,
          0.1378873226432924,
          0.1440127794731447,
          0.1539553555380533,
          0.1654440315360916,
          0.17833845621385624,
          0.19332422809619618,
          0.20884346153932482,
          0.22225407187563687,
          0.23320515527709065,
          0.2432829357893147,
          0.25350523533343405,
          0.2634017098768535,
          0.2714554450661463,
          0.2764178698092284,
          0.2785590096069763,
          0.2795075568070079,
          0.2808374171545184,
          0.28260829688686967,
          0.28414911278600447,
          0.28636304583631467,
          0.2908018853966446,
          0.29624282004638475,
          0.2993536555804592,
          0.29977000250026004,
          0.30206956030264503,
          0.31089555439359934,
          0.32518368372890416,
          0.3388760392204329,
          0.346689976253308,
          0.3478981874925799,
          0.34523431357910445,
          0.34156319334065094,
          0.33792555112991174,
          0.3334615850074563,
          0.3259407986610462,
          0.3134916111785933,
          0.2968573784886906,
          0.27935094568777846,
          0.26450524238632783,
          0.2540201263576292,
          0.24772897431193466,
          0.2448565244071531,
          0.24475729702729052,
          0.24699883123209915,
          0.25144968240348076,
          0.257644423943952,
          0.2633638031288712,
          0.2650744161743751,
          0.26100430018423315,
          0.2532260830773986,
          0.24605877873703189,
          0.2423493566022018,
          0.24130122983313726,
          0.24003884385262703,
          0.2368718122095844,
          0.2320017776559095,
          0.2255052456442796,
          0.2166479138041223,
          0.2050380705478728,
          0.19079292582733307,
          0.17412862497362913,
          0.15589621979668578,
          0.1382395384139892,
          0.12388655453763998,
          0.11391036161746658,
          0.10642788636472172,
          0.09868673339093724,
          0.09018533431655801,
          0.0825047314984991,
          0.07660364838609154,
          0.07155314655134726,
          0.06572249361580787,
          0.05835176831349814,
          0.04975925257213203,
          0.04073264017155038,
          0.03233664648277057,
          0.025728854584765773,
          0.021430688983635177,
          0.01887674388018265,
          0.017108980514559457,
          0.015806155992432895,
          0.014980543919978419,
          0.013921577477204381,
          0.011570449680438738,
          0.007949982532936243,
          0.004307969898740606,
          0.001792904517589184,
          0.0005666544723293446,
          0.00014061543657833167,
          0.000035368612500771664,
          0.000016921978162319365,
          0.000014217011396469026,
          0.000013404788397950691,
          0.000013122310008668807,
          0.000012756159673788107,
          0.000011851692513716489,
          0.000010756668299674123,
          0.000009157068101773548,
          0.000006665706555595058,
          0.000004450808901491127,
          0.000003939907033686001,
          0.0000045891999773702934,
          0.000004581853757344368,
          0.000003555280366421358,
          0.00000299931902976301,
          0.000003751534725028261,
          0.000004607702288086848,
          0.0000040659238030969425,
          0.0000024338136830535423,
          0.0000011575622650938472,
          0.000001134848321796555,
          0.0000024867144870745922,
          0.000004672507286290643,
          0.000006542000190464759,
          0.0000071677150188091825,
          0.000006310877862677611,
          0.000004304883549926404,
          0.000002136073037963337,
          7.484912694086085e-7,
          2.927943956606099e-7,
          6.840333609670635e-7,
          0.0000023388333987117027,
          0.0000055294538917108376,
          0.000008930993766577315,
          0.000010944371765528902,
          0.000013716269720445753,
          0.000021533789640646116,
          0.000032808620498339635,
          0.00003931949242970994,
          0.0000357005212745562,
          0.000024795568065973813,
          0.00001379083295079294,
          0.000007617998990045336,
          0.000005589440096400936,
          0.000004371125512354923,
          0.0000026056614901167514,
          0.0000010571828412127545,
          2.8506069566348077e-7,
          5.0853458798401595e-8
         ]
        },
        {
         "line": {
          "color": "rgba(255, 0, 0, 255)"
         },
         "mode": "lines",
         "name": "Office",
         "type": "scatter",
         "x": [
          -0.4952958846397728,
          -0.44974346353883166,
          -0.4041910424378905,
          -0.3586386213369493,
          -0.31308620023600814,
          -0.267533779135067,
          -0.22198135803412578,
          -0.17642893693318462,
          -0.13087651583224347,
          -0.08532409473130231,
          -0.03977167363036116,
          0.005780747470579994,
          0.05133316857152126,
          0.09688558967246241,
          0.14243801077340357,
          0.18799043187434472,
          0.23354285297528588,
          0.27909527407622703,
          0.3246476951771682,
          0.37020011627810934,
          0.4157525373790505,
          0.46130495847999176,
          0.5068573795809328,
          0.5524098006818741,
          0.5979622217828153,
          0.6435146428837564,
          0.6890670639846976,
          0.7346194850856387,
          0.7801719061865799,
          0.825724327287521,
          0.8712767483884623,
          0.9168291694894033,
          0.9623815905903446,
          1.0079340116912858,
          1.0534864327922269,
          1.0990388538931681,
          1.1445912749941092,
          1.1901436960950504,
          1.2356961171959915,
          1.2812485382969327,
          1.3268009593978738,
          1.372353380498815,
          1.4179058015997563,
          1.4634582227006974,
          1.5090106438016384,
          1.55456306490258,
          1.600115486003521,
          1.645667907104462,
          1.6912203282054035,
          1.7367727493063445,
          1.7823251704072856,
          1.8278775915082266,
          1.873430012609168,
          1.9189824337101091,
          1.9645348548110502,
          2.0100872759119914,
          2.055639697012933,
          2.1011921181138735,
          2.146744539214815,
          2.1922969603157565,
          2.237849381416697,
          2.2834018025176386,
          2.328954223618579,
          2.3745066447195207,
          2.420059065820462,
          2.4656114869214028,
          2.5111639080223442,
          2.5567163291232857,
          2.6022687502242263,
          2.647821171325168,
          2.6933735924261093,
          2.73892601352705,
          2.7844784346279914,
          2.830030855728933,
          2.8755832768298735,
          2.921135697930815,
          2.9666881190317556,
          3.012240540132697,
          3.0577929612336385,
          3.103345382334579,
          3.1488978034355206,
          3.194450224536462,
          3.2400026456374027,
          3.285555066738344,
          3.3311074878392857,
          3.3766599089402263,
          3.4222123300411678,
          3.4677647511421084,
          3.51331717224305,
          3.5588695933439913,
          3.604422014444933,
          3.6499744355458734,
          3.695526856646815,
          3.7410792777477564,
          3.786631698848697,
          3.8321841199496385,
          3.87773654105058,
          3.9232889621515206,
          3.968841383252462,
          4.014393804353403,
          4.059946225454344,
          4.105498646555286,
          4.151051067656226,
          4.196603488757168,
          4.242155909858109,
          4.28770833095905,
          4.333260752059991,
          4.378813173160933,
          4.424365594261873,
          4.469918015362815,
          4.5154704364637555,
          4.561022857564697,
          4.606575278665638,
          4.652127699766579,
          4.6976801208675205,
          4.743232541968462,
          4.788784963069403,
          4.834337384170344,
          4.879889805271286,
          4.925442226372226,
          4.970994647473168,
          5.016547068574109,
          5.06209948967505,
          5.107651910775991,
          5.153204331876932,
          5.198756752977873,
          5.244309174078815,
          5.289861595179755,
          5.335414016280697,
          5.380966437381638,
          5.426518858482579,
          5.4720712795835205,
          5.517623700684462,
          5.5631761217854026,
          5.608728542886344,
          5.654280963987285,
          5.699833385088226,
          5.745385806189168,
          5.790938227290108,
          5.83649064839105,
          5.882043069491991,
          5.927595490592932,
          5.973147911693873,
          6.018700332794815,
          6.064252753895755,
          6.109805174996697,
          6.155357596097638,
          6.200910017198579,
          6.24646243829952,
          6.292014859400461,
          6.3375672805014025,
          6.383119701602344,
          6.428672122703285,
          6.474224543804226,
          6.519776964905168,
          6.565329386006108,
          6.61088180710705,
          6.656434228207991,
          6.701986649308932,
          6.747539070409873,
          6.793091491510814,
          6.838643912611755,
          6.884196333712697,
          6.929748754813637,
          6.975301175914579,
          7.02085359701552,
          7.066406018116461,
          7.1119584392174025,
          7.157510860318344,
          7.2030632814192845,
          7.248615702520226,
          7.2941681236211675,
          7.339720544722108,
          7.38527296582305,
          7.43082538692399,
          7.476377808024932,
          7.521930229125872,
          7.567482650226814,
          7.613035071327755,
          7.658587492428697,
          7.704139913529638,
          7.749692334630578,
          7.795244755731519,
          7.840797176832461,
          7.886349597933402,
          7.931902019034344,
          7.977454440135285,
          8.023006861236224,
          8.068559282337166,
          8.114111703438107,
          8.159664124539049,
          8.20521654563999,
          8.250768966740932,
          8.296321387841871,
          8.341873808942813,
          8.387426230043754,
          8.432978651144696,
          8.478531072245637,
          8.524083493346577,
          8.569635914447518
         ],
         "y": [
          0.000003914880806995703,
          0.000008794050589206275,
          0.000018362530624247983,
          0.000035663064341706734,
          0.00006447803341201368,
          0.00010864420381307472,
          0.00017087358379350566,
          0.0002513783108399729,
          0.0003468912164924089,
          0.00045072436002908657,
          0.0005541627811731986,
          0.0006488571689501328,
          0.0007293300206037459,
          0.0007946391975467891,
          0.0008487390440941777,
          0.0008998204180933777,
          0.0009594129075153591,
          0.0010420352254180256,
          0.0011658102792764984,
          0.001354049411331683,
          0.0016375952845081713,
          0.002057739224442788,
          0.002669718322571139,
          0.003546929624902913,
          0.004785530908433659,
          0.00650727129590129,
          0.008855165823797605,
          0.011974069097364261,
          0.015970668418169312,
          0.020858639485729955,
          0.026512521604115012,
          0.03266708725012863,
          0.03899192545165233,
          0.045235924991338064,
          0.05138560316043568,
          0.05774641226799427,
          0.06487018608714815,
          0.07332302598618838,
          0.08338518219582677,
          0.0948390119102008,
          0.10698140102653717,
          0.11888756140941632,
          0.1298084348334141,
          0.1394922211787242,
          0.14824726294681562,
          0.1567024958549005,
          0.16539233393511707,
          0.17439096417314826,
          0.18318835843705658,
          0.1908621310713838,
          0.1964434731058314,
          0.19929116367536348,
          0.19931076872621187,
          0.19695516951540162,
          0.19304991881537129,
          0.18854607603652182,
          0.18429862003606362,
          0.18092340020275566,
          0.1787368153248068,
          0.1777554724111209,
          0.17773164249836249,
          0.1782120259296781,
          0.17861679116314366,
          0.17833528013612146,
          0.17682691648178,
          0.1737093748102073,
          0.16881775655116465,
          0.16222803204462907,
          0.154248804398131,
          0.14539068035889188,
          0.13632080672119753,
          0.12780616164420858,
          0.12064873575364046,
          0.1156194115008739,
          0.11339944718742212,
          0.11453289976185148,
          0.11938174048625086,
          0.1280690764613521,
          0.14040690962918503,
          0.155832823502992,
          0.17340641096208403,
          0.19191516341082865,
          0.21009847901310988,
          0.2269332043638419,
          0.24187301198743197,
          0.25493338575279223,
          0.2665730036014561,
          0.277414361323045,
          0.28792431743212044,
          0.298197276232044,
          0.3079359127394104,
          0.3166275980847464,
          0.3238164369154022,
          0.3293234088835616,
          0.3332995580450409,
          0.33609424360948126,
          0.33802586070709195,
          0.33919166048407073,
          0.33941745569787307,
          0.3383554247398965,
          0.3356540513470169,
          0.3311019345326625,
          0.3246904669894235,
          0.3166052783205655,
          0.3071899739031029,
          0.29690854847802906,
          0.2862914011626889,
          0.27583159537833407,
          0.26582982241363573,
          0.2562494299547813,
          0.24668308405792477,
          0.2365030812622061,
          0.22516934968611393,
          0.21256040357700273,
          0.19914988577471282,
          0.1859140137980601,
          0.17399202722387186,
          0.16425062907186108,
          0.156948920649391,
          0.15164314321513248,
          0.14735318129955524,
          0.14290314817615737,
          0.13729500316289914,
          0.1299857087985375,
          0.12099319833407671,
          0.11082410000530371,
          0.1002729300332948,
          0.09017435235516437,
          0.08119155784813356,
          0.07369770597348502,
          0.06776553479311187,
          0.06324029663802871,
          0.05984879886803947,
          0.057298557125957855,
          0.055340074211946796,
          0.05378907373403581,
          0.052522098643661266,
          0.05146310082480923,
          0.05057305703114222,
          0.049845806974483514,
          0.04930695060345638,
          0.04901085291377121,
          0.04903230549891476,
          0.049451732833091795,
          0.05033447157226461,
          0.05170560246274893,
          0.053522894885301875,
          0.05565219447196802,
          0.05785183190440769,
          0.05977444034222431,
          0.060994527308762043,
          0.06106660811029922,
          0.059610620985620526,
          0.05640984098627899,
          0.051496129968214815,
          0.0451949218230299,
          0.038112682278119946,
          0.031070455069863064,
          0.025007747475487497,
          0.020887432204430182,
          0.019617405772199434,
          0.021976157578669667,
          0.028508507016532406,
          0.039367092293921026,
          0.05412079374296826,
          0.07161152740339304,
          0.08997289748589211,
          0.10688982321512729,
          0.12007572093823485,
          0.12782142551821446,
          0.12940358753922385,
          0.12518277275250747,
          0.11636022110056644,
          0.10451997637262618,
          0.09116782577778859,
          0.07744579545283228,
          0.06408177539144763,
          0.05150798350700561,
          0.040020904525164915,
          0.029878513992045188,
          0.021303417742502953,
          0.014427752387828233,
          0.009240460711633463,
          0.005578927207568589,
          0.0031698256916968467,
          0.001695833457996757,
          0.0008582445252503508,
          0.0004161737249636114,
          0.0001988036885142046,
          0.0000981295297986744,
          0.00005285197809743929,
          0.00003171950329762616,
          0.000020501154437282125,
          0.000013473232160411912,
          0.000008607927654745826,
          0.000005212948793797622,
          0.0000029562508156154986,
          0.000001561337981775651,
          7.661480710123722e-7,
          3.4893118742029733e-7
         ]
        },
        {
         "line": {
          "color": "rgba(128, 0, 128, 255)"
         },
         "mode": "lines",
         "name": "Public services",
         "type": "scatter",
         "x": [
          -0.21541107668775447,
          -0.17164987995915595,
          -0.12788868323055747,
          -0.08412748650195895,
          -0.04036628977336043,
          0.003394906955238086,
          0.047156103683836575,
          0.09091730041243509,
          0.1346784971410336,
          0.17843969386963213,
          0.22220089059823064,
          0.26596208732682913,
          0.3097232840554276,
          0.35348448078402617,
          0.39724567751262463,
          0.4410068742412232,
          0.48476807096982166,
          0.5285292676984201,
          0.5722904644270187,
          0.6160516611556172,
          0.6598128578842157,
          0.7035740546128142,
          0.7473352513414128,
          0.7910964480700112,
          0.8348576447986097,
          0.8786188415272081,
          0.9223800382558068,
          0.9661412349844053,
          1.0099024317130039,
          1.0536636284416023,
          1.097424825170201,
          1.1411860218987995,
          1.184947218627398,
          1.2287084153559964,
          1.2724696120845949,
          1.3162308088131935,
          1.359992005541792,
          1.4037532022703905,
          1.447514398998989,
          1.4912755957275876,
          1.535036792456186,
          1.5787979891847845,
          1.622559185913383,
          1.6663203826419815,
          1.7100815793705801,
          1.7538427760991786,
          1.797603972827777,
          1.8413651695563757,
          1.885126366284974,
          1.9288875630135727,
          1.972648759742171,
          2.0164099564707696,
          2.0601711531993683,
          2.1039323499279665,
          2.147693546656565,
          2.191454743385164,
          2.235215940113762,
          2.278977136842361,
          2.322738333570959,
          2.3664995302995577,
          2.4102607270281564,
          2.4540219237567547,
          2.4977831204853533,
          2.5415443172139516,
          2.5853055139425503,
          2.629066710671149,
          2.672827907399747,
          2.716589104128346,
          2.760350300856944,
          2.804111497585543,
          2.8478726943141415,
          2.8916338910427397,
          2.9353950877713384,
          2.9791562844999366,
          3.0229174812285353,
          3.066678677957134,
          3.1104398746857322,
          3.154201071414331,
          3.1979622681429296,
          3.241723464871528,
          3.2854846616001265,
          3.3292458583287248,
          3.3730070550573235,
          3.416768251785922,
          3.4605294485145204,
          3.504290645243119,
          3.5480518419717173,
          3.591813038700316,
          3.6355742354289147,
          3.679335432157513,
          3.7230966288861116,
          3.76685782561471,
          3.8106190223433085,
          3.854380219071907,
          3.898141415800506,
          3.9419026125291037,
          3.9856638092577024,
          4.029425005986301,
          4.0731862027149,
          4.116947399443498,
          4.160708596172096,
          4.204469792900695,
          4.248230989629294,
          4.291992186357892,
          4.335753383086491,
          4.379514579815089,
          4.423275776543687,
          4.467036973272286,
          4.510798170000885,
          4.5545593667294835,
          4.598320563458082,
          4.64208176018668,
          4.685842956915279,
          4.729604153643877,
          4.773365350372476,
          4.817126547101075,
          4.8608877438296725,
          4.904648940558271,
          4.94841013728687,
          4.9921713340154685,
          5.035932530744067,
          5.079693727472665,
          5.123454924201264,
          5.167216120929862,
          5.210977317658461,
          5.25473851438706,
          5.2984997111156575,
          5.342260907844256,
          5.386022104572855,
          5.429783301301454,
          5.473544498030052,
          5.51730569475865,
          5.561066891487249,
          5.604828088215847,
          5.648589284944446,
          5.692350481673045,
          5.736111678401643,
          5.779872875130241,
          5.82363407185884,
          5.867395268587439,
          5.911156465316037,
          5.954917662044635,
          5.998678858773234,
          6.0424400555018325,
          6.086201252230431,
          6.12996244895903,
          6.173723645687628,
          6.217484842416226,
          6.261246039144825,
          6.305007235873424,
          6.348768432602022,
          6.392529629330621,
          6.436290826059219,
          6.480052022787818,
          6.523813219516416,
          6.567574416245015,
          6.611335612973614,
          6.655096809702211,
          6.69885800643081,
          6.742619203159409,
          6.7863803998880075,
          6.830141596616606,
          6.873902793345204,
          6.917663990073803,
          6.961425186802401,
          7.005186383531,
          7.048947580259599,
          7.0927087769881965,
          7.136469973716795,
          7.180231170445394,
          7.2239923671739925,
          7.267753563902591,
          7.311514760631189,
          7.355275957359788,
          7.399037154088386,
          7.442798350816985,
          7.486559547545584,
          7.5303207442741815,
          7.57408194100278,
          7.617843137731379,
          7.661604334459978,
          7.705365531188576,
          7.749126727917174,
          7.792887924645774,
          7.836649121374371,
          7.880410318102969,
          7.924171514831569,
          7.967932711560167,
          8.011693908288766,
          8.055455105017364,
          8.099216301745962,
          8.142977498474561,
          8.186738695203159,
          8.230499891931759,
          8.274261088660356,
          8.318022285388954,
          8.361783482117554,
          8.405544678846152,
          8.449305875574751,
          8.493067072303349
         ],
         "y": [
          0.0000041942653344886495,
          0.000026197479163890315,
          0.000119105877681217,
          0.00039748983634090755,
          0.0009868090631528189,
          0.0018612666878037025,
          0.0027554973530164654,
          0.003364305877998299,
          0.003662746935686866,
          0.004027457935313713,
          0.005064431082990272,
          0.00709552190220003,
          0.00964233084613997,
          0.011803567534413379,
          0.013239873293025652,
          0.014200000731536893,
          0.014797893308070093,
          0.014980447790000963,
          0.014927348834541693,
          0.01515275190939955,
          0.016247845356103987,
          0.018130110261533553,
          0.01963131715995759,
          0.0195844748433899,
          0.018231505574440945,
          0.016989541345271336,
          0.01705448671347862,
          0.018713464257278718,
          0.02182751568822114,
          0.026174347335269955,
          0.03089462780872485,
          0.03436070971914705,
          0.03544240323311753,
          0.03461192709943676,
          0.03339230688235887,
          0.033199861709585526,
          0.03517272689473703,
          0.04031864734186306,
          0.048147671110287706,
          0.05522978216015697,
          0.05765726406099698,
          0.05548349193066183,
          0.05236270529040827,
          0.0514289947976831,
          0.054103418259268565,
          0.06093712246063954,
          0.07032613564432047,
          0.07843517683339304,
          0.08341816086179057,
          0.08776427023602285,
          0.0946312867563576,
          0.10394531318496558,
          0.11302929497049087,
          0.11961990911963143,
          0.12365029473696496,
          0.12647102983619454,
          0.12928967193791532,
          0.13312017450572725,
          0.13920633378615935,
          0.14837979382018868,
          0.16073680695480327,
          0.17623670777127157,
          0.19478755564017314,
          0.21625475818076262,
          0.24075067062064873,
          0.2674146528474438,
          0.29361465637480544,
          0.31751884072204495,
          0.3398066064161908,
          0.36116157117607056,
          0.3799566491153769,
          0.3932423489298166,
          0.39880964184733103,
          0.39613040306314706,
          0.3865666396319711,
          0.37324660572655916,
          0.3598629604580615,
          0.3485870837691481,
          0.3388766747834985,
          0.3290911776422022,
          0.31962862534262926,
          0.31310134470450224,
          0.3104784061976809,
          0.3084901355001307,
          0.3027758887891014,
          0.29336074607960894,
          0.285283032927209,
          0.2831216077682931,
          0.28590456113226553,
          0.2885405255139428,
          0.2874539372870847,
          0.28287472542010633,
          0.2762386920412938,
          0.26793397254880946,
          0.25800058063150816,
          0.24772355925560524,
          0.23995154845907196,
          0.23708776988271046,
          0.23787773318342578,
          0.2375747021976569,
          0.2330066878650655,
          0.226069674753081,
          0.22103282671068203,
          0.22024017713338015,
          0.22328678794071577,
          0.22829436143357634,
          0.2322610780764361,
          0.231789033559425,
          0.2261063243473832,
          0.21871800002764047,
          0.2146963848904999,
          0.2173438367455329,
          0.22716273290750053,
          0.24157553593228118,
          0.2551829346404733,
          0.2620216326169598,
          0.2585869833773816,
          0.24551379430518766,
          0.2278255481152052,
          0.21283500326490923,
          0.2052925074842383,
          0.2043559335417739,
          0.20578704947044216,
          0.20563626336357063,
          0.20139671979444446,
          0.1916502013690883,
          0.17632837810502558,
          0.15731753757888903,
          0.13795886906987315,
          0.12128987018815546,
          0.10842903321860775,
          0.09842831481283798,
          0.0895210663005235,
          0.08051081772755225,
          0.07130256574612767,
          0.06267083007110236,
          0.05583677769523957,
          0.05215227469429661,
          0.05287064943110641,
          0.058638357207751436,
          0.06839835490324554,
          0.07879142904039207,
          0.08585835771319604,
          0.0879450989806514,
          0.08607456121229984,
          0.08136554759491228,
          0.07346379447386199,
          0.06192318572497769,
          0.047943885857694116,
          0.03407161453794242,
          0.0226531484699008,
          0.014766135057786903,
          0.010139314011575418,
          0.007750698804754701,
          0.006588018534268189,
          0.0061158515926903155,
          0.006328971267668948,
          0.007557692171856378,
          0.010182605881571436,
          0.014371671854357537,
          0.020063184876219154,
          0.02714746462839978,
          0.035155282213961504,
          0.042361057972393076,
          0.045946009510787346,
          0.044107879269782935,
          0.03777739815513648,
          0.029821403943856375,
          0.023084453320302074,
          0.019136155352688384,
          0.017957590004265982,
          0.018402286780067847,
          0.01902143189993241,
          0.018632076482128487,
          0.01659087511417905,
          0.013020393283979356,
          0.008802978035943494,
          0.005068132896535787,
          0.0025099953079878055,
          0.0011436092412179487,
          0.000572930391497823,
          0.0003694918988915831,
          0.00026844770574423714,
          0.00017621661808156258,
          0.00009352608411793827,
          0.00003841559538390522,
          0.000011951617090737387,
          0.0000027779342935917884,
          4.886334893235885e-7,
          1.3455720416791274e-7,
          3.322524360165861e-7,
          0.0000010189733798902465,
          0.0000022614655981379997,
          0.000003575877866323994,
          0.0000040271331737543336,
          0.000003230180650128973,
          0.0000018453343598156431,
          7.5082852087808e-7,
          2.175824638200638e-7,
          4.490807663019776e-8
         ]
        },
        {
         "line": {
          "color": "rgba(0, 128, 0, 255)"
         },
         "mode": "lines",
         "name": "Entertainment/public assembly",
         "type": "scatter",
         "x": [
          -0.28870368893203185,
          -0.23871237767990727,
          -0.18872106642778272,
          -0.13872975517565816,
          -0.08873844392353358,
          -0.038747132671409,
          0.011244178580715525,
          0.061235489832840106,
          0.11122680108496469,
          0.16121811233708927,
          0.21120942358921385,
          0.2612007348413384,
          0.3111920460934629,
          0.36118335734558754,
          0.41117466859771207,
          0.4611659798498367,
          0.5111572911019613,
          0.5611486023540857,
          0.6111399136062103,
          0.661131224858335,
          0.7111225361104596,
          0.761113847362584,
          0.8111051586147087,
          0.8610964698668333,
          0.9110877811189577,
          0.9610790923710824,
          1.011070403623207,
          1.0610617148753316,
          1.111053026127456,
          1.1610443373795807,
          1.2110356486317053,
          1.2610269598838297,
          1.3110182711359544,
          1.361009582388079,
          1.4110008936402034,
          1.460992204892328,
          1.5109835161444527,
          1.5609748273965771,
          1.6109661386487018,
          1.6609574499008264,
          1.710948761152951,
          1.7609400724050754,
          1.8109313836571999,
          1.8609226949093247,
          1.9109140061614491,
          1.9609053174135735,
          2.0108966286656984,
          2.060887939917823,
          2.1108792511699472,
          2.160870562422072,
          2.2108618736741965,
          2.2608531849263214,
          2.310844496178446,
          2.36083580743057,
          2.410827118682695,
          2.4608184299348195,
          2.510809741186944,
          2.5608010524390687,
          2.610792363691193,
          2.6607836749433176,
          2.7107749861954424,
          2.760766297447567,
          2.8107576086996913,
          2.860748919951816,
          2.9107402312039405,
          2.960731542456065,
          3.01072285370819,
          3.0607141649603142,
          3.1107054762124386,
          3.1606967874645635,
          3.210688098716688,
          3.2606794099688123,
          3.310670721220937,
          3.3606620324730616,
          3.410653343725186,
          3.460644654977311,
          3.5106359662294353,
          3.5606272774815597,
          3.6106185887336846,
          3.660609899985809,
          3.710601211237934,
          3.760592522490058,
          3.8105838337421827,
          3.8605751449943075,
          3.9105664562464315,
          3.9605577674985564,
          4.010549078750681,
          4.060540390002805,
          4.11053170125493,
          4.1605230125070545,
          4.2105143237591784,
          4.260505635011303,
          4.310496946263428,
          4.360488257515552,
          4.410479568767677,
          4.460470880019802,
          4.510462191271926,
          4.560453502524051,
          4.6104448137761755,
          4.6604361250283,
          4.710427436280424,
          4.760418747532549,
          4.810410058784674,
          4.860401370036798,
          4.910392681288923,
          4.960383992541048,
          5.010375303793172,
          5.060366615045297,
          5.1103579262974215,
          5.160349237549545,
          5.21034054880167,
          5.260331860053795,
          5.310323171305919,
          5.360314482558044,
          5.410305793810169,
          5.460297105062293,
          5.510288416314418,
          5.5602797275665425,
          5.6102710388186665,
          5.660262350070791,
          5.710253661322916,
          5.76024497257504,
          5.810236283827165,
          5.86022759507929,
          5.910218906331414,
          5.960210217583539,
          6.010201528835664,
          6.060192840087788,
          6.110184151339912,
          6.160175462592037,
          6.210166773844161,
          6.260158085096286,
          6.310149396348411,
          6.360140707600535,
          6.41013201885266,
          6.460123330104785,
          6.510114641356909,
          6.5601059526090335,
          6.610097263861158,
          6.660088575113282,
          6.710079886365407,
          6.760071197617532,
          6.810062508869656,
          6.860053820121781,
          6.910045131373906,
          6.96003644262603,
          7.010027753878155,
          7.060019065130279,
          7.110010376382403,
          7.160001687634528,
          7.209992998886653,
          7.259984310138777,
          7.309975621390902,
          7.359966932643027,
          7.409958243895151,
          7.459949555147276,
          7.5099408663994005,
          7.5599321776515245,
          7.609923488903649,
          7.659914800155774,
          7.709906111407899,
          7.759897422660024,
          7.809888733912147,
          7.859880045164272,
          7.909871356416397,
          7.959862667668522,
          8.009853978920647,
          8.059845290172772,
          8.109836601424895,
          8.15982791267702,
          8.209819223929145,
          8.25981053518127,
          8.309801846433395,
          8.35979315768552,
          8.409784468937643,
          8.459775780189768,
          8.509767091441892,
          8.559758402694017,
          8.609749713946142,
          8.659741025198267,
          8.70973233645039,
          8.759723647702515,
          8.80971495895464,
          8.859706270206765,
          8.90969758145889,
          8.959688892711014,
          9.009680203963137,
          9.059671515215262,
          9.109662826467387,
          9.159654137719512,
          9.209645448971637,
          9.259636760223762,
          9.309628071475885,
          9.35961938272801,
          9.409610693980134,
          9.45960200523226,
          9.509593316484384,
          9.559584627736509,
          9.609575938988634,
          9.659567250240757
         ],
         "y": [
          0.00014453862536741816,
          0.0006810342984199813,
          0.002510567366673815,
          0.007260577589101057,
          0.01654607648735351,
          0.029940467010789465,
          0.04362015326359503,
          0.052535900798407115,
          0.05500167057161311,
          0.05442096804173805,
          0.05586611297584751,
          0.06144830434770631,
          0.0690184901257003,
          0.07454428935186375,
          0.07542972558836997,
          0.07202595328018295,
          0.06668946558939565,
          0.06199943118530424,
          0.059941425435196524,
          0.062085332728036915,
          0.0694544831917888,
          0.08158278868226859,
          0.09598772991392092,
          0.10932557964515871,
          0.11943629586312231,
          0.1261123695773381,
          0.1299280139883921,
          0.13092854926560063,
          0.12898390172794608,
          0.12515695185750522,
          0.12184717740266583,
          0.12109804193625835,
          0.12316359753904906,
          0.12702666112952588,
          0.13168418731821718,
          0.13634601377414193,
          0.1398099677611646,
          0.14047059623757432,
          0.13746222038487718,
          0.13194892879123077,
          0.12694333200245556,
          0.12533516084858629,
          0.12794768362111983,
          0.13328712442428467,
          0.1387157868135186,
          0.1421017975127556,
          0.14313022433981196,
          0.14329249624172138,
          0.14443062488377165,
          0.14725305737292438,
          0.15127208313786825,
          0.15587652809507116,
          0.16085219685849764,
          0.16575132963808503,
          0.1696264637102516,
          0.171992056077356,
          0.17342978546765828,
          0.17467374355238177,
          0.1756665748945069,
          0.17607781989731144,
          0.1762842305051212,
          0.17728720131946948,
          0.1799212299139075,
          0.18454720881600778,
          0.19131166610358843,
          0.20015454825848414,
          0.21026273793820632,
          0.21967697196343608,
          0.22587966989785074,
          0.22717152673715135,
          0.22375159285296303,
          0.21769805539239054,
          0.21187892812115047,
          0.2083948699322839,
          0.20756367107342624,
          0.2082794670468081,
          0.20929219668491864,
          0.20994310109583067,
          0.20981793021315795,
          0.2083787601776938,
          0.2054036127650304,
          0.20149805447785862,
          0.19766779249985242,
          0.1942901449170471,
          0.19075984974924498,
          0.1864143375830585,
          0.18181753385515972,
          0.17886172301363185,
          0.1793491622748139,
          0.1834197133230966,
          0.1893450396397492,
          0.1947486442651408,
          0.19808065301464084,
          0.19933133175080495,
          0.19978230367280247,
          0.20105649574893333,
          0.20392987686687922,
          0.2076470982091756,
          0.2103426753162401,
          0.21026203293484252,
          0.20673803959575462,
          0.2002747721322965,
          0.1921195370849983,
          0.18401464925858516,
          0.17795148461447008,
          0.17518206115375068,
          0.17496767934969937,
          0.1748445664871734,
          0.1727274164281319,
          0.1685553457134897,
          0.1636488102738822,
          0.15891336179704774,
          0.15405237616427334,
          0.14825980689397808,
          0.14133209762752377,
          0.1340892535723693,
          0.12785227872095112,
          0.12368367734813177,
          0.12218453657509987,
          0.12373197743442796,
          0.12840489718860376,
          0.1353319011608498,
          0.14212856433805807,
          0.1454077110807526,
          0.1425941064192159,
          0.1337812626154927,
          0.12172143319639339,
          0.10970713723183019,
          0.0994168927444301,
          0.09066044669034874,
          0.08267077011875049,
          0.07521857733311148,
          0.06864747005901752,
          0.06333638232592462,
          0.059362595833755326,
          0.05650662065436613,
          0.05438590936851249,
          0.052642078648015796,
          0.05114810852235278,
          0.05000197023327005,
          0.04914356038147037,
          0.04797850287257609,
          0.04561863144869738,
          0.04162635584113508,
          0.036434949677900445,
          0.031027303091181156,
          0.026312128276108033,
          0.02276316766299582,
          0.020431775430561752,
          0.019106382189389683,
          0.018410780702142866,
          0.01788214054803433,
          0.017170616589100133,
          0.01624438247461913,
          0.015306841447241228,
          0.014450414383945728,
          0.013453156612782667,
          0.011968012272442102,
          0.009880416408853225,
          0.007449157208877177,
          0.005123198773855124,
          0.0032530850309306376,
          0.0019499217182086478,
          0.0011361840357149732,
          0.0006651068265515378,
          0.00040138062947320534,
          0.0002493328478283261,
          0.0001547982483045356,
          0.00009504402821898399,
          0.00006283166719297904,
          0.000053644552148000176,
          0.00006078114325093231,
          0.00007475899714318164,
          0.00008444175341044242,
          0.00008176781100196654,
          0.0000674026792765407,
          0.00004964437220923794,
          0.00003673546544219807,
          0.00003126423920998311,
          0.00003071849691091608,
          0.000030873025780787153,
          0.00002874711762974113,
          0.000024122516432632485,
          0.000019090374824900605,
          0.000016016162305669275,
          0.000015737178656241956,
          0.000017541375233326805,
          0.00002038629974908345,
          0.00002344246948388584,
          0.000025518498798648495,
          0.00002507895233617824,
          0.000021538225987194872,
          0.000016018187021863214,
          0.000010394622683054747,
          0.0000059422988025970925,
          0.000002984669320262334,
          0.0000012925941389726639,
          4.6977169898831457e-7,
          1.3968297645091453e-7,
          3.334222166473348e-8
         ]
        }
       ],
       "layout": {
        "paper_bgcolor": "seashell",
        "template": {
         "data": {
          "bar": [
           {
            "error_x": {
             "color": "#2a3f5f"
            },
            "error_y": {
             "color": "#2a3f5f"
            },
            "marker": {
             "line": {
              "color": "#E5ECF6",
              "width": 0.5
             },
             "pattern": {
              "fillmode": "overlay",
              "size": 10,
              "solidity": 0.2
             }
            },
            "type": "bar"
           }
          ],
          "barpolar": [
           {
            "marker": {
             "line": {
              "color": "#E5ECF6",
              "width": 0.5
             },
             "pattern": {
              "fillmode": "overlay",
              "size": 10,
              "solidity": 0.2
             }
            },
            "type": "barpolar"
           }
          ],
          "carpet": [
           {
            "aaxis": {
             "endlinecolor": "#2a3f5f",
             "gridcolor": "white",
             "linecolor": "white",
             "minorgridcolor": "white",
             "startlinecolor": "#2a3f5f"
            },
            "baxis": {
             "endlinecolor": "#2a3f5f",
             "gridcolor": "white",
             "linecolor": "white",
             "minorgridcolor": "white",
             "startlinecolor": "#2a3f5f"
            },
            "type": "carpet"
           }
          ],
          "choropleth": [
           {
            "colorbar": {
             "outlinewidth": 0,
             "ticks": ""
            },
            "type": "choropleth"
           }
          ],
          "contour": [
           {
            "colorbar": {
             "outlinewidth": 0,
             "ticks": ""
            },
            "colorscale": [
             [
              0,
              "#0d0887"
             ],
             [
              0.1111111111111111,
              "#46039f"
             ],
             [
              0.2222222222222222,
              "#7201a8"
             ],
             [
              0.3333333333333333,
              "#9c179e"
             ],
             [
              0.4444444444444444,
              "#bd3786"
             ],
             [
              0.5555555555555556,
              "#d8576b"
             ],
             [
              0.6666666666666666,
              "#ed7953"
             ],
             [
              0.7777777777777778,
              "#fb9f3a"
             ],
             [
              0.8888888888888888,
              "#fdca26"
             ],
             [
              1,
              "#f0f921"
             ]
            ],
            "type": "contour"
           }
          ],
          "contourcarpet": [
           {
            "colorbar": {
             "outlinewidth": 0,
             "ticks": ""
            },
            "type": "contourcarpet"
           }
          ],
          "heatmap": [
           {
            "colorbar": {
             "outlinewidth": 0,
             "ticks": ""
            },
            "colorscale": [
             [
              0,
              "#0d0887"
             ],
             [
              0.1111111111111111,
              "#46039f"
             ],
             [
              0.2222222222222222,
              "#7201a8"
             ],
             [
              0.3333333333333333,
              "#9c179e"
             ],
             [
              0.4444444444444444,
              "#bd3786"
             ],
             [
              0.5555555555555556,
              "#d8576b"
             ],
             [
              0.6666666666666666,
              "#ed7953"
             ],
             [
              0.7777777777777778,
              "#fb9f3a"
             ],
             [
              0.8888888888888888,
              "#fdca26"
             ],
             [
              1,
              "#f0f921"
             ]
            ],
            "type": "heatmap"
           }
          ],
          "heatmapgl": [
           {
            "colorbar": {
             "outlinewidth": 0,
             "ticks": ""
            },
            "colorscale": [
             [
              0,
              "#0d0887"
             ],
             [
              0.1111111111111111,
              "#46039f"
             ],
             [
              0.2222222222222222,
              "#7201a8"
             ],
             [
              0.3333333333333333,
              "#9c179e"
             ],
             [
              0.4444444444444444,
              "#bd3786"
             ],
             [
              0.5555555555555556,
              "#d8576b"
             ],
             [
              0.6666666666666666,
              "#ed7953"
             ],
             [
              0.7777777777777778,
              "#fb9f3a"
             ],
             [
              0.8888888888888888,
              "#fdca26"
             ],
             [
              1,
              "#f0f921"
             ]
            ],
            "type": "heatmapgl"
           }
          ],
          "histogram": [
           {
            "marker": {
             "pattern": {
              "fillmode": "overlay",
              "size": 10,
              "solidity": 0.2
             }
            },
            "type": "histogram"
           }
          ],
          "histogram2d": [
           {
            "colorbar": {
             "outlinewidth": 0,
             "ticks": ""
            },
            "colorscale": [
             [
              0,
              "#0d0887"
             ],
             [
              0.1111111111111111,
              "#46039f"
             ],
             [
              0.2222222222222222,
              "#7201a8"
             ],
             [
              0.3333333333333333,
              "#9c179e"
             ],
             [
              0.4444444444444444,
              "#bd3786"
             ],
             [
              0.5555555555555556,
              "#d8576b"
             ],
             [
              0.6666666666666666,
              "#ed7953"
             ],
             [
              0.7777777777777778,
              "#fb9f3a"
             ],
             [
              0.8888888888888888,
              "#fdca26"
             ],
             [
              1,
              "#f0f921"
             ]
            ],
            "type": "histogram2d"
           }
          ],
          "histogram2dcontour": [
           {
            "colorbar": {
             "outlinewidth": 0,
             "ticks": ""
            },
            "colorscale": [
             [
              0,
              "#0d0887"
             ],
             [
              0.1111111111111111,
              "#46039f"
             ],
             [
              0.2222222222222222,
              "#7201a8"
             ],
             [
              0.3333333333333333,
              "#9c179e"
             ],
             [
              0.4444444444444444,
              "#bd3786"
             ],
             [
              0.5555555555555556,
              "#d8576b"
             ],
             [
              0.6666666666666666,
              "#ed7953"
             ],
             [
              0.7777777777777778,
              "#fb9f3a"
             ],
             [
              0.8888888888888888,
              "#fdca26"
             ],
             [
              1,
              "#f0f921"
             ]
            ],
            "type": "histogram2dcontour"
           }
          ],
          "mesh3d": [
           {
            "colorbar": {
             "outlinewidth": 0,
             "ticks": ""
            },
            "type": "mesh3d"
           }
          ],
          "parcoords": [
           {
            "line": {
             "colorbar": {
              "outlinewidth": 0,
              "ticks": ""
             }
            },
            "type": "parcoords"
           }
          ],
          "pie": [
           {
            "automargin": true,
            "type": "pie"
           }
          ],
          "scatter": [
           {
            "fillpattern": {
             "fillmode": "overlay",
             "size": 10,
             "solidity": 0.2
            },
            "type": "scatter"
           }
          ],
          "scatter3d": [
           {
            "line": {
             "colorbar": {
              "outlinewidth": 0,
              "ticks": ""
             }
            },
            "marker": {
             "colorbar": {
              "outlinewidth": 0,
              "ticks": ""
             }
            },
            "type": "scatter3d"
           }
          ],
          "scattercarpet": [
           {
            "marker": {
             "colorbar": {
              "outlinewidth": 0,
              "ticks": ""
             }
            },
            "type": "scattercarpet"
           }
          ],
          "scattergeo": [
           {
            "marker": {
             "colorbar": {
              "outlinewidth": 0,
              "ticks": ""
             }
            },
            "type": "scattergeo"
           }
          ],
          "scattergl": [
           {
            "marker": {
             "colorbar": {
              "outlinewidth": 0,
              "ticks": ""
             }
            },
            "type": "scattergl"
           }
          ],
          "scattermapbox": [
           {
            "marker": {
             "colorbar": {
              "outlinewidth": 0,
              "ticks": ""
             }
            },
            "type": "scattermapbox"
           }
          ],
          "scatterpolar": [
           {
            "marker": {
             "colorbar": {
              "outlinewidth": 0,
              "ticks": ""
             }
            },
            "type": "scatterpolar"
           }
          ],
          "scatterpolargl": [
           {
            "marker": {
             "colorbar": {
              "outlinewidth": 0,
              "ticks": ""
             }
            },
            "type": "scatterpolargl"
           }
          ],
          "scatterternary": [
           {
            "marker": {
             "colorbar": {
              "outlinewidth": 0,
              "ticks": ""
             }
            },
            "type": "scatterternary"
           }
          ],
          "surface": [
           {
            "colorbar": {
             "outlinewidth": 0,
             "ticks": ""
            },
            "colorscale": [
             [
              0,
              "#0d0887"
             ],
             [
              0.1111111111111111,
              "#46039f"
             ],
             [
              0.2222222222222222,
              "#7201a8"
             ],
             [
              0.3333333333333333,
              "#9c179e"
             ],
             [
              0.4444444444444444,
              "#bd3786"
             ],
             [
              0.5555555555555556,
              "#d8576b"
             ],
             [
              0.6666666666666666,
              "#ed7953"
             ],
             [
              0.7777777777777778,
              "#fb9f3a"
             ],
             [
              0.8888888888888888,
              "#fdca26"
             ],
             [
              1,
              "#f0f921"
             ]
            ],
            "type": "surface"
           }
          ],
          "table": [
           {
            "cells": {
             "fill": {
              "color": "#EBF0F8"
             },
             "line": {
              "color": "white"
             }
            },
            "header": {
             "fill": {
              "color": "#C8D4E3"
             },
             "line": {
              "color": "white"
             }
            },
            "type": "table"
           }
          ]
         },
         "layout": {
          "annotationdefaults": {
           "arrowcolor": "#2a3f5f",
           "arrowhead": 0,
           "arrowwidth": 1
          },
          "autotypenumbers": "strict",
          "coloraxis": {
           "colorbar": {
            "outlinewidth": 0,
            "ticks": ""
           }
          },
          "colorscale": {
           "diverging": [
            [
             0,
             "#8e0152"
            ],
            [
             0.1,
             "#c51b7d"
            ],
            [
             0.2,
             "#de77ae"
            ],
            [
             0.3,
             "#f1b6da"
            ],
            [
             0.4,
             "#fde0ef"
            ],
            [
             0.5,
             "#f7f7f7"
            ],
            [
             0.6,
             "#e6f5d0"
            ],
            [
             0.7,
             "#b8e186"
            ],
            [
             0.8,
             "#7fbc41"
            ],
            [
             0.9,
             "#4d9221"
            ],
            [
             1,
             "#276419"
            ]
           ],
           "sequential": [
            [
             0,
             "#0d0887"
            ],
            [
             0.1111111111111111,
             "#46039f"
            ],
            [
             0.2222222222222222,
             "#7201a8"
            ],
            [
             0.3333333333333333,
             "#9c179e"
            ],
            [
             0.4444444444444444,
             "#bd3786"
            ],
            [
             0.5555555555555556,
             "#d8576b"
            ],
            [
             0.6666666666666666,
             "#ed7953"
            ],
            [
             0.7777777777777778,
             "#fb9f3a"
            ],
            [
             0.8888888888888888,
             "#fdca26"
            ],
            [
             1,
             "#f0f921"
            ]
           ],
           "sequentialminus": [
            [
             0,
             "#0d0887"
            ],
            [
             0.1111111111111111,
             "#46039f"
            ],
            [
             0.2222222222222222,
             "#7201a8"
            ],
            [
             0.3333333333333333,
             "#9c179e"
            ],
            [
             0.4444444444444444,
             "#bd3786"
            ],
            [
             0.5555555555555556,
             "#d8576b"
            ],
            [
             0.6666666666666666,
             "#ed7953"
            ],
            [
             0.7777777777777778,
             "#fb9f3a"
            ],
            [
             0.8888888888888888,
             "#fdca26"
            ],
            [
             1,
             "#f0f921"
            ]
           ]
          },
          "colorway": [
           "#636efa",
           "#EF553B",
           "#00cc96",
           "#ab63fa",
           "#FFA15A",
           "#19d3f3",
           "#FF6692",
           "#B6E880",
           "#FF97FF",
           "#FECB52"
          ],
          "font": {
           "color": "#2a3f5f"
          },
          "geo": {
           "bgcolor": "white",
           "lakecolor": "white",
           "landcolor": "#E5ECF6",
           "showlakes": true,
           "showland": true,
           "subunitcolor": "white"
          },
          "hoverlabel": {
           "align": "left"
          },
          "hovermode": "closest",
          "mapbox": {
           "style": "light"
          },
          "paper_bgcolor": "white",
          "plot_bgcolor": "#E5ECF6",
          "polar": {
           "angularaxis": {
            "gridcolor": "white",
            "linecolor": "white",
            "ticks": ""
           },
           "bgcolor": "#E5ECF6",
           "radialaxis": {
            "gridcolor": "white",
            "linecolor": "white",
            "ticks": ""
           }
          },
          "scene": {
           "xaxis": {
            "backgroundcolor": "#E5ECF6",
            "gridcolor": "white",
            "gridwidth": 2,
            "linecolor": "white",
            "showbackground": true,
            "ticks": "",
            "zerolinecolor": "white"
           },
           "yaxis": {
            "backgroundcolor": "#E5ECF6",
            "gridcolor": "white",
            "gridwidth": 2,
            "linecolor": "white",
            "showbackground": true,
            "ticks": "",
            "zerolinecolor": "white"
           },
           "zaxis": {
            "backgroundcolor": "#E5ECF6",
            "gridcolor": "white",
            "gridwidth": 2,
            "linecolor": "white",
            "showbackground": true,
            "ticks": "",
            "zerolinecolor": "white"
           }
          },
          "shapedefaults": {
           "line": {
            "color": "#2a3f5f"
           }
          },
          "ternary": {
           "aaxis": {
            "gridcolor": "white",
            "linecolor": "white",
            "ticks": ""
           },
           "baxis": {
            "gridcolor": "white",
            "linecolor": "white",
            "ticks": ""
           },
           "bgcolor": "#E5ECF6",
           "caxis": {
            "gridcolor": "white",
            "linecolor": "white",
            "ticks": ""
           }
          },
          "title": {
           "x": 0.05
          },
          "xaxis": {
           "automargin": true,
           "gridcolor": "white",
           "linecolor": "white",
           "ticks": "",
           "title": {
            "standoff": 15
           },
           "zerolinecolor": "white",
           "zerolinewidth": 2
          },
          "yaxis": {
           "automargin": true,
           "gridcolor": "white",
           "linecolor": "white",
           "ticks": "",
           "title": {
            "standoff": 15
           },
           "zerolinecolor": "white",
           "zerolinewidth": 2
          }
         }
        },
        "xaxis": {
         "title": {
          "text": "Log-transformed Meter Reading"
         }
        },
        "yaxis": {
         "title": {
          "text": "Density"
         }
        }
       }
      }
     },
     "metadata": {},
     "output_type": "display_data"
    }
   ],
   "source": [
    "plt.figure(figsize=(15, 8))\n",
    "sns.set(style=\"whitegrid\")\n",
    "\n",
    "filtered_data = merged_data[merged_data['primary_use'] == 'Education']\n",
    "sns.kdeplot(train_data['meter_reading_log'], color='blue',label='train_data', linewidth=4)\n",
    "sns.kdeplot(filtered_data['meter_reading_log'], color='orange',label='primary_use=Education',linewidth=2.5)\n",
    "\n",
    "sns.kdeplot(merged_data['meter_reading_log'].loc[merged_data['primary_use'] == 'Lodging/residential'], color='skyblue', label='Lodging/residential',linewidth=2.5)\n",
    "sns.kdeplot(merged_data['meter_reading_log'].loc[merged_data['primary_use'] == 'Retail'], color='red', label='Office',linewidth=2.5)\n",
    "sns.kdeplot(merged_data['meter_reading_log'].loc[merged_data['primary_use'] == 'Public services'], color='purple', label='Public services',linewidth=2.5)\n",
    "sns.kdeplot(merged_data['meter_reading_log'].loc[merged_data['primary_use'] == 'Entertainment/public assembly'], color='green', label='Entertainment/public assembly',linewidth=2.5)\n",
    "\n",
    "plt.xlabel('Log-transformed Meter Reading')\n",
    "plt.ylabel('Density')\n",
    "plt.title('Distribution Plot with Filtered by primary_use')\n",
    "plt.legend()\n",
    "\n",
    "fig4 = go.Figure()\n",
    "\n",
    "# Extract the lines from the Matplotlib plot\n",
    "for line in plt.gca().get_lines():\n",
    "    x, y = line.get_xydata().T\n",
    "    color = 'rgba({}, {}, {}, {})'.format(*[int(c * 255) for c in line.get_color()])  # Convert Matplotlib color tuple to Plotly format\n",
    "    fig4.add_trace(go.Scatter(x=x, y=y, mode='lines', line=dict(color=color), name=line.get_label()))\n",
    "\n",
    "# Close the Matplotlib plot to prevent it from being displayed in the notebook\n",
    "plt.close()\n",
    "\n",
    "fig4.update_layout(\n",
    "    xaxis_title='Log-transformed Meter Reading',\n",
    "    yaxis_title='Density',\n",
    "    paper_bgcolor='seashell'  # Set the color of the background\n",
    ")\n",
    "\n",
    "# Display the Plotly figure\n",
    "fig4.show()"
   ]
  },
  {
   "cell_type": "code",
   "execution_count": 21,
   "metadata": {},
   "outputs": [
    {
     "data": {
      "application/vnd.plotly.v1+json": {
       "config": {
        "plotlyServerURL": "https://plot.ly"
       },
       "data": [
        {
         "hovertemplate": "primary_use=Education<br>hour=%{x}<br>meter_reading_log=%{y}<extra></extra>",
         "legendgroup": "Education",
         "marker": {
          "color": "#636efa",
          "symbol": "circle"
         },
         "mode": "markers",
         "name": "Education",
         "orientation": "v",
         "showlegend": true,
         "type": "scatter",
         "x": [
          0,
          1,
          2,
          3,
          4,
          5,
          6,
          7,
          8,
          9,
          10,
          11,
          12,
          13,
          14,
          15,
          16,
          17,
          18,
          19,
          20,
          21,
          22,
          23
         ],
         "xaxis": "x",
         "y": [
          4.326809375126189,
          4.314656947172146,
          4.308134272383337,
          4.304105222262643,
          4.313368427705416,
          4.346362877375957,
          4.409727137081806,
          4.506465609586997,
          4.584836951297897,
          4.650321040221151,
          4.684199246964547,
          4.700311111588818,
          4.7059293485835045,
          4.706925150290981,
          4.699815740759769,
          4.686954856960734,
          4.658950406253946,
          4.610436619947203,
          4.555937808622864,
          4.507565548305323,
          4.471014836578796,
          4.435198832290448,
          4.38995292448041,
          4.348919821453248
         ],
         "yaxis": "y"
        },
        {
         "hovertemplate": "primary_use=Entertainment/public assembly<br>hour=%{x}<br>meter_reading_log=%{y}<extra></extra>",
         "legendgroup": "Entertainment/public assembly",
         "marker": {
          "color": "#EF553B",
          "symbol": "circle"
         },
         "mode": "markers",
         "name": "Entertainment/public assembly",
         "orientation": "v",
         "showlegend": true,
         "type": "scatter",
         "x": [
          0,
          1,
          2,
          3,
          4,
          5,
          6,
          7,
          8,
          9,
          10,
          11,
          12,
          13,
          14,
          15,
          16,
          17,
          18,
          19,
          20,
          21,
          22,
          23
         ],
         "xaxis": "x",
         "y": [
          3.4102953590451177,
          3.3921224457989005,
          3.3736892035141386,
          3.3666806419530872,
          3.374416468039314,
          3.399759450570922,
          3.437040989103121,
          3.4747269191348256,
          3.497732280105945,
          3.540080892122908,
          3.5906759488677618,
          3.6251077783462002,
          3.643028765654058,
          3.6559244597678857,
          3.663548866628409,
          3.664146185403141,
          3.657889180386919,
          3.6678535770417535,
          3.681227280837391,
          3.702613238035193,
          3.702943454143231,
          3.6365140305532124,
          3.5480656697868933,
          3.460695587444532
         ],
         "yaxis": "y"
        },
        {
         "hovertemplate": "primary_use=Food sales and service<br>hour=%{x}<br>meter_reading_log=%{y}<extra></extra>",
         "legendgroup": "Food sales and service",
         "marker": {
          "color": "#00cc96",
          "symbol": "circle"
         },
         "mode": "markers",
         "name": "Food sales and service",
         "orientation": "v",
         "showlegend": true,
         "type": "scatter",
         "x": [
          0,
          1,
          2,
          3,
          4,
          5,
          6,
          7,
          8,
          9,
          10,
          11,
          12,
          13,
          14,
          15,
          16,
          17,
          18,
          19,
          20,
          21,
          22,
          23
         ],
         "xaxis": "x",
         "y": [
          4.273613324241058,
          4.182267105193041,
          4.1050344203914975,
          4.081871207608922,
          4.1164742321550545,
          4.115484565324977,
          4.115911120027467,
          4.168114002761017,
          4.196309160108237,
          4.251179622940998,
          4.3443852810036905,
          4.4421268391041755,
          4.5452164238241695,
          4.594295600060398,
          4.583775377808983,
          4.580403174926837,
          4.567989842109109,
          4.573989707303912,
          4.6118183735465035,
          4.5958388339382,
          4.539232873347803,
          4.471623147018793,
          4.383102386099758,
          4.346688121332199
         ],
         "yaxis": "y"
        },
        {
         "hovertemplate": "primary_use=Healthcare<br>hour=%{x}<br>meter_reading_log=%{y}<extra></extra>",
         "legendgroup": "Healthcare",
         "marker": {
          "color": "#ab63fa",
          "symbol": "circle"
         },
         "mode": "markers",
         "name": "Healthcare",
         "orientation": "v",
         "showlegend": true,
         "type": "scatter",
         "x": [
          0,
          1,
          2,
          3,
          4,
          5,
          6,
          7,
          8,
          9,
          10,
          11,
          12,
          13,
          14,
          15,
          16,
          17,
          18,
          19,
          20,
          21,
          22,
          23
         ],
         "xaxis": "x",
         "y": [
          4.87012250605621,
          4.852728292588432,
          4.838143523439613,
          4.819580453415764,
          4.762520417663756,
          4.728272874351147,
          4.726219570729374,
          4.756128740370067,
          4.811783270917014,
          4.847682803013132,
          4.925551246016364,
          4.981496914688431,
          5.022736464558539,
          5.052052581097042,
          5.057702199439946,
          5.058458192556848,
          5.055463472808194,
          5.034243114043699,
          5.006444597706737,
          4.988608705314527,
          4.976704795851575,
          4.947668428062292,
          4.92444499771135,
          4.8917448325492385
         ],
         "yaxis": "y"
        },
        {
         "hovertemplate": "primary_use=Lodging/residential<br>hour=%{x}<br>meter_reading_log=%{y}<extra></extra>",
         "legendgroup": "Lodging/residential",
         "marker": {
          "color": "#FFA15A",
          "symbol": "circle"
         },
         "mode": "markers",
         "name": "Lodging/residential",
         "orientation": "v",
         "showlegend": true,
         "type": "scatter",
         "x": [
          0,
          1,
          2,
          3,
          4,
          5,
          6,
          7,
          8,
          9,
          10,
          11,
          12,
          13,
          14,
          15,
          16,
          17,
          18,
          19,
          20,
          21,
          22,
          23
         ],
         "xaxis": "x",
         "y": [
          4.157355375668659,
          4.120664568170486,
          4.078375887789056,
          4.043627067065169,
          4.021645466654689,
          4.015085322057266,
          4.028738960028615,
          4.047245142023321,
          4.068091570559919,
          4.087621895890349,
          4.103080625653234,
          4.121103907219443,
          4.1436432052968275,
          4.159043907226724,
          4.1648175661825375,
          4.172299907241805,
          4.180316078563903,
          4.194797672831969,
          4.210761658989633,
          4.222474743273156,
          4.2261151581606535,
          4.22738966776003,
          4.214299964580208,
          4.1899846389285536
         ],
         "yaxis": "y"
        },
        {
         "hovertemplate": "primary_use=Manufacturing/industrial<br>hour=%{x}<br>meter_reading_log=%{y}<extra></extra>",
         "legendgroup": "Manufacturing/industrial",
         "marker": {
          "color": "#19d3f3",
          "symbol": "circle"
         },
         "mode": "markers",
         "name": "Manufacturing/industrial",
         "orientation": "v",
         "showlegend": true,
         "type": "scatter",
         "x": [
          0,
          1,
          2,
          3,
          4,
          5,
          6,
          7,
          8,
          9,
          10,
          11,
          12,
          13,
          14,
          15,
          16,
          17,
          18,
          19,
          20,
          21,
          22,
          23
         ],
         "xaxis": "x",
         "y": [
          3.519580378822147,
          3.45234508654283,
          3.433186422107117,
          3.4341231372270027,
          3.45476786106315,
          3.6023018409009513,
          3.775236530981682,
          4.198179198612007,
          4.307108706760456,
          4.231831041155121,
          4.168737716754819,
          4.118048290936044,
          4.081787804356373,
          4.030183211826505,
          4.066638678927051,
          4.097787724540361,
          4.123241497673491,
          4.123186267906061,
          4.157638164116745,
          4.139573832770388,
          4.123893722063617,
          3.980554397781074,
          3.859844166180687,
          3.6395795046832737
         ],
         "yaxis": "y"
        },
        {
         "hovertemplate": "primary_use=Office<br>hour=%{x}<br>meter_reading_log=%{y}<extra></extra>",
         "legendgroup": "Office",
         "marker": {
          "color": "#FF6692",
          "symbol": "circle"
         },
         "mode": "markers",
         "name": "Office",
         "orientation": "v",
         "showlegend": true,
         "type": "scatter",
         "x": [
          0,
          1,
          2,
          3,
          4,
          5,
          6,
          7,
          8,
          9,
          10,
          11,
          12,
          13,
          14,
          15,
          16,
          17,
          18,
          19,
          20,
          21,
          22,
          23
         ],
         "xaxis": "x",
         "y": [
          4.091391126460738,
          4.079013957357893,
          4.066729751852195,
          4.056279676901858,
          4.050258924816488,
          4.067948762138693,
          4.1233072582773245,
          4.206179379096216,
          4.277445622749105,
          4.341680493238885,
          4.389474739655657,
          4.424123790256167,
          4.446029090016555,
          4.456452660689837,
          4.461526014419564,
          4.460487807682755,
          4.443941998802008,
          4.398791791668586,
          4.333740926227028,
          4.279925148527571,
          4.243007652178007,
          4.20921044538277,
          4.1653475378293425,
          4.119160961048582
         ],
         "yaxis": "y"
        },
        {
         "hovertemplate": "primary_use=Other<br>hour=%{x}<br>meter_reading_log=%{y}<extra></extra>",
         "legendgroup": "Other",
         "marker": {
          "color": "#B6E880",
          "symbol": "circle"
         },
         "mode": "markers",
         "name": "Other",
         "orientation": "v",
         "showlegend": true,
         "type": "scatter",
         "x": [
          0,
          1,
          2,
          3,
          4,
          5,
          6,
          7,
          8,
          9,
          10,
          11,
          12,
          13,
          14,
          15,
          16,
          17,
          18,
          19,
          20,
          21,
          22,
          23
         ],
         "xaxis": "x",
         "y": [
          2.8018346720869083,
          2.798463263682951,
          2.801885232203096,
          2.810492785630353,
          2.8192954009872855,
          2.849453744792883,
          2.9344716726152065,
          2.8966867431701666,
          2.9051770270323076,
          2.9078673136178894,
          2.900223768000245,
          2.888322877667443,
          2.884818865765627,
          2.8869596617596027,
          2.8969999558656028,
          2.8996395184006873,
          2.885631306771888,
          2.8792256252485036,
          2.8930356580258367,
          2.888144921805442,
          2.8822880875943313,
          2.8471884425875027,
          2.8291069479160855,
          2.8135115035367044
         ],
         "yaxis": "y"
        },
        {
         "hovertemplate": "primary_use=Parking<br>hour=%{x}<br>meter_reading_log=%{y}<extra></extra>",
         "legendgroup": "Parking",
         "marker": {
          "color": "#FF97FF",
          "symbol": "circle"
         },
         "mode": "markers",
         "name": "Parking",
         "orientation": "v",
         "showlegend": true,
         "type": "scatter",
         "x": [
          0,
          1,
          2,
          3,
          4,
          5,
          6,
          7,
          8,
          9,
          10,
          11,
          12,
          13,
          14,
          15,
          16,
          17,
          18,
          19,
          20,
          21,
          22,
          23
         ],
         "xaxis": "x",
         "y": [
          4.03696202068868,
          4.0271949225363235,
          4.021544473892923,
          4.015156072599845,
          4.0141072075513495,
          4.02050391299303,
          4.009589100322874,
          3.919321854480253,
          3.8435089991510543,
          3.7969836115744204,
          3.8147739892908206,
          3.8101148581122612,
          3.811355842765452,
          3.822998028426272,
          3.823465207017911,
          3.833070311409048,
          3.860755065677871,
          3.902051860786576,
          3.9459214140016385,
          3.986653835518086,
          4.0444007258525785,
          4.065883062582608,
          4.063216064609214,
          4.051578099259701
         ],
         "yaxis": "y"
        },
        {
         "hovertemplate": "primary_use=Public services<br>hour=%{x}<br>meter_reading_log=%{y}<extra></extra>",
         "legendgroup": "Public services",
         "marker": {
          "color": "#FECB52",
          "symbol": "circle"
         },
         "mode": "markers",
         "name": "Public services",
         "orientation": "v",
         "showlegend": true,
         "type": "scatter",
         "x": [
          0,
          1,
          2,
          3,
          4,
          5,
          6,
          7,
          8,
          9,
          10,
          11,
          12,
          13,
          14,
          15,
          16,
          17,
          18,
          19,
          20,
          21,
          22,
          23
         ],
         "xaxis": "x",
         "y": [
          3.6729909823233524,
          3.6604233397304093,
          3.6466356506902966,
          3.6370653951101413,
          3.633814406511676,
          3.6479097168807004,
          3.6899661425327994,
          3.7318044333866722,
          3.7629464305929505,
          3.791876566569423,
          3.8191047814264016,
          3.8359281909206002,
          3.8513289325089968,
          3.8641012456791666,
          3.863775493231837,
          3.8616615922821698,
          3.8541264029458415,
          3.836239294413569,
          3.8210293811723774,
          3.8053315696854475,
          3.7961210728370824,
          3.7660084201333723,
          3.7173523432074242,
          3.6884219926054116
         ],
         "yaxis": "y"
        },
        {
         "hovertemplate": "primary_use=Religious worship<br>hour=%{x}<br>meter_reading_log=%{y}<extra></extra>",
         "legendgroup": "Religious worship",
         "marker": {
          "color": "#636efa",
          "symbol": "circle"
         },
         "mode": "markers",
         "name": "Religious worship",
         "orientation": "v",
         "showlegend": true,
         "type": "scatter",
         "x": [
          0,
          1,
          2,
          3,
          4,
          5,
          6,
          7,
          8,
          9,
          10,
          11,
          12,
          13,
          14,
          15,
          16,
          17,
          18,
          19,
          20,
          21,
          22,
          23
         ],
         "xaxis": "x",
         "y": [
          1.3629225259379845,
          1.338756080491522,
          1.3270863526542578,
          1.3117079186355862,
          1.3278399773118739,
          1.3729117185878525,
          1.5169394872562438,
          1.5617861559010893,
          1.6299976591218779,
          1.7023034175256884,
          1.7401423704363552,
          1.7306818129817485,
          1.721534765575455,
          1.7152395848180544,
          1.6933080209798448,
          1.6909992597828085,
          1.6833163151784316,
          1.6452785894213775,
          1.6102687832991842,
          1.5856422196702225,
          1.5883937323718054,
          1.55494174429347,
          1.5121178691910448,
          1.429208505255419
         ],
         "yaxis": "y"
        },
        {
         "hovertemplate": "primary_use=Retail<br>hour=%{x}<br>meter_reading_log=%{y}<extra></extra>",
         "legendgroup": "Retail",
         "marker": {
          "color": "#EF553B",
          "symbol": "circle"
         },
         "mode": "markers",
         "name": "Retail",
         "orientation": "v",
         "showlegend": true,
         "type": "scatter",
         "x": [
          0,
          1,
          2,
          3,
          4,
          5,
          6,
          7,
          8,
          9,
          10,
          11,
          12,
          13,
          14,
          15,
          16,
          17,
          18,
          19,
          20,
          21,
          22,
          23
         ],
         "xaxis": "x",
         "y": [
          3.550002689543065,
          3.5217683370385973,
          3.502973205002528,
          3.492082289470602,
          3.5328954871256464,
          3.5968926196982682,
          3.704330614157407,
          3.8067637849969143,
          3.9037156347044277,
          3.964863210080336,
          4.017589161709794,
          4.051284919069729,
          4.067126369197402,
          4.077486463470202,
          4.078981516604326,
          4.077725574142439,
          4.06335569101141,
          4.0017901060200884,
          3.928567526448975,
          3.881587206563355,
          3.8310874513645503,
          3.764205978128111,
          3.6688692847448845,
          3.5955027143343834
         ],
         "yaxis": "y"
        },
        {
         "hovertemplate": "primary_use=Services<br>hour=%{x}<br>meter_reading_log=%{y}<extra></extra>",
         "legendgroup": "Services",
         "marker": {
          "color": "#00cc96",
          "symbol": "circle"
         },
         "mode": "markers",
         "name": "Services",
         "orientation": "v",
         "showlegend": true,
         "type": "scatter",
         "x": [
          0,
          1,
          2,
          3,
          4,
          5,
          6,
          7,
          8,
          9,
          10,
          11,
          12,
          13,
          14,
          15,
          16,
          17,
          18,
          19,
          20,
          21,
          22,
          23
         ],
         "xaxis": "x",
         "y": [
          4.28417063378164,
          4.263532130412633,
          4.249432690112337,
          4.242803272785548,
          4.245589527288688,
          4.245563095359821,
          4.259681093745229,
          4.3196559177438845,
          4.322513136556421,
          4.296564203938192,
          4.29063746024763,
          4.286603442121046,
          4.291078265057347,
          4.286643724741501,
          4.2923730038959125,
          4.293674277702139,
          4.265439983120268,
          4.229757059157751,
          4.231603170267007,
          4.254598532831516,
          4.267842906336087,
          4.296337401386642,
          4.302736990880893,
          4.29640018751556
         ],
         "yaxis": "y"
        },
        {
         "hovertemplate": "primary_use=Technology/science<br>hour=%{x}<br>meter_reading_log=%{y}<extra></extra>",
         "legendgroup": "Technology/science",
         "marker": {
          "color": "#ab63fa",
          "symbol": "circle"
         },
         "mode": "markers",
         "name": "Technology/science",
         "orientation": "v",
         "showlegend": true,
         "type": "scatter",
         "x": [
          0,
          1,
          2,
          3,
          4,
          5,
          6,
          7,
          8,
          9,
          10,
          11,
          12,
          13,
          14,
          15,
          16,
          17,
          18,
          19,
          20,
          21,
          22,
          23
         ],
         "xaxis": "x",
         "y": [
          4.419959329237811,
          4.431479447074498,
          4.431042511199818,
          4.429634967877881,
          4.431530058605374,
          4.442562972319109,
          4.476424401012682,
          4.529882959769833,
          4.590749001282677,
          4.63878012227931,
          4.663067941670805,
          4.680284304996243,
          4.685934405359036,
          4.692712318195984,
          4.696250050952347,
          4.6937932751200275,
          4.6712156590148055,
          4.628911170993081,
          4.5828898489827905,
          4.526963778617985,
          4.49579736622041,
          4.452126447810638,
          4.439512089859797,
          4.398099480515974
         ],
         "yaxis": "y"
        },
        {
         "hovertemplate": "primary_use=Utility<br>hour=%{x}<br>meter_reading_log=%{y}<extra></extra>",
         "legendgroup": "Utility",
         "marker": {
          "color": "#FFA15A",
          "symbol": "circle"
         },
         "mode": "markers",
         "name": "Utility",
         "orientation": "v",
         "showlegend": true,
         "type": "scatter",
         "x": [
          0,
          1,
          2,
          3,
          4,
          5,
          6,
          7,
          8,
          9,
          10,
          11,
          12,
          13,
          14,
          15,
          16,
          17,
          18,
          19,
          20,
          21,
          22,
          23
         ],
         "xaxis": "x",
         "y": [
          4.345757670344766,
          4.354011918788027,
          4.356766205701699,
          4.351716574196412,
          4.401720955040042,
          4.571105824191764,
          4.828868910619448,
          4.824242344433848,
          4.791351570728218,
          4.73429419734208,
          4.642222506876628,
          4.544043614159875,
          4.520603606190737,
          4.516523821291518,
          4.5013551342545215,
          4.476500232581559,
          4.403916166873272,
          4.280456043741104,
          4.216824500846243,
          4.1910165960254115,
          4.19224868081202,
          4.123107333196675,
          4.2922824335013505,
          4.338688925763214
         ],
         "yaxis": "y"
        },
        {
         "hovertemplate": "primary_use=Warehouse/storage<br>hour=%{x}<br>meter_reading_log=%{y}<extra></extra>",
         "legendgroup": "Warehouse/storage",
         "marker": {
          "color": "#19d3f3",
          "symbol": "circle"
         },
         "mode": "markers",
         "name": "Warehouse/storage",
         "orientation": "v",
         "showlegend": true,
         "type": "scatter",
         "x": [
          0,
          1,
          2,
          3,
          4,
          5,
          6,
          7,
          8,
          9,
          10,
          11,
          12,
          13,
          14,
          15,
          16,
          17,
          18,
          19,
          20,
          21,
          22,
          23
         ],
         "xaxis": "x",
         "y": [
          3.3349090434390374,
          3.3174431319936177,
          3.3068235859643824,
          3.296799371670948,
          3.29510156705343,
          3.3025805968968722,
          3.297008090166872,
          3.2360506817268813,
          3.182024456804017,
          3.1522908774330336,
          3.173082301505231,
          3.190641279461684,
          3.2032128654295176,
          3.215341379123314,
          3.215676976276972,
          3.2085602063273155,
          3.2084584157252354,
          3.2434102117884147,
          3.300892259350296,
          3.352029190623501,
          3.374027668309118,
          3.3875441904361723,
          3.4088667606173413,
          3.3775390929908506
         ],
         "yaxis": "y"
        }
       ],
       "layout": {
        "legend": {
         "title": {
          "text": "primary_use"
         },
         "tracegroupgap": 0
        },
        "margin": {
         "t": 60
        },
        "paper_bgcolor": "seashell",
        "template": {
         "data": {
          "bar": [
           {
            "error_x": {
             "color": "#2a3f5f"
            },
            "error_y": {
             "color": "#2a3f5f"
            },
            "marker": {
             "line": {
              "color": "#E5ECF6",
              "width": 0.5
             },
             "pattern": {
              "fillmode": "overlay",
              "size": 10,
              "solidity": 0.2
             }
            },
            "type": "bar"
           }
          ],
          "barpolar": [
           {
            "marker": {
             "line": {
              "color": "#E5ECF6",
              "width": 0.5
             },
             "pattern": {
              "fillmode": "overlay",
              "size": 10,
              "solidity": 0.2
             }
            },
            "type": "barpolar"
           }
          ],
          "carpet": [
           {
            "aaxis": {
             "endlinecolor": "#2a3f5f",
             "gridcolor": "white",
             "linecolor": "white",
             "minorgridcolor": "white",
             "startlinecolor": "#2a3f5f"
            },
            "baxis": {
             "endlinecolor": "#2a3f5f",
             "gridcolor": "white",
             "linecolor": "white",
             "minorgridcolor": "white",
             "startlinecolor": "#2a3f5f"
            },
            "type": "carpet"
           }
          ],
          "choropleth": [
           {
            "colorbar": {
             "outlinewidth": 0,
             "ticks": ""
            },
            "type": "choropleth"
           }
          ],
          "contour": [
           {
            "colorbar": {
             "outlinewidth": 0,
             "ticks": ""
            },
            "colorscale": [
             [
              0,
              "#0d0887"
             ],
             [
              0.1111111111111111,
              "#46039f"
             ],
             [
              0.2222222222222222,
              "#7201a8"
             ],
             [
              0.3333333333333333,
              "#9c179e"
             ],
             [
              0.4444444444444444,
              "#bd3786"
             ],
             [
              0.5555555555555556,
              "#d8576b"
             ],
             [
              0.6666666666666666,
              "#ed7953"
             ],
             [
              0.7777777777777778,
              "#fb9f3a"
             ],
             [
              0.8888888888888888,
              "#fdca26"
             ],
             [
              1,
              "#f0f921"
             ]
            ],
            "type": "contour"
           }
          ],
          "contourcarpet": [
           {
            "colorbar": {
             "outlinewidth": 0,
             "ticks": ""
            },
            "type": "contourcarpet"
           }
          ],
          "heatmap": [
           {
            "colorbar": {
             "outlinewidth": 0,
             "ticks": ""
            },
            "colorscale": [
             [
              0,
              "#0d0887"
             ],
             [
              0.1111111111111111,
              "#46039f"
             ],
             [
              0.2222222222222222,
              "#7201a8"
             ],
             [
              0.3333333333333333,
              "#9c179e"
             ],
             [
              0.4444444444444444,
              "#bd3786"
             ],
             [
              0.5555555555555556,
              "#d8576b"
             ],
             [
              0.6666666666666666,
              "#ed7953"
             ],
             [
              0.7777777777777778,
              "#fb9f3a"
             ],
             [
              0.8888888888888888,
              "#fdca26"
             ],
             [
              1,
              "#f0f921"
             ]
            ],
            "type": "heatmap"
           }
          ],
          "heatmapgl": [
           {
            "colorbar": {
             "outlinewidth": 0,
             "ticks": ""
            },
            "colorscale": [
             [
              0,
              "#0d0887"
             ],
             [
              0.1111111111111111,
              "#46039f"
             ],
             [
              0.2222222222222222,
              "#7201a8"
             ],
             [
              0.3333333333333333,
              "#9c179e"
             ],
             [
              0.4444444444444444,
              "#bd3786"
             ],
             [
              0.5555555555555556,
              "#d8576b"
             ],
             [
              0.6666666666666666,
              "#ed7953"
             ],
             [
              0.7777777777777778,
              "#fb9f3a"
             ],
             [
              0.8888888888888888,
              "#fdca26"
             ],
             [
              1,
              "#f0f921"
             ]
            ],
            "type": "heatmapgl"
           }
          ],
          "histogram": [
           {
            "marker": {
             "pattern": {
              "fillmode": "overlay",
              "size": 10,
              "solidity": 0.2
             }
            },
            "type": "histogram"
           }
          ],
          "histogram2d": [
           {
            "colorbar": {
             "outlinewidth": 0,
             "ticks": ""
            },
            "colorscale": [
             [
              0,
              "#0d0887"
             ],
             [
              0.1111111111111111,
              "#46039f"
             ],
             [
              0.2222222222222222,
              "#7201a8"
             ],
             [
              0.3333333333333333,
              "#9c179e"
             ],
             [
              0.4444444444444444,
              "#bd3786"
             ],
             [
              0.5555555555555556,
              "#d8576b"
             ],
             [
              0.6666666666666666,
              "#ed7953"
             ],
             [
              0.7777777777777778,
              "#fb9f3a"
             ],
             [
              0.8888888888888888,
              "#fdca26"
             ],
             [
              1,
              "#f0f921"
             ]
            ],
            "type": "histogram2d"
           }
          ],
          "histogram2dcontour": [
           {
            "colorbar": {
             "outlinewidth": 0,
             "ticks": ""
            },
            "colorscale": [
             [
              0,
              "#0d0887"
             ],
             [
              0.1111111111111111,
              "#46039f"
             ],
             [
              0.2222222222222222,
              "#7201a8"
             ],
             [
              0.3333333333333333,
              "#9c179e"
             ],
             [
              0.4444444444444444,
              "#bd3786"
             ],
             [
              0.5555555555555556,
              "#d8576b"
             ],
             [
              0.6666666666666666,
              "#ed7953"
             ],
             [
              0.7777777777777778,
              "#fb9f3a"
             ],
             [
              0.8888888888888888,
              "#fdca26"
             ],
             [
              1,
              "#f0f921"
             ]
            ],
            "type": "histogram2dcontour"
           }
          ],
          "mesh3d": [
           {
            "colorbar": {
             "outlinewidth": 0,
             "ticks": ""
            },
            "type": "mesh3d"
           }
          ],
          "parcoords": [
           {
            "line": {
             "colorbar": {
              "outlinewidth": 0,
              "ticks": ""
             }
            },
            "type": "parcoords"
           }
          ],
          "pie": [
           {
            "automargin": true,
            "type": "pie"
           }
          ],
          "scatter": [
           {
            "fillpattern": {
             "fillmode": "overlay",
             "size": 10,
             "solidity": 0.2
            },
            "type": "scatter"
           }
          ],
          "scatter3d": [
           {
            "line": {
             "colorbar": {
              "outlinewidth": 0,
              "ticks": ""
             }
            },
            "marker": {
             "colorbar": {
              "outlinewidth": 0,
              "ticks": ""
             }
            },
            "type": "scatter3d"
           }
          ],
          "scattercarpet": [
           {
            "marker": {
             "colorbar": {
              "outlinewidth": 0,
              "ticks": ""
             }
            },
            "type": "scattercarpet"
           }
          ],
          "scattergeo": [
           {
            "marker": {
             "colorbar": {
              "outlinewidth": 0,
              "ticks": ""
             }
            },
            "type": "scattergeo"
           }
          ],
          "scattergl": [
           {
            "marker": {
             "colorbar": {
              "outlinewidth": 0,
              "ticks": ""
             }
            },
            "type": "scattergl"
           }
          ],
          "scattermapbox": [
           {
            "marker": {
             "colorbar": {
              "outlinewidth": 0,
              "ticks": ""
             }
            },
            "type": "scattermapbox"
           }
          ],
          "scatterpolar": [
           {
            "marker": {
             "colorbar": {
              "outlinewidth": 0,
              "ticks": ""
             }
            },
            "type": "scatterpolar"
           }
          ],
          "scatterpolargl": [
           {
            "marker": {
             "colorbar": {
              "outlinewidth": 0,
              "ticks": ""
             }
            },
            "type": "scatterpolargl"
           }
          ],
          "scatterternary": [
           {
            "marker": {
             "colorbar": {
              "outlinewidth": 0,
              "ticks": ""
             }
            },
            "type": "scatterternary"
           }
          ],
          "surface": [
           {
            "colorbar": {
             "outlinewidth": 0,
             "ticks": ""
            },
            "colorscale": [
             [
              0,
              "#0d0887"
             ],
             [
              0.1111111111111111,
              "#46039f"
             ],
             [
              0.2222222222222222,
              "#7201a8"
             ],
             [
              0.3333333333333333,
              "#9c179e"
             ],
             [
              0.4444444444444444,
              "#bd3786"
             ],
             [
              0.5555555555555556,
              "#d8576b"
             ],
             [
              0.6666666666666666,
              "#ed7953"
             ],
             [
              0.7777777777777778,
              "#fb9f3a"
             ],
             [
              0.8888888888888888,
              "#fdca26"
             ],
             [
              1,
              "#f0f921"
             ]
            ],
            "type": "surface"
           }
          ],
          "table": [
           {
            "cells": {
             "fill": {
              "color": "#EBF0F8"
             },
             "line": {
              "color": "white"
             }
            },
            "header": {
             "fill": {
              "color": "#C8D4E3"
             },
             "line": {
              "color": "white"
             }
            },
            "type": "table"
           }
          ]
         },
         "layout": {
          "annotationdefaults": {
           "arrowcolor": "#2a3f5f",
           "arrowhead": 0,
           "arrowwidth": 1
          },
          "autotypenumbers": "strict",
          "coloraxis": {
           "colorbar": {
            "outlinewidth": 0,
            "ticks": ""
           }
          },
          "colorscale": {
           "diverging": [
            [
             0,
             "#8e0152"
            ],
            [
             0.1,
             "#c51b7d"
            ],
            [
             0.2,
             "#de77ae"
            ],
            [
             0.3,
             "#f1b6da"
            ],
            [
             0.4,
             "#fde0ef"
            ],
            [
             0.5,
             "#f7f7f7"
            ],
            [
             0.6,
             "#e6f5d0"
            ],
            [
             0.7,
             "#b8e186"
            ],
            [
             0.8,
             "#7fbc41"
            ],
            [
             0.9,
             "#4d9221"
            ],
            [
             1,
             "#276419"
            ]
           ],
           "sequential": [
            [
             0,
             "#0d0887"
            ],
            [
             0.1111111111111111,
             "#46039f"
            ],
            [
             0.2222222222222222,
             "#7201a8"
            ],
            [
             0.3333333333333333,
             "#9c179e"
            ],
            [
             0.4444444444444444,
             "#bd3786"
            ],
            [
             0.5555555555555556,
             "#d8576b"
            ],
            [
             0.6666666666666666,
             "#ed7953"
            ],
            [
             0.7777777777777778,
             "#fb9f3a"
            ],
            [
             0.8888888888888888,
             "#fdca26"
            ],
            [
             1,
             "#f0f921"
            ]
           ],
           "sequentialminus": [
            [
             0,
             "#0d0887"
            ],
            [
             0.1111111111111111,
             "#46039f"
            ],
            [
             0.2222222222222222,
             "#7201a8"
            ],
            [
             0.3333333333333333,
             "#9c179e"
            ],
            [
             0.4444444444444444,
             "#bd3786"
            ],
            [
             0.5555555555555556,
             "#d8576b"
            ],
            [
             0.6666666666666666,
             "#ed7953"
            ],
            [
             0.7777777777777778,
             "#fb9f3a"
            ],
            [
             0.8888888888888888,
             "#fdca26"
            ],
            [
             1,
             "#f0f921"
            ]
           ]
          },
          "colorway": [
           "#636efa",
           "#EF553B",
           "#00cc96",
           "#ab63fa",
           "#FFA15A",
           "#19d3f3",
           "#FF6692",
           "#B6E880",
           "#FF97FF",
           "#FECB52"
          ],
          "font": {
           "color": "#2a3f5f"
          },
          "geo": {
           "bgcolor": "white",
           "lakecolor": "white",
           "landcolor": "#E5ECF6",
           "showlakes": true,
           "showland": true,
           "subunitcolor": "white"
          },
          "hoverlabel": {
           "align": "left"
          },
          "hovermode": "closest",
          "mapbox": {
           "style": "light"
          },
          "paper_bgcolor": "white",
          "plot_bgcolor": "#E5ECF6",
          "polar": {
           "angularaxis": {
            "gridcolor": "white",
            "linecolor": "white",
            "ticks": ""
           },
           "bgcolor": "#E5ECF6",
           "radialaxis": {
            "gridcolor": "white",
            "linecolor": "white",
            "ticks": ""
           }
          },
          "scene": {
           "xaxis": {
            "backgroundcolor": "#E5ECF6",
            "gridcolor": "white",
            "gridwidth": 2,
            "linecolor": "white",
            "showbackground": true,
            "ticks": "",
            "zerolinecolor": "white"
           },
           "yaxis": {
            "backgroundcolor": "#E5ECF6",
            "gridcolor": "white",
            "gridwidth": 2,
            "linecolor": "white",
            "showbackground": true,
            "ticks": "",
            "zerolinecolor": "white"
           },
           "zaxis": {
            "backgroundcolor": "#E5ECF6",
            "gridcolor": "white",
            "gridwidth": 2,
            "linecolor": "white",
            "showbackground": true,
            "ticks": "",
            "zerolinecolor": "white"
           }
          },
          "shapedefaults": {
           "line": {
            "color": "#2a3f5f"
           }
          },
          "ternary": {
           "aaxis": {
            "gridcolor": "white",
            "linecolor": "white",
            "ticks": ""
           },
           "baxis": {
            "gridcolor": "white",
            "linecolor": "white",
            "ticks": ""
           },
           "bgcolor": "#E5ECF6",
           "caxis": {
            "gridcolor": "white",
            "linecolor": "white",
            "ticks": ""
           }
          },
          "title": {
           "x": 0.05
          },
          "xaxis": {
           "automargin": true,
           "gridcolor": "white",
           "linecolor": "white",
           "ticks": "",
           "title": {
            "standoff": 15
           },
           "zerolinecolor": "white",
           "zerolinewidth": 2
          },
          "yaxis": {
           "automargin": true,
           "gridcolor": "white",
           "linecolor": "white",
           "ticks": "",
           "title": {
            "standoff": 15
           },
           "zerolinecolor": "white",
           "zerolinewidth": 2
          }
         }
        },
        "xaxis": {
         "anchor": "y",
         "domain": [
          0,
          1
         ],
         "title": {
          "text": "hour"
         }
        },
        "yaxis": {
         "anchor": "x",
         "domain": [
          0,
          1
         ],
         "title": {
          "text": "meter_reading_log"
         }
        }
       }
      }
     },
     "metadata": {},
     "output_type": "display_data"
    }
   ],
   "source": [
    "#Hourly Averaged Data Grouped by primary_use\n",
    "filtered_data=merged_data.groupby(['primary_use','hour'])['meter_reading_log'].mean().reset_index()\n",
    "fig1 = px.scatter(filtered_data, x='hour', y='meter_reading_log', color='primary_use') \n",
    "fig1.update_layout(\n",
    "    \n",
    "    paper_bgcolor='seashell'  # Set the color of the background\n",
    ")\n",
    "\n",
    "fig1.show()"
   ]
  },
  {
   "cell_type": "code",
   "execution_count": 22,
   "metadata": {},
   "outputs": [
    {
     "data": {
      "application/vnd.plotly.v1+json": {
       "config": {
        "plotlyServerURL": "https://plot.ly"
       },
       "data": [
        {
         "hovertemplate": "primary_use=Education<br>month=%{x}<br>meter_reading_log=%{y}<extra></extra>",
         "legendgroup": "Education",
         "marker": {
          "color": "#636efa",
          "symbol": "circle"
         },
         "mode": "markers",
         "name": "Education",
         "orientation": "v",
         "showlegend": true,
         "type": "scatter",
         "x": [
          1,
          2,
          3,
          4,
          5,
          6,
          7,
          8,
          9,
          10,
          11,
          12
         ],
         "xaxis": "x",
         "y": [
          4.475607991347873,
          4.513813780454988,
          4.453529895956795,
          4.446770512411798,
          4.443969779444179,
          4.538622810534313,
          4.546922060656862,
          4.556992912762179,
          4.613869692573797,
          4.504030753312282,
          4.5328833875242465,
          4.476370716864279
         ],
         "yaxis": "y"
        },
        {
         "hovertemplate": "primary_use=Entertainment/public assembly<br>month=%{x}<br>meter_reading_log=%{y}<extra></extra>",
         "legendgroup": "Entertainment/public assembly",
         "marker": {
          "color": "#EF553B",
          "symbol": "circle"
         },
         "mode": "markers",
         "name": "Entertainment/public assembly",
         "orientation": "v",
         "showlegend": true,
         "type": "scatter",
         "x": [
          1,
          2,
          3,
          4,
          5,
          6,
          7,
          8,
          9,
          10,
          11,
          12
         ],
         "xaxis": "x",
         "y": [
          3.4793853434004935,
          3.4778146470291507,
          3.40712323924201,
          3.436322380470602,
          3.467501283218313,
          3.59161809404998,
          3.679620281243441,
          3.7310712956138916,
          3.633366247995188,
          3.5169738999128892,
          3.594033056726678,
          3.549538161900837
         ],
         "yaxis": "y"
        },
        {
         "hovertemplate": "primary_use=Food sales and service<br>month=%{x}<br>meter_reading_log=%{y}<extra></extra>",
         "legendgroup": "Food sales and service",
         "marker": {
          "color": "#00cc96",
          "symbol": "circle"
         },
         "mode": "markers",
         "name": "Food sales and service",
         "orientation": "v",
         "showlegend": true,
         "type": "scatter",
         "x": [
          1,
          2,
          3,
          4,
          5,
          6,
          7,
          8,
          9,
          10,
          11,
          12
         ],
         "xaxis": "x",
         "y": [
          4.331819777713337,
          4.580733138609267,
          4.471113794234393,
          4.57159482216901,
          4.186094254860876,
          4.000729190233072,
          3.989208249789658,
          4.285676119689198,
          4.597330008486846,
          4.53760509345581,
          4.5088954733867554,
          4.3150705696776335
         ],
         "yaxis": "y"
        },
        {
         "hovertemplate": "primary_use=Healthcare<br>month=%{x}<br>meter_reading_log=%{y}<extra></extra>",
         "legendgroup": "Healthcare",
         "marker": {
          "color": "#ab63fa",
          "symbol": "circle"
         },
         "mode": "markers",
         "name": "Healthcare",
         "orientation": "v",
         "showlegend": true,
         "type": "scatter",
         "x": [
          1,
          2,
          3,
          4,
          5,
          6,
          7,
          8,
          9,
          10,
          11,
          12
         ],
         "xaxis": "x",
         "y": [
          4.8863870119893456,
          4.8896261749144525,
          4.82443111145233,
          4.865152970452528,
          4.901925124922645,
          4.9790711374742225,
          4.97984380139961,
          4.9867831646363845,
          4.939318036844181,
          4.878693575551943,
          4.893112447917262,
          4.944630142222144
         ],
         "yaxis": "y"
        },
        {
         "hovertemplate": "primary_use=Lodging/residential<br>month=%{x}<br>meter_reading_log=%{y}<extra></extra>",
         "legendgroup": "Lodging/residential",
         "marker": {
          "color": "#FFA15A",
          "symbol": "circle"
         },
         "mode": "markers",
         "name": "Lodging/residential",
         "orientation": "v",
         "showlegend": true,
         "type": "scatter",
         "x": [
          1,
          2,
          3,
          4,
          5,
          6,
          7,
          8,
          9,
          10,
          11,
          12
         ],
         "xaxis": "x",
         "y": [
          3.9043467062903936,
          4.040280178088555,
          3.9612669984831417,
          3.996090952850917,
          4.00372406525475,
          4.103594409804063,
          4.199287840246212,
          4.213287281468662,
          4.321265345984069,
          4.287498985721354,
          4.263458260642514,
          4.128993831327002
         ],
         "yaxis": "y"
        },
        {
         "hovertemplate": "primary_use=Manufacturing/industrial<br>month=%{x}<br>meter_reading_log=%{y}<extra></extra>",
         "legendgroup": "Manufacturing/industrial",
         "marker": {
          "color": "#19d3f3",
          "symbol": "circle"
         },
         "mode": "markers",
         "name": "Manufacturing/industrial",
         "orientation": "v",
         "showlegend": true,
         "type": "scatter",
         "x": [
          1,
          2,
          3,
          4,
          5,
          6,
          7,
          8,
          9,
          10,
          11,
          12
         ],
         "xaxis": "x",
         "y": [
          4.0227188409439965,
          4.06854813621154,
          4.067087064847889,
          3.8685143942234688,
          3.7523955197831054,
          3.856681139891641,
          3.8894375235539855,
          3.9057814987148145,
          3.8446415783564705,
          3.895665601974063,
          3.923442895777248,
          4.0155820537308635
         ],
         "yaxis": "y"
        },
        {
         "hovertemplate": "primary_use=Office<br>month=%{x}<br>meter_reading_log=%{y}<extra></extra>",
         "legendgroup": "Office",
         "marker": {
          "color": "#FF6692",
          "symbol": "circle"
         },
         "mode": "markers",
         "name": "Office",
         "orientation": "v",
         "showlegend": true,
         "type": "scatter",
         "x": [
          1,
          2,
          3,
          4,
          5,
          6,
          7,
          8,
          9,
          10,
          11,
          12
         ],
         "xaxis": "x",
         "y": [
          4.226791813613544,
          4.260014368339972,
          4.201757952968132,
          4.179170101873042,
          4.205525041118219,
          4.311996527189219,
          4.32460342215033,
          4.3491124872594105,
          4.315766222410724,
          4.2394553996971025,
          4.238344460173353,
          4.2222835611008795
         ],
         "yaxis": "y"
        },
        {
         "hovertemplate": "primary_use=Other<br>month=%{x}<br>meter_reading_log=%{y}<extra></extra>",
         "legendgroup": "Other",
         "marker": {
          "color": "#B6E880",
          "symbol": "circle"
         },
         "mode": "markers",
         "name": "Other",
         "orientation": "v",
         "showlegend": true,
         "type": "scatter",
         "x": [
          1,
          2,
          3,
          4,
          5,
          6,
          7,
          8,
          9,
          10,
          11,
          12
         ],
         "xaxis": "x",
         "y": [
          2.7173754904208094,
          2.6792879613553313,
          2.5750669524582963,
          2.5833153234108477,
          2.6877705735683555,
          2.970439255166068,
          3.0994590062006258,
          3.090743652699817,
          3.0412811388333476,
          2.9531359288550467,
          2.887092005884238,
          2.9222291536228235
         ],
         "yaxis": "y"
        },
        {
         "hovertemplate": "primary_use=Parking<br>month=%{x}<br>meter_reading_log=%{y}<extra></extra>",
         "legendgroup": "Parking",
         "marker": {
          "color": "#FF97FF",
          "symbol": "circle"
         },
         "mode": "markers",
         "name": "Parking",
         "orientation": "v",
         "showlegend": true,
         "type": "scatter",
         "x": [
          1,
          2,
          3,
          4,
          5,
          6,
          7,
          8,
          9,
          10,
          11,
          12
         ],
         "xaxis": "x",
         "y": [
          4.027261800814862,
          3.978429956840706,
          3.8266272025888703,
          3.744014238798747,
          3.747727675639314,
          3.9155557097167497,
          3.9388576175545964,
          3.985570110313498,
          3.9233771533714643,
          3.939347516039142,
          4.00377224357238,
          4.115903914393409
         ],
         "yaxis": "y"
        },
        {
         "hovertemplate": "primary_use=Public services<br>month=%{x}<br>meter_reading_log=%{y}<extra></extra>",
         "legendgroup": "Public services",
         "marker": {
          "color": "#FECB52",
          "symbol": "circle"
         },
         "mode": "markers",
         "name": "Public services",
         "orientation": "v",
         "showlegend": true,
         "type": "scatter",
         "x": [
          1,
          2,
          3,
          4,
          5,
          6,
          7,
          8,
          9,
          10,
          11,
          12
         ],
         "xaxis": "x",
         "y": [
          3.7648167654906395,
          3.7281832615044195,
          3.639016466982196,
          3.6637916488356543,
          3.683753291347314,
          3.8615379361812865,
          3.926142556972313,
          3.9500416001556733,
          3.868301091200895,
          3.67330839667509,
          3.6723741575807574,
          3.700392086229938
         ],
         "yaxis": "y"
        },
        {
         "hovertemplate": "primary_use=Religious worship<br>month=%{x}<br>meter_reading_log=%{y}<extra></extra>",
         "legendgroup": "Religious worship",
         "marker": {
          "color": "#636efa",
          "symbol": "circle"
         },
         "mode": "markers",
         "name": "Religious worship",
         "orientation": "v",
         "showlegend": true,
         "type": "scatter",
         "x": [
          1,
          2,
          3,
          4,
          5,
          6,
          7,
          8,
          9,
          10,
          11,
          12
         ],
         "xaxis": "x",
         "y": [
          1.5754759261408615,
          1.3970135981627416,
          1.1794755691757173,
          1.4995158517035756,
          1.5312113566279861,
          1.7247040948455699,
          1.7951213586885806,
          1.7842786254323175,
          1.634062149980132,
          1.4416653190689166,
          1.44923141004421,
          1.4411743388692697
         ],
         "yaxis": "y"
        },
        {
         "hovertemplate": "primary_use=Retail<br>month=%{x}<br>meter_reading_log=%{y}<extra></extra>",
         "legendgroup": "Retail",
         "marker": {
          "color": "#EF553B",
          "symbol": "circle"
         },
         "mode": "markers",
         "name": "Retail",
         "orientation": "v",
         "showlegend": true,
         "type": "scatter",
         "x": [
          1,
          2,
          3,
          4,
          5,
          6,
          7,
          8,
          9,
          10,
          11,
          12
         ],
         "xaxis": "x",
         "y": [
          3.5157349663533006,
          3.2865244732120327,
          3.503817533244658,
          3.620438387108005,
          3.812991029930638,
          4.09069197134802,
          3.9758865423402296,
          4.016081164965633,
          3.99622508122089,
          3.862235898624022,
          3.8261642552831354,
          3.6804349892179657
         ],
         "yaxis": "y"
        },
        {
         "hovertemplate": "primary_use=Services<br>month=%{x}<br>meter_reading_log=%{y}<extra></extra>",
         "legendgroup": "Services",
         "marker": {
          "color": "#00cc96",
          "symbol": "circle"
         },
         "mode": "markers",
         "name": "Services",
         "orientation": "v",
         "showlegend": true,
         "type": "scatter",
         "x": [
          1,
          2,
          3,
          4,
          5,
          6,
          7,
          8,
          9,
          10,
          11,
          12
         ],
         "xaxis": "x",
         "y": [
          4.171206733978608,
          4.192220482852303,
          4.262262370362108,
          4.233455894708464,
          4.239600804985467,
          4.330738026944275,
          4.3689127581421285,
          4.427222274467744,
          4.410735704250169,
          4.249671827629444,
          4.225907749645518,
          4.189258632783149
         ],
         "yaxis": "y"
        },
        {
         "hovertemplate": "primary_use=Technology/science<br>month=%{x}<br>meter_reading_log=%{y}<extra></extra>",
         "legendgroup": "Technology/science",
         "marker": {
          "color": "#ab63fa",
          "symbol": "circle"
         },
         "mode": "markers",
         "name": "Technology/science",
         "orientation": "v",
         "showlegend": true,
         "type": "scatter",
         "x": [
          1,
          2,
          3,
          4,
          5,
          6,
          7,
          8,
          9,
          10,
          11,
          12
         ],
         "xaxis": "x",
         "y": [
          4.535993509718213,
          4.561802428242937,
          4.491022167143475,
          4.6085925216807055,
          4.561039978602286,
          4.5655273595749755,
          4.558313440868426,
          4.580598361146124,
          4.550931927076795,
          4.520809915634107,
          4.542243302004282,
          4.482750366688269
         ],
         "yaxis": "y"
        },
        {
         "hovertemplate": "primary_use=Utility<br>month=%{x}<br>meter_reading_log=%{y}<extra></extra>",
         "legendgroup": "Utility",
         "marker": {
          "color": "#FFA15A",
          "symbol": "circle"
         },
         "mode": "markers",
         "name": "Utility",
         "orientation": "v",
         "showlegend": true,
         "type": "scatter",
         "x": [
          1,
          2,
          3,
          4,
          5,
          6,
          7,
          8,
          9,
          10,
          11,
          12
         ],
         "xaxis": "x",
         "y": [
          4.353429248412641,
          4.583545403264678,
          4.657831449161911,
          4.395342573169167,
          4.388280739322039,
          4.477610502120667,
          4.483783751908457,
          4.506707089800314,
          4.501855428002092,
          4.427678780286859,
          4.381270930250218,
          4.381617454692741
         ],
         "yaxis": "y"
        },
        {
         "hovertemplate": "primary_use=Warehouse/storage<br>month=%{x}<br>meter_reading_log=%{y}<extra></extra>",
         "legendgroup": "Warehouse/storage",
         "marker": {
          "color": "#19d3f3",
          "symbol": "circle"
         },
         "mode": "markers",
         "name": "Warehouse/storage",
         "orientation": "v",
         "showlegend": true,
         "type": "scatter",
         "x": [
          1,
          2,
          3,
          4,
          5,
          6,
          7,
          8,
          9,
          10,
          11,
          12
         ],
         "xaxis": "x",
         "y": [
          3.245183450419914,
          3.217321621644226,
          3.1438932684331466,
          3.1099517221299404,
          3.13131864106322,
          3.3155176886764495,
          3.489153012653486,
          3.449177261332361,
          3.4159405457480796,
          3.288425930566512,
          3.2190747846069163,
          3.291528294049123
         ],
         "yaxis": "y"
        }
       ],
       "layout": {
        "legend": {
         "title": {
          "text": "primary_use"
         },
         "tracegroupgap": 0
        },
        "margin": {
         "t": 60
        },
        "paper_bgcolor": "seashell",
        "template": {
         "data": {
          "bar": [
           {
            "error_x": {
             "color": "#2a3f5f"
            },
            "error_y": {
             "color": "#2a3f5f"
            },
            "marker": {
             "line": {
              "color": "#E5ECF6",
              "width": 0.5
             },
             "pattern": {
              "fillmode": "overlay",
              "size": 10,
              "solidity": 0.2
             }
            },
            "type": "bar"
           }
          ],
          "barpolar": [
           {
            "marker": {
             "line": {
              "color": "#E5ECF6",
              "width": 0.5
             },
             "pattern": {
              "fillmode": "overlay",
              "size": 10,
              "solidity": 0.2
             }
            },
            "type": "barpolar"
           }
          ],
          "carpet": [
           {
            "aaxis": {
             "endlinecolor": "#2a3f5f",
             "gridcolor": "white",
             "linecolor": "white",
             "minorgridcolor": "white",
             "startlinecolor": "#2a3f5f"
            },
            "baxis": {
             "endlinecolor": "#2a3f5f",
             "gridcolor": "white",
             "linecolor": "white",
             "minorgridcolor": "white",
             "startlinecolor": "#2a3f5f"
            },
            "type": "carpet"
           }
          ],
          "choropleth": [
           {
            "colorbar": {
             "outlinewidth": 0,
             "ticks": ""
            },
            "type": "choropleth"
           }
          ],
          "contour": [
           {
            "colorbar": {
             "outlinewidth": 0,
             "ticks": ""
            },
            "colorscale": [
             [
              0,
              "#0d0887"
             ],
             [
              0.1111111111111111,
              "#46039f"
             ],
             [
              0.2222222222222222,
              "#7201a8"
             ],
             [
              0.3333333333333333,
              "#9c179e"
             ],
             [
              0.4444444444444444,
              "#bd3786"
             ],
             [
              0.5555555555555556,
              "#d8576b"
             ],
             [
              0.6666666666666666,
              "#ed7953"
             ],
             [
              0.7777777777777778,
              "#fb9f3a"
             ],
             [
              0.8888888888888888,
              "#fdca26"
             ],
             [
              1,
              "#f0f921"
             ]
            ],
            "type": "contour"
           }
          ],
          "contourcarpet": [
           {
            "colorbar": {
             "outlinewidth": 0,
             "ticks": ""
            },
            "type": "contourcarpet"
           }
          ],
          "heatmap": [
           {
            "colorbar": {
             "outlinewidth": 0,
             "ticks": ""
            },
            "colorscale": [
             [
              0,
              "#0d0887"
             ],
             [
              0.1111111111111111,
              "#46039f"
             ],
             [
              0.2222222222222222,
              "#7201a8"
             ],
             [
              0.3333333333333333,
              "#9c179e"
             ],
             [
              0.4444444444444444,
              "#bd3786"
             ],
             [
              0.5555555555555556,
              "#d8576b"
             ],
             [
              0.6666666666666666,
              "#ed7953"
             ],
             [
              0.7777777777777778,
              "#fb9f3a"
             ],
             [
              0.8888888888888888,
              "#fdca26"
             ],
             [
              1,
              "#f0f921"
             ]
            ],
            "type": "heatmap"
           }
          ],
          "heatmapgl": [
           {
            "colorbar": {
             "outlinewidth": 0,
             "ticks": ""
            },
            "colorscale": [
             [
              0,
              "#0d0887"
             ],
             [
              0.1111111111111111,
              "#46039f"
             ],
             [
              0.2222222222222222,
              "#7201a8"
             ],
             [
              0.3333333333333333,
              "#9c179e"
             ],
             [
              0.4444444444444444,
              "#bd3786"
             ],
             [
              0.5555555555555556,
              "#d8576b"
             ],
             [
              0.6666666666666666,
              "#ed7953"
             ],
             [
              0.7777777777777778,
              "#fb9f3a"
             ],
             [
              0.8888888888888888,
              "#fdca26"
             ],
             [
              1,
              "#f0f921"
             ]
            ],
            "type": "heatmapgl"
           }
          ],
          "histogram": [
           {
            "marker": {
             "pattern": {
              "fillmode": "overlay",
              "size": 10,
              "solidity": 0.2
             }
            },
            "type": "histogram"
           }
          ],
          "histogram2d": [
           {
            "colorbar": {
             "outlinewidth": 0,
             "ticks": ""
            },
            "colorscale": [
             [
              0,
              "#0d0887"
             ],
             [
              0.1111111111111111,
              "#46039f"
             ],
             [
              0.2222222222222222,
              "#7201a8"
             ],
             [
              0.3333333333333333,
              "#9c179e"
             ],
             [
              0.4444444444444444,
              "#bd3786"
             ],
             [
              0.5555555555555556,
              "#d8576b"
             ],
             [
              0.6666666666666666,
              "#ed7953"
             ],
             [
              0.7777777777777778,
              "#fb9f3a"
             ],
             [
              0.8888888888888888,
              "#fdca26"
             ],
             [
              1,
              "#f0f921"
             ]
            ],
            "type": "histogram2d"
           }
          ],
          "histogram2dcontour": [
           {
            "colorbar": {
             "outlinewidth": 0,
             "ticks": ""
            },
            "colorscale": [
             [
              0,
              "#0d0887"
             ],
             [
              0.1111111111111111,
              "#46039f"
             ],
             [
              0.2222222222222222,
              "#7201a8"
             ],
             [
              0.3333333333333333,
              "#9c179e"
             ],
             [
              0.4444444444444444,
              "#bd3786"
             ],
             [
              0.5555555555555556,
              "#d8576b"
             ],
             [
              0.6666666666666666,
              "#ed7953"
             ],
             [
              0.7777777777777778,
              "#fb9f3a"
             ],
             [
              0.8888888888888888,
              "#fdca26"
             ],
             [
              1,
              "#f0f921"
             ]
            ],
            "type": "histogram2dcontour"
           }
          ],
          "mesh3d": [
           {
            "colorbar": {
             "outlinewidth": 0,
             "ticks": ""
            },
            "type": "mesh3d"
           }
          ],
          "parcoords": [
           {
            "line": {
             "colorbar": {
              "outlinewidth": 0,
              "ticks": ""
             }
            },
            "type": "parcoords"
           }
          ],
          "pie": [
           {
            "automargin": true,
            "type": "pie"
           }
          ],
          "scatter": [
           {
            "fillpattern": {
             "fillmode": "overlay",
             "size": 10,
             "solidity": 0.2
            },
            "type": "scatter"
           }
          ],
          "scatter3d": [
           {
            "line": {
             "colorbar": {
              "outlinewidth": 0,
              "ticks": ""
             }
            },
            "marker": {
             "colorbar": {
              "outlinewidth": 0,
              "ticks": ""
             }
            },
            "type": "scatter3d"
           }
          ],
          "scattercarpet": [
           {
            "marker": {
             "colorbar": {
              "outlinewidth": 0,
              "ticks": ""
             }
            },
            "type": "scattercarpet"
           }
          ],
          "scattergeo": [
           {
            "marker": {
             "colorbar": {
              "outlinewidth": 0,
              "ticks": ""
             }
            },
            "type": "scattergeo"
           }
          ],
          "scattergl": [
           {
            "marker": {
             "colorbar": {
              "outlinewidth": 0,
              "ticks": ""
             }
            },
            "type": "scattergl"
           }
          ],
          "scattermapbox": [
           {
            "marker": {
             "colorbar": {
              "outlinewidth": 0,
              "ticks": ""
             }
            },
            "type": "scattermapbox"
           }
          ],
          "scatterpolar": [
           {
            "marker": {
             "colorbar": {
              "outlinewidth": 0,
              "ticks": ""
             }
            },
            "type": "scatterpolar"
           }
          ],
          "scatterpolargl": [
           {
            "marker": {
             "colorbar": {
              "outlinewidth": 0,
              "ticks": ""
             }
            },
            "type": "scatterpolargl"
           }
          ],
          "scatterternary": [
           {
            "marker": {
             "colorbar": {
              "outlinewidth": 0,
              "ticks": ""
             }
            },
            "type": "scatterternary"
           }
          ],
          "surface": [
           {
            "colorbar": {
             "outlinewidth": 0,
             "ticks": ""
            },
            "colorscale": [
             [
              0,
              "#0d0887"
             ],
             [
              0.1111111111111111,
              "#46039f"
             ],
             [
              0.2222222222222222,
              "#7201a8"
             ],
             [
              0.3333333333333333,
              "#9c179e"
             ],
             [
              0.4444444444444444,
              "#bd3786"
             ],
             [
              0.5555555555555556,
              "#d8576b"
             ],
             [
              0.6666666666666666,
              "#ed7953"
             ],
             [
              0.7777777777777778,
              "#fb9f3a"
             ],
             [
              0.8888888888888888,
              "#fdca26"
             ],
             [
              1,
              "#f0f921"
             ]
            ],
            "type": "surface"
           }
          ],
          "table": [
           {
            "cells": {
             "fill": {
              "color": "#EBF0F8"
             },
             "line": {
              "color": "white"
             }
            },
            "header": {
             "fill": {
              "color": "#C8D4E3"
             },
             "line": {
              "color": "white"
             }
            },
            "type": "table"
           }
          ]
         },
         "layout": {
          "annotationdefaults": {
           "arrowcolor": "#2a3f5f",
           "arrowhead": 0,
           "arrowwidth": 1
          },
          "autotypenumbers": "strict",
          "coloraxis": {
           "colorbar": {
            "outlinewidth": 0,
            "ticks": ""
           }
          },
          "colorscale": {
           "diverging": [
            [
             0,
             "#8e0152"
            ],
            [
             0.1,
             "#c51b7d"
            ],
            [
             0.2,
             "#de77ae"
            ],
            [
             0.3,
             "#f1b6da"
            ],
            [
             0.4,
             "#fde0ef"
            ],
            [
             0.5,
             "#f7f7f7"
            ],
            [
             0.6,
             "#e6f5d0"
            ],
            [
             0.7,
             "#b8e186"
            ],
            [
             0.8,
             "#7fbc41"
            ],
            [
             0.9,
             "#4d9221"
            ],
            [
             1,
             "#276419"
            ]
           ],
           "sequential": [
            [
             0,
             "#0d0887"
            ],
            [
             0.1111111111111111,
             "#46039f"
            ],
            [
             0.2222222222222222,
             "#7201a8"
            ],
            [
             0.3333333333333333,
             "#9c179e"
            ],
            [
             0.4444444444444444,
             "#bd3786"
            ],
            [
             0.5555555555555556,
             "#d8576b"
            ],
            [
             0.6666666666666666,
             "#ed7953"
            ],
            [
             0.7777777777777778,
             "#fb9f3a"
            ],
            [
             0.8888888888888888,
             "#fdca26"
            ],
            [
             1,
             "#f0f921"
            ]
           ],
           "sequentialminus": [
            [
             0,
             "#0d0887"
            ],
            [
             0.1111111111111111,
             "#46039f"
            ],
            [
             0.2222222222222222,
             "#7201a8"
            ],
            [
             0.3333333333333333,
             "#9c179e"
            ],
            [
             0.4444444444444444,
             "#bd3786"
            ],
            [
             0.5555555555555556,
             "#d8576b"
            ],
            [
             0.6666666666666666,
             "#ed7953"
            ],
            [
             0.7777777777777778,
             "#fb9f3a"
            ],
            [
             0.8888888888888888,
             "#fdca26"
            ],
            [
             1,
             "#f0f921"
            ]
           ]
          },
          "colorway": [
           "#636efa",
           "#EF553B",
           "#00cc96",
           "#ab63fa",
           "#FFA15A",
           "#19d3f3",
           "#FF6692",
           "#B6E880",
           "#FF97FF",
           "#FECB52"
          ],
          "font": {
           "color": "#2a3f5f"
          },
          "geo": {
           "bgcolor": "white",
           "lakecolor": "white",
           "landcolor": "#E5ECF6",
           "showlakes": true,
           "showland": true,
           "subunitcolor": "white"
          },
          "hoverlabel": {
           "align": "left"
          },
          "hovermode": "closest",
          "mapbox": {
           "style": "light"
          },
          "paper_bgcolor": "white",
          "plot_bgcolor": "#E5ECF6",
          "polar": {
           "angularaxis": {
            "gridcolor": "white",
            "linecolor": "white",
            "ticks": ""
           },
           "bgcolor": "#E5ECF6",
           "radialaxis": {
            "gridcolor": "white",
            "linecolor": "white",
            "ticks": ""
           }
          },
          "scene": {
           "xaxis": {
            "backgroundcolor": "#E5ECF6",
            "gridcolor": "white",
            "gridwidth": 2,
            "linecolor": "white",
            "showbackground": true,
            "ticks": "",
            "zerolinecolor": "white"
           },
           "yaxis": {
            "backgroundcolor": "#E5ECF6",
            "gridcolor": "white",
            "gridwidth": 2,
            "linecolor": "white",
            "showbackground": true,
            "ticks": "",
            "zerolinecolor": "white"
           },
           "zaxis": {
            "backgroundcolor": "#E5ECF6",
            "gridcolor": "white",
            "gridwidth": 2,
            "linecolor": "white",
            "showbackground": true,
            "ticks": "",
            "zerolinecolor": "white"
           }
          },
          "shapedefaults": {
           "line": {
            "color": "#2a3f5f"
           }
          },
          "ternary": {
           "aaxis": {
            "gridcolor": "white",
            "linecolor": "white",
            "ticks": ""
           },
           "baxis": {
            "gridcolor": "white",
            "linecolor": "white",
            "ticks": ""
           },
           "bgcolor": "#E5ECF6",
           "caxis": {
            "gridcolor": "white",
            "linecolor": "white",
            "ticks": ""
           }
          },
          "title": {
           "x": 0.05
          },
          "xaxis": {
           "automargin": true,
           "gridcolor": "white",
           "linecolor": "white",
           "ticks": "",
           "title": {
            "standoff": 15
           },
           "zerolinecolor": "white",
           "zerolinewidth": 2
          },
          "yaxis": {
           "automargin": true,
           "gridcolor": "white",
           "linecolor": "white",
           "ticks": "",
           "title": {
            "standoff": 15
           },
           "zerolinecolor": "white",
           "zerolinewidth": 2
          }
         }
        },
        "xaxis": {
         "anchor": "y",
         "domain": [
          0,
          1
         ],
         "title": {
          "text": "month"
         }
        },
        "yaxis": {
         "anchor": "x",
         "domain": [
          0,
          1
         ],
         "title": {
          "text": "meter_reading_log"
         }
        }
       }
      }
     },
     "metadata": {},
     "output_type": "display_data"
    }
   ],
   "source": [
    "#Monthly Averaged Data Grouped by primary_use\n",
    "filtered_data=merged_data.groupby(['primary_use','month'])['meter_reading_log'].mean().reset_index()\n",
    "fig2 = px.scatter(filtered_data, x='month', y='meter_reading_log', color='primary_use')\n",
    "fig2.update_layout(\n",
    "    \n",
    "    paper_bgcolor='seashell'  # Set the color of the background\n",
    ")\n",
    "\n",
    "fig2.show()"
   ]
  },
  {
   "cell_type": "code",
   "execution_count": 23,
   "metadata": {},
   "outputs": [
    {
     "data": {
      "application/vnd.plotly.v1+json": {
       "config": {
        "plotlyServerURL": "https://plot.ly"
       },
       "data": [
        {
         "hovertemplate": "hour=%{x}<br>meter_reading_log=%{y}<br>site_id=%{marker.color}<extra></extra>",
         "legendgroup": "",
         "marker": {
          "color": [
           0,
           1,
           2,
           3,
           4,
           5,
           6,
           7,
           8,
           9,
           10,
           11,
           12,
           13,
           14,
           15,
           0,
           1,
           2,
           3,
           4,
           5,
           6,
           7,
           8,
           9,
           10,
           11,
           12,
           13,
           14,
           15,
           0,
           1,
           2,
           3,
           4,
           5,
           6,
           7,
           8,
           9,
           10,
           11,
           12,
           13,
           14,
           15,
           0,
           1,
           2,
           3,
           4,
           5,
           6,
           7,
           8,
           9,
           10,
           11,
           12,
           13,
           14,
           15,
           0,
           1,
           2,
           3,
           4,
           5,
           6,
           7,
           8,
           9,
           10,
           11,
           12,
           13,
           14,
           15,
           0,
           1,
           2,
           3,
           4,
           5,
           6,
           7,
           8,
           9,
           10,
           11,
           12,
           13,
           14,
           15,
           0,
           1,
           2,
           3,
           4,
           5,
           6,
           7,
           8,
           9,
           10,
           11,
           12,
           13,
           14,
           15,
           0,
           1,
           2,
           3,
           4,
           5,
           6,
           7,
           8,
           9,
           10,
           11,
           12,
           13,
           14,
           15,
           0,
           1,
           2,
           3,
           4,
           5,
           6,
           7,
           8,
           9,
           10,
           11,
           12,
           13,
           14,
           15,
           0,
           1,
           2,
           3,
           4,
           5,
           6,
           7,
           8,
           9,
           10,
           11,
           12,
           13,
           14,
           15,
           0,
           1,
           2,
           3,
           4,
           5,
           6,
           7,
           8,
           9,
           10,
           11,
           12,
           13,
           14,
           15,
           0,
           1,
           2,
           3,
           4,
           5,
           6,
           7,
           8,
           9,
           10,
           11,
           12,
           13,
           14,
           15,
           0,
           1,
           2,
           3,
           4,
           5,
           6,
           7,
           8,
           9,
           10,
           11,
           12,
           13,
           14,
           15,
           0,
           1,
           2,
           3,
           4,
           5,
           6,
           7,
           8,
           9,
           10,
           11,
           12,
           13,
           14,
           15,
           0,
           1,
           2,
           3,
           4,
           5,
           6,
           7,
           8,
           9,
           10,
           11,
           12,
           13,
           14,
           15,
           0,
           1,
           2,
           3,
           4,
           5,
           6,
           7,
           8,
           9,
           10,
           11,
           12,
           13,
           14,
           15,
           0,
           1,
           2,
           3,
           4,
           5,
           6,
           7,
           8,
           9,
           10,
           11,
           12,
           13,
           14,
           15,
           0,
           1,
           2,
           3,
           4,
           5,
           6,
           7,
           8,
           9,
           10,
           11,
           12,
           13,
           14,
           15,
           0,
           1,
           2,
           3,
           4,
           5,
           6,
           7,
           8,
           9,
           10,
           11,
           12,
           13,
           14,
           15,
           0,
           1,
           2,
           3,
           4,
           5,
           6,
           7,
           8,
           9,
           10,
           11,
           12,
           13,
           14,
           15,
           0,
           1,
           2,
           3,
           4,
           5,
           6,
           7,
           8,
           9,
           10,
           11,
           12,
           13,
           14,
           15,
           0,
           1,
           2,
           3,
           4,
           5,
           6,
           7,
           8,
           9,
           10,
           11,
           12,
           13,
           14,
           15,
           0,
           1,
           2,
           3,
           4,
           5,
           6,
           7,
           8,
           9,
           10,
           11,
           12,
           13,
           14,
           15,
           0,
           1,
           2,
           3,
           4,
           5,
           6,
           7,
           8,
           9,
           10,
           11,
           12,
           13,
           14,
           15
          ],
          "coloraxis": "coloraxis",
          "symbol": "circle"
         },
         "mode": "markers",
         "name": "",
         "orientation": "v",
         "showlegend": false,
         "type": "scatter",
         "x": [
          0,
          0,
          0,
          0,
          0,
          0,
          0,
          0,
          0,
          0,
          0,
          0,
          0,
          0,
          0,
          0,
          1,
          1,
          1,
          1,
          1,
          1,
          1,
          1,
          1,
          1,
          1,
          1,
          1,
          1,
          1,
          1,
          2,
          2,
          2,
          2,
          2,
          2,
          2,
          2,
          2,
          2,
          2,
          2,
          2,
          2,
          2,
          2,
          3,
          3,
          3,
          3,
          3,
          3,
          3,
          3,
          3,
          3,
          3,
          3,
          3,
          3,
          3,
          3,
          4,
          4,
          4,
          4,
          4,
          4,
          4,
          4,
          4,
          4,
          4,
          4,
          4,
          4,
          4,
          4,
          5,
          5,
          5,
          5,
          5,
          5,
          5,
          5,
          5,
          5,
          5,
          5,
          5,
          5,
          5,
          5,
          6,
          6,
          6,
          6,
          6,
          6,
          6,
          6,
          6,
          6,
          6,
          6,
          6,
          6,
          6,
          6,
          7,
          7,
          7,
          7,
          7,
          7,
          7,
          7,
          7,
          7,
          7,
          7,
          7,
          7,
          7,
          7,
          8,
          8,
          8,
          8,
          8,
          8,
          8,
          8,
          8,
          8,
          8,
          8,
          8,
          8,
          8,
          8,
          9,
          9,
          9,
          9,
          9,
          9,
          9,
          9,
          9,
          9,
          9,
          9,
          9,
          9,
          9,
          9,
          10,
          10,
          10,
          10,
          10,
          10,
          10,
          10,
          10,
          10,
          10,
          10,
          10,
          10,
          10,
          10,
          11,
          11,
          11,
          11,
          11,
          11,
          11,
          11,
          11,
          11,
          11,
          11,
          11,
          11,
          11,
          11,
          12,
          12,
          12,
          12,
          12,
          12,
          12,
          12,
          12,
          12,
          12,
          12,
          12,
          12,
          12,
          12,
          13,
          13,
          13,
          13,
          13,
          13,
          13,
          13,
          13,
          13,
          13,
          13,
          13,
          13,
          13,
          13,
          14,
          14,
          14,
          14,
          14,
          14,
          14,
          14,
          14,
          14,
          14,
          14,
          14,
          14,
          14,
          14,
          15,
          15,
          15,
          15,
          15,
          15,
          15,
          15,
          15,
          15,
          15,
          15,
          15,
          15,
          15,
          15,
          16,
          16,
          16,
          16,
          16,
          16,
          16,
          16,
          16,
          16,
          16,
          16,
          16,
          16,
          16,
          16,
          17,
          17,
          17,
          17,
          17,
          17,
          17,
          17,
          17,
          17,
          17,
          17,
          17,
          17,
          17,
          17,
          18,
          18,
          18,
          18,
          18,
          18,
          18,
          18,
          18,
          18,
          18,
          18,
          18,
          18,
          18,
          18,
          19,
          19,
          19,
          19,
          19,
          19,
          19,
          19,
          19,
          19,
          19,
          19,
          19,
          19,
          19,
          19,
          20,
          20,
          20,
          20,
          20,
          20,
          20,
          20,
          20,
          20,
          20,
          20,
          20,
          20,
          20,
          20,
          21,
          21,
          21,
          21,
          21,
          21,
          21,
          21,
          21,
          21,
          21,
          21,
          21,
          21,
          21,
          21,
          22,
          22,
          22,
          22,
          22,
          22,
          22,
          22,
          22,
          22,
          22,
          22,
          22,
          22,
          22,
          22,
          23,
          23,
          23,
          23,
          23,
          23,
          23,
          23,
          23,
          23,
          23,
          23,
          23,
          23,
          23,
          23
         ],
         "xaxis": "x",
         "y": [
          5.194529015586429,
          4.311255513640553,
          4.114136783347674,
          3.726627066836769,
          3.9035631502484707,
          2.31111741078663,
          4.405799801107512,
          7.060007753543863,
          2.75416488994454,
          4.4699215901821985,
          3.7279336492635595,
          5.103052091816897,
          3.7143513212874315,
          4.5019655648134655,
          4.750989622605908,
          4.04876172016827,
          5.179486502252066,
          4.292771861855995,
          4.10195695352784,
          3.7165078673054057,
          3.8910943484007823,
          2.2863607705465117,
          4.381940915315541,
          7.055248737662924,
          2.7557304228692265,
          4.453010400895585,
          3.7257888221056468,
          5.094625411687868,
          3.7103935462379303,
          4.4638627520173895,
          4.727867379638725,
          4.036259607746737,
          5.162520816104464,
          4.265198650720137,
          4.1043927089948005,
          3.712531467983975,
          3.8792250465132527,
          2.283910275295912,
          4.355514899281579,
          7.063165695283763,
          2.7582784891102796,
          4.405544610883616,
          3.710295233124555,
          5.078336732366281,
          3.710984024221143,
          4.439895350678957,
          4.697038548437833,
          4.025457722242296,
          5.151975193506207,
          4.2498030303793435,
          4.098104550714539,
          3.71358597123124,
          3.870588753911875,
          2.2834404119689,
          4.332748896965792,
          7.068811822079275,
          2.7611633097923747,
          4.386563933723761,
          3.70769074890073,
          5.077994553759337,
          3.708383750359993,
          4.4265143613359275,
          4.653871881041974,
          4.023594144204999,
          5.147074100209849,
          4.243748887478826,
          4.129703210309847,
          3.7279323375361617,
          3.873610348049475,
          2.2874227325083707,
          4.333170651229528,
          7.115964390467902,
          2.7632405272706633,
          4.376256449021429,
          3.7090118058389314,
          5.079323901808462,
          3.699452945917297,
          4.423066602395319,
          4.579608273696279,
          4.038487775813697,
          5.160118058707306,
          4.250893166380951,
          4.188613179644579,
          3.7570057260416165,
          3.895511948574701,
          2.308262109037692,
          4.363188078596752,
          7.247771392167386,
          2.765216888406073,
          4.3812586492516585,
          3.8028776736738323,
          5.093033018714634,
          3.773927528128254,
          4.426863639559346,
          4.531631490336122,
          4.084408239806711,
          5.215567852172456,
          4.292972164389745,
          4.2517305381860595,
          3.8037115927139236,
          3.966137094396754,
          2.3985336238831207,
          4.43562669661225,
          7.360606819677454,
          2.765565594946714,
          4.407804501469085,
          3.968178363016255,
          5.176434059863627,
          3.8960577137879304,
          4.467239100248872,
          4.511623298113524,
          4.141930351212449,
          5.227851822725828,
          4.351887339936484,
          4.278688906175569,
          3.8509946540173896,
          4.067280758732159,
          2.5916503949069383,
          4.517408499736412,
          7.415607326303775,
          2.7658060521082652,
          4.48919395377536,
          3.9838009104442893,
          5.307231283511921,
          4.062889954207262,
          4.598770595867084,
          4.506760170783131,
          4.187462694912557,
          5.225599950625637,
          4.413093001753942,
          4.337891034390864,
          3.8857014570882553,
          4.1496089373375105,
          2.7473561344770756,
          4.579536151848522,
          7.439251822442146,
          2.7654772377388745,
          4.522078406298718,
          4.041689375222182,
          5.3979867479199255,
          4.182923043252047,
          4.686060300766511,
          4.507446253640867,
          4.23262576251308,
          5.246729217123207,
          4.479714972918185,
          4.38501639171693,
          3.915374470297463,
          4.21946358039066,
          2.894165873684239,
          4.623021960226078,
          7.447410067319949,
          2.76644376188912,
          4.56535518506399,
          4.0800498427293155,
          5.470985656033556,
          4.238324305287338,
          4.755848102978858,
          4.525878539622908,
          4.265877503828539,
          5.282285205740326,
          4.5220377252803425,
          4.415281912370607,
          3.936094201559561,
          4.254629939680906,
          2.970208455935794,
          4.648292306306199,
          7.4568665850283455,
          2.7676827060389155,
          4.613167168931894,
          4.090692453584002,
          5.514832594214544,
          4.2669421013905575,
          4.800951127038967,
          4.585469769228256,
          4.284224811566547,
          5.2949605477253305,
          4.553234625257342,
          4.433662620532705,
          3.945145220566238,
          4.27977630727407,
          2.9981682367591875,
          4.66145087736586,
          7.468151140114017,
          2.76929174435035,
          4.632795129337946,
          4.098953228901433,
          5.536935427632139,
          4.273331733393503,
          4.829010029162158,
          4.6666151956199196,
          4.29447126946756,
          5.313186756503409,
          4.572875038490002,
          4.444856294671204,
          3.951403076304116,
          4.28583470356008,
          2.9958098510814923,
          4.666239040739081,
          7.462385713232157,
          2.7707524702051782,
          4.656917200426643,
          4.09948348606237,
          5.542563356001809,
          4.2715519072012675,
          4.8451822433299965,
          4.7321706550270735,
          4.298157550454629,
          5.3244734130855775,
          4.578988802588369,
          4.450856486527285,
          3.9540547938679707,
          4.294341900439409,
          2.9785599226723143,
          4.673075175379454,
          7.461784510082786,
          2.7708877152808693,
          4.669568858687424,
          4.1006282018718245,
          5.553274234589137,
          4.270629793005268,
          4.852749502320457,
          4.7803651058714305,
          4.304930671874968,
          5.33061780711549,
          4.5764462556318115,
          4.4463603276009485,
          3.9519562702584556,
          4.290516730583956,
          2.940498840253441,
          4.674936810241121,
          7.455279665935884,
          2.7711619293427394,
          4.678832649015948,
          4.099149675821716,
          5.55393798835217,
          4.258510261549304,
          4.856367222002388,
          4.813554051589806,
          4.310828131638083,
          5.332612286036287,
          4.574360335906266,
          4.442038352662602,
          3.945016345651004,
          4.283443982971998,
          2.8992153163964427,
          4.667672694503952,
          7.429914189683076,
          2.77092090192506,
          4.682967320499546,
          4.094883188565851,
          5.541359674721351,
          4.235689173190687,
          4.856937011995234,
          4.833902645431015,
          4.310094306659095,
          5.331845512188141,
          4.571856590616274,
          4.422061979385093,
          3.930726618278922,
          4.261008641415444,
          2.840440077992374,
          4.655501479830939,
          7.3874715277763805,
          2.760863403946751,
          4.676364050347031,
          4.078471240612621,
          5.505182647975797,
          4.181626229490607,
          4.8470775676591185,
          4.846398994121026,
          4.299609639361539,
          5.324002116836253,
          4.561628164393686,
          4.378413705174895,
          3.9268378647460516,
          4.204738662168493,
          2.7573581959682083,
          4.6209866433418725,
          7.281254373283971,
          2.7545182275234703,
          4.657935261102369,
          4.028617906775466,
          5.454667791709288,
          4.0885583639261505,
          4.821723413832078,
          4.849180708209543,
          4.269749014139507,
          5.323602754901315,
          4.5330254163943575,
          4.357615255672824,
          3.9239112400901424,
          4.155929734580723,
          2.6359333110675767,
          4.583629626389076,
          7.204259792320521,
          2.756095665940218,
          4.6105543285736585,
          3.9973489385037624,
          5.404736854317832,
          4.001271069500924,
          4.773585922916749,
          4.852231059597635,
          4.237963638660957,
          5.3309380054477105,
          4.492780261670328,
          4.34762803917512,
          3.9195422625851086,
          4.121062075005623,
          2.50235227478132,
          4.562675967785322,
          7.152163810846215,
          2.755388925579074,
          4.595117613401991,
          3.9647704405373148,
          5.367126901607426,
          3.9538252405365477,
          4.713312272352604,
          4.84906141488006,
          4.213617310403902,
          5.340030910082192,
          4.443954455331458,
          4.332156495309764,
          3.9048768202985897,
          4.0754520451687695,
          2.440378946502724,
          4.559750606023706,
          7.13326931850305,
          2.7549455114629504,
          4.580540437031455,
          3.9391382575868947,
          5.328960510659014,
          3.912088410176969,
          4.6766792063940805,
          4.840338651350584,
          4.210557359807259,
          5.325987483624549,
          4.403662049686495,
          4.287275747804228,
          3.853846222133653,
          4.02152321614055,
          2.39774395867741,
          4.546861392723284,
          7.10156845871877,
          2.7543549384778374,
          4.575101731356048,
          3.8547482353649865,
          5.2758929693394245,
          3.8525895060433903,
          4.643906659175537,
          4.826979299366712,
          4.185631682752025,
          5.286457219520583,
          4.370093019805132,
          4.217902426842962,
          3.788744530992027,
          3.9641880363175477,
          2.362133066240304,
          4.51234817559353,
          7.077952338441551,
          2.7539764181501445,
          4.548539691941158,
          3.797550206205127,
          5.190726812876105,
          3.777085571129958,
          4.612036081645394,
          4.796710111998496,
          4.135265428088695,
          5.2178171195778384,
          4.3393710701598796,
          4.155137751353678,
          3.745075953275927,
          3.9342807364949883,
          2.315892109123954,
          4.4679366286137,
          7.066135400229307,
          2.753903105133799,
          4.504233340284473,
          3.758210599110198,
          5.121335032746665,
          3.7336516896791543,
          4.547702279406962,
          4.768887344807077,
          4.082959964592849
         ],
         "yaxis": "y"
        }
       ],
       "layout": {
        "coloraxis": {
         "colorbar": {
          "title": {
           "text": "site_id"
          }
         },
         "colorscale": [
          [
           0,
           "#0d0887"
          ],
          [
           0.1111111111111111,
           "#46039f"
          ],
          [
           0.2222222222222222,
           "#7201a8"
          ],
          [
           0.3333333333333333,
           "#9c179e"
          ],
          [
           0.4444444444444444,
           "#bd3786"
          ],
          [
           0.5555555555555556,
           "#d8576b"
          ],
          [
           0.6666666666666666,
           "#ed7953"
          ],
          [
           0.7777777777777778,
           "#fb9f3a"
          ],
          [
           0.8888888888888888,
           "#fdca26"
          ],
          [
           1,
           "#f0f921"
          ]
         ]
        },
        "legend": {
         "tracegroupgap": 0
        },
        "margin": {
         "t": 60
        },
        "paper_bgcolor": "seashell",
        "template": {
         "data": {
          "bar": [
           {
            "error_x": {
             "color": "#2a3f5f"
            },
            "error_y": {
             "color": "#2a3f5f"
            },
            "marker": {
             "line": {
              "color": "#E5ECF6",
              "width": 0.5
             },
             "pattern": {
              "fillmode": "overlay",
              "size": 10,
              "solidity": 0.2
             }
            },
            "type": "bar"
           }
          ],
          "barpolar": [
           {
            "marker": {
             "line": {
              "color": "#E5ECF6",
              "width": 0.5
             },
             "pattern": {
              "fillmode": "overlay",
              "size": 10,
              "solidity": 0.2
             }
            },
            "type": "barpolar"
           }
          ],
          "carpet": [
           {
            "aaxis": {
             "endlinecolor": "#2a3f5f",
             "gridcolor": "white",
             "linecolor": "white",
             "minorgridcolor": "white",
             "startlinecolor": "#2a3f5f"
            },
            "baxis": {
             "endlinecolor": "#2a3f5f",
             "gridcolor": "white",
             "linecolor": "white",
             "minorgridcolor": "white",
             "startlinecolor": "#2a3f5f"
            },
            "type": "carpet"
           }
          ],
          "choropleth": [
           {
            "colorbar": {
             "outlinewidth": 0,
             "ticks": ""
            },
            "type": "choropleth"
           }
          ],
          "contour": [
           {
            "colorbar": {
             "outlinewidth": 0,
             "ticks": ""
            },
            "colorscale": [
             [
              0,
              "#0d0887"
             ],
             [
              0.1111111111111111,
              "#46039f"
             ],
             [
              0.2222222222222222,
              "#7201a8"
             ],
             [
              0.3333333333333333,
              "#9c179e"
             ],
             [
              0.4444444444444444,
              "#bd3786"
             ],
             [
              0.5555555555555556,
              "#d8576b"
             ],
             [
              0.6666666666666666,
              "#ed7953"
             ],
             [
              0.7777777777777778,
              "#fb9f3a"
             ],
             [
              0.8888888888888888,
              "#fdca26"
             ],
             [
              1,
              "#f0f921"
             ]
            ],
            "type": "contour"
           }
          ],
          "contourcarpet": [
           {
            "colorbar": {
             "outlinewidth": 0,
             "ticks": ""
            },
            "type": "contourcarpet"
           }
          ],
          "heatmap": [
           {
            "colorbar": {
             "outlinewidth": 0,
             "ticks": ""
            },
            "colorscale": [
             [
              0,
              "#0d0887"
             ],
             [
              0.1111111111111111,
              "#46039f"
             ],
             [
              0.2222222222222222,
              "#7201a8"
             ],
             [
              0.3333333333333333,
              "#9c179e"
             ],
             [
              0.4444444444444444,
              "#bd3786"
             ],
             [
              0.5555555555555556,
              "#d8576b"
             ],
             [
              0.6666666666666666,
              "#ed7953"
             ],
             [
              0.7777777777777778,
              "#fb9f3a"
             ],
             [
              0.8888888888888888,
              "#fdca26"
             ],
             [
              1,
              "#f0f921"
             ]
            ],
            "type": "heatmap"
           }
          ],
          "heatmapgl": [
           {
            "colorbar": {
             "outlinewidth": 0,
             "ticks": ""
            },
            "colorscale": [
             [
              0,
              "#0d0887"
             ],
             [
              0.1111111111111111,
              "#46039f"
             ],
             [
              0.2222222222222222,
              "#7201a8"
             ],
             [
              0.3333333333333333,
              "#9c179e"
             ],
             [
              0.4444444444444444,
              "#bd3786"
             ],
             [
              0.5555555555555556,
              "#d8576b"
             ],
             [
              0.6666666666666666,
              "#ed7953"
             ],
             [
              0.7777777777777778,
              "#fb9f3a"
             ],
             [
              0.8888888888888888,
              "#fdca26"
             ],
             [
              1,
              "#f0f921"
             ]
            ],
            "type": "heatmapgl"
           }
          ],
          "histogram": [
           {
            "marker": {
             "pattern": {
              "fillmode": "overlay",
              "size": 10,
              "solidity": 0.2
             }
            },
            "type": "histogram"
           }
          ],
          "histogram2d": [
           {
            "colorbar": {
             "outlinewidth": 0,
             "ticks": ""
            },
            "colorscale": [
             [
              0,
              "#0d0887"
             ],
             [
              0.1111111111111111,
              "#46039f"
             ],
             [
              0.2222222222222222,
              "#7201a8"
             ],
             [
              0.3333333333333333,
              "#9c179e"
             ],
             [
              0.4444444444444444,
              "#bd3786"
             ],
             [
              0.5555555555555556,
              "#d8576b"
             ],
             [
              0.6666666666666666,
              "#ed7953"
             ],
             [
              0.7777777777777778,
              "#fb9f3a"
             ],
             [
              0.8888888888888888,
              "#fdca26"
             ],
             [
              1,
              "#f0f921"
             ]
            ],
            "type": "histogram2d"
           }
          ],
          "histogram2dcontour": [
           {
            "colorbar": {
             "outlinewidth": 0,
             "ticks": ""
            },
            "colorscale": [
             [
              0,
              "#0d0887"
             ],
             [
              0.1111111111111111,
              "#46039f"
             ],
             [
              0.2222222222222222,
              "#7201a8"
             ],
             [
              0.3333333333333333,
              "#9c179e"
             ],
             [
              0.4444444444444444,
              "#bd3786"
             ],
             [
              0.5555555555555556,
              "#d8576b"
             ],
             [
              0.6666666666666666,
              "#ed7953"
             ],
             [
              0.7777777777777778,
              "#fb9f3a"
             ],
             [
              0.8888888888888888,
              "#fdca26"
             ],
             [
              1,
              "#f0f921"
             ]
            ],
            "type": "histogram2dcontour"
           }
          ],
          "mesh3d": [
           {
            "colorbar": {
             "outlinewidth": 0,
             "ticks": ""
            },
            "type": "mesh3d"
           }
          ],
          "parcoords": [
           {
            "line": {
             "colorbar": {
              "outlinewidth": 0,
              "ticks": ""
             }
            },
            "type": "parcoords"
           }
          ],
          "pie": [
           {
            "automargin": true,
            "type": "pie"
           }
          ],
          "scatter": [
           {
            "fillpattern": {
             "fillmode": "overlay",
             "size": 10,
             "solidity": 0.2
            },
            "type": "scatter"
           }
          ],
          "scatter3d": [
           {
            "line": {
             "colorbar": {
              "outlinewidth": 0,
              "ticks": ""
             }
            },
            "marker": {
             "colorbar": {
              "outlinewidth": 0,
              "ticks": ""
             }
            },
            "type": "scatter3d"
           }
          ],
          "scattercarpet": [
           {
            "marker": {
             "colorbar": {
              "outlinewidth": 0,
              "ticks": ""
             }
            },
            "type": "scattercarpet"
           }
          ],
          "scattergeo": [
           {
            "marker": {
             "colorbar": {
              "outlinewidth": 0,
              "ticks": ""
             }
            },
            "type": "scattergeo"
           }
          ],
          "scattergl": [
           {
            "marker": {
             "colorbar": {
              "outlinewidth": 0,
              "ticks": ""
             }
            },
            "type": "scattergl"
           }
          ],
          "scattermapbox": [
           {
            "marker": {
             "colorbar": {
              "outlinewidth": 0,
              "ticks": ""
             }
            },
            "type": "scattermapbox"
           }
          ],
          "scatterpolar": [
           {
            "marker": {
             "colorbar": {
              "outlinewidth": 0,
              "ticks": ""
             }
            },
            "type": "scatterpolar"
           }
          ],
          "scatterpolargl": [
           {
            "marker": {
             "colorbar": {
              "outlinewidth": 0,
              "ticks": ""
             }
            },
            "type": "scatterpolargl"
           }
          ],
          "scatterternary": [
           {
            "marker": {
             "colorbar": {
              "outlinewidth": 0,
              "ticks": ""
             }
            },
            "type": "scatterternary"
           }
          ],
          "surface": [
           {
            "colorbar": {
             "outlinewidth": 0,
             "ticks": ""
            },
            "colorscale": [
             [
              0,
              "#0d0887"
             ],
             [
              0.1111111111111111,
              "#46039f"
             ],
             [
              0.2222222222222222,
              "#7201a8"
             ],
             [
              0.3333333333333333,
              "#9c179e"
             ],
             [
              0.4444444444444444,
              "#bd3786"
             ],
             [
              0.5555555555555556,
              "#d8576b"
             ],
             [
              0.6666666666666666,
              "#ed7953"
             ],
             [
              0.7777777777777778,
              "#fb9f3a"
             ],
             [
              0.8888888888888888,
              "#fdca26"
             ],
             [
              1,
              "#f0f921"
             ]
            ],
            "type": "surface"
           }
          ],
          "table": [
           {
            "cells": {
             "fill": {
              "color": "#EBF0F8"
             },
             "line": {
              "color": "white"
             }
            },
            "header": {
             "fill": {
              "color": "#C8D4E3"
             },
             "line": {
              "color": "white"
             }
            },
            "type": "table"
           }
          ]
         },
         "layout": {
          "annotationdefaults": {
           "arrowcolor": "#2a3f5f",
           "arrowhead": 0,
           "arrowwidth": 1
          },
          "autotypenumbers": "strict",
          "coloraxis": {
           "colorbar": {
            "outlinewidth": 0,
            "ticks": ""
           }
          },
          "colorscale": {
           "diverging": [
            [
             0,
             "#8e0152"
            ],
            [
             0.1,
             "#c51b7d"
            ],
            [
             0.2,
             "#de77ae"
            ],
            [
             0.3,
             "#f1b6da"
            ],
            [
             0.4,
             "#fde0ef"
            ],
            [
             0.5,
             "#f7f7f7"
            ],
            [
             0.6,
             "#e6f5d0"
            ],
            [
             0.7,
             "#b8e186"
            ],
            [
             0.8,
             "#7fbc41"
            ],
            [
             0.9,
             "#4d9221"
            ],
            [
             1,
             "#276419"
            ]
           ],
           "sequential": [
            [
             0,
             "#0d0887"
            ],
            [
             0.1111111111111111,
             "#46039f"
            ],
            [
             0.2222222222222222,
             "#7201a8"
            ],
            [
             0.3333333333333333,
             "#9c179e"
            ],
            [
             0.4444444444444444,
             "#bd3786"
            ],
            [
             0.5555555555555556,
             "#d8576b"
            ],
            [
             0.6666666666666666,
             "#ed7953"
            ],
            [
             0.7777777777777778,
             "#fb9f3a"
            ],
            [
             0.8888888888888888,
             "#fdca26"
            ],
            [
             1,
             "#f0f921"
            ]
           ],
           "sequentialminus": [
            [
             0,
             "#0d0887"
            ],
            [
             0.1111111111111111,
             "#46039f"
            ],
            [
             0.2222222222222222,
             "#7201a8"
            ],
            [
             0.3333333333333333,
             "#9c179e"
            ],
            [
             0.4444444444444444,
             "#bd3786"
            ],
            [
             0.5555555555555556,
             "#d8576b"
            ],
            [
             0.6666666666666666,
             "#ed7953"
            ],
            [
             0.7777777777777778,
             "#fb9f3a"
            ],
            [
             0.8888888888888888,
             "#fdca26"
            ],
            [
             1,
             "#f0f921"
            ]
           ]
          },
          "colorway": [
           "#636efa",
           "#EF553B",
           "#00cc96",
           "#ab63fa",
           "#FFA15A",
           "#19d3f3",
           "#FF6692",
           "#B6E880",
           "#FF97FF",
           "#FECB52"
          ],
          "font": {
           "color": "#2a3f5f"
          },
          "geo": {
           "bgcolor": "white",
           "lakecolor": "white",
           "landcolor": "#E5ECF6",
           "showlakes": true,
           "showland": true,
           "subunitcolor": "white"
          },
          "hoverlabel": {
           "align": "left"
          },
          "hovermode": "closest",
          "mapbox": {
           "style": "light"
          },
          "paper_bgcolor": "white",
          "plot_bgcolor": "#E5ECF6",
          "polar": {
           "angularaxis": {
            "gridcolor": "white",
            "linecolor": "white",
            "ticks": ""
           },
           "bgcolor": "#E5ECF6",
           "radialaxis": {
            "gridcolor": "white",
            "linecolor": "white",
            "ticks": ""
           }
          },
          "scene": {
           "xaxis": {
            "backgroundcolor": "#E5ECF6",
            "gridcolor": "white",
            "gridwidth": 2,
            "linecolor": "white",
            "showbackground": true,
            "ticks": "",
            "zerolinecolor": "white"
           },
           "yaxis": {
            "backgroundcolor": "#E5ECF6",
            "gridcolor": "white",
            "gridwidth": 2,
            "linecolor": "white",
            "showbackground": true,
            "ticks": "",
            "zerolinecolor": "white"
           },
           "zaxis": {
            "backgroundcolor": "#E5ECF6",
            "gridcolor": "white",
            "gridwidth": 2,
            "linecolor": "white",
            "showbackground": true,
            "ticks": "",
            "zerolinecolor": "white"
           }
          },
          "shapedefaults": {
           "line": {
            "color": "#2a3f5f"
           }
          },
          "ternary": {
           "aaxis": {
            "gridcolor": "white",
            "linecolor": "white",
            "ticks": ""
           },
           "baxis": {
            "gridcolor": "white",
            "linecolor": "white",
            "ticks": ""
           },
           "bgcolor": "#E5ECF6",
           "caxis": {
            "gridcolor": "white",
            "linecolor": "white",
            "ticks": ""
           }
          },
          "title": {
           "x": 0.05
          },
          "xaxis": {
           "automargin": true,
           "gridcolor": "white",
           "linecolor": "white",
           "ticks": "",
           "title": {
            "standoff": 15
           },
           "zerolinecolor": "white",
           "zerolinewidth": 2
          },
          "yaxis": {
           "automargin": true,
           "gridcolor": "white",
           "linecolor": "white",
           "ticks": "",
           "title": {
            "standoff": 15
           },
           "zerolinecolor": "white",
           "zerolinewidth": 2
          }
         }
        },
        "xaxis": {
         "anchor": "y",
         "domain": [
          0,
          1
         ],
         "title": {
          "text": "hour"
         }
        },
        "yaxis": {
         "anchor": "x",
         "domain": [
          0,
          1
         ],
         "title": {
          "text": "meter_reading_log"
         }
        }
       }
      }
     },
     "metadata": {},
     "output_type": "display_data"
    }
   ],
   "source": [
    "#Meter Reading Hourly Average Graph\n",
    "hourly_avg_sites = merged_data.groupby(['hour', 'site_id'])['meter_reading_log'].mean().reset_index()\n",
    "fig3 = px.scatter(hourly_avg_sites, x='hour', y='meter_reading_log', color='site_id')\n",
    "fig3.update_layout(\n",
    "\n",
    "    paper_bgcolor='seashell'  # Set the color of the background\n",
    ")\n",
    "\n",
    "fig3.show()\n"
   ]
  },
  {
   "cell_type": "code",
   "execution_count": 31,
   "metadata": {},
   "outputs": [],
   "source": [
    "import dash\n",
    "from dash import dcc\n",
    "from dash import html\n",
    "from datetime import datetime\n",
    "from dash.dependencies import Input, Output\n",
    "import plotly.express as px\n"
   ]
  },
  {
   "cell_type": "code",
   "execution_count": 24,
   "metadata": {},
   "outputs": [],
   "source": [
    "figure1_filename = 'fig01.png'\n",
    "figure2_filename = 'fig9.png'\n",
    "notebook_path = os.path.abspath(\"./Clustering.ipynb\")\n",
    "notebook_directory = os.path.dirname(notebook_path)\n",
    "figure1_path = os.path.join(notebook_directory, figure1_filename)\n",
    "figure2_path = os.path.join(notebook_directory, figure2_filename)\n",
    "# Convert images to base64 format\n",
    "with open(figure1_path, \"rb\") as f:\n",
    "    fig01_base64 = base64.b64encode(f.read()).decode('ascii')\n",
    "\n",
    "with open(figure2_path, \"rb\") as f:\n",
    "    fig9_base64 = base64.b64encode(f.read()).decode('ascii')\n"
   ]
  },
  {
   "cell_type": "code",
   "execution_count": 36,
   "metadata": {},
   "outputs": [
    {
     "data": {
      "text/plain": [
       "'# Load world map data\\nworld_map = px.choropleth()\\n\\n# Highlighting Philadelphia and England\\nworld_map.update_geos(projection_type=\"natural earth\", showcoastlines=True, coastlinecolor=\"black\", showland=True)\\nworld_map.update_geos(lataxis_showgrid=True, lonaxis_showgrid=True)\\nworld_map.update_layout(geo=dict(\\n    showland=True,\\n    landcolor=\"white\",\\n    showcountries=True,\\n    countrycolor=\"black\"\\n))\\n\\n# Add markers for Philadelphia and England\\nlocations = {\"Philadelphia\": {\"lat\": 39.9526, \"lon\": -75.1652}, \"England\": {\"lat\": 51.509865, \"lon\": -0.118092}}\\nworld_map.add_trace(px.scatter_geo(lon=[locations[\"Philadelphia\"][\"lon\"], locations[\"England\"][\"lon\"]],\\n                                    lat=[locations[\"Philadelphia\"][\"lat\"], locations[\"England\"][\"lat\"]],\\n                                    text=[\"Philadelphia\", \"England\"]).data)'"
      ]
     },
     "execution_count": 36,
     "metadata": {},
     "output_type": "execute_result"
    }
   ],
   "source": [
    "'''# Load world map data\n",
    "world_map = px.choropleth()\n",
    "\n",
    "# Highlighting Philadelphia and England\n",
    "world_map.update_geos(projection_type=\"natural earth\", showcoastlines=True, coastlinecolor=\"black\", showland=True)\n",
    "world_map.update_geos(lataxis_showgrid=True, lonaxis_showgrid=True)\n",
    "world_map.update_layout(geo=dict(\n",
    "    showland=True,\n",
    "    landcolor=\"white\",\n",
    "    showcountries=True,\n",
    "    countrycolor=\"black\"\n",
    "))\n",
    "\n",
    "# Add markers for Philadelphia and England\n",
    "locations = {\"Philadelphia\": {\"lat\": 39.9526, \"lon\": -75.1652}, \"England\": {\"lat\": 51.509865, \"lon\": -0.118092}}\n",
    "world_map.add_trace(px.scatter_geo(lon=[locations[\"Philadelphia\"][\"lon\"], locations[\"England\"][\"lon\"]],\n",
    "                                    lat=[locations[\"Philadelphia\"][\"lat\"], locations[\"England\"][\"lat\"]],\n",
    "                                    text=[\"Philadelphia\", \"England\"]).data)'''\n"
   ]
  },
  {
   "cell_type": "code",
   "execution_count": 26,
   "metadata": {},
   "outputs": [],
   "source": [
    "def make_break(num_breaks):\n",
    "    br_list = [html.Br()] * num_breaks\n",
    "    \n",
    "    return br_list"
   ]
  },
  {
   "cell_type": "code",
   "execution_count": 27,
   "metadata": {},
   "outputs": [],
   "source": [
    "colors= {\n",
    "    'background': 'seashell'}\n",
    "app = dash.Dash()\n",
    "app.layout = html.Div(\n",
    "    children= [\n",
    "        html.H1(\"Electricity Consumption Prediction Model\",style={'textAlign': 'left',\"color\":\"indianred\"}),\n",
    "        html.Span(children=[f\"Date: {datetime.now().date()}\",\n",
    "                html.Br(),\" Prepared by \",\n",
    "                html.B(\"FORESQUAD,\")],\n",
    "                style={'color': 'indianred'}),\n",
    "        \n",
    "        html.H3(\"Explanatory Data Analysis of ASHRAE Great Energy Predictor Dataset\",style={'textAlign': 'left',\"color\":\"indianred\"}),  \n",
    "        *make_break(2),\n",
    "        html.H3('Density Estimation Graph',style={'textAlign': 'left',\"color\":\"royalblue\"}),\n",
    "        html.Img(src=f\"data:image/png;base64,{image_base64}\", style={'width': '50%'}),\n",
    "        html.Br(),\n",
    "        html.H3(\"Mean of Log Meter Readings by Hour\",style={'textAlign': 'left',\"color\":\"royalblue\"}),\n",
    "        dcc.Graph(id =\"fig_hour_mean\",figure = fig_hour_mean,style={'width': '65%', 'height': '75%'}),\n",
    "        html.Br(),\n",
    "        html.H3('Mean of Log Meter Readings by Hour',style={'textAlign': 'left',\"color\":\"royalblue\"}),\n",
    "        dcc.Graph(id=\"sixth\",figure=fig6,style={'width': '65%', 'height': '75%'}),\n",
    "        html.Br(),\n",
    "        html.H3(\"Log Meter Readings Through The Week\",style={'textAlign': 'left',\"color\":\"royalblue\"}),\n",
    "        dcc.Graph(id=\"eighth\",figure=fig8,style={'width': '65%', 'height': '75%'}),\n",
    "        html.Br(),\n",
    "        html.H3(\"Hourly Averaged Meter Readings by Primary Use\",style={'textAlign': 'left',\"color\":\"royalblue\"}),\n",
    "        dcc.Graph(id='first-graph',figure=fig1,style={'width': '75%', 'height': '75%','textAlign': 'left','backgroundColor': 'lightblue'}),\n",
    "        html.Br(),\n",
    "        html.H3(\"Hourly Averaged Meter Readings by Site Id\",style={'textAlign': 'left',\"color\":\"royalblue\"}),\n",
    "        dcc.Graph(id=\"third-graph\",figure =fig3,style={'width': '65%', 'height': '60%','textAlign': 'left'}),\n",
    "        html.Br(),\n",
    "        html.H3(\"Monthly Averaged Meter Readings by Primary Use\",style={'textAlign': 'left',\"color\":\"royalblue\"}),\n",
    "        dcc.Graph(id=\"second-graph\",figure =fig2,style={'width': '75%', 'height': '75%'}),\n",
    "        html.Br(),\n",
    "        html.H3(\"Distribution Plot with Filtered by Primary Use\",style={'textAlign': 'left',\"color\":\"royalblue\"}),\n",
    "        dcc.Graph(id=\"fourth\",figure=fig4,style={'width': '75%', 'height': '75%'}),\n",
    "        html.Br(),\n",
    "        html.H3('Distribution Plot with Filtered by Site Id',style={'textAlign': 'left',\"color\":\"royalblue\"}),\n",
    "        dcc.Graph(id=\"fifth\",figure=fig5,style={'width': '75%', 'height': '75%'}),\n",
    "        html.H3('Trend Components for Each Site',style={'textAlign': 'left',\"color\":\"royalblue\"}),\n",
    "        html.Img(src=f\"data:image/png;base64,{fig01_base64}\", style={'width': '75%'}),\n",
    "        html.H3('K-Means Clustering Results',style={'textAlign': 'left',\"color\":\"royalblue\"}),      \n",
    "        html.Img(src=f\"data:image/png;base64,{fig9_base64}\", style={'width': '75%'})],\n",
    "\n",
    "     style={'backgroundColor': colors['background']}\n",
    ")"
   ]
  },
  {
   "cell_type": "code",
   "execution_count": 28,
   "metadata": {},
   "outputs": [
    {
     "data": {
      "text/html": [
       "\n",
       "        <iframe\n",
       "            width=\"100%\"\n",
       "            height=\"650\"\n",
       "            src=\"http://0.0.0.0:8080/\"\n",
       "            frameborder=\"0\"\n",
       "            allowfullscreen\n",
       "            \n",
       "        ></iframe>\n",
       "        "
      ],
      "text/plain": [
       "<IPython.lib.display.IFrame at 0x1298935b0>"
      ]
     },
     "metadata": {},
     "output_type": "display_data"
    }
   ],
   "source": [
    "if __name__== '__main__':\n",
    "    app.run_server(debug=True,mode='external',host = \"0.0.0.0\",port=8080)"
   ]
  },
  {
   "cell_type": "code",
   "execution_count": 29,
   "metadata": {},
   "outputs": [],
   "source": [
    "# http://127.0.0.1:8080/"
   ]
  },
  {
   "cell_type": "code",
   "execution_count": null,
   "metadata": {},
   "outputs": [],
   "source": []
  }
 ],
 "metadata": {
  "kernelspec": {
   "display_name": "Python 3",
   "language": "python",
   "name": "python3"
  },
  "language_info": {
   "codemirror_mode": {
    "name": "ipython",
    "version": 3
   },
   "file_extension": ".py",
   "mimetype": "text/x-python",
   "name": "python",
   "nbconvert_exporter": "python",
   "pygments_lexer": "ipython3",
   "version": "3.8.5"
  }
 },
 "nbformat": 4,
 "nbformat_minor": 4
}
